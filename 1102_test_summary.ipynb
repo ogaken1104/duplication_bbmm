{
 "cells": [
  {
   "cell_type": "code",
   "execution_count": 50,
   "id": "5ad6bf4b-5015-4ade-b30d-d0e1f068393e",
   "metadata": {
    "tags": []
   },
   "outputs": [],
   "source": [
    "import numpy as np\n",
    "import jax\n",
    "import jax.numpy as jnp\n",
    "from jax import vmap\n",
    "from jax import jit, lax\n",
    "import matplotlib.pyplot as plt\n",
    "import cmocean as cmo\n",
    "import importlib"
   ]
  },
  {
   "cell_type": "code",
   "execution_count": 51,
   "id": "f861d520-cf10-4616-ab7c-57fa9496d1b1",
   "metadata": {
    "tags": []
   },
   "outputs": [],
   "source": [
    "from jax.config import config\n",
    "config.update(\"jax_enable_x64\", True)"
   ]
  },
  {
   "cell_type": "code",
   "execution_count": 102,
   "id": "7f2db03a-1951-40f7-875f-2a6601daafe7",
   "metadata": {
    "tags": []
   },
   "outputs": [],
   "source": [
    "## import modules\n",
    "import preconditioner as precond\n",
    "import conjugate_gradient as cg\n",
    "import pivoted_cholesky as pc\n",
    "import pivoted_cholesky_ref as pc_ref # to use this script we need \"torch\", please comment out if not needed.\n",
    "import calc_logdet\n",
    "import calc_trace\n",
    "def reload():\n",
    "    importlib.reload(precond)\n",
    "    importlib.reload(cg)\n",
    "    importlib.reload(pc)\n",
    "    importlib.reload(pc_ref)\n",
    "    importlib.reload(calc_logdet)\n",
    "    importlib.reload(calc_trace)\n",
    "reload()"
   ]
  },
  {
   "cell_type": "code",
   "execution_count": 53,
   "id": "0a55aa47-707c-4aac-b082-9b5453189e5e",
   "metadata": {
    "tags": []
   },
   "outputs": [],
   "source": [
    "import gpytorch\n",
    "import torch\n",
    "import linear_operator\n",
    "from linear_operator.operators import (\n",
    "    AddedDiagLinearOperator,\n",
    "    DiagLinearOperator,\n",
    "    LinearOperator,\n",
    "    DenseLinearOperator,\n",
    ")"
   ]
  },
  {
   "cell_type": "code",
   "execution_count": 54,
   "id": "c96c5e06-74ff-4cdf-9be5-190aa608bd3e",
   "metadata": {
    "tags": []
   },
   "outputs": [],
   "source": [
    "def generate_K(N, seed=0, noise=1e-06):\n",
    "    \"\"\"\n",
    "    generate positive definite symmetric matrix\n",
    "    \"\"\"\n",
    "    K = jax.random.normal(jax.random.PRNGKey(seed), (N, N))\n",
    "    # K = K @ K.T + 30* jnp.eye(N) + noise*jnp.eye(N)\n",
    "    # K = jnp.dot(K, K.T) + noise*jnp.eye(N)\n",
    "    # K = jnp.dot(K, K.T) / N\n",
    "    K = jnp.dot(K, K.T)/N\n",
    "    # K += (noise+30)*jnp.eye(N) ## ??\n",
    "    K += (5)*jnp.eye(N)\n",
    "    K += (noise)*jnp.eye(N)\n",
    "    if not is_positive_definite(K):\n",
    "        raise Exception(\"K is not positive definite !\")\n",
    "    return K"
   ]
  },
  {
   "cell_type": "code",
   "execution_count": 55,
   "id": "78b7f51e-a1cc-47f5-befc-4c23256e0ffe",
   "metadata": {
    "tags": []
   },
   "outputs": [],
   "source": [
    "def is_positive_definite(matrix):\n",
    "    # 行列の固有値を計算\n",
    "    eigenvalues = np.linalg.eigvals(matrix)\n",
    "\n",
    "    # 全ての固有値が正であるかをチェック\n",
    "    if np.all(eigenvalues > 0):\n",
    "        return True\n",
    "    else:\n",
    "        return False"
   ]
  },
  {
   "cell_type": "code",
   "execution_count": 56,
   "id": "db2b4f4c-754a-43ef-a75b-4a898a67905d",
   "metadata": {
    "tags": []
   },
   "outputs": [],
   "source": [
    "def rel_error(true, pred):\n",
    "    nonzero_index = jnp.where(true != 0.)\n",
    "    true = true[nonzero_index]\n",
    "    pred = pred[nonzero_index]\n",
    "    return jnp.mean(jnp.abs((true-pred)/true))"
   ]
  },
  {
   "cell_type": "markdown",
   "id": "08f5bcd6-825d-48bb-b7f1-e0c10798edee",
   "metadata": {
    "tags": []
   },
   "source": [
    "## 5. modified preconditioned conjugate gradient"
   ]
  },
  {
   "cell_type": "markdown",
   "id": "bc8f3d7c-03c9-4efd-8047-b8e8875a2c23",
   "metadata": {},
   "source": [
    "### N=200"
   ]
  },
  {
   "cell_type": "code",
   "execution_count": 105,
   "id": "0c91e63d-bc6c-4ca9-a56d-82913115966d",
   "metadata": {
    "tags": []
   },
   "outputs": [],
   "source": [
    "N = 200\n",
    "rank=15\n",
    "noise = 1e-06\n",
    "n_tridiag = 10\n",
    "K = generate_K(N)\n",
    "y = jax.random.normal(key=jax.random.PRNGKey(0), shape=(N,1))\n",
    "zs = jax.random.normal(jax.random.PRNGKey(0), (N, n_tridiag))\n",
    "K_torch = torch.from_numpy(np.array(K))\n",
    "rhs = jnp.concatenate([zs, y], axis=1)\n",
    "rhs_torch = torch.from_numpy(np.array(rhs))"
   ]
  },
  {
   "cell_type": "code",
   "execution_count": 106,
   "id": "1dddf277-c7ae-4cb2-b700-bfd716a37954",
   "metadata": {
    "tags": []
   },
   "outputs": [],
   "source": [
    "Kinvy_linalg = jnp.linalg.solve(K, rhs)"
   ]
  },
  {
   "cell_type": "code",
   "execution_count": 107,
   "id": "879b8adc-14af-4f8d-a9e5-5aad6800b798",
   "metadata": {
    "tags": []
   },
   "outputs": [
    {
     "name": "stdout",
     "output_type": "stream",
     "text": [
      "j=0 r1norm: 0.04779651779671358\n",
      "j=1 r1norm: 0.0070787538528101985\n",
      "j=2 r1norm: 0.0010483181904175681\n",
      "j=3 r1norm: 0.00015188492381236252\n",
      "j=4 r1norm: 2.1406674187782856e-05\n",
      "j=5 r1norm: 3.035221326906993e-06\n",
      "j=6 r1norm: 4.3804727259127377e-07\n",
      "j=7 r1norm: 6.439827677567317e-08\n",
      "j=8 r1norm: 9.139817103941224e-09\n",
      "j=9 r1norm: 1.2921999962780968e-09\n",
      "j=10 r1norm: 1.9049306333819918e-10\n",
      "j=11 r1norm: 2.658450826418492e-11\n",
      "j=12 r1norm: 3.7855524678967105e-12\n",
      "j=13 r1norm: 5.247903752545748e-13\n",
      "j=14 r1norm: 7.537008125950595e-14\n",
      "j=15 r1norm: 1.0463439833023137e-14\n",
      "j=16 r1norm: 1.4900959429290623e-15\n",
      "j=17 r1norm: 2.0316301585777383e-16\n",
      "j=18 r1norm: 2.909394311291974e-17\n",
      "j=19 r1norm: 4.0592935991440206e-18\n",
      "j=20 r1norm: 5.526383546131225e-19\n",
      "converged\n",
      "1.8058385748678646e-15\n"
     ]
    }
   ],
   "source": [
    "precondition, precond_lt, precond_logdet_cache = precond.setup_preconditioner(K, rank=rank, noise=noise)\n",
    "Kinvy, t_mat = cg.mpcg_bbmm(K, rhs, precondition=precondition, print_process=True, tolerance=1, n_tridiag=n_tridiag)\n",
    "print(rel_error(Kinvy_linalg, Kinvy))"
   ]
  },
  {
   "cell_type": "code",
   "execution_count": 108,
   "id": "4fbecdb6-cfdf-4a7c-85bd-60bb33d18a97",
   "metadata": {
    "tags": []
   },
   "outputs": [],
   "source": [
    "K_linear_op = linear_operator.to_linear_operator(K_torch)\n",
    "diag_tensor = torch.ones(N, dtype=torch.float64)*noise\n",
    "diag_linear_op = DiagLinearOperator(diag_tensor)\n",
    "added_diag = AddedDiagLinearOperator(K_linear_op, diag_linear_op)"
   ]
  },
  {
   "cell_type": "code",
   "execution_count": 73,
   "id": "f304c3b7-fcf3-4e14-b8ac-d44244e3a648",
   "metadata": {},
   "outputs": [
    {
     "name": "stdout",
     "output_type": "stream",
     "text": [
      "1.2146112032319772e-05\n"
     ]
    }
   ],
   "source": [
    "preconditioner_torch, _, precond_logdet_torch = added_diag._preconditioner()\n",
    "Kinvy_torch, t_mat_torch = added_diag._solve(rhs_torch, preconditioner=preconditioner_torch, num_tridiag=n_tridiag)\n",
    "print(rel_error(Kinvy_linalg, Kinvy_torch.numpy()))\n",
    "linear_operator.settings.cg_tolerance._set_value(1)"
   ]
  },
  {
   "cell_type": "code",
   "execution_count": 109,
   "id": "7275e0e4-429b-4fd0-a452-f1df1c8e2528",
   "metadata": {
    "tags": []
   },
   "outputs": [
    {
     "name": "stdout",
     "output_type": "stream",
     "text": [
      "245 ms ± 898 µs per loop (mean ± std. dev. of 7 runs, 1 loop each)\n"
     ]
    }
   ],
   "source": [
    "%%timeit\n",
    "precondition, precond_lt, precond_logdet_cache = precond.setup_preconditioner(K, rank=rank, noise=noise)\n",
    "Kinvy = cg.mpcg_bbmm(K, rhs, precondition=precondition, print_process=False, tolerance=1, n_tridiag=n_tridiag)"
   ]
  },
  {
   "cell_type": "code",
   "execution_count": 92,
   "id": "bc547400-1428-4614-9cd9-ac33538c39c9",
   "metadata": {
    "tags": []
   },
   "outputs": [
    {
     "name": "stdout",
     "output_type": "stream",
     "text": [
      "3.88 ms ± 56.7 µs per loop (mean ± std. dev. of 7 runs, 100 loops each)\n"
     ]
    }
   ],
   "source": [
    "%%timeit\n",
    "preconditioner_torch, _, _ = added_diag._preconditioner()\n",
    "Kinvy_torch, t_mat = added_diag._solve(rhs_torch, preconditioner=preconditioner_torch, num_tridiag=n_tridiag)"
   ]
  },
  {
   "cell_type": "code",
   "execution_count": 224,
   "id": "97b895a6-358d-4664-8865-cb269394bfed",
   "metadata": {
    "tags": []
   },
   "outputs": [
    {
     "name": "stdout",
     "output_type": "stream",
     "text": [
      "1.07 ms ± 85.6 ns per loop (mean ± std. dev. of 7 runs, 1,000 loops each)\n"
     ]
    }
   ],
   "source": [
    "%%timeit\n",
    "Kinvy_linalg = jnp.linalg.solve(K, rhs)"
   ]
  },
  {
   "cell_type": "code",
   "execution_count": 110,
   "id": "baec11f2-fa5c-4707-9665-8adc647be64c",
   "metadata": {
    "tags": []
   },
   "outputs": [
    {
     "data": {
      "text/plain": [
       "DeviceArray(353.07246999, dtype=float64)"
      ]
     },
     "execution_count": 110,
     "metadata": {},
     "output_type": "execute_result"
    }
   ],
   "source": [
    "calc_logdet.calc_logdet(K.shape, t_mat, preconditioner)"
   ]
  },
  {
   "cell_type": "code",
   "execution_count": 111,
   "id": "c3216121-918d-4d24-8dd3-cf1dcce3a9ee",
   "metadata": {
    "tags": []
   },
   "outputs": [
    {
     "data": {
      "text/plain": [
       "(tensor(34.8014, dtype=torch.float64), tensor(355.7268, dtype=torch.float64))"
      ]
     },
     "execution_count": 111,
     "metadata": {},
     "output_type": "execute_result"
    }
   ],
   "source": [
    "added_diag.inv_quad_log_det(inv_quad_rhs=rhs_torch[:, -1:], logdet=True)"
   ]
  },
  {
   "cell_type": "code",
   "execution_count": 112,
   "id": "521bd0a8-74d3-42a5-bcb8-384ec099ad4d",
   "metadata": {
    "tags": []
   },
   "outputs": [],
   "source": [
    "eval_torch, evec_torch = linear_operator.utils.lanczos.lanczos_tridiag_to_diag(t_mat_torch)\n",
    "slq = linear_operator.utils.stochastic_lq.StochasticLQ()\n",
    "(logdet_term,) = slq.to_dense(added_diag.matrix_shape, eval_torch, evec_torch,  [lambda x: x.log()])"
   ]
  },
  {
   "cell_type": "code",
   "execution_count": 113,
   "id": "2d6cfa3e-fb94-4395-8515-d058ed940516",
   "metadata": {
    "tags": []
   },
   "outputs": [
    {
     "data": {
      "text/plain": [
       "tensor(353.8197, dtype=torch.float64)"
      ]
     },
     "execution_count": 113,
     "metadata": {},
     "output_type": "execute_result"
    }
   ],
   "source": [
    "logdet_term"
   ]
  },
  {
   "cell_type": "code",
   "execution_count": 114,
   "id": "ce75952d-cff6-4310-bccf-8222c488212e",
   "metadata": {
    "tags": []
   },
   "outputs": [],
   "source": [
    "dKdtheta = jax.random.normal(jax.random.PRNGKey(1), (N, N))+5*jnp.eye(N)"
   ]
  },
  {
   "cell_type": "code",
   "execution_count": 115,
   "id": "38bf80c0-b672-4aed-838f-b1a7ba00f57d",
   "metadata": {
    "tags": []
   },
   "outputs": [
    {
     "data": {
      "text/plain": [
       "DeviceArray(162.27705925, dtype=float64)"
      ]
     },
     "execution_count": 115,
     "metadata": {},
     "output_type": "execute_result"
    }
   ],
   "source": [
    "## trace term\n",
    "calc_trace.calc_trace(Kinvy, dKdtheta, zs, n_tridiag)"
   ]
  },
  {
   "cell_type": "code",
   "execution_count": 116,
   "id": "e0a9d09f-75ca-407d-a08b-7f824a400f37",
   "metadata": {
    "tags": []
   },
   "outputs": [
    {
     "data": {
      "text/plain": [
       "DeviceArray(172.82511299, dtype=float64)"
      ]
     },
     "execution_count": 116,
     "metadata": {},
     "output_type": "execute_result"
    }
   ],
   "source": [
    "Kinv_linalg = jnp.linalg.inv(K)\n",
    "trace_linalg = jnp.sum(jnp.diag(jnp.matmul(Kinv_linalg, dKdtheta)))\n",
    "trace_linalg"
   ]
  },
  {
   "cell_type": "markdown",
   "id": "b14386d2-39da-4b39-8f02-f26b87433c24",
   "metadata": {},
   "source": [
    "### N=5000"
   ]
  },
  {
   "cell_type": "code",
   "execution_count": 117,
   "id": "a44fa1da-2e01-4598-873a-d34ae98ec039",
   "metadata": {
    "tags": []
   },
   "outputs": [],
   "source": [
    "N = 5000\n",
    "rank=5\n",
    "noise = 1e-06\n",
    "n_tridiag = 10\n",
    "K = generate_K(N)\n",
    "y = jax.random.normal(key=jax.random.PRNGKey(0), shape=(N,1))\n",
    "zs = jax.random.normal(jax.random.PRNGKey(0), (N, n_tridiag))\n",
    "K_torch = torch.from_numpy(np.array(K))\n",
    "rhs = jnp.concatenate([zs, y], axis=1)\n",
    "rhs_torch = torch.from_numpy(np.array(rhs))"
   ]
  },
  {
   "cell_type": "code",
   "execution_count": 119,
   "id": "0218b8ad-2b9e-4945-91a7-452c0ac590d7",
   "metadata": {
    "tags": []
   },
   "outputs": [],
   "source": [
    "Kinvy_linalg = jnp.linalg.solve(K, rhs)"
   ]
  },
  {
   "cell_type": "code",
   "execution_count": 120,
   "id": "96660630-ea9a-4dd7-8c4f-7e937ba0f26f",
   "metadata": {
    "tags": []
   },
   "outputs": [
    {
     "name": "stdout",
     "output_type": "stream",
     "text": [
      "j=0 r1norm: 0.051392514398530424\n",
      "j=1 r1norm: 0.01333079274852888\n",
      "j=2 r1norm: 0.011034137787164111\n",
      "j=3 r1norm: 0.01097629305048675\n",
      "j=4 r1norm: 0.01097478115420941\n",
      "j=5 r1norm: 0.010974764171941301\n",
      "j=6 r1norm: 0.010974756509927647\n",
      "j=7 r1norm: 0.010974653805830958\n",
      "j=8 r1norm: 0.010971016807683462\n",
      "j=9 r1norm: 0.010799128364232786\n",
      "j=10 r1norm: 0.007002732823990947\n",
      "j=11 r1norm: 0.0014046497253585777\n",
      "j=12 r1norm: 0.0002082332161509357\n",
      "j=13 r1norm: 3.0311422732543305e-05\n",
      "j=14 r1norm: 4.422529618970216e-06\n",
      "j=15 r1norm: 6.451839428772055e-07\n",
      "j=16 r1norm: 9.363943904745411e-08\n",
      "j=17 r1norm: 1.3609670318680369e-08\n",
      "j=18 r1norm: 1.9853718283074162e-09\n",
      "j=19 r1norm: 2.9154399393473475e-10\n",
      "j=20 r1norm: 5.871076741373119e-11\n",
      "converged\n",
      "1.000818364353847e-09\n"
     ]
    }
   ],
   "source": [
    "precondition, precond_lt, precond_logdet_cache = precond.setup_preconditioner(K, rank=rank, noise=noise)\n",
    "Kinvy, t_mat = cg.mpcg_bbmm(K, rhs, precondition=precondition, print_process=True, tolerance=1, n_tridiag=n_tridiag)\n",
    "print(rel_error(Kinvy_linalg, Kinvy))"
   ]
  },
  {
   "cell_type": "code",
   "execution_count": 26,
   "id": "1b7ece28-08d8-419c-8bb3-71df36fc955e",
   "metadata": {
    "tags": []
   },
   "outputs": [],
   "source": [
    "K_linear_op = linear_operator.to_linear_operator(K_torch)\n",
    "diag_tensor = torch.ones(N, dtype=torch.float64)*noise\n",
    "diag_linear_op = DiagLinearOperator(diag_tensor)\n",
    "added_diag = AddedDiagLinearOperator(K_linear_op, diag_linear_op)"
   ]
  },
  {
   "cell_type": "code",
   "execution_count": 27,
   "id": "386ab62c-77db-44cd-847e-44d95e7d5ae1",
   "metadata": {},
   "outputs": [
    {
     "name": "stdout",
     "output_type": "stream",
     "text": [
      "3.5123671374860206e-07\n"
     ]
    }
   ],
   "source": [
    "preconditioner_torch, _, precond_logdet_torch = added_diag._preconditioner()\n",
    "Kinvy_torch, t_mat_torch = added_diag._solve(rhs_torch, preconditioner=preconditioner_torch, num_tridiag=n_tridiag)\n",
    "print(rel_error(Kinvy_linalg, Kinvy_torch.numpy()))\n",
    "linear_operator.settings.cg_tolerance._set_value(1)"
   ]
  },
  {
   "cell_type": "code",
   "execution_count": 121,
   "id": "5289d928-d2d3-4fe3-90d4-a2e785b5ef1e",
   "metadata": {
    "tags": []
   },
   "outputs": [
    {
     "name": "stdout",
     "output_type": "stream",
     "text": [
      "325 ms ± 6.81 ms per loop (mean ± std. dev. of 7 runs, 1 loop each)\n"
     ]
    }
   ],
   "source": [
    "%%timeit\n",
    "precondition, precond_lt, precond_logdet_cache = precond.setup_preconditioner(K, rank=rank, noise=noise)\n",
    "Kinvy, t_mat = cg.mpcg_bbmm(K, rhs, precondition=precondition, print_process=False, tolerance=1, n_tridiag=n_tridiag)"
   ]
  },
  {
   "cell_type": "code",
   "execution_count": 235,
   "id": "14710311-6700-49aa-8586-b1863aee33a3",
   "metadata": {
    "tags": []
   },
   "outputs": [
    {
     "name": "stdout",
     "output_type": "stream",
     "text": [
      "1.09 s ± 2.44 ms per loop (mean ± std. dev. of 7 runs, 1 loop each)\n"
     ]
    }
   ],
   "source": [
    "%%timeit\n",
    "preconditioner_torch, _, _ = added_diag._preconditioner()\n",
    "Kinvy_torch, t_mat_torch = added_diag._solve(rhs_torch, preconditioner=preconditioner_torch, num_tridiag=n_tridiag)"
   ]
  },
  {
   "cell_type": "code",
   "execution_count": 236,
   "id": "08763d44-3e83-47cd-a28f-af3558a5d38e",
   "metadata": {
    "tags": []
   },
   "outputs": [
    {
     "name": "stdout",
     "output_type": "stream",
     "text": [
      "306 ms ± 39.3 µs per loop (mean ± std. dev. of 7 runs, 1 loop each)\n"
     ]
    }
   ],
   "source": [
    "%%timeit\n",
    "Kinvy_linalg = jnp.linalg.solve(K, rhs)"
   ]
  },
  {
   "cell_type": "code",
   "execution_count": 28,
   "id": "5004d3ed-ed84-447d-8b34-efa5db9bf103",
   "metadata": {
    "tags": []
   },
   "outputs": [
    {
     "data": {
      "text/plain": [
       "DeviceArray(8953.09277797, dtype=float64)"
      ]
     },
     "execution_count": 28,
     "metadata": {},
     "output_type": "execute_result"
    }
   ],
   "source": [
    "calc_logdet.calc_logdet(K.shape, t_mat, preconditioner)"
   ]
  },
  {
   "cell_type": "code",
   "execution_count": 29,
   "id": "e730226c-bee0-4b52-9720-a864da300526",
   "metadata": {
    "tags": []
   },
   "outputs": [
    {
     "data": {
      "text/plain": [
       "(tensor(869.8112, dtype=torch.float64), tensor(8869.7888, dtype=torch.float64))"
      ]
     },
     "execution_count": 29,
     "metadata": {},
     "output_type": "execute_result"
    }
   ],
   "source": [
    "added_diag.inv_quad_log_det(inv_quad_rhs=rhs_torch[:, -1:], logdet=True)"
   ]
  },
  {
   "cell_type": "code",
   "execution_count": 30,
   "id": "f367605c-1741-41f0-91fc-314a91d60e15",
   "metadata": {
    "tags": []
   },
   "outputs": [],
   "source": [
    "eval_torch, evec_torch = linear_operator.utils.lanczos.lanczos_tridiag_to_diag(t_mat_torch)\n",
    "slq = linear_operator.utils.stochastic_lq.StochasticLQ()\n",
    "(logdet_term,) = slq.to_dense(added_diag.matrix_shape, eval_torch, evec_torch,  [lambda x: x.log()])"
   ]
  },
  {
   "cell_type": "code",
   "execution_count": 31,
   "id": "1b4308d2-5604-4352-9df0-fcfcaaf731f8",
   "metadata": {
    "tags": []
   },
   "outputs": [
    {
     "data": {
      "text/plain": [
       "tensor(9127.5788, dtype=torch.float64)"
      ]
     },
     "execution_count": 31,
     "metadata": {},
     "output_type": "execute_result"
    }
   ],
   "source": [
    "logdet_term + precond_logdet_torch"
   ]
  },
  {
   "cell_type": "code",
   "execution_count": 32,
   "id": "5532c25c-24a9-4a05-8309-18a10258e86b",
   "metadata": {
    "tags": []
   },
   "outputs": [],
   "source": [
    "## trace term\n",
    "dKdtheta = jax.random.normal(jax.random.PRNGKey(1), (N, N))+5*jnp.eye(N)"
   ]
  },
  {
   "cell_type": "code",
   "execution_count": 33,
   "id": "eccf88ef-c4a4-4c18-9007-07d344b8cb9c",
   "metadata": {
    "tags": []
   },
   "outputs": [
    {
     "data": {
      "text/plain": [
       "DeviceArray(5083.61541929, dtype=float64)"
      ]
     },
     "execution_count": 33,
     "metadata": {},
     "output_type": "execute_result"
    }
   ],
   "source": [
    "calc_trace.calc_trace(Kinvy, dKdtheta, zs, n_tridiag)"
   ]
  },
  {
   "cell_type": "code",
   "execution_count": 34,
   "id": "f9b93b62-a1e3-4c1b-95fe-e1b684610354",
   "metadata": {
    "tags": []
   },
   "outputs": [
    {
     "data": {
      "text/plain": [
       "DeviceArray(4255.61158368, dtype=float64)"
      ]
     },
     "execution_count": 34,
     "metadata": {},
     "output_type": "execute_result"
    }
   ],
   "source": [
    "Kinv_linalg = jnp.linalg.inv(K)\n",
    "trace_linalg = jnp.sum(jnp.diag(jnp.matmul(Kinv_linalg, dKdtheta)))\n",
    "trace_linalg"
   ]
  },
  {
   "cell_type": "markdown",
   "id": "e92f06a1-6803-4684-83c2-e90d9591668d",
   "metadata": {},
   "source": [
    "### N=7000"
   ]
  },
  {
   "cell_type": "code",
   "execution_count": 122,
   "id": "9ee28c49-0789-4281-a464-62ab54c9145b",
   "metadata": {
    "tags": []
   },
   "outputs": [],
   "source": [
    "N = 7000\n",
    "rank=15\n",
    "noise = 1e-06\n",
    "n_tridiag = 10\n",
    "K = generate_K(N)\n",
    "y = jax.random.normal(key=jax.random.PRNGKey(0), shape=(N,1))\n",
    "zs = jax.random.normal(jax.random.PRNGKey(0), (N, n_tridiag))\n",
    "K_torch = torch.from_numpy(np.array(K))\n",
    "rhs = jnp.concatenate([zs, y], axis=1)\n",
    "rhs_torch = torch.from_numpy(np.array(rhs))"
   ]
  },
  {
   "cell_type": "code",
   "execution_count": 123,
   "id": "d763ac09-1880-4cc7-9b91-a01db076e318",
   "metadata": {
    "tags": []
   },
   "outputs": [],
   "source": [
    "Kinvy_linalg = jnp.linalg.solve(K, rhs)"
   ]
  },
  {
   "cell_type": "code",
   "execution_count": 125,
   "id": "b4d3a608-2bcf-4b2c-a977-ca04c7257d57",
   "metadata": {
    "tags": []
   },
   "outputs": [
    {
     "name": "stdout",
     "output_type": "stream",
     "text": [
      "j=0 r1norm: 0.05180782484958497\n",
      "j=1 r1norm: 0.015247981857953391\n",
      "j=2 r1norm: 0.01332944628482202\n",
      "j=3 r1norm: 0.01328416124573407\n",
      "j=4 r1norm: 0.013283227298775012\n",
      "j=5 r1norm: 0.013283245010023615\n",
      "j=6 r1norm: 0.013283231462557202\n",
      "j=7 r1norm: 0.013283054487430696\n",
      "j=8 r1norm: 0.01327610770135632\n",
      "j=9 r1norm: 0.012971671862047661\n",
      "j=10 r1norm: 0.007655133517091886\n",
      "j=11 r1norm: 0.0014061916345497031\n",
      "j=12 r1norm: 0.00020569683492091697\n",
      "j=13 r1norm: 2.9932877930181316e-05\n",
      "j=14 r1norm: 4.347050474352249e-06\n",
      "j=15 r1norm: 6.322353710723726e-07\n",
      "j=16 r1norm: 9.166103243597536e-08\n",
      "j=17 r1norm: 1.3328575497578654e-08\n",
      "j=18 r1norm: 1.936237142027011e-09\n",
      "j=19 r1norm: 2.9009161987269365e-10\n",
      "j=20 r1norm: 7.380497859144333e-11\n",
      "converged\n",
      "1.3356310801456664e-09\n"
     ]
    }
   ],
   "source": [
    "precondition, precond_lt, precond_logdet_cache = precond.setup_preconditioner(K, rank=rank, noise=noise)\n",
    "Kinvy, t_mat= cg.mpcg_bbmm(K, rhs, precondition=precondition, print_process=True, tolerance=1, n_tridiag=n_tridiag)\n",
    "print(rel_error(Kinvy_linalg, Kinvy))"
   ]
  },
  {
   "cell_type": "code",
   "execution_count": 126,
   "id": "f1bab50f-ac50-499a-b820-1d25c598f6e2",
   "metadata": {
    "tags": []
   },
   "outputs": [],
   "source": [
    "K_linear_op = linear_operator.to_linear_operator(K_torch)\n",
    "diag_tensor = torch.ones(N, dtype=torch.float64)*noise\n",
    "diag_linear_op = DiagLinearOperator(diag_tensor)\n",
    "added_diag = AddedDiagLinearOperator(K_linear_op, diag_linear_op)"
   ]
  },
  {
   "cell_type": "code",
   "execution_count": 127,
   "id": "c6185b93-ff2d-48a3-8f14-f0f2acf4a55e",
   "metadata": {},
   "outputs": [
    {
     "name": "stdout",
     "output_type": "stream",
     "text": [
      "3.204800977864744e-07\n"
     ]
    }
   ],
   "source": [
    "preconditioner_torch, _, precond_logdet_torch = added_diag._preconditioner()\n",
    "Kinvy_torch, t_mat_torch = added_diag._solve(rhs_torch, preconditioner=preconditioner_torch, num_tridiag=n_tridiag)\n",
    "print(rel_error(Kinvy_linalg, Kinvy_torch.numpy()))\n",
    "linear_operator.settings.cg_tolerance._set_value(1)"
   ]
  },
  {
   "cell_type": "code",
   "execution_count": 131,
   "id": "437dda85-e5e7-4378-a869-10406efa8319",
   "metadata": {
    "tags": []
   },
   "outputs": [
    {
     "name": "stdout",
     "output_type": "stream",
     "text": [
      "486 ms ± 3.28 ms per loop (mean ± std. dev. of 7 runs, 1 loop each)\n"
     ]
    }
   ],
   "source": [
    "%%timeit\n",
    "precondition, precond_lt, precond_logdet_cache = precond.setup_preconditioner(K, rank=rank, noise=noise)\n",
    "Kinvy, t_mat = cg.mpcg_bbmm(K, rhs, precondition=precondition, print_process=False, tolerance=1, n_tridiag=n_tridiag)"
   ]
  },
  {
   "cell_type": "code",
   "execution_count": 129,
   "id": "f5e2eee7-d178-44b2-8d61-079a6b9020ef",
   "metadata": {
    "tags": []
   },
   "outputs": [
    {
     "name": "stdout",
     "output_type": "stream",
     "text": [
      "2.12 s ± 8.88 ms per loop (mean ± std. dev. of 7 runs, 1 loop each)\n"
     ]
    }
   ],
   "source": [
    "%%timeit\n",
    "preconditioner_torch, _, _ = added_diag._preconditioner()\n",
    "Kinvy_torch, t_mat = added_diag._solve(rhs_torch, preconditioner=preconditioner_torch, num_tridiag=n_tridiag)"
   ]
  },
  {
   "cell_type": "code",
   "execution_count": 130,
   "id": "2983b60f-3be0-45ac-9d34-c8ba9718f5c6",
   "metadata": {
    "tags": []
   },
   "outputs": [
    {
     "name": "stdout",
     "output_type": "stream",
     "text": [
      "752 ms ± 250 µs per loop (mean ± std. dev. of 7 runs, 1 loop each)\n"
     ]
    }
   ],
   "source": [
    "%%timeit\n",
    "Kinvy_linalg = jnp.linalg.solve(K, rhs)"
   ]
  },
  {
   "cell_type": "code",
   "execution_count": 188,
   "id": "8529c210-b1e8-47e8-be32-558844e5a0dd",
   "metadata": {
    "tags": []
   },
   "outputs": [
    {
     "data": {
      "text/plain": [
       "DeviceArray(9108.50948291, dtype=float64)"
      ]
     },
     "execution_count": 188,
     "metadata": {},
     "output_type": "execute_result"
    }
   ],
   "source": [
    "calc_logdet.calc_logdet(K.shape, t_mat, preconditioner)"
   ]
  },
  {
   "cell_type": "code",
   "execution_count": 189,
   "id": "1e59d6c6-2606-4f2e-bccc-951172d66897",
   "metadata": {
    "tags": []
   },
   "outputs": [
    {
     "data": {
      "text/plain": [
       "(tensor(869.8112, dtype=torch.float64), tensor(8848.4105, dtype=torch.float64))"
      ]
     },
     "execution_count": 189,
     "metadata": {},
     "output_type": "execute_result"
    }
   ],
   "source": [
    "added_diag.inv_quad_log_det(inv_quad_rhs=rhs_torch[:, -1:], logdet=True)"
   ]
  },
  {
   "cell_type": "code",
   "execution_count": 190,
   "id": "a6b75e68-a8cd-4107-8a07-1fdeba93c67d",
   "metadata": {
    "tags": []
   },
   "outputs": [],
   "source": [
    "eval_torch, evec_torch = linear_operator.utils.lanczos.lanczos_tridiag_to_diag(t_mat_torch)\n",
    "slq = linear_operator.utils.stochastic_lq.StochasticLQ()\n",
    "(logdet_term,) = slq.to_dense(added_diag.matrix_shape, eval_torch, evec_torch,  [lambda x: x.log()])"
   ]
  },
  {
   "cell_type": "code",
   "execution_count": 191,
   "id": "f083505e-c468-4303-82f8-8b7395ac7308",
   "metadata": {
    "tags": []
   },
   "outputs": [
    {
     "data": {
      "text/plain": [
       "tensor(9127.5788, dtype=torch.float64)"
      ]
     },
     "execution_count": 191,
     "metadata": {},
     "output_type": "execute_result"
    }
   ],
   "source": [
    "logdet_term + precond_logdet_torch"
   ]
  },
  {
   "cell_type": "markdown",
   "id": "a586cea4-c4eb-4ddb-a575-a76ba1092854",
   "metadata": {},
   "source": [
    "#### without calc tridiag"
   ]
  },
  {
   "cell_type": "code",
   "execution_count": 134,
   "id": "13b88dfb-1f05-4482-bbea-74a4ec69d6ff",
   "metadata": {},
   "outputs": [
    {
     "name": "stdout",
     "output_type": "stream",
     "text": [
      "249 ms ± 1.42 ms per loop (mean ± std. dev. of 7 runs, 1 loop each)\n"
     ]
    }
   ],
   "source": [
    "%%timeit\n",
    "precondition, precond_lt, precond_logdet_cache = precond.setup_preconditioner(K, rank=rank, noise=noise)\n",
    "Kinvy = cg.mpcg_bbmm(K, rhs, precondition=precondition, print_process=False, tolerance=1, n_tridiag=0)"
   ]
  },
  {
   "cell_type": "code",
   "execution_count": 140,
   "id": "e939eeb2-53a0-4425-a5cc-c9a548920042",
   "metadata": {
    "tags": []
   },
   "outputs": [
    {
     "name": "stdout",
     "output_type": "stream",
     "text": [
      "1.15 s ± 1.68 ms per loop (mean ± std. dev. of 7 runs, 1 loop each)\n"
     ]
    }
   ],
   "source": [
    "%%timeit\n",
    "preconditioner_torch, _, _ = added_diag._preconditioner()\n",
    "Kinvy_torch = added_diag._solve(rhs_torch, preconditioner=preconditioner_torch, num_tridiag=0)"
   ]
  },
  {
   "cell_type": "markdown",
   "id": "0f2b28ce-7584-487c-a5fd-19433de649fb",
   "metadata": {},
   "source": [
    "#### without precondition"
   ]
  },
  {
   "cell_type": "code",
   "execution_count": 142,
   "id": "f3d827ef-2863-4c3b-a96a-e1ddfd0736a5",
   "metadata": {},
   "outputs": [
    {
     "name": "stdout",
     "output_type": "stream",
     "text": [
      "398 ms ± 6.18 ms per loop (mean ± std. dev. of 7 runs, 1 loop each)\n"
     ]
    }
   ],
   "source": [
    "%%timeit\n",
    "Kinvy, t_mat = cg.mpcg_bbmm(K, rhs, precondition=None, print_process=False, tolerance=1, n_tridiag=n_tridiag)"
   ]
  },
  {
   "cell_type": "code",
   "execution_count": 143,
   "id": "867ab806-8181-4d4b-bf10-e1e2c18005f1",
   "metadata": {
    "tags": []
   },
   "outputs": [
    {
     "name": "stdout",
     "output_type": "stream",
     "text": [
      "2.1 s ± 3.65 ms per loop (mean ± std. dev. of 7 runs, 1 loop each)\n"
     ]
    }
   ],
   "source": [
    "%%timeit\n",
    "Kinvy_torch = added_diag._solve(rhs_torch, preconditioner=None, num_tridiag=n_tridiag)"
   ]
  },
  {
   "cell_type": "markdown",
   "id": "03bf8132-443e-40e2-bfde-42b5a3f1e2fb",
   "metadata": {},
   "source": [
    "#### without calc tridiag and precondition"
   ]
  },
  {
   "cell_type": "code",
   "execution_count": 136,
   "id": "77f6d600-dca9-4af9-8952-3ec5c6db4e54",
   "metadata": {},
   "outputs": [
    {
     "name": "stdout",
     "output_type": "stream",
     "text": [
      "170 ms ± 3.43 ms per loop (mean ± std. dev. of 7 runs, 1 loop each)\n"
     ]
    }
   ],
   "source": [
    "%%timeit\n",
    "Kinvy = cg.mpcg_bbmm(K, rhs, precondition=None, print_process=False, tolerance=1, n_tridiag=0)"
   ]
  },
  {
   "cell_type": "code",
   "execution_count": 141,
   "id": "e06afad1-99f4-440e-b314-b39665192c4c",
   "metadata": {
    "tags": []
   },
   "outputs": [
    {
     "name": "stdout",
     "output_type": "stream",
     "text": [
      "1.14 s ± 2.18 ms per loop (mean ± std. dev. of 7 runs, 1 loop each)\n"
     ]
    }
   ],
   "source": [
    "%%timeit\n",
    "Kinvy_torch = added_diag._solve(rhs_torch, preconditioner=None, num_tridiag=0)"
   ]
  },
  {
   "cell_type": "code",
   "execution_count": null,
   "id": "db81fde4-00ee-42f5-8d81-a2ba7b780679",
   "metadata": {},
   "outputs": [],
   "source": []
  }
 ],
 "metadata": {
  "kernelspec": {
   "display_name": "mytorch",
   "language": "python",
   "name": "mytorch"
  },
  "language_info": {
   "codemirror_mode": {
    "name": "ipython",
    "version": 3
   },
   "file_extension": ".py",
   "mimetype": "text/x-python",
   "name": "python",
   "nbconvert_exporter": "python",
   "pygments_lexer": "ipython3",
   "version": "3.9.6"
  }
 },
 "nbformat": 4,
 "nbformat_minor": 5
}
