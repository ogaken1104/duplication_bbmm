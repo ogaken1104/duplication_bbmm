{
 "cells": [
  {
   "cell_type": "code",
   "execution_count": 1,
   "id": "5ad6bf4b-5015-4ade-b30d-d0e1f068393e",
   "metadata": {
    "tags": []
   },
   "outputs": [],
   "source": [
    "import numpy as np\n",
    "import jax\n",
    "import jax.numpy as jnp\n",
    "from jax import vmap\n",
    "from jax import jit, lax\n",
    "import matplotlib.pyplot as plt\n",
    "import cmocean as cmo\n",
    "import importlib"
   ]
  },
  {
   "cell_type": "code",
   "execution_count": 2,
   "id": "f861d520-cf10-4616-ab7c-57fa9496d1b1",
   "metadata": {
    "tags": []
   },
   "outputs": [],
   "source": [
    "from jax.config import config\n",
    "config.update(\"jax_enable_x64\", True)"
   ]
  },
  {
   "cell_type": "code",
   "execution_count": 161,
   "id": "7f2db03a-1951-40f7-875f-2a6601daafe7",
   "metadata": {
    "tags": []
   },
   "outputs": [],
   "source": [
    "## import modules\n",
    "import preconditioner as precond\n",
    "import conjugate_gradient as cg\n",
    "import pivoted_cholesky as pc\n",
    "import pivoted_cholesky_ref as pc_ref # to use this script we need \"torch\", please comment out if not needed.\n",
    "import calc_logdet\n",
    "def reload():\n",
    "    importlib.reload(precond)\n",
    "    importlib.reload(cg)\n",
    "    importlib.reload(pc)\n",
    "    importlib.reload(pc_ref)\n",
    "    importlib.reload(calc_logdet)\n",
    "reload()"
   ]
  },
  {
   "cell_type": "code",
   "execution_count": 162,
   "id": "0a55aa47-707c-4aac-b082-9b5453189e5e",
   "metadata": {
    "tags": []
   },
   "outputs": [],
   "source": [
    "import gpytorch\n",
    "import torch\n",
    "import linear_operator\n",
    "from linear_operator.operators import (\n",
    "    AddedDiagLinearOperator,\n",
    "    DiagLinearOperator,\n",
    "    LinearOperator,\n",
    "    DenseLinearOperator,\n",
    ")"
   ]
  },
  {
   "cell_type": "code",
   "execution_count": 163,
   "id": "c96c5e06-74ff-4cdf-9be5-190aa608bd3e",
   "metadata": {
    "tags": []
   },
   "outputs": [],
   "source": [
    "def generate_K(N, seed=0, noise=1e-06):\n",
    "    \"\"\"\n",
    "    generate positive definite symmetric matrix\n",
    "    \"\"\"\n",
    "    K = jax.random.normal(jax.random.PRNGKey(seed), (N, N))\n",
    "    # K = K @ K.T + 30* jnp.eye(N) + noise*jnp.eye(N)\n",
    "    # K = jnp.dot(K, K.T) + noise*jnp.eye(N)\n",
    "    # K = jnp.dot(K, K.T) / N\n",
    "    K = jnp.dot(K, K.T)/N\n",
    "    # K += (noise+30)*jnp.eye(N) ## ??\n",
    "    K += (5)*jnp.eye(N)\n",
    "    K += (noise)*jnp.eye(N)\n",
    "    if not is_positive_definite(K):\n",
    "        raise Exception(\"K is not positive definite !\")\n",
    "    return K"
   ]
  },
  {
   "cell_type": "code",
   "execution_count": 164,
   "id": "78b7f51e-a1cc-47f5-befc-4c23256e0ffe",
   "metadata": {
    "tags": []
   },
   "outputs": [],
   "source": [
    "def is_positive_definite(matrix):\n",
    "    # 行列の固有値を計算\n",
    "    eigenvalues = np.linalg.eigvals(matrix)\n",
    "\n",
    "    # 全ての固有値が正であるかをチェック\n",
    "    if np.all(eigenvalues > 0):\n",
    "        return True\n",
    "    else:\n",
    "        return False"
   ]
  },
  {
   "cell_type": "code",
   "execution_count": 165,
   "id": "db2b4f4c-754a-43ef-a75b-4a898a67905d",
   "metadata": {
    "tags": []
   },
   "outputs": [],
   "source": [
    "def rel_error(true, pred):\n",
    "    nonzero_index = jnp.where(true != 0.)\n",
    "    true = true[nonzero_index]\n",
    "    pred = pred[nonzero_index]\n",
    "    return jnp.mean(jnp.abs((true-pred)/true))"
   ]
  },
  {
   "cell_type": "markdown",
   "id": "08f5bcd6-825d-48bb-b7f1-e0c10798edee",
   "metadata": {
    "tags": []
   },
   "source": [
    "## 5. modified preconditioned conjugate gradient"
   ]
  },
  {
   "cell_type": "markdown",
   "id": "b14386d2-39da-4b39-8f02-f26b87433c24",
   "metadata": {},
   "source": [
    "### N=5000"
   ]
  },
  {
   "cell_type": "code",
   "execution_count": 123,
   "id": "a44fa1da-2e01-4598-873a-d34ae98ec039",
   "metadata": {
    "tags": []
   },
   "outputs": [],
   "source": [
    "N = 5000\n",
    "rank=15\n",
    "noise = 1e-06\n",
    "n_tridiag = 10\n",
    "K = generate_K(N)\n",
    "y = jax.random.normal(key=jax.random.PRNGKey(0), shape=(N,1))\n",
    "zs = jax.random.normal(jax.random.PRNGKey(0), (N, n_tridiag))\n",
    "preconditioner = precond.Preconditioner(K, rank=rank, noise=noise)\n",
    "K_torch = torch.from_numpy(np.array(K))\n",
    "rhs = jnp.concatenate([zs, y], axis=1)\n",
    "rhs_torch = torch.from_numpy(np.array(rhs))"
   ]
  },
  {
   "cell_type": "code",
   "execution_count": 124,
   "id": "0218b8ad-2b9e-4945-91a7-452c0ac590d7",
   "metadata": {
    "tags": []
   },
   "outputs": [],
   "source": [
    "Kinvy_linalg = jnp.linalg.solve(K, rhs)"
   ]
  },
  {
   "cell_type": "code",
   "execution_count": 166,
   "id": "96660630-ea9a-4dd7-8c4f-7e937ba0f26f",
   "metadata": {
    "tags": []
   },
   "outputs": [
    {
     "name": "stdout",
     "output_type": "stream",
     "text": [
      "j=0 r1norm: 0.05273127789083324\n",
      "j=1 r1norm: 0.018229989448990253\n",
      "j=2 r1norm: 0.016712777654460265\n",
      "j=3 r1norm: 0.016678237420476163\n",
      "j=4 r1norm: 0.01667748463554563\n",
      "j=5 r1norm: 0.016677473148952585\n",
      "j=6 r1norm: 0.016677456685424495\n",
      "j=7 r1norm: 0.016677112063466847\n",
      "j=8 r1norm: 0.016665606870972682\n",
      "j=9 r1norm: 0.016125945002406064\n",
      "j=10 r1norm: 0.008159012203917657\n",
      "converged\n",
      "0.20706069925691578\n"
     ]
    }
   ],
   "source": [
    "preconditioner = precond.Preconditioner(K, rank, noise)\n",
    "Kinvy, t_mat = cg.mpcg_bbmm(K, rhs, preconditioner=preconditioner, print_process=True, tolerance=1, n_tridiag=n_tridiag)\n",
    "print(rel_error(Kinvy_linalg, Kinvy))"
   ]
  },
  {
   "cell_type": "code",
   "execution_count": 167,
   "id": "1b7ece28-08d8-419c-8bb3-71df36fc955e",
   "metadata": {
    "tags": []
   },
   "outputs": [],
   "source": [
    "K_linear_op = linear_operator.to_linear_operator(K_torch)\n",
    "diag_tensor = torch.ones(N, dtype=torch.float64)*noise\n",
    "diag_linear_op = DiagLinearOperator(diag_tensor)\n",
    "added_diag = AddedDiagLinearOperator(K_linear_op, diag_linear_op)"
   ]
  },
  {
   "cell_type": "code",
   "execution_count": 168,
   "id": "386ab62c-77db-44cd-847e-44d95e7d5ae1",
   "metadata": {},
   "outputs": [
    {
     "name": "stdout",
     "output_type": "stream",
     "text": [
      "3.5123671374860206e-07\n"
     ]
    }
   ],
   "source": [
    "preconditioner_torch, _, precond_logdet_torch = added_diag._preconditioner()\n",
    "Kinvy_torch, t_mat_torch = added_diag._solve(rhs_torch, preconditioner=preconditioner_torch, num_tridiag=n_tridiag)\n",
    "print(rel_error(Kinvy_linalg, Kinvy_torch.numpy()))\n",
    "linear_operator.settings.cg_tolerance._set_value(1)"
   ]
  },
  {
   "cell_type": "code",
   "execution_count": 169,
   "id": "5289d928-d2d3-4fe3-90d4-a2e785b5ef1e",
   "metadata": {
    "tags": []
   },
   "outputs": [
    {
     "name": "stdout",
     "output_type": "stream",
     "text": [
      "297 ms ± 2.88 ms per loop (mean ± std. dev. of 7 runs, 1 loop each)\n"
     ]
    }
   ],
   "source": [
    "%%timeit\n",
    "preconditioner = precond.Preconditioner(K, rank, noise)\n",
    "Kinvy = cg.mpcg_bbmm(K, rhs, preconditioner=preconditioner, print_process=False, tolerance=1, n_tridiag=n_tridiag)"
   ]
  },
  {
   "cell_type": "code",
   "execution_count": 170,
   "id": "14710311-6700-49aa-8586-b1863aee33a3",
   "metadata": {
    "tags": []
   },
   "outputs": [
    {
     "name": "stdout",
     "output_type": "stream",
     "text": [
      "1.09 s ± 3.68 ms per loop (mean ± std. dev. of 7 runs, 1 loop each)\n"
     ]
    }
   ],
   "source": [
    "%%timeit\n",
    "preconditioner_torch, _, _ = added_diag._preconditioner()\n",
    "Kinvy_torch, t_mat = added_diag._solve(rhs_torch, preconditioner=preconditioner_torch, num_tridiag=n_tridiag)"
   ]
  },
  {
   "cell_type": "code",
   "execution_count": 171,
   "id": "08763d44-3e83-47cd-a28f-af3558a5d38e",
   "metadata": {
    "tags": []
   },
   "outputs": [
    {
     "name": "stdout",
     "output_type": "stream",
     "text": [
      "306 ms ± 615 µs per loop (mean ± std. dev. of 7 runs, 1 loop each)\n"
     ]
    }
   ],
   "source": [
    "%%timeit\n",
    "Kinvy_linalg = jnp.linalg.solve(K, rhs)"
   ]
  },
  {
   "cell_type": "code",
   "execution_count": 172,
   "id": "5004d3ed-ed84-447d-8b34-efa5db9bf103",
   "metadata": {
    "tags": []
   },
   "outputs": [
    {
     "data": {
      "text/plain": [
       "DeviceArray(9108.50948291, dtype=float64)"
      ]
     },
     "execution_count": 172,
     "metadata": {},
     "output_type": "execute_result"
    }
   ],
   "source": [
    "calc_logdet.calc_logdet(K.shape, t_mat, preconditioner)"
   ]
  },
  {
   "cell_type": "code",
   "execution_count": 173,
   "id": "e730226c-bee0-4b52-9720-a864da300526",
   "metadata": {
    "tags": []
   },
   "outputs": [
    {
     "data": {
      "text/plain": [
       "(tensor(869.8112, dtype=torch.float64), tensor(8847.2154, dtype=torch.float64))"
      ]
     },
     "execution_count": 173,
     "metadata": {},
     "output_type": "execute_result"
    }
   ],
   "source": [
    "added_diag.inv_quad_log_det(inv_quad_rhs=rhs_torch[:, -1:], logdet=True)"
   ]
  },
  {
   "cell_type": "code",
   "execution_count": 174,
   "id": "f367605c-1741-41f0-91fc-314a91d60e15",
   "metadata": {
    "tags": []
   },
   "outputs": [],
   "source": [
    "eval_torch, evec_torch = linear_operator.utils.lanczos.lanczos_tridiag_to_diag(t_mat_torch)\n",
    "slq = linear_operator.utils.stochastic_lq.StochasticLQ()\n",
    "(logdet_term,) = slq.to_dense(added_diag.matrix_shape, eval_torch, evec_torch,  [lambda x: x.log()])"
   ]
  },
  {
   "cell_type": "code",
   "execution_count": 175,
   "id": "1b4308d2-5604-4352-9df0-fcfcaaf731f8",
   "metadata": {
    "tags": []
   },
   "outputs": [
    {
     "data": {
      "text/plain": [
       "tensor(9127.5788, dtype=torch.float64)"
      ]
     },
     "execution_count": 175,
     "metadata": {},
     "output_type": "execute_result"
    }
   ],
   "source": [
    "logdet_term + precond_logdet_torch"
   ]
  },
  {
   "cell_type": "code",
   "execution_count": null,
   "id": "13b88dfb-1f05-4482-bbea-74a4ec69d6ff",
   "metadata": {},
   "outputs": [],
   "source": []
  }
 ],
 "metadata": {
  "kernelspec": {
   "display_name": "mytorch",
   "language": "python",
   "name": "mytorch"
  },
  "language_info": {
   "codemirror_mode": {
    "name": "ipython",
    "version": 3
   },
   "file_extension": ".py",
   "mimetype": "text/x-python",
   "name": "python",
   "nbconvert_exporter": "python",
   "pygments_lexer": "ipython3",
   "version": "3.9.6"
  }
 },
 "nbformat": 4,
 "nbformat_minor": 5
}
