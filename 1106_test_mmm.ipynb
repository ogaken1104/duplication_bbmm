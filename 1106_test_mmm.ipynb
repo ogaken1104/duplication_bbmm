{
 "cells": [
  {
   "cell_type": "code",
   "execution_count": 1,
   "id": "86098033-b0df-41d6-a9be-5c88ea51f988",
   "metadata": {
    "tags": []
   },
   "outputs": [
    {
     "name": "stderr",
     "output_type": "stream",
     "text": [
      "/home/ogawa_kenta/.conda/envs/mytorch/lib/python3.9/site-packages/tqdm/auto.py:22: TqdmWarning: IProgress not found. Please update jupyter and ipywidgets. See https://ipywidgets.readthedocs.io/en/stable/user_install.html\n",
      "  from .autonotebook import tqdm as notebook_tqdm\n"
     ]
    }
   ],
   "source": [
    "import numpy as np\n",
    "import jax\n",
    "import jax.numpy as jnp\n",
    "from jax import vmap\n",
    "from jax import jit, lax, grad\n",
    "import matplotlib.pyplot as plt\n",
    "import cmocean as cmo\n",
    "import importlib\n",
    "\n",
    "\n",
    "import gpytorch\n",
    "import torch\n",
    "import linear_operator\n",
    "from linear_operator.operators import (\n",
    "    AddedDiagLinearOperator,\n",
    "    DiagLinearOperator,\n",
    "    LinearOperator,\n",
    "    DenseLinearOperator,\n",
    ")\n",
    "\n",
    "from jax.config import config\n",
    "config.update(\"jax_enable_x64\", True)"
   ]
  },
  {
   "cell_type": "code",
   "execution_count": 183,
   "id": "f1905026-2add-4235-9153-7de02011b2d0",
   "metadata": {
    "tags": []
   },
   "outputs": [],
   "source": [
    "## import modules\n",
    "import preconditioner as precond\n",
    "import conjugate_gradient as cg\n",
    "import pivoted_cholesky as pc\n",
    "# import pivoted_cholesky_ref as pc_ref # to use this script we need \"torch\", please comment out if not needed.\n",
    "import calc_logdet\n",
    "import calc_trace\n",
    "import mmm\n",
    "def reload():\n",
    "    importlib.reload(precond)\n",
    "    importlib.reload(cg)\n",
    "    importlib.reload(pc)\n",
    "    importlib.reload(calc_logdet)\n",
    "    importlib.reload(calc_trace)\n",
    "    importlib.reload(mmm)\n",
    "reload()"
   ]
  },
  {
   "cell_type": "code",
   "execution_count": 3,
   "id": "05a216d7-5d45-4e8b-aa88-5ec8d3afec0c",
   "metadata": {
    "tags": []
   },
   "outputs": [],
   "source": [
    "import warnings\n",
    "warnings.filterwarnings(\"always\")"
   ]
  },
  {
   "cell_type": "code",
   "execution_count": 4,
   "id": "da579944-4b8b-43d6-969f-cd29fa2d98bc",
   "metadata": {
    "tags": []
   },
   "outputs": [],
   "source": [
    "from stopro.data_generator.sinusoidal import Sinusoidal\n",
    "from stopro.data_preparer.data_preparer import DataPreparer\n",
    "from stopro.sub_modules.load_modules import load_params, load_data\n",
    "from stopro.sub_modules.loss_modules import hessian, logposterior\n",
    "from stopro.sub_modules.init_modules import get_init, reshape_init\n",
    "import stopro.GP.gp_sinusoidal_independent as gp_sinusoidal_independent\n",
    "from stopro.GP.kernels import define_kernel\n",
    "# from stopro.solver.optimizers import optimize_by_adam\n",
    "from stopro.data_handler.data_handle_module import *"
   ]
  },
  {
   "cell_type": "code",
   "execution_count": 6,
   "id": "64543ed6-20fe-4397-983e-67045c7791aa",
   "metadata": {
    "tags": []
   },
   "outputs": [],
   "source": [
    "project_name = 'test'\n",
    "simulation_name = 'data'"
   ]
  },
  {
   "cell_type": "code",
   "execution_count": 7,
   "id": "cd3f7009-ab30-4856-b086-670f77714029",
   "metadata": {
    "tags": []
   },
   "outputs": [],
   "source": [
    "params_main, params_prepare, lbls = load_params(f\"{project_name}/{simulation_name}/data_input\")\n",
    "params_model = params_main[\"model\"]\n",
    "params_optimization = params_main[\"optimization\"]\n",
    "params_plot = params_prepare[\"plot\"]\n",
    "vnames = params_prepare[\"vnames\"]\n",
    "params_setting = params_prepare[\"setting\"]\n",
    "params_generate_training = params_prepare[\"generate_training\"]\n",
    "params_generate_test = params_prepare[\"generate_test\"]\n",
    "params_kernel_arg = params_prepare[\"kernel_arg\"]\n",
    "\n",
    "# prepare initial hyper-parameter\n",
    "init = get_init(\n",
    "    params_model[\"init_kernel_hyperparameter\"],\n",
    "    params_model[\"kernel_type\"],\n",
    "    system_type=params_model[\"system_type\"],\n",
    ")"
   ]
  },
  {
   "cell_type": "code",
   "execution_count": 8,
   "id": "2c6841a5-d994-4387-b150-bb9e7a76930c",
   "metadata": {
    "tags": []
   },
   "outputs": [],
   "source": [
    "# prepare data\n",
    "hdf_operator = HdfOperator(f\"{project_name}/{simulation_name}\")\n",
    "r_test, μ_test, r_train, μ_train, f_train = load_data(lbls, vnames, hdf_operator)\n",
    "delta_y_train = jnp.empty(0)\n",
    "for i in range(len(r_train)):\n",
    "    delta_y_train = jnp.append(delta_y_train, f_train[i] - μ_train[i])\n",
    "\n",
    "args_predict = r_test, μ_test, r_train, delta_y_train, params_model[\"epsilon\"]"
   ]
  },
  {
   "cell_type": "code",
   "execution_count": 9,
   "id": "572dac89-07b8-4142-8480-15eed6dbd03c",
   "metadata": {
    "tags": []
   },
   "outputs": [],
   "source": [
    "# setup model\n",
    "Kernel = define_kernel(params_model)\n",
    "gp_model = gp_sinusoidal_independent.GPSinusoidalWithoutPIndependent(\n",
    "    use_difp=params_setting[\"use_difp\"],\n",
    "    use_difu=params_setting[\"use_difu\"],\n",
    "    lbox=jnp.array([2.5, 0.0]),\n",
    "    infer_governing_eqs=params_prepare[\"generate_test\"][\"infer_governing_eqs\"],\n",
    "    Kernel=Kernel,\n",
    "    index_optimize_noise=params_model[\"index_optimize_noise\"],\n",
    ")\n",
    "gp_model.set_constants(*args_predict)"
   ]
  },
  {
   "cell_type": "code",
   "execution_count": 177,
   "id": "b5eea90f-ecdc-4da5-93b5-84743f4f54bc",
   "metadata": {
    "tags": []
   },
   "outputs": [],
   "source": [
    "cov_scale = 0.0\n",
    "length = 2.3\n",
    "init = jnp.array(\n",
    "    [\n",
    "        cov_scale,\n",
    "        length,\n",
    "        length,\n",
    "        cov_scale,\n",
    "        length,\n",
    "        length,\n",
    "        cov_scale,\n",
    "        length,\n",
    "        length,\n",
    "    ]\n",
    ")\n",
    "right_matrix = jax.random.normal(\n",
    "    jax.random.PRNGKey(0), (params_prepare[\"num_points\"][\"training\"][\"sum\"], 11)\n",
    ")\n",
    "K = gp_model.trainingK_all(init, r_train)\n",
    "K_x_right_matrix_naive = jnp.matmul(K, right_matrix)"
   ]
  },
  {
   "cell_type": "code",
   "execution_count": 178,
   "id": "259b0ffc-2f43-4938-ae5d-c2990c87db42",
   "metadata": {
    "tags": []
   },
   "outputs": [],
   "source": [
    "Ks = gp_model.trainingKs(init, r_train)\n",
    "for i in range(len(Ks)):\n",
    "    for j in list(range(len(Ks) - len(Ks[i])))[::-1]:\n",
    "        Ks[i] = [Ks[j][i]] + Ks[i]"
   ]
  },
  {
   "cell_type": "code",
   "execution_count": 179,
   "id": "4aa45cc7-9f5b-4d81-a07e-3ff2ce97e833",
   "metadata": {
    "tags": []
   },
   "outputs": [],
   "source": [
    "r1s = r_train\n",
    "r2s = r_train\n",
    "sec1 = gp_model.sec_tr\n",
    "sec2 = gp_model.sec_tr\n",
    "Kss = Ks"
   ]
  },
  {
   "cell_type": "code",
   "execution_count": 185,
   "id": "4638e5be-72d7-4b3e-99df-7514d7bd151e",
   "metadata": {
    "tags": []
   },
   "outputs": [],
   "source": [
    "K_x_right_matrix = mmm.mmm(r_train, r_train, right_matrix, Ks, gp_model.sec_tr, gp_model.sec_tr)"
   ]
  },
  {
   "cell_type": "code",
   "execution_count": 186,
   "id": "c56a5ea7-caea-4ff8-a1dd-4816da0400bd",
   "metadata": {
    "tags": []
   },
   "outputs": [],
   "source": [
    "mean_rel_error = jnp.mean(\n",
    "        jnp.abs(K_x_right_matrix_naive - K_x_right_matrix) / K_x_right_matrix_naive\n",
    ")"
   ]
  },
  {
   "cell_type": "code",
   "execution_count": 187,
   "id": "5e782b37-c416-457f-96d9-7397c9145852",
   "metadata": {
    "tags": []
   },
   "outputs": [
    {
     "data": {
      "text/plain": [
       "DeviceArray(-3.72537117e-16, dtype=float64)"
      ]
     },
     "execution_count": 187,
     "metadata": {},
     "output_type": "execute_result"
    }
   ],
   "source": [
    "mean_rel_error"
   ]
  },
  {
   "cell_type": "code",
   "execution_count": 188,
   "id": "0b90d644-249a-4037-a158-9ad7c596813f",
   "metadata": {
    "tags": []
   },
   "outputs": [],
   "source": [
    "cov_scale = 0.0\n",
    "length = 0.0\n",
    "init = jnp.array(\n",
    "    [\n",
    "        cov_scale,\n",
    "        length,\n",
    "        length,\n",
    "        cov_scale,\n",
    "        length,\n",
    "        length,\n",
    "        cov_scale,\n",
    "        length,\n",
    "        length,\n",
    "    ]\n",
    ")\n",
    "right_matrix = jax.random.normal(\n",
    "    jax.random.PRNGKey(0), (params_prepare[\"num_points\"][\"training\"][\"sum\"], 11)\n",
    ")\n",
    "K = gp_model.trainingK_all(init, r_train)\n",
    "K_x_right_matrix_naive = jnp.matmul(K, right_matrix)"
   ]
  },
  {
   "cell_type": "code",
   "execution_count": 189,
   "id": "5678823e-f015-4190-a4ef-d1434c0c0a8f",
   "metadata": {
    "tags": []
   },
   "outputs": [],
   "source": [
    "Ks = gp_model.trainingKs(init, r_train)\n",
    "for i in range(len(Ks)):\n",
    "    for j in list(range(len(Ks) - len(Ks[i])))[::-1]:\n",
    "        Ks[i] = [Ks[j][i]] + Ks[i]"
   ]
  },
  {
   "cell_type": "code",
   "execution_count": 190,
   "id": "f13adb52-9878-40e1-8b6a-5296350cef1b",
   "metadata": {
    "tags": []
   },
   "outputs": [],
   "source": [
    "r1s = r_train\n",
    "r2s = r_train\n",
    "sec1 = gp_model.sec_tr\n",
    "sec2 = gp_model.sec_tr\n",
    "Kss = Ks"
   ]
  },
  {
   "cell_type": "code",
   "execution_count": 191,
   "id": "afd4267c-e993-498b-a678-7523dcba5dc5",
   "metadata": {
    "tags": []
   },
   "outputs": [],
   "source": [
    "K_x_right_matrix = mmm.mmm(r_train, r_train, right_matrix, Ks, gp_model.sec_tr, gp_model.sec_tr)"
   ]
  },
  {
   "cell_type": "code",
   "execution_count": 192,
   "id": "dc9e1fa9-a14b-49aa-9e39-900076db34fe",
   "metadata": {
    "tags": []
   },
   "outputs": [],
   "source": [
    "mean_rel_error = jnp.mean(\n",
    "        jnp.abs(K_x_right_matrix_naive - K_x_right_matrix) / K_x_right_matrix_naive\n",
    ")"
   ]
  },
  {
   "cell_type": "code",
   "execution_count": 193,
   "id": "bf6ec6e6-e718-4114-b5dc-2b583e39c61c",
   "metadata": {
    "tags": []
   },
   "outputs": [
    {
     "data": {
      "text/plain": [
       "DeviceArray(1.17200347e-15, dtype=float64)"
      ]
     },
     "execution_count": 193,
     "metadata": {},
     "output_type": "execute_result"
    }
   ],
   "source": [
    "mean_rel_error"
   ]
  },
  {
   "cell_type": "code",
   "execution_count": null,
   "id": "96f2252e-0b1b-43b5-882e-6ec5c086a27b",
   "metadata": {},
   "outputs": [],
   "source": []
  }
 ],
 "metadata": {
  "kernelspec": {
   "display_name": "mytorch",
   "language": "python",
   "name": "mytorch"
  },
  "language_info": {
   "codemirror_mode": {
    "name": "ipython",
    "version": 3
   },
   "file_extension": ".py",
   "mimetype": "text/x-python",
   "name": "python",
   "nbconvert_exporter": "python",
   "pygments_lexer": "ipython3",
   "version": "3.9.6"
  }
 },
 "nbformat": 4,
 "nbformat_minor": 5
}
