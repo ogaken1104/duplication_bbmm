{
 "cells": [
  {
   "cell_type": "code",
   "execution_count": 76,
   "id": "86098033-b0df-41d6-a9be-5c88ea51f988",
   "metadata": {
    "tags": []
   },
   "outputs": [],
   "source": [
    "import numpy as np\n",
    "import jax\n",
    "import jax.numpy as jnp\n",
    "from jax import vmap\n",
    "from jax import jit, lax, grad\n",
    "import matplotlib.pyplot as plt\n",
    "import cmocean as cmo\n",
    "import importlib\n",
    "from functools import partial\n",
    "\n",
    "\n",
    "import gpytorch\n",
    "import torch\n",
    "import linear_operator\n",
    "from linear_operator.operators import (\n",
    "    AddedDiagLinearOperator,\n",
    "    DiagLinearOperator,\n",
    "    LinearOperator,\n",
    "    DenseLinearOperator,\n",
    ")\n",
    "\n",
    "from jax.config import config\n",
    "config.update(\"jax_enable_x64\", True)"
   ]
  },
  {
   "cell_type": "code",
   "execution_count": 86,
   "id": "f1905026-2add-4235-9153-7de02011b2d0",
   "metadata": {
    "tags": []
   },
   "outputs": [],
   "source": [
    "## import modules\n",
    "import preconditioner as precond\n",
    "import conjugate_gradient as cg\n",
    "import pivoted_cholesky as pc\n",
    "# import pivoted_cholesky_ref as pc_ref # to use this script we need \"torch\", please comment out if not needed.\n",
    "import calc_logdet\n",
    "import calc_trace\n",
    "import mmm\n",
    "def reload():\n",
    "    importlib.reload(precond)\n",
    "    importlib.reload(cg)\n",
    "    importlib.reload(pc)\n",
    "    importlib.reload(calc_logdet)\n",
    "    importlib.reload(calc_trace)\n",
    "    importlib.reload(mmm)\n",
    "reload()"
   ]
  },
  {
   "cell_type": "code",
   "execution_count": 3,
   "id": "05a216d7-5d45-4e8b-aa88-5ec8d3afec0c",
   "metadata": {
    "tags": []
   },
   "outputs": [],
   "source": [
    "import warnings\n",
    "warnings.filterwarnings(\"always\")"
   ]
  },
  {
   "cell_type": "code",
   "execution_count": 4,
   "id": "da579944-4b8b-43d6-969f-cd29fa2d98bc",
   "metadata": {
    "tags": []
   },
   "outputs": [],
   "source": [
    "from stopro.data_generator.sinusoidal import Sinusoidal\n",
    "from stopro.data_preparer.data_preparer import DataPreparer\n",
    "from stopro.sub_modules.load_modules import load_params, load_data\n",
    "from stopro.sub_modules.loss_modules import hessian, logposterior\n",
    "from stopro.sub_modules.init_modules import get_init, reshape_init\n",
    "import stopro.GP.gp_sinusoidal_independent as gp_sinusoidal_independent\n",
    "from stopro.GP.kernels import define_kernel\n",
    "# from stopro.solver.optimizers import optimize_by_adam\n",
    "from stopro.data_handler.data_handle_module import *"
   ]
  },
  {
   "cell_type": "code",
   "execution_count": 5,
   "id": "64543ed6-20fe-4397-983e-67045c7791aa",
   "metadata": {
    "tags": []
   },
   "outputs": [],
   "source": [
    "project_name = 'test'\n",
    "simulation_name = 'data'"
   ]
  },
  {
   "cell_type": "code",
   "execution_count": 6,
   "id": "cd3f7009-ab30-4856-b086-670f77714029",
   "metadata": {
    "tags": []
   },
   "outputs": [],
   "source": [
    "params_main, params_prepare, lbls = load_params(f\"{project_name}/{simulation_name}/data_input\")\n",
    "params_model = params_main[\"model\"]\n",
    "params_optimization = params_main[\"optimization\"]\n",
    "params_plot = params_prepare[\"plot\"]\n",
    "vnames = params_prepare[\"vnames\"]\n",
    "params_setting = params_prepare[\"setting\"]\n",
    "params_generate_training = params_prepare[\"generate_training\"]\n",
    "params_generate_test = params_prepare[\"generate_test\"]\n",
    "params_kernel_arg = params_prepare[\"kernel_arg\"]\n",
    "\n",
    "# prepare initial hyper-parameter\n",
    "init = get_init(\n",
    "    params_model[\"init_kernel_hyperparameter\"],\n",
    "    params_model[\"kernel_type\"],\n",
    "    system_type=params_model[\"system_type\"],\n",
    ")"
   ]
  },
  {
   "cell_type": "code",
   "execution_count": 7,
   "id": "2c6841a5-d994-4387-b150-bb9e7a76930c",
   "metadata": {
    "tags": []
   },
   "outputs": [],
   "source": [
    "# prepare data\n",
    "hdf_operator = HdfOperator(f\"{project_name}/{simulation_name}\")\n",
    "r_test, μ_test, r_train, μ_train, f_train = load_data(lbls, vnames, hdf_operator)\n",
    "delta_y_train = jnp.empty(0)\n",
    "for i in range(len(r_train)):\n",
    "    delta_y_train = jnp.append(delta_y_train, f_train[i] - μ_train[i])\n",
    "\n",
    "args_predict = r_test, μ_test, r_train, delta_y_train, params_model[\"epsilon\"]"
   ]
  },
  {
   "cell_type": "code",
   "execution_count": 8,
   "id": "572dac89-07b8-4142-8480-15eed6dbd03c",
   "metadata": {
    "tags": []
   },
   "outputs": [],
   "source": [
    "# setup model\n",
    "Kernel = define_kernel(params_model)\n",
    "gp_model = gp_sinusoidal_independent.GPSinusoidalWithoutPIndependent(\n",
    "    use_difp=params_setting[\"use_difp\"],\n",
    "    use_difu=params_setting[\"use_difu\"],\n",
    "    lbox=jnp.array([2.5, 0.0]),\n",
    "    infer_governing_eqs=params_prepare[\"generate_test\"][\"infer_governing_eqs\"],\n",
    "    Kernel=Kernel,\n",
    "    index_optimize_noise=params_model[\"index_optimize_noise\"],\n",
    ")\n",
    "gp_model.set_constants(*args_predict)"
   ]
  },
  {
   "cell_type": "code",
   "execution_count": 9,
   "id": "b5eea90f-ecdc-4da5-93b5-84743f4f54bc",
   "metadata": {
    "tags": []
   },
   "outputs": [],
   "source": [
    "cov_scale = 0.0\n",
    "length = 2.3\n",
    "init = jnp.array(\n",
    "    [\n",
    "        cov_scale,\n",
    "        length,\n",
    "        length,\n",
    "        cov_scale,\n",
    "        length,\n",
    "        length,\n",
    "        cov_scale,\n",
    "        length,\n",
    "        length,\n",
    "    ]\n",
    ")\n",
    "right_matrix = jax.random.normal(\n",
    "    jax.random.PRNGKey(0), (params_prepare[\"num_points\"][\"training\"][\"sum\"], 1)\n",
    ")\n",
    "K = gp_model.trainingK_all(init, r_train)\n",
    "K_x_right_matrix_naive = jnp.matmul(K, right_matrix)"
   ]
  },
  {
   "cell_type": "code",
   "execution_count": 10,
   "id": "259b0ffc-2f43-4938-ae5d-c2990c87db42",
   "metadata": {
    "tags": []
   },
   "outputs": [],
   "source": [
    "Ks = gp_model.trainingKs(init, r_train)\n",
    "for i in range(len(Ks)):\n",
    "    for j in list(range(len(Ks) - len(Ks[i])))[::-1]:\n",
    "        Ks[i] = [Ks[j][i]] + Ks[i]"
   ]
  },
  {
   "cell_type": "code",
   "execution_count": 11,
   "id": "4aa45cc7-9f5b-4d81-a07e-3ff2ce97e833",
   "metadata": {
    "tags": []
   },
   "outputs": [],
   "source": [
    "r1s = r_train\n",
    "r2s = r_train\n",
    "sec1 = gp_model.sec_tr\n",
    "sec2 = gp_model.sec_tr\n",
    "Kss = Ks"
   ]
  },
  {
   "cell_type": "code",
   "execution_count": 12,
   "id": "4638e5be-72d7-4b3e-99df-7514d7bd151e",
   "metadata": {
    "tags": []
   },
   "outputs": [],
   "source": [
    "K_x_right_matrix = mmm.mmm(r_train, r_train, right_matrix, Ks, gp_model.sec_tr, gp_model.sec_tr, jiggle=0.)"
   ]
  },
  {
   "cell_type": "code",
   "execution_count": 13,
   "id": "c56a5ea7-caea-4ff8-a1dd-4816da0400bd",
   "metadata": {
    "tags": []
   },
   "outputs": [],
   "source": [
    "mean_rel_error = jnp.mean(\n",
    "        jnp.abs((K_x_right_matrix_naive - K_x_right_matrix) / K_x_right_matrix_naive)\n",
    ")"
   ]
  },
  {
   "cell_type": "code",
   "execution_count": 14,
   "id": "7fb86013-2e5a-41e0-9396-8bacd7957cc9",
   "metadata": {
    "tags": []
   },
   "outputs": [
    {
     "data": {
      "text/plain": [
       "DeviceArray(0.05685187, dtype=float64)"
      ]
     },
     "execution_count": 14,
     "metadata": {},
     "output_type": "execute_result"
    }
   ],
   "source": [
    "jnp.min(jnp.abs(K_x_right_matrix_naive))"
   ]
  },
  {
   "cell_type": "code",
   "execution_count": 15,
   "id": "ae9964b2-ce6c-4bbd-bb62-4da4ad64ac55",
   "metadata": {
    "tags": []
   },
   "outputs": [
    {
     "data": {
      "text/plain": [
       "[<matplotlib.lines.Line2D at 0x7f10c42bfd60>]"
      ]
     },
     "execution_count": 15,
     "metadata": {},
     "output_type": "execute_result"
    },
    {
     "data": {
      "image/png": "[encoded data removed]",
      "text/plain": [
       "<Figure size 640x480 with 1 Axes>"
      ]
     },
     "metadata": {},
     "output_type": "display_data"
    }
   ],
   "source": [
    "plt.plot(jnp.abs(K_x_right_matrix_naive - K_x_right_matrix))"
   ]
  },
  {
   "cell_type": "code",
   "execution_count": 16,
   "id": "5e782b37-c416-457f-96d9-7397c9145852",
   "metadata": {
    "tags": []
   },
   "outputs": [
    {
     "data": {
      "text/plain": [
       "DeviceArray(5.33600269e-17, dtype=float64)"
      ]
     },
     "execution_count": 16,
     "metadata": {},
     "output_type": "execute_result"
    }
   ],
   "source": [
    "mean_rel_error"
   ]
  },
  {
   "cell_type": "code",
   "execution_count": 16,
   "id": "0b90d644-249a-4037-a158-9ad7c596813f",
   "metadata": {
    "tags": []
   },
   "outputs": [],
   "source": [
    "cov_scale = 0.0\n",
    "length = 0.0\n",
    "init = jnp.array(\n",
    "    [\n",
    "        cov_scale,\n",
    "        length,\n",
    "        length,\n",
    "        cov_scale,\n",
    "        length,\n",
    "        length,\n",
    "        cov_scale,\n",
    "        length,\n",
    "        length,\n",
    "    ]\n",
    ")\n",
    "right_matrix = jax.random.normal(\n",
    "    jax.random.PRNGKey(0), (params_prepare[\"num_points\"][\"training\"][\"sum\"], 11)\n",
    ")\n",
    "K = gp_model.trainingK_all(init, r_train)\n",
    "K_x_right_matrix_naive = jnp.matmul(K, right_matrix)"
   ]
  },
  {
   "cell_type": "code",
   "execution_count": 17,
   "id": "5678823e-f015-4190-a4ef-d1434c0c0a8f",
   "metadata": {
    "tags": []
   },
   "outputs": [],
   "source": [
    "Ks = gp_model.trainingKs(init, r_train)\n",
    "for i in range(len(Ks)):\n",
    "    for j in list(range(len(Ks) - len(Ks[i])))[::-1]:\n",
    "        Ks[i] = [Ks[j][i]] + Ks[i]"
   ]
  },
  {
   "cell_type": "code",
   "execution_count": 18,
   "id": "f13adb52-9878-40e1-8b6a-5296350cef1b",
   "metadata": {
    "tags": []
   },
   "outputs": [],
   "source": [
    "r1s = r_train\n",
    "r2s = r_train\n",
    "sec1 = gp_model.sec_tr\n",
    "sec2 = gp_model.sec_tr\n",
    "Kss = Ks"
   ]
  },
  {
   "cell_type": "code",
   "execution_count": 19,
   "id": "afd4267c-e993-498b-a678-7523dcba5dc5",
   "metadata": {
    "tags": []
   },
   "outputs": [],
   "source": [
    "K_x_right_matrix = mmm.mmm(r_train, r_train, right_matrix, Ks, gp_model.sec_tr, gp_model.sec_tr, jiggle=0.)"
   ]
  },
  {
   "cell_type": "code",
   "execution_count": 20,
   "id": "dc9e1fa9-a14b-49aa-9e39-900076db34fe",
   "metadata": {
    "tags": []
   },
   "outputs": [],
   "source": [
    "mean_rel_error = jnp.mean(\n",
    "        jnp.abs((K_x_right_matrix_naive - K_x_right_matrix) / K_x_right_matrix_naive)\n",
    ")"
   ]
  },
  {
   "cell_type": "code",
   "execution_count": 21,
   "id": "bf6ec6e6-e718-4114-b5dc-2b583e39c61c",
   "metadata": {
    "tags": []
   },
   "outputs": [
    {
     "data": {
      "text/plain": [
       "DeviceArray(3.8516966e-15, dtype=float64)"
      ]
     },
     "execution_count": 21,
     "metadata": {},
     "output_type": "execute_result"
    }
   ],
   "source": [
    "mean_rel_error"
   ]
  },
  {
   "cell_type": "markdown",
   "id": "2bdecf40-6665-40f0-89d1-d6dc51169667",
   "metadata": {
    "tags": []
   },
   "source": [
    "## with noise"
   ]
  },
  {
   "cell_type": "code",
   "execution_count": 22,
   "id": "f1e993cd-fbea-4253-b7d2-56ffca74ec13",
   "metadata": {
    "tags": []
   },
   "outputs": [],
   "source": [
    "cov_scale = 0.0\n",
    "length = 0.0\n",
    "init = jnp.array(\n",
    "    [\n",
    "        cov_scale,\n",
    "        length,\n",
    "        length,\n",
    "        cov_scale,\n",
    "        length,\n",
    "        length,\n",
    "        cov_scale,\n",
    "        length,\n",
    "        length,\n",
    "    ]\n",
    ")\n",
    "right_matrix = jax.random.normal(\n",
    "    jax.random.PRNGKey(0), (params_prepare[\"num_points\"][\"training\"][\"sum\"], 11)\n",
    ")\n",
    "K = gp_model.trainingK_all(init, r_train)\n",
    "K = gp_model.add_eps_to_sigma(K, params_model[\"epsilon\"], noise_parameter=None)\n",
    "K_x_right_matrix_naive = jnp.matmul(K, right_matrix)"
   ]
  },
  {
   "cell_type": "code",
   "execution_count": 23,
   "id": "5bcfaa37-3dec-4c33-a617-1f3dc58f2461",
   "metadata": {
    "tags": []
   },
   "outputs": [],
   "source": [
    "Ks = gp_model.trainingKs(init, r_train)\n",
    "for i in range(len(Ks)):\n",
    "    for j in list(range(len(Ks) - len(Ks[i])))[::-1]:\n",
    "        Ks[i] = [Ks[j][i]] + Ks[i]"
   ]
  },
  {
   "cell_type": "code",
   "execution_count": 24,
   "id": "60613bb9-f7dd-48a8-b4b1-45905d5bd2c7",
   "metadata": {
    "tags": []
   },
   "outputs": [],
   "source": [
    "r1s = r_train\n",
    "r2s = r_train\n",
    "sec1 = gp_model.sec_tr\n",
    "sec2 = gp_model.sec_tr\n",
    "Kss = Ks"
   ]
  },
  {
   "cell_type": "code",
   "execution_count": 25,
   "id": "1526bde9-6ec2-43b2-bd91-d924b1642ab7",
   "metadata": {
    "tags": []
   },
   "outputs": [],
   "source": [
    "K_x_right_matrix = mmm.mmm(r_train, r_train, right_matrix, Ks, gp_model.sec_tr, gp_model.sec_tr, jiggle=params_model[\"epsilon\"])"
   ]
  },
  {
   "cell_type": "code",
   "execution_count": 26,
   "id": "61144744-6185-43df-b623-1716265534ff",
   "metadata": {
    "tags": []
   },
   "outputs": [],
   "source": [
    "mean_rel_error = jnp.mean(\n",
    "        jnp.abs((K_x_right_matrix_naive - K_x_right_matrix) / K_x_right_matrix_naive)\n",
    ")"
   ]
  },
  {
   "cell_type": "code",
   "execution_count": 27,
   "id": "ce146854-4697-4d5c-9355-33443747e607",
   "metadata": {
    "tags": []
   },
   "outputs": [
    {
     "data": {
      "text/plain": [
       "DeviceArray(3.62514363e-15, dtype=float64)"
      ]
     },
     "execution_count": 27,
     "metadata": {},
     "output_type": "execute_result"
    }
   ],
   "source": [
    "mean_rel_error"
   ]
  },
  {
   "cell_type": "markdown",
   "id": "352a9598-a463-4a03-86ba-82242b178482",
   "metadata": {},
   "source": [
    "## checking time"
   ]
  },
  {
   "cell_type": "code",
   "execution_count": 32,
   "id": "3e3dd682-8eee-457c-a691-40f898e0dda0",
   "metadata": {
    "tags": []
   },
   "outputs": [
    {
     "name": "stdout",
     "output_type": "stream",
     "text": [
      "1.31 s ± 14.4 ms per loop (mean ± std. dev. of 7 runs, 1 loop each)\n"
     ]
    }
   ],
   "source": [
    "%%timeit\n",
    "K = gp_model.trainingK_all(init, r_train)\n",
    "K = gp_model.add_eps_to_sigma(K, params_model[\"epsilon\"], noise_parameter=None)\n",
    "K_x_right_matrix_naive = jnp.matmul(K, right_matrix)"
   ]
  },
  {
   "cell_type": "code",
   "execution_count": 36,
   "id": "ef24babb-8d9a-411a-acdd-c542cb7fb290",
   "metadata": {
    "tags": []
   },
   "outputs": [],
   "source": [
    "mmm_partial = partial(mmm.mmm, r1s=r_train, r2s=r_train, Kss=Kss, sec1=gp_model.sec_tr, sec2=gp_model.sec_tr, jiggle=params_model[\"epsilon\"])"
   ]
  },
  {
   "cell_type": "code",
   "execution_count": 38,
   "id": "ee72202f-9050-4138-8a71-fc0807e6f1d2",
   "metadata": {
    "tags": []
   },
   "outputs": [
    {
     "name": "stdout",
     "output_type": "stream",
     "text": [
      "9.48 s ± 15.4 ms per loop (mean ± std. dev. of 7 runs, 1 loop each)\n"
     ]
    }
   ],
   "source": [
    "%%timeit\n",
    "K_x_right_matrix = mmm_partial(right_matrix=right_matrix)"
   ]
  },
  {
   "cell_type": "markdown",
   "id": "773ee5af-87d7-4b07-882c-e786ce13f1ae",
   "metadata": {},
   "source": [
    "## calculate gradient"
   ]
  },
  {
   "cell_type": "code",
   "execution_count": 43,
   "id": "e5df7214-93a6-4f6f-94d0-2427f1b65a29",
   "metadata": {
    "tags": []
   },
   "outputs": [],
   "source": [
    "right_matrix = jax.random.normal(\n",
    "    jax.random.PRNGKey(0), (params_prepare[\"num_points\"][\"training\"][\"sum\"], 1)\n",
    ")"
   ]
  },
  {
   "cell_type": "code",
   "execution_count": 44,
   "id": "67bf8a4c-e890-4de6-b134-0d8977292b9c",
   "metadata": {
    "tags": []
   },
   "outputs": [],
   "source": [
    "def mmm_given_init(init):\n",
    "    Ks = gp_model.trainingKs(init, r_train)\n",
    "    for i in range(len(Ks)):\n",
    "        for j in list(range(len(Ks) - len(Ks[i])))[::-1]:\n",
    "            Ks[i] = [Ks[j][i]] + Ks[i]\n",
    "    K_x_right_matrix = mmm.mmm(\n",
    "        r_train, r_train, right_matrix, Ks, gp_model.sec_tr, gp_model.sec_tr, jiggle=params_model[\"epsilon\"]\n",
    "    )\n",
    "    return K_x_right_matrix"
   ]
  },
  {
   "cell_type": "code",
   "execution_count": 51,
   "id": "7c5afb00-b8c5-4014-a6ea-b9ac7062b551",
   "metadata": {
    "tags": []
   },
   "outputs": [
    {
     "data": {
      "text/plain": [
       "DeviceArray([0., 0., 0., 0., 0., 0., 0., 0., 0.], dtype=float64)"
      ]
     },
     "execution_count": 51,
     "metadata": {},
     "output_type": "execute_result"
    }
   ],
   "source": [
    "init"
   ]
  },
  {
   "cell_type": "code",
   "execution_count": 45,
   "id": "b1ca15e2-f996-4248-80b9-5739566a9173",
   "metadata": {
    "tags": []
   },
   "outputs": [],
   "source": [
    "K_x_right_matrix = mmm_given_init(init)"
   ]
  },
  {
   "cell_type": "code",
   "execution_count": 52,
   "id": "99a7393c-73f3-4104-8d4f-e5a29c4df1d8",
   "metadata": {
    "tags": []
   },
   "outputs": [],
   "source": [
    "K = gp_model.trainingK_all(init, r_train)\n",
    "K = gp_model.add_eps_to_sigma(K, params_model[\"epsilon\"], noise_parameter=None)\n",
    "K_x_right_matrix_naive = jnp.matmul(K, right_matrix)"
   ]
  },
  {
   "cell_type": "code",
   "execution_count": 73,
   "id": "a20ea950-a933-4462-914b-1156eb3f7836",
   "metadata": {
    "tags": []
   },
   "outputs": [],
   "source": [
    "mmm_K = mmm.setup_mmm_K(r_train, gp_model, init, params_model[\"epsilon\"])\n",
    "K_x_right_matrix = mmm_K(right_matrix=right_matrix)"
   ]
  },
  {
   "cell_type": "code",
   "execution_count": 74,
   "id": "a4766c66-7f46-4b93-ab3e-1c0789e2db56",
   "metadata": {
    "tags": []
   },
   "outputs": [],
   "source": [
    "mean_rel_error = jnp.mean(\n",
    "        jnp.abs((K_x_right_matrix_naive - K_x_right_matrix) / K_x_right_matrix_naive)\n",
    ")"
   ]
  },
  {
   "cell_type": "code",
   "execution_count": 75,
   "id": "9bde8cae-f4d8-4a4e-b05c-aa23cacebea0",
   "metadata": {
    "tags": []
   },
   "outputs": [
    {
     "data": {
      "text/plain": [
       "DeviceArray(1.27178508e-17, dtype=float64)"
      ]
     },
     "execution_count": 75,
     "metadata": {},
     "output_type": "execute_result"
    }
   ],
   "source": [
    "mean_rel_error"
   ]
  },
  {
   "cell_type": "code",
   "execution_count": 55,
   "id": "340dc4cf-5766-4e04-a2e9-c3996197c4bc",
   "metadata": {
    "tags": []
   },
   "outputs": [],
   "source": [
    "mmm_dK = jax.jacfwd(mmm_given_init)"
   ]
  },
  {
   "cell_type": "code",
   "execution_count": 62,
   "id": "03e39ac3-de7f-47ff-8377-e9709d879ac6",
   "metadata": {
    "tags": []
   },
   "outputs": [],
   "source": [
    "dKdtheta_x_right_matrix = mmm_dK(init)"
   ]
  },
  {
   "cell_type": "code",
   "execution_count": 58,
   "id": "65b55b91-a268-41ad-9db1-8015c4cd0cf6",
   "metadata": {
    "tags": []
   },
   "outputs": [
    {
     "data": {
      "text/plain": [
       "(1180, 1, 9)"
      ]
     },
     "execution_count": 58,
     "metadata": {},
     "output_type": "execute_result"
    }
   ],
   "source": [
    "dKdtheta_x_right_matrix.shape"
   ]
  },
  {
   "cell_type": "code",
   "execution_count": 59,
   "id": "7786afdc-66a5-4a72-84fe-97f01d745c68",
   "metadata": {
    "tags": []
   },
   "outputs": [],
   "source": [
    "def calc_trainingK(theta):\n",
    "    Σ = gp_model.trainingK_all(theta, r_train)\n",
    "    Σ = gp_model.add_eps_to_sigma(Σ, params_model[\"epsilon\"], noise_parameter=None)\n",
    "    return Σ"
   ]
  },
  {
   "cell_type": "code",
   "execution_count": 60,
   "id": "ea393cc6-779f-4265-83ef-fcd1bac21708",
   "metadata": {
    "tags": []
   },
   "outputs": [],
   "source": [
    "dKdtheta = jnp.transpose(jax.jacfwd(calc_trainingK)(init), (2, 0, 1))"
   ]
  },
  {
   "cell_type": "code",
   "execution_count": 63,
   "id": "ab32e904-b13c-40b2-87eb-8b14e65a273b",
   "metadata": {
    "tags": []
   },
   "outputs": [],
   "source": [
    "dKdtheta_x_right_matrix_ref = jnp.matmul(dKdtheta, right_matrix)"
   ]
  },
  {
   "cell_type": "code",
   "execution_count": 65,
   "id": "35cf9637-755a-44c4-92a4-1e6315146585",
   "metadata": {
    "tags": []
   },
   "outputs": [],
   "source": [
    "dKdtheta_x_right_matrix = jnp.transpose(dKdtheta_x_right_matrix, (2, 0, 1))"
   ]
  },
  {
   "cell_type": "code",
   "execution_count": 67,
   "id": "09752876-794a-4304-915d-e5216c6629b2",
   "metadata": {
    "tags": []
   },
   "outputs": [
    {
     "data": {
      "text/plain": [
       "DeviceArray(1.68101565e-17, dtype=float64)"
      ]
     },
     "execution_count": 67,
     "metadata": {},
     "output_type": "execute_result"
    }
   ],
   "source": [
    "jnp.mean(jnp.abs(dKdtheta_x_right_matrix-dKdtheta_x_right_matrix_ref))"
   ]
  },
  {
   "cell_type": "code",
   "execution_count": 131,
   "id": "b3f1a489-e0a2-4e13-b9a6-221487d81415",
   "metadata": {
    "tags": []
   },
   "outputs": [
    {
     "data": {
      "text/plain": [
       "<module 'mmm' from '/home/ogawa_kenta/research/M2/bbmm_implementation/duplication_of_bbmm/mmm.py'>"
      ]
     },
     "execution_count": 131,
     "metadata": {},
     "output_type": "execute_result"
    }
   ],
   "source": [
    "importlib.reload(mmm)"
   ]
  },
  {
   "cell_type": "code",
   "execution_count": 132,
   "id": "f3893375-a940-449e-b872-cc4a1a5fe604",
   "metadata": {
    "tags": []
   },
   "outputs": [],
   "source": [
    "mmm_dKdtheta = mmm.setup_mmm_dKdtheta(r_train, gp_model, init, params_model[\"epsilon\"])"
   ]
  },
  {
   "cell_type": "code",
   "execution_count": 133,
   "id": "b86f1993-d214-45ec-9fc0-92355b28d871",
   "metadata": {
    "tags": []
   },
   "outputs": [],
   "source": [
    "dKdtheta_new = mmm_dKdtheta(right_matrix=right_matrix)"
   ]
  },
  {
   "cell_type": "code",
   "execution_count": 135,
   "id": "86a996fc-8701-46e3-9914-e1348bd3f8f4",
   "metadata": {
    "tags": []
   },
   "outputs": [
    {
     "data": {
      "text/plain": [
       "DeviceArray(1.68101565e-17, dtype=float64)"
      ]
     },
     "execution_count": 135,
     "metadata": {},
     "output_type": "execute_result"
    }
   ],
   "source": [
    "jnp.mean(jnp.abs(jnp.transpose(dKdtheta_new, (2, 0, 1))-dKdtheta_x_right_matrix_ref))"
   ]
  },
  {
   "cell_type": "code",
   "execution_count": 136,
   "id": "42cc8923-b41a-4c4d-862c-cb6b6d814d1f",
   "metadata": {
    "tags": []
   },
   "outputs": [
    {
     "data": {
      "text/plain": [
       "(9, 1180, 1180)"
      ]
     },
     "execution_count": 136,
     "metadata": {},
     "output_type": "execute_result"
    }
   ],
   "source": [
    "dKdtheta.shape"
   ]
  },
  {
   "cell_type": "markdown",
   "id": "59520121-be4a-4dda-8e3c-4925d237559a",
   "metadata": {},
   "source": [
    "## checking time"
   ]
  },
  {
   "cell_type": "code",
   "execution_count": 137,
   "id": "9dde7421-3412-4862-9da0-a8fd26c32309",
   "metadata": {
    "tags": []
   },
   "outputs": [
    {
     "name": "stdout",
     "output_type": "stream",
     "text": [
      "23.1 s ± 493 ms per loop (mean ± std. dev. of 7 runs, 1 loop each)\n"
     ]
    }
   ],
   "source": [
    "%%timeit\n",
    "dKdtheta_new = mmm_dKdtheta(right_matrix=right_matrix)"
   ]
  },
  {
   "cell_type": "code",
   "execution_count": 138,
   "id": "064243b1-9837-4745-a029-3a544db3b03f",
   "metadata": {
    "tags": []
   },
   "outputs": [
    {
     "name": "stdout",
     "output_type": "stream",
     "text": [
      "2.4 s ± 7.15 ms per loop (mean ± std. dev. of 7 runs, 1 loop each)\n"
     ]
    }
   ],
   "source": [
    "%%timeit\n",
    "dKdtheta = jnp.transpose(jax.jacfwd(calc_trainingK)(init), (2, 0, 1))\n",
    "dKdtheta_x_right_matrix_ref = jnp.matmul(dKdtheta, right_matrix)"
   ]
  },
  {
   "cell_type": "code",
   "execution_count": 145,
   "id": "7139562b-dbc7-44d8-80c0-96e9a80c9aae",
   "metadata": {
    "tags": []
   },
   "outputs": [],
   "source": [
    "trainingdKs = jax.jacfwd(gp_model.trainingKs, argnums=0)"
   ]
  },
  {
   "cell_type": "code",
   "execution_count": 146,
   "id": "d8d0801f-a434-4523-92d8-f5ff674bc160",
   "metadata": {
    "tags": []
   },
   "outputs": [
    {
     "ename": "TypeError",
     "evalue": "Value <function GPmodel2DStokesIndependent.setup_no_diffop_kernel.<locals>.Kuxux at 0x7f0c12c885e0> with type <class 'function'> is not a valid JAX type",
     "output_type": "error",
     "traceback": [
      "\u001b[0;31m---------------------------------------------------------------------------\u001b[0m",
      "\u001b[0;31mTypeError\u001b[0m                                 Traceback (most recent call last)",
      "Cell \u001b[0;32mIn [146], line 1\u001b[0m\n\u001b[0;32m----> 1\u001b[0m dKss \u001b[38;5;241m=\u001b[39m \u001b[43mtrainingdKs\u001b[49m\u001b[43m(\u001b[49m\u001b[43minit\u001b[49m\u001b[43m,\u001b[49m\u001b[43m \u001b[49m\u001b[43mr_train\u001b[49m\u001b[43m)\u001b[49m\n",
      "File \u001b[0;32m~/.conda/envs/mytorch/lib/python3.9/site-packages/jax/_src/api.py:1104\u001b[0m, in \u001b[0;36mjacfwd.<locals>.jacfun\u001b[0;34m(*args, **kwargs)\u001b[0m\n\u001b[1;32m   1102\u001b[0m \u001b[38;5;28;01mif\u001b[39;00m \u001b[38;5;129;01mnot\u001b[39;00m has_aux:\n\u001b[1;32m   1103\u001b[0m   pushfwd \u001b[38;5;241m=\u001b[39m partial(_jvp, f_partial, dyn_args)\n\u001b[0;32m-> 1104\u001b[0m   y, jac \u001b[38;5;241m=\u001b[39m \u001b[43mvmap\u001b[49m\u001b[43m(\u001b[49m\u001b[43mpushfwd\u001b[49m\u001b[43m,\u001b[49m\u001b[43m \u001b[49m\u001b[43mout_axes\u001b[49m\u001b[38;5;241;43m=\u001b[39;49m\u001b[43m(\u001b[49m\u001b[38;5;28;43;01mNone\u001b[39;49;00m\u001b[43m,\u001b[49m\u001b[43m \u001b[49m\u001b[38;5;241;43m-\u001b[39;49m\u001b[38;5;241;43m1\u001b[39;49m\u001b[43m)\u001b[49m\u001b[43m)\u001b[49m\u001b[43m(\u001b[49m\u001b[43m_std_basis\u001b[49m\u001b[43m(\u001b[49m\u001b[43mdyn_args\u001b[49m\u001b[43m)\u001b[49m\u001b[43m)\u001b[49m\n\u001b[1;32m   1105\u001b[0m \u001b[38;5;28;01melse\u001b[39;00m:\n\u001b[1;32m   1106\u001b[0m   pushfwd \u001b[38;5;241m=\u001b[39m partial(_jvp, f_partial, dyn_args, has_aux\u001b[38;5;241m=\u001b[39m\u001b[38;5;28;01mTrue\u001b[39;00m)\n",
      "    \u001b[0;31m[... skipping hidden 10 frame]\u001b[0m\n",
      "File \u001b[0;32m~/.conda/envs/mytorch/lib/python3.9/site-packages/jax/core.py:1092\u001b[0m, in \u001b[0;36mconcrete_aval\u001b[0;34m(x)\u001b[0m\n\u001b[1;32m   1090\u001b[0m \u001b[38;5;28;01mif\u001b[39;00m \u001b[38;5;28mhasattr\u001b[39m(x, \u001b[38;5;124m'\u001b[39m\u001b[38;5;124m__jax_array__\u001b[39m\u001b[38;5;124m'\u001b[39m):\n\u001b[1;32m   1091\u001b[0m   \u001b[38;5;28;01mreturn\u001b[39;00m concrete_aval(x\u001b[38;5;241m.\u001b[39m__jax_array__())\n\u001b[0;32m-> 1092\u001b[0m \u001b[38;5;28;01mraise\u001b[39;00m \u001b[38;5;167;01mTypeError\u001b[39;00m(\u001b[38;5;124mf\u001b[39m\u001b[38;5;124m\"\u001b[39m\u001b[38;5;124mValue \u001b[39m\u001b[38;5;132;01m{\u001b[39;00m\u001b[38;5;28mrepr\u001b[39m(x)\u001b[38;5;132;01m}\u001b[39;00m\u001b[38;5;124m with type \u001b[39m\u001b[38;5;132;01m{\u001b[39;00m\u001b[38;5;28mtype\u001b[39m(x)\u001b[38;5;132;01m}\u001b[39;00m\u001b[38;5;124m is not a valid JAX \u001b[39m\u001b[38;5;124m\"\u001b[39m\n\u001b[1;32m   1093\u001b[0m                  \u001b[38;5;124m\"\u001b[39m\u001b[38;5;124mtype\u001b[39m\u001b[38;5;124m\"\u001b[39m)\n",
      "\u001b[0;31mTypeError\u001b[0m: Value <function GPmodel2DStokesIndependent.setup_no_diffop_kernel.<locals>.Kuxux at 0x7f0c12c885e0> with type <class 'function'> is not a valid JAX type"
     ]
    }
   ],
   "source": [
    "## カーネル自体を微分するのは難しい\n",
    "dKss = trainingdKs(init, r_train)"
   ]
  },
  {
   "cell_type": "code",
   "execution_count": null,
   "id": "1ffa33b9-4da4-482d-8479-e20e181ce894",
   "metadata": {},
   "outputs": [],
   "source": []
  }
 ],
 "metadata": {
  "kernelspec": {
   "display_name": "mytorch",
   "language": "python",
   "name": "mytorch"
  },
  "language_info": {
   "codemirror_mode": {
    "name": "ipython",
    "version": 3
   },
   "file_extension": ".py",
   "mimetype": "text/x-python",
   "name": "python",
   "nbconvert_exporter": "python",
   "pygments_lexer": "ipython3",
   "version": "3.9.6"
  }
 },
 "nbformat": 4,
 "nbformat_minor": 5
}
