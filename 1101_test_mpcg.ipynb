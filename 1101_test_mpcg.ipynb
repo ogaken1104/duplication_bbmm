{
 "cells": [
  {
   "cell_type": "code",
   "execution_count": null,
   "id": "ffa4272b-7bb2-4365-90c3-3814868c999f",
   "metadata": {
    "tags": []
   },
   "outputs": [],
   "source": [
    "import numpy as np\n",
    "import jax\n",
    "import jax.numpy as jnp\n",
    "from jax import vmap\n",
    "from jax import jit, lax\n",
    "import matplotlib.pyplot as plt\n",
    "import cmocean as cmo\n",
    "import importlib"
   ]
  },
  {
   "cell_type": "code",
   "execution_count": null,
   "id": "7afa6046-7748-40e6-b6a1-0d29fcbd2750",
   "metadata": {
    "tags": []
   },
   "outputs": [],
   "source": [
    "from jax.config import config\n",
    "config.update(\"jax_enable_x64\", True)"
   ]
  },
  {
   "cell_type": "code",
   "execution_count": null,
   "id": "8134eb6f-7337-4068-937f-2ad47acbcd96",
   "metadata": {
    "tags": []
   },
   "outputs": [],
   "source": [
    "## import modules\n",
    "import preconditioner as precond\n",
    "import conjugate_gradient as cg\n",
    "import pivoted_cholesky as pc\n",
    "import pivoted_cholesky_ref as pc_ref # to use this script we need \"torch\", please comment out if not needed.\n",
    "def reload():\n",
    "    importlib.reload(precond)\n",
    "    importlib.reload(cg)\n",
    "    importlib.reload(pc)\n",
    "    importlib.reload(pc_ref)\n",
    "reload()"
   ]
  },
  {
   "cell_type": "code",
   "execution_count": null,
   "id": "153a5d3c-b5ef-431f-9227-8ca5fbd1f6b7",
   "metadata": {
    "tags": []
   },
   "outputs": [],
   "source": [
    "import gpytorch\n",
    "import torch\n",
    "import linear_operator\n",
    "from linear_operator.operators import (\n",
    "    AddedDiagLinearOperator,\n",
    "    DiagLinearOperator,\n",
    "    LinearOperator,\n",
    "    DenseLinearOperator,\n",
    ")"
   ]
  },
  {
   "cell_type": "code",
   "execution_count": null,
   "id": "33bd337e-13bc-4065-8580-d28a968fc545",
   "metadata": {
    "tags": []
   },
   "outputs": [],
   "source": [
    "def generate_K(N, seed=0, noise=1e-06):\n",
    "    \"\"\"\n",
    "    generate positive definite symmetric matrix\n",
    "    \"\"\"\n",
    "    K = jax.random.normal(jax.random.PRNGKey(seed), (N, N))\n",
    "    # K = K @ K.T + 30* jnp.eye(N) + noise*jnp.eye(N)\n",
    "    # K = jnp.dot(K, K.T) + noise*jnp.eye(N)\n",
    "    # K = jnp.dot(K, K.T) / N\n",
    "    K = jnp.dot(K, K.T)/N\n",
    "    # K += (noise+30)*jnp.eye(N) ## ??\n",
    "    K += (5)*jnp.eye(N)\n",
    "    K += (noise)*jnp.eye(N)\n",
    "    if not is_positive_definite(K):\n",
    "        raise Exception(\"K is not positive definite !\")\n",
    "    return K"
   ]
  },
  {
   "cell_type": "code",
   "execution_count": null,
   "id": "912c5ad1-4ba3-49ec-a898-efe42343c5c8",
   "metadata": {
    "tags": []
   },
   "outputs": [],
   "source": [
    "def is_positive_definite(matrix):\n",
    "    # 行列の固有値を計算\n",
    "    eigenvalues = np.linalg.eigvals(matrix)\n",
    "\n",
    "    # 全ての固有値が正であるかをチェック\n",
    "    if np.all(eigenvalues > 0):\n",
    "        return True\n",
    "    else:\n",
    "        return False"
   ]
  },
  {
   "cell_type": "code",
   "execution_count": null,
   "id": "7f6fdb67-af26-4a0f-80dc-0635db1799cb",
   "metadata": {
    "tags": []
   },
   "outputs": [],
   "source": [
    "def rel_error(true, pred):\n",
    "    nonzero_index = jnp.where(true != 0.)\n",
    "    true = true[nonzero_index]\n",
    "    pred = pred[nonzero_index]\n",
    "    return jnp.mean(jnp.abs((true-pred)/true))"
   ]
  },
  {
   "cell_type": "markdown",
   "id": "5bb2cfc0-a2e6-4ae0-9777-28bd4b9f3471",
   "metadata": {},
   "source": [
    "## 4. modified preconditioned conjugate gradient"
   ]
  },
  {
   "cell_type": "code",
   "execution_count": null,
   "id": "1dfc807f-f48d-4ddd-9eb7-4b4d1c9646a0",
   "metadata": {
    "tags": []
   },
   "outputs": [],
   "source": [
    "N = 100\n",
    "rank=15\n",
    "noise = 1e-06\n",
    "n_tridiag = 10\n",
    "K = generate_K(N)\n",
    "y = jax.random.normal(key=jax.random.PRNGKey(0), shape=(N,1))\n",
    "zs = jax.random.normal(jax.random.PRNGKey(0), (N, n_tridiag))\n",
    "preconditioner = precond.Preconditioner(K, rank=rank, noise=noise)\n",
    "K_torch = torch.from_numpy(np.array(K))"
   ]
  },
  {
   "cell_type": "code",
   "execution_count": null,
   "id": "7ef16c01-37a4-4abd-b6eb-556dcefb929e",
   "metadata": {
    "tags": []
   },
   "outputs": [],
   "source": [
    "rhs = jnp.concatenate([zs, y], axis=1)\n",
    "rhs_torch = torch.from_numpy(np.array(rhs))"
   ]
  },
  {
   "cell_type": "code",
   "execution_count": null,
   "id": "35df1acb-4575-4095-99dd-74b7bf85b1d9",
   "metadata": {
    "tags": []
   },
   "outputs": [],
   "source": [
    "K_linear_op = linear_operator.to_linear_operator(K_torch)\n",
    "diag_tensor = torch.ones(N, dtype=torch.float64)*noise\n",
    "diag_linear_op = DiagLinearOperator(diag_tensor)\n",
    "added_diag = AddedDiagLinearOperator(K_linear_op, diag_linear_op)"
   ]
  },
  {
   "cell_type": "code",
   "execution_count": null,
   "id": "de7d0822-8850-4d51-988a-331c6edf33b6",
   "metadata": {
    "tags": []
   },
   "outputs": [],
   "source": [
    "Kinvy_linalg = jnp.linalg.solve(K, rhs)"
   ]
  },
  {
   "cell_type": "code",
   "execution_count": null,
   "id": "8028d46a-cb64-44cc-8d83-0804a29123fb",
   "metadata": {
    "tags": []
   },
   "outputs": [],
   "source": [
    "preconditioner = precond.Preconditioner(K, rank, noise)\n",
    "Kinvy = cg.bcg_bbmm(K, rhs, preconditioner=preconditioner, print_process=False, tolerance=1)\n",
    "print(rel_error(Kinvy_linalg, Kinvy))"
   ]
  },
  {
   "cell_type": "code",
   "execution_count": null,
   "id": "a2ca69e5-e8a9-4ed9-a9a1-42733c32fa75",
   "metadata": {},
   "outputs": [],
   "source": [
    "linear_operator.settings.cg_tolerance._set_value(1)\n",
    "Kinvy_torch = added_diag.solve(rhs_torch)\n",
    "print(rel_error(Kinvy_linalg, Kinvy_torch.numpy()))\n",
    "linear_operator.settings.cg_tolerance._set_value(1)"
   ]
  },
  {
   "cell_type": "markdown",
   "id": "763e74fc-2538-4347-bd5b-879366a8f24f",
   "metadata": {},
   "source": [
    "### tol=1e-04"
   ]
  },
  {
   "cell_type": "code",
   "execution_count": null,
   "id": "0ab4e8b9-d4fb-4524-96b7-8a831f643e37",
   "metadata": {
    "tags": []
   },
   "outputs": [],
   "source": [
    "preconditioner = precond.Preconditioner(K, rank, noise)\n",
    "Kinvy = cg.bcg_bbmm(K, rhs, preconditioner=preconditioner, print_process=False, tolerance=1e-04)\n",
    "print(rel_error(Kinvy_linalg, Kinvy))"
   ]
  },
  {
   "cell_type": "code",
   "execution_count": null,
   "id": "d50e40d7-ebc0-4cf8-b2d1-0a853898751d",
   "metadata": {},
   "outputs": [],
   "source": [
    "linear_operator.settings.cg_tolerance._set_value(1e-04)\n",
    "Kinvy_torch = added_diag.solve(rhs_torch)\n",
    "print(rel_error(Kinvy_linalg, Kinvy_torch.numpy()))\n",
    "# linear_operator.settings.cg_tolerance._set_value(1)"
   ]
  },
  {
   "cell_type": "code",
   "execution_count": null,
   "id": "9cd7626f-2a3d-4513-9aa7-86812f21bf95",
   "metadata": {
    "tags": []
   },
   "outputs": [],
   "source": [
    "N = 7000\n",
    "rank=15\n",
    "noise = 1e-06\n",
    "n_tridiag = 10\n",
    "K = generate_K(N)\n",
    "y = jax.random.normal(key=jax.random.PRNGKey(0), shape=(N,1))\n",
    "zs = jax.random.normal(jax.random.PRNGKey(0), (N, n_tridiag))\n",
    "preconditioner = precond.Preconditioner(K, rank=rank, noise=noise)\n",
    "K_torch = torch.from_numpy(np.array(K))"
   ]
  },
  {
   "cell_type": "code",
   "execution_count": null,
   "id": "a7f1ae61-fdc5-448c-ba89-410b9a2c245b",
   "metadata": {
    "tags": []
   },
   "outputs": [],
   "source": [
    "rhs = jnp.concatenate([zs, y], axis=1)\n",
    "rhs_torch = torch.from_numpy(np.array(rhs))"
   ]
  },
  {
   "cell_type": "code",
   "execution_count": null,
   "id": "0d12f65b-6903-40e4-85b8-694bd49236d2",
   "metadata": {
    "tags": []
   },
   "outputs": [],
   "source": [
    "K_linear_op = linear_operator.to_linear_operator(K_torch)\n",
    "diag_tensor = torch.ones(N, dtype=torch.float64)*noise\n",
    "diag_linear_op = DiagLinearOperator(diag_tensor)\n",
    "added_diag = AddedDiagLinearOperator(K_linear_op, diag_linear_op)"
   ]
  },
  {
   "cell_type": "code",
   "execution_count": null,
   "id": "a4b0011a-e36f-4d73-894f-10863c68afc1",
   "metadata": {
    "tags": []
   },
   "outputs": [],
   "source": [
    "%%timeit\n",
    "preconditioner = precond.Preconditioner(K, rank, noise)\n",
    "Kinvy = cg.bcg_bbmm(K, rhs, preconditioner=preconditioner, print_process=False, tolerance=1e-04)"
   ]
  },
  {
   "cell_type": "code",
   "execution_count": null,
   "id": "78945189-e88b-4be9-b0f6-a2586a0b2585",
   "metadata": {
    "tags": []
   },
   "outputs": [],
   "source": [
    "%%timeit\n",
    "Kinvy_torch = added_diag.solve(rhs_torch)"
   ]
  },
  {
   "cell_type": "code",
   "execution_count": null,
   "id": "74d0eaf2-2ff5-40be-8418-f539ea173390",
   "metadata": {
    "tags": []
   },
   "outputs": [],
   "source": [
    "%%timeit\n",
    "Kinvy_linalg = jnp.linalg.solve(K, rhs)"
   ]
  },
  {
   "cell_type": "code",
   "execution_count": null,
   "id": "3dbc40b3-6932-4542-b3a2-60f29c211690",
   "metadata": {
    "tags": []
   },
   "outputs": [],
   "source": [
    "print(rel_error(Kinvy_linalg, Kinvy))\n",
    "print(rel_error(Kinvy_linalg, Kinvy_torch.numpy()))"
   ]
  },
  {
   "cell_type": "code",
   "execution_count": null,
   "id": "1af18fd1-8633-4e59-b9b6-b6291c8d62e9",
   "metadata": {
    "tags": []
   },
   "outputs": [],
   "source": [
    "%%timeit\n",
    "Kinvy = cg.bcg_bbmm(K, rhs, preconditioner=None, print_process=False, tolerance=1e-04)"
   ]
  },
  {
   "cell_type": "markdown",
   "id": "a12bd2ac-fe68-4375-8a85-5b681f49aafb",
   "metadata": {},
   "source": [
    "### やはりpreconditionしない方がはやいのが現状"
   ]
  },
  {
   "cell_type": "markdown",
   "id": "606128cf-3bf6-41dd-8665-4227b02dfc6b",
   "metadata": {},
   "source": [
    "## chceking trace term"
   ]
  },
  {
   "cell_type": "markdown",
   "id": "6401b027-a0e4-483b-a054-dc5e20d84669",
   "metadata": {},
   "source": [
    "### with preconditioner"
   ]
  },
  {
   "cell_type": "code",
   "execution_count": null,
   "id": "e67edfbb-11e0-4109-9ca4-22a72e795469",
   "metadata": {
    "tags": []
   },
   "outputs": [],
   "source": [
    "N = 3000\n",
    "rank=15\n",
    "noise = 1e-06\n",
    "n_tridiag = 10\n",
    "K = generate_K(N)\n",
    "y = jax.random.normal(key=jax.random.PRNGKey(0), shape=(N,1))\n",
    "zs = jax.random.normal(jax.random.PRNGKey(0), (N, n_tridiag))\n",
    "preconditioner = precond.Preconditioner(K, rank=rank, noise=noise)\n",
    "K_torch = torch.from_numpy(np.array(K))"
   ]
  },
  {
   "cell_type": "code",
   "execution_count": null,
   "id": "9970ab48-50f5-40da-895a-6a11cf836f5a",
   "metadata": {
    "tags": []
   },
   "outputs": [],
   "source": [
    "rhs = jnp.concatenate([zs, y], axis=1)\n",
    "rhs_torch = torch.from_numpy(np.array(rhs))"
   ]
  },
  {
   "cell_type": "code",
   "execution_count": null,
   "id": "57c1f243-b3c4-4840-a9d1-719685a81971",
   "metadata": {
    "tags": []
   },
   "outputs": [],
   "source": [
    "K_linear_op = linear_operator.to_linear_operator(K_torch)\n",
    "diag_tensor = torch.ones(N, dtype=torch.float64)*noise\n",
    "diag_linear_op = DiagLinearOperator(diag_tensor)\n",
    "added_diag = AddedDiagLinearOperator(K_linear_op, diag_linear_op)\n",
    "preconditioner_torch, _, _ = added_diag._preconditioner()"
   ]
  },
  {
   "cell_type": "code",
   "execution_count": null,
   "id": "735a4584-c1d8-4712-8630-d0cda843bfdc",
   "metadata": {
    "tags": []
   },
   "outputs": [],
   "source": [
    "Kinvy_linalg = jnp.linalg.solve(K, rhs)\n",
    "preconditioner = precond.Preconditioner(K, rank, noise)\n",
    "Kinvy = cg.bcg_bbmm(K, rhs, preconditioner=preconditioner, print_process=False, tolerance=1)\n",
    "print(rel_error(Kinvy_linalg, Kinvy))\n",
    "linear_operator.settings.cg_tolerance._set_value(1)\n",
    "Kinvy_torch = added_diag._solve(rhs_torch, preconditioner=preconditioner_torch)\n",
    "print(rel_error(Kinvy_linalg, Kinvy_torch.numpy()))\n",
    "linear_operator.settings.cg_tolerance._set_value(1)"
   ]
  },
  {
   "cell_type": "code",
   "execution_count": null,
   "id": "4865ce4f-8a30-40c2-a188-143fcafb53ee",
   "metadata": {
    "tags": []
   },
   "outputs": [],
   "source": [
    "%%timeit\n",
    "Kinvy = cg.bcg_bbmm(K, rhs, preconditioner=None, print_process=False, tolerance=1e-04)"
   ]
  },
  {
   "cell_type": "code",
   "execution_count": null,
   "id": "199e7466-a4c5-4628-b4c6-199fc0cd458f",
   "metadata": {
    "tags": []
   },
   "outputs": [],
   "source": [
    "dKdtheta = jax.random.normal(jax.random.PRNGKey(1), (N, N))+5*jnp.eye(N)"
   ]
  },
  {
   "cell_type": "code",
   "execution_count": null,
   "id": "f66a7945-63c6-428c-92a8-fb6fb3821b81",
   "metadata": {
    "tags": []
   },
   "outputs": [],
   "source": [
    "trace = jnp.einsum(\"ij, ij ->\", Kinvy[:, :n_tridiag], jnp.einsum(\"ij, jk->ik\", dKdtheta, zs))/n_tridiag"
   ]
  },
  {
   "cell_type": "code",
   "execution_count": null,
   "id": "0a405352-5f20-4163-9678-65a54d12163d",
   "metadata": {
    "tags": []
   },
   "outputs": [],
   "source": [
    "Kinvy_linalg = jnp.linalg.inv(K)\n",
    "trace_linalg = jnp.sum(jnp.diag(jnp.matmul(Kinvy_linalg, dKdtheta)))"
   ]
  },
  {
   "cell_type": "code",
   "execution_count": null,
   "id": "0c68e5ca-4298-4658-a70c-0ba563eb1f04",
   "metadata": {
    "tags": []
   },
   "outputs": [],
   "source": [
    "# trace_torch, _ = added_diag.inv_quad_logdet(rhs_torch, logdet=True)"
   ]
  },
  {
   "cell_type": "code",
   "execution_count": null,
   "id": "4c29cace-c7f8-4517-a9ed-378b75ed5ab6",
   "metadata": {
    "tags": []
   },
   "outputs": [],
   "source": [
    "trace, trace_linalg, #trace_torch/2"
   ]
  },
  {
   "cell_type": "code",
   "execution_count": null,
   "id": "1ccfe2b8-1668-4294-b8f1-44e95a27a31b",
   "metadata": {
    "tags": []
   },
   "outputs": [],
   "source": [
    "(trace_linalg-trace)/trace_linalg"
   ]
  },
  {
   "cell_type": "markdown",
   "id": "e399740a-e2c9-4aa9-b6e8-74ba4aaf123e",
   "metadata": {},
   "source": [
    "### without preconditioner"
   ]
  },
  {
   "cell_type": "code",
   "execution_count": null,
   "id": "57f0a458-8fc6-43ab-aa85-b8c71774418b",
   "metadata": {
    "tags": []
   },
   "outputs": [],
   "source": [
    "Kinvy = cg.bcg_bbmm(K, rhs, preconditioner=None, print_process=False, tolerance=1)\n",
    "print(rel_error(Kinvy_linalg, Kinvy))"
   ]
  },
  {
   "cell_type": "code",
   "execution_count": null,
   "id": "65a94fb5-a4a0-438d-ac8e-bdf13d0969ca",
   "metadata": {
    "tags": []
   },
   "outputs": [],
   "source": [
    "dKdtheta = jax.random.normal(jax.random.PRNGKey(1), (N, N))+5*jnp.eye(N)"
   ]
  },
  {
   "cell_type": "code",
   "execution_count": null,
   "id": "fbd927ae-fc87-463c-af10-55928e596ddf",
   "metadata": {
    "tags": []
   },
   "outputs": [],
   "source": [
    "trace = jnp.einsum(\"ij, ij ->\", Kinvy[:, :n_tridiag], jnp.einsum(\"ij, jk->ik\", dKdtheta, zs))/n_tridiag"
   ]
  },
  {
   "cell_type": "code",
   "execution_count": null,
   "id": "c9c7ccfa-2cc4-4db8-bf96-074180fcb8a6",
   "metadata": {
    "tags": []
   },
   "outputs": [],
   "source": [
    "Kinvy_linalg = jnp.linalg.inv(K)\n",
    "trace_linalg = jnp.sum(jnp.diag(jnp.matmul(Kinvy_linalg, dKdtheta)))"
   ]
  },
  {
   "cell_type": "code",
   "execution_count": null,
   "id": "3af4701b-e9ad-4243-aba4-df7afb73f9ba",
   "metadata": {
    "tags": []
   },
   "outputs": [],
   "source": [
    "trace, trace_linalg"
   ]
  },
  {
   "cell_type": "code",
   "execution_count": null,
   "id": "eacf9687-d0ee-4a71-915b-9e6bc5fb5a73",
   "metadata": {
    "tags": []
   },
   "outputs": [],
   "source": [
    "(trace_linalg-trace)/trace_linalg"
   ]
  },
  {
   "cell_type": "markdown",
   "id": "5b4ccb8d-bfcc-43fb-b96b-a99856002026",
   "metadata": {},
   "source": [
    "### checking t_mat"
   ]
  },
  {
   "cell_type": "markdown",
   "id": "6e99fe7c-05ac-4a58-a571-a071d1baccc7",
   "metadata": {},
   "source": [
    "### N = 100"
   ]
  },
  {
   "cell_type": "code",
   "execution_count": null,
   "id": "3e7abcc2-fbcb-4f4a-b128-5b31ba9dbb17",
   "metadata": {
    "tags": []
   },
   "outputs": [],
   "source": [
    "N = 100\n",
    "rank=15\n",
    "noise = 1e-06\n",
    "n_tridiag = 10\n",
    "K = generate_K(N)\n",
    "y = jax.random.normal(key=jax.random.PRNGKey(0), shape=(N,1))\n",
    "zs = jax.random.normal(jax.random.PRNGKey(0), (N, n_tridiag))\n",
    "preconditioner = precond.Preconditioner(K, rank=rank, noise=noise)\n",
    "K_torch = torch.from_numpy(np.array(K))"
   ]
  },
  {
   "cell_type": "code",
   "execution_count": null,
   "id": "3f120eb8-d9e0-485a-ae36-daa42ea7856c",
   "metadata": {
    "tags": []
   },
   "outputs": [],
   "source": [
    "rhs = jnp.concatenate([zs, y], axis=1)\n",
    "rhs_torch = torch.from_numpy(np.array(rhs))"
   ]
  },
  {
   "cell_type": "code",
   "execution_count": null,
   "id": "b2d12573-4fe9-4e17-a50b-c5d75564c036",
   "metadata": {
    "tags": []
   },
   "outputs": [],
   "source": [
    "K_linear_op = linear_operator.to_linear_operator(K_torch)\n",
    "diag_tensor = torch.ones(N, dtype=torch.float64)*noise\n",
    "diag_linear_op = DiagLinearOperator(diag_tensor)\n",
    "added_diag = AddedDiagLinearOperator(K_linear_op, diag_linear_op)\n",
    "preconditioner_torch, _, _ = added_diag._preconditioner()"
   ]
  },
  {
   "cell_type": "code",
   "execution_count": null,
   "id": "ed943a58-3e18-4a07-94bc-24d265df9403",
   "metadata": {
    "tags": []
   },
   "outputs": [],
   "source": [
    "Kinvy_linalg = jnp.linalg.solve(K, rhs)\n",
    "preconditioner = precond.Preconditioner(K, rank, noise)\n",
    "Kinvy, t_mat = cg.mpcg_bbmm(K, rhs, preconditioner=preconditioner, print_process=False, tolerance=1, n_tridiag=n_tridiag)\n",
    "print(rel_error(Kinvy_linalg, Kinvy))\n",
    "Kinvy_torch, t_mat_torch = added_diag._solve(rhs_torch, preconditioner=preconditioner_torch,num_tridiag=n_tridiag)\n",
    "# Kinvy_torch = added_diag._solve(rhs_torch, preconditioner=preconditioner_torch)\n",
    "print(rel_error(Kinvy_linalg, Kinvy_torch.numpy()))"
   ]
  },
  {
   "cell_type": "markdown",
   "id": "dd8885af-05c6-4726-88b7-16ff14b2a577",
   "metadata": {},
   "source": [
    "#### linear_operatorでは, solveの際にn_tridiagをありにするとなぜか精度が向上する"
   ]
  },
  {
   "cell_type": "code",
   "execution_count": null,
   "id": "ed531eaf-e7c6-4273-81ef-724909f633ab",
   "metadata": {
    "tags": []
   },
   "outputs": [],
   "source": [
    "t_mat.shape, t_mat_torch.numpy().shape"
   ]
  },
  {
   "cell_type": "code",
   "execution_count": null,
   "id": "98d2369d-0ebe-4c0b-bacd-762d0724d0f3",
   "metadata": {
    "tags": []
   },
   "outputs": [],
   "source": [
    "end = 9\n",
    "jnp.mean(jnp.abs(t_mat[:, :end , :end]-t_mat_torch[:, :end, :end].numpy()))"
   ]
  },
  {
   "cell_type": "markdown",
   "id": "65c47b66-0344-4a7c-ad10-18a0a9fc8600",
   "metadata": {},
   "source": [
    "### N = 3000"
   ]
  },
  {
   "cell_type": "code",
   "execution_count": null,
   "id": "fba5077b-de9d-4316-aa01-9ea5f38e98d6",
   "metadata": {
    "tags": []
   },
   "outputs": [],
   "source": [
    "N = 3000\n",
    "rank=15\n",
    "noise = 1e-06\n",
    "n_tridiag = 10\n",
    "K = generate_K(N)\n",
    "y = jax.random.normal(key=jax.random.PRNGKey(0), shape=(N,1))\n",
    "zs = jax.random.normal(jax.random.PRNGKey(0), (N, n_tridiag))\n",
    "preconditioner = precond.Preconditioner(K, rank=rank, noise=noise)\n",
    "K_torch = torch.from_numpy(np.array(K))"
   ]
  },
  {
   "cell_type": "code",
   "execution_count": null,
   "id": "0be86eb8-68fe-4de1-b060-60ef2007b017",
   "metadata": {
    "tags": []
   },
   "outputs": [],
   "source": [
    "rhs = jnp.concatenate([zs, y], axis=1)\n",
    "rhs_torch = torch.from_numpy(np.array(rhs))"
   ]
  },
  {
   "cell_type": "code",
   "execution_count": null,
   "id": "39f88aff-9604-4df9-8169-37b0f7154d0b",
   "metadata": {
    "tags": []
   },
   "outputs": [],
   "source": [
    "K_linear_op = linear_operator.to_linear_operator(K_torch)\n",
    "diag_tensor = torch.ones(N, dtype=torch.float64)*noise\n",
    "diag_linear_op = DiagLinearOperator(diag_tensor)\n",
    "added_diag = AddedDiagLinearOperator(K_linear_op, diag_linear_op)\n",
    "preconditioner_torch, _, _ = added_diag._preconditioner()"
   ]
  },
  {
   "cell_type": "code",
   "execution_count": null,
   "id": "2cb65ce5-d89b-4ee4-afbf-0879dbdd391f",
   "metadata": {
    "tags": []
   },
   "outputs": [],
   "source": [
    "Kinvy_linalg = jnp.linalg.solve(K, rhs)\n",
    "preconditioner = precond.Preconditioner(K, rank, noise)\n",
    "Kinvy, t_mat = cg.mpcg_bbmm(K, rhs, preconditioner=preconditioner, print_process=False, tolerance=1, n_tridiag=n_tridiag)\n",
    "print(rel_error(Kinvy_linalg, Kinvy))\n",
    "Kinvy_torch, t_mat_torch = added_diag._solve(rhs_torch, preconditioner=preconditioner_torch,num_tridiag=n_tridiag)\n",
    "# Kinvy_torch = added_diag._solve(rhs_torch, preconditioner=preconditioner_torch)\n",
    "print(rel_error(Kinvy_linalg, Kinvy_torch.numpy()))"
   ]
  },
  {
   "cell_type": "code",
   "execution_count": null,
   "id": "53e11ffb-b4f0-4adb-94f0-f9cd46ebc9d8",
   "metadata": {
    "tags": []
   },
   "outputs": [],
   "source": [
    "t_mat.shape, t_mat_torch.numpy().shape"
   ]
  },
  {
   "cell_type": "code",
   "execution_count": null,
   "id": "61a867c8-2e8a-4317-b65e-3e6e31ef5f1b",
   "metadata": {
    "tags": []
   },
   "outputs": [],
   "source": [
    "end = 7\n",
    "jnp.mean(jnp.abs(t_mat[:, :end , :end]-t_mat_torch[:, :end, :end].numpy()))"
   ]
  },
  {
   "cell_type": "markdown",
   "id": "bb86ace5-7f97-4cd6-af0a-e2904cf06ec1",
   "metadata": {},
   "source": [
    "### Tについてはエラーが大きい: 原因はおそらくzero divisionの除外やstop updating afterの実装の有無によるalpha, betaの違いであるはず一旦sum diagだけを計算するので問題ないのでは?"
   ]
  },
  {
   "cell_type": "markdown",
   "id": "bd6d7436-1774-4d48-a856-1472a8ad54af",
   "metadata": {},
   "source": [
    "### checking log determinant"
   ]
  },
  {
   "cell_type": "code",
   "execution_count": null,
   "id": "44d15b09-a8d4-4ebc-9dec-3b46bbcb6492",
   "metadata": {
    "tags": []
   },
   "outputs": [],
   "source": [
    "N = 100\n",
    "rank=15\n",
    "noise = 1e-06\n",
    "n_tridiag = 10\n",
    "K = generate_K(N)\n",
    "y = jax.random.normal(key=jax.random.PRNGKey(0), shape=(N,1))\n",
    "zs = jax.random.normal(jax.random.PRNGKey(0), (N, n_tridiag))\n",
    "preconditioner = precond.Preconditioner(K, rank=rank, noise=noise)\n",
    "K_torch = torch.from_numpy(np.array(K))"
   ]
  },
  {
   "cell_type": "code",
   "execution_count": null,
   "id": "94b51607-1370-4418-8fdf-e053e87624b3",
   "metadata": {
    "tags": []
   },
   "outputs": [],
   "source": [
    "rhs = jnp.concatenate([zs, y], axis=1)\n",
    "rhs_torch = torch.from_numpy(np.array(rhs))"
   ]
  },
  {
   "cell_type": "code",
   "execution_count": null,
   "id": "ab06c21e-8d17-47cb-9a31-b376509ceaac",
   "metadata": {
    "tags": []
   },
   "outputs": [],
   "source": [
    "K_linear_op = linear_operator.to_linear_operator(K_torch)\n",
    "diag_tensor = torch.ones(N, dtype=torch.float64)*noise\n",
    "diag_linear_op = DiagLinearOperator(diag_tensor)\n",
    "added_diag = AddedDiagLinearOperator(K_linear_op, diag_linear_op)\n",
    "preconditioner_torch, precond_lt_torch, precond_logdet_torch = added_diag._preconditioner()"
   ]
  },
  {
   "cell_type": "code",
   "execution_count": null,
   "id": "195863e1-995c-40bd-8ba5-2f927c0bcc0f",
   "metadata": {
    "tags": []
   },
   "outputs": [],
   "source": [
    "Kinvy_linalg = jnp.linalg.solve(K, rhs)\n",
    "preconditioner = precond.Preconditioner(K, rank, noise)\n",
    "Kinvy, t_mat = cg.mpcg_bbmm(K, rhs, preconditioner=preconditioner, print_process=False, tolerance=1, n_tridiag=n_tridiag)\n",
    "print(rel_error(Kinvy_linalg, Kinvy))\n",
    "Kinvy_torch, t_mat_torch = added_diag._solve(rhs_torch, preconditioner=preconditioner_torch,num_tridiag=n_tridiag)\n",
    "# Kinvy_torch = added_diag._solve(rhs_torch, preconditioner=preconditioner_torch)\n",
    "print(rel_error(Kinvy_linalg, Kinvy_torch.numpy()))"
   ]
  },
  {
   "cell_type": "code",
   "execution_count": null,
   "id": "eb01e5f0-6f96-4fa8-a34e-24bc7fdeeeec",
   "metadata": {
    "tags": []
   },
   "outputs": [],
   "source": [
    "inv_quad_torch, logdet_torch = added_diag.inv_quad_logdet(rhs_torch[:, -1:], logdet=True)"
   ]
  },
  {
   "cell_type": "code",
   "execution_count": null,
   "id": "20103144-84a9-4f6c-a0fd-d1252e3a3879",
   "metadata": {
    "tags": []
   },
   "outputs": [],
   "source": [
    "inv_quad = jnp.dot(y[:, 0], Kinvy[: ,-1])"
   ]
  },
  {
   "cell_type": "code",
   "execution_count": null,
   "id": "58b913d7-c27f-427d-a953-7ab26b306a7e",
   "metadata": {
    "tags": []
   },
   "outputs": [],
   "source": [
    "inv_quad, inv_quad_torch"
   ]
  },
  {
   "cell_type": "markdown",
   "id": "277dfe1e-d18d-4e1e-a5d2-e6da7168efbe",
   "metadata": {},
   "source": [
    "### check eigvals and eigvecs"
   ]
  },
  {
   "cell_type": "code",
   "execution_count": null,
   "id": "2a6ab96d-73d8-4ed0-9e83-8b85d36fb736",
   "metadata": {
    "tags": []
   },
   "outputs": [],
   "source": [
    "def lanczos_tridiag_to_diag(t_mat):\n",
    "    eigvals, eigvectors = jnp.linalg.eigh(t_mat)\n",
    "    mask = eigvals >= 0.\n",
    "    eigvectors = eigvectors * jnp.expand_dims(mask, axis=-2)\n",
    "    \n",
    "    eigvals = eigvals.at[~mask].set(1.)\n",
    "    return eigvals, eigvectors"
   ]
  },
  {
   "cell_type": "code",
   "execution_count": null,
   "id": "96553f6d-1575-4038-a976-bd8c4b0f5b71",
   "metadata": {
    "tags": []
   },
   "outputs": [],
   "source": [
    "def to_dense(matrix_shape, eigenvalues, eigenvectors, funcs):\n",
    "    results = [jnp.zeros(eigenvalues.shape[1:-1], dtype=eigenvalues.dtype) for _ in funcs]\n",
    "    num_random_probes = eigenvalues.shape[0]\n",
    "    for j in range(num_random_probes):\n",
    "        eigenvalues_for_probe = eigenvalues[j]\n",
    "        eigenvectors_for_probe = eigenvectors[j]\n",
    "        for i, func in enumerate(funcs):\n",
    "            eigenvecs_first_component = eigenvectors_for_probe[..., 0, :]\n",
    "            func_eigenvalues = func(eigenvalues_for_probe)\n",
    "\n",
    "            dot_products = (eigenvecs_first_component ** 2 * func_eigenvalues).sum(-1)\n",
    "            results[i] = results[i] + matrix_shape[-1] / float(num_random_probes) * dot_products\n",
    "\n",
    "    return results"
   ]
  },
  {
   "cell_type": "code",
   "execution_count": null,
   "id": "a5ba8855-217a-41e2-8a9b-2c8753e67239",
   "metadata": {
    "tags": []
   },
   "outputs": [],
   "source": [
    "def calc_logdet(matrix_shape, t_mat, preconditioner):\n",
    "    eigvals, eigvectors = lanczos_tridiag_to_diag(t_mat)\n",
    "    (pinvk_logdet,) =  to_dense(K.shape, eigvals, eigvectors, [lambda x:jnp.log(x)])\n",
    "    \n",
    "    try:\n",
    "        logdet_p = preconditioner._precond_logdet_cache\n",
    "    except:\n",
    "        logdet_p = 0.\n",
    "    \n",
    "    logdet = pinvk_logdet + logdet_p\n",
    "    \n",
    "    return logdet"
   ]
  },
  {
   "cell_type": "code",
   "execution_count": null,
   "id": "afa26103-6f69-4c92-b796-6534153fbec7",
   "metadata": {
    "tags": []
   },
   "outputs": [],
   "source": [
    "calc_logdet(K.shape, t_mat, preconditioner)"
   ]
  },
  {
   "cell_type": "code",
   "execution_count": null,
   "id": "0aa6f705-a5de-433b-9758-7224310880c3",
   "metadata": {
    "tags": []
   },
   "outputs": [],
   "source": [
    "eval_torch, evec_torch = linear_operator.utils.lanczos.lanczos_tridiag_to_diag(t_mat_torch)"
   ]
  },
  {
   "cell_type": "code",
   "execution_count": null,
   "id": "14e24313-86f6-4fd4-9ad5-696d7250d782",
   "metadata": {
    "tags": []
   },
   "outputs": [],
   "source": [
    "slq = linear_operator.utils.stochastic_lq.StochasticLQ()\n",
    "(logdet_term,) = slq.to_dense(added_diag.matrix_shape, eval_torch, evec_torch,  [lambda x: x.log()])"
   ]
  },
  {
   "cell_type": "code",
   "execution_count": null,
   "id": "bdb41bc4-3804-4cc3-9ab3-d836090adce5",
   "metadata": {
    "tags": []
   },
   "outputs": [],
   "source": [
    "logdet_term"
   ]
  },
  {
   "cell_type": "code",
   "execution_count": null,
   "id": "a2d45747-4e29-4ff2-b9b8-e41d468d3568",
   "metadata": {
    "tags": []
   },
   "outputs": [],
   "source": [
    "inv_quad_torch, logdet_torch = added_diag.inv_quad_logdet(rhs_torch[:, -1:], logdet=True)"
   ]
  },
  {
   "cell_type": "code",
   "execution_count": null,
   "id": "6e642eb1-184b-4cbb-aa5f-b37801bd71e6",
   "metadata": {
    "tags": []
   },
   "outputs": [],
   "source": [
    "logdet_torch"
   ]
  },
  {
   "cell_type": "code",
   "execution_count": null,
   "id": "85ed6fc3-ef5f-4898-ba20-c5302fe47a4a",
   "metadata": {
    "tags": []
   },
   "outputs": [],
   "source": [
    "det_ans = jnp.sum(jnp.log(jnp.diag(K)))\n",
    "det_ans"
   ]
  },
  {
   "cell_type": "code",
   "execution_count": null,
   "id": "8371be64-f5e4-4642-b70e-adf30ff42dd1",
   "metadata": {
    "tags": []
   },
   "outputs": [],
   "source": [
    "from calc_logdet import calc_logdet"
   ]
  },
  {
   "cell_type": "markdown",
   "id": "bf7896fe-aa8c-4c5b-86df-292eb5ac8690",
   "metadata": {},
   "source": [
    "#### N = 3000"
   ]
  },
  {
   "cell_type": "code",
   "execution_count": null,
   "id": "57ce3ff4-45ed-4bd1-8ad7-5544d2a45280",
   "metadata": {
    "tags": []
   },
   "outputs": [],
   "source": [
    "N = 3000\n",
    "rank=15\n",
    "noise = 1e-06\n",
    "n_tridiag = 10\n",
    "K = generate_K(N)\n",
    "y = jax.random.normal(key=jax.random.PRNGKey(0), shape=(N,1))\n",
    "zs = jax.random.normal(jax.random.PRNGKey(0), (N, n_tridiag))\n",
    "K_torch = torch.from_numpy(np.array(K))"
   ]
  },
  {
   "cell_type": "code",
   "execution_count": null,
   "id": "788d835a-7082-49f9-9e68-223d1dce81e8",
   "metadata": {
    "tags": []
   },
   "outputs": [],
   "source": [
    "rhs = jnp.concatenate([zs, y], axis=1)\n",
    "rhs_torch = torch.from_numpy(np.array(rhs))"
   ]
  },
  {
   "cell_type": "code",
   "execution_count": null,
   "id": "c916e2c9-efb4-4c6c-88ba-46005fc47b88",
   "metadata": {
    "tags": []
   },
   "outputs": [],
   "source": [
    "K_linear_op = linear_operator.to_linear_operator(K_torch)\n",
    "diag_tensor = torch.ones(N, dtype=torch.float64)*noise\n",
    "diag_linear_op = DiagLinearOperator(diag_tensor)\n",
    "added_diag = AddedDiagLinearOperator(K_linear_op, diag_linear_op)\n",
    "preconditioner_torch, precond_lt_torch, precond_logdet_torch = added_diag._preconditioner()"
   ]
  },
  {
   "cell_type": "code",
   "execution_count": null,
   "id": "ff7f0499-f936-48fd-a8a7-ce09f5d14803",
   "metadata": {
    "tags": []
   },
   "outputs": [],
   "source": [
    "Kinvy_linalg = jnp.linalg.solve(K, rhs)\n",
    "preconditioner = precond.Preconditioner(K, rank, noise)\n",
    "Kinvy, t_mat = cg.mpcg_bbmm(K, rhs, preconditioner=preconditioner, print_process=False, tolerance=1, n_tridiag=n_tridiag)\n",
    "print(rel_error(Kinvy_linalg, Kinvy))\n",
    "Kinvy_torch, t_mat_torch = added_diag._solve(rhs_torch, preconditioner=preconditioner_torch,num_tridiag=n_tridiag)\n",
    "# Kinvy_torch = added_diag._solve(rhs_torch, preconditioner=preconditioner_torch)\n",
    "print(rel_error(Kinvy_linalg, Kinvy_torch.numpy()))"
   ]
  },
  {
   "cell_type": "code",
   "execution_count": null,
   "id": "f8e7b582-a4c4-43fa-bab1-ba44701db43c",
   "metadata": {
    "tags": []
   },
   "outputs": [],
   "source": [
    "inv_quad_torch, logdet_torch = added_diag.inv_quad_logdet(rhs_torch[:, -1:], logdet=True)"
   ]
  },
  {
   "cell_type": "code",
   "execution_count": null,
   "id": "5ba91452-3114-42ad-a76d-dffa05cb4984",
   "metadata": {
    "tags": []
   },
   "outputs": [],
   "source": [
    "inv_quad_torch, logdet_torch"
   ]
  },
  {
   "cell_type": "code",
   "execution_count": null,
   "id": "69b50c06-24cd-409e-8710-107a69aa0274",
   "metadata": {
    "tags": []
   },
   "outputs": [],
   "source": [
    "jnp.dot(y[:, 0], Kinvy[: ,-1]), calc_logdet(K.shape, t_mat, preconditioner)"
   ]
  },
  {
   "cell_type": "markdown",
   "id": "9ff79020-b4f7-40ab-a789-7f1ef32a6da0",
   "metadata": {},
   "source": [
    "#### N = 5000"
   ]
  },
  {
   "cell_type": "code",
   "execution_count": null,
   "id": "807cc96e-54e4-4aa1-8c73-cea68ebdcdbb",
   "metadata": {
    "tags": []
   },
   "outputs": [],
   "source": [
    "N = 5000\n",
    "rank=15\n",
    "noise = 1e-06\n",
    "n_tridiag = 10\n",
    "K = generate_K(N)\n",
    "y = jax.random.normal(key=jax.random.PRNGKey(0), shape=(N,1))\n",
    "zs = jax.random.normal(jax.random.PRNGKey(0), (N, n_tridiag))\n",
    "K_torch = torch.from_numpy(np.array(K))"
   ]
  },
  {
   "cell_type": "code",
   "execution_count": null,
   "id": "5fb8fbd3-f05b-4b15-b0b7-87a36ef51a62",
   "metadata": {
    "tags": []
   },
   "outputs": [],
   "source": [
    "rhs = jnp.concatenate([zs, y], axis=1)\n",
    "rhs_torch = torch.from_numpy(np.array(rhs))"
   ]
  },
  {
   "cell_type": "code",
   "execution_count": null,
   "id": "7cd1fd87-7064-409b-baee-bca0ad2a550f",
   "metadata": {
    "tags": []
   },
   "outputs": [],
   "source": [
    "K_linear_op = linear_operator.to_linear_operator(K_torch)\n",
    "diag_tensor = torch.ones(N, dtype=torch.float64)*noise\n",
    "diag_linear_op = DiagLinearOperator(diag_tensor)\n",
    "added_diag = AddedDiagLinearOperator(K_linear_op, diag_linear_op)\n",
    "preconditioner_torch, precond_lt_torch, precond_logdet_torch = added_diag._preconditioner()"
   ]
  },
  {
   "cell_type": "code",
   "execution_count": null,
   "id": "e60abe98-260a-4a77-b467-047c3dc83824",
   "metadata": {
    "tags": []
   },
   "outputs": [],
   "source": [
    "Kinvy_linalg = jnp.linalg.solve(K, rhs)\n",
    "preconditioner = precond.Preconditioner(K, rank, noise)\n",
    "Kinvy, t_mat = cg.mpcg_bbmm(K, rhs, preconditioner=preconditioner, print_process=False, tolerance=1, n_tridiag=n_tridiag)\n",
    "print(rel_error(Kinvy_linalg, Kinvy))\n",
    "Kinvy_torch, t_mat_torch = added_diag._solve(rhs_torch, preconditioner=preconditioner_torch,num_tridiag=n_tridiag)\n",
    "# Kinvy_torch = added_diag._solve(rhs_torch, preconditioner=preconditioner_torch)\n",
    "print(rel_error(Kinvy_linalg, Kinvy_torch.numpy()))"
   ]
  },
  {
   "cell_type": "code",
   "execution_count": null,
   "id": "4dd96998-62d6-483d-874b-51f6a98805a9",
   "metadata": {
    "tags": []
   },
   "outputs": [],
   "source": [
    "inv_quad_torch, logdet_torch = added_diag.inv_quad_logdet(rhs_torch[:, -1:], logdet=True)"
   ]
  },
  {
   "cell_type": "code",
   "execution_count": null,
   "id": "303d9074-a09e-4188-9d15-edea5ddef7a6",
   "metadata": {
    "tags": []
   },
   "outputs": [],
   "source": [
    "inv_quad_torch, logdet_torch"
   ]
  },
  {
   "cell_type": "code",
   "execution_count": null,
   "id": "4d0bcad0-bb15-486a-a0b8-d985415807f9",
   "metadata": {
    "tags": []
   },
   "outputs": [],
   "source": [
    "jnp.dot(y[:, 0], Kinvy[: ,-1]), calc_logdet(K.shape, t_mat, preconditioner)"
   ]
  },
  {
   "cell_type": "code",
   "execution_count": null,
   "id": "60df73e1-6ea5-455d-8b05-46312ac25a62",
   "metadata": {
    "tags": []
   },
   "outputs": [],
   "source": [
    "preconditioner._precond_logdet_cache, precond_logdet_torch"
   ]
  },
  {
   "cell_type": "markdown",
   "id": "58df53b6-ba0d-4ca2-8319-1e5c05f0fbc3",
   "metadata": {},
   "source": [
    "#### t_mat由来の誤差多少はあるが、最適化に使うだけだから大した問題ではない"
   ]
  },
  {
   "cell_type": "code",
   "execution_count": null,
   "id": "590d48bb-f2f4-4440-922e-55e1965e5ff8",
   "metadata": {},
   "outputs": [],
   "source": []
  }
 ],
 "metadata": {
  "kernelspec": {
   "display_name": "mytorch",
   "language": "python",
   "name": "mytorch"
  },
  "language_info": {
   "codemirror_mode": {
    "name": "ipython",
    "version": 3
   },
   "file_extension": ".py",
   "mimetype": "text/x-python",
   "name": "python",
   "nbconvert_exporter": "python",
   "pygments_lexer": "ipython3",
   "version": "3.9.6"
  }
 },
 "nbformat": 4,
 "nbformat_minor": 5
}
