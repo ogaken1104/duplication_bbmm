{
 "cells": [
  {
   "cell_type": "code",
   "execution_count": 115,
   "id": "5ad6bf4b-5015-4ade-b30d-d0e1f068393e",
   "metadata": {
    "tags": []
   },
   "outputs": [],
   "source": [
    "import numpy as np\n",
    "import jax\n",
    "import jax.numpy as jnp\n",
    "from jax import vmap\n",
    "from jax import jit, lax, grad\n",
    "import matplotlib.pyplot as plt\n",
    "import cmocean as cmo\n",
    "import importlib"
   ]
  },
  {
   "cell_type": "code",
   "execution_count": 2,
   "id": "f861d520-cf10-4616-ab7c-57fa9496d1b1",
   "metadata": {
    "tags": []
   },
   "outputs": [],
   "source": [
    "from jax.config import config\n",
    "config.update(\"jax_enable_x64\", True)"
   ]
  },
  {
   "cell_type": "code",
   "execution_count": 3,
   "id": "7f2db03a-1951-40f7-875f-2a6601daafe7",
   "metadata": {
    "tags": []
   },
   "outputs": [
    {
     "name": "stderr",
     "output_type": "stream",
     "text": [
      "/home/ogawa_kenta/.conda/envs/mytorch/lib/python3.9/site-packages/tqdm/auto.py:22: TqdmWarning: IProgress not found. Please update jupyter and ipywidgets. See https://ipywidgets.readthedocs.io/en/stable/user_install.html\n",
      "  from .autonotebook import tqdm as notebook_tqdm\n"
     ]
    }
   ],
   "source": [
    "## import modules\n",
    "import bbmm.utils.preconditioner as precond\n",
    "import bbmm.utils.conjugate_gradient as cg\n",
    "import bbmm.functions.pivoted_cholesky as pc\n",
    "import bbmm.functions.pivoted_cholesky_ref as pc_ref # to use this script we need \"torch\", please comment out if not needed.\n",
    "import bbmm.utils.calc_logdet as calc_logdet\n",
    "import bbmm.utils.calc_trace as calc_trace\n",
    "import bbmm.operators.dense_linear_operator as dense_linear_operator\n",
    "import bbmm.operators.root_linear_operator as root_linear_operator\n",
    "import bbmm.operators.diag_linear_operator as diag_linear_operator\n",
    "import bbmm.operators._linear_operator as _linear_operator\n",
    "import bbmm.operators.psd_sum_linear_operator as psd_sum_linear_operator\n",
    "import bbmm.operators.root_linear_operator as root_linear_operator\n",
    "from bbmm.functions.pivoted_cholesky_numpy import pivoted_cholesky_numpy\n",
    "def reload():\n",
    "    importlib.reload(precond)\n",
    "    importlib.reload(cg)\n",
    "    importlib.reload(pc)\n",
    "    importlib.reload(pc_ref)\n",
    "    importlib.reload(calc_logdet)\n",
    "    importlib.reload(calc_trace)\n",
    "    importlib.reload(dense_linear_operator)\n",
    "    importlib.reload(root_linear_operator)\n",
    "    importlib.reload(diag_linear_operator)\n",
    "    importlib.reload(_linear_operator)\n",
    "    importlib.reload(psd_sum_linear_operator)\n",
    "    importlib.reload(root_linear_operator)\n",
    "reload()"
   ]
  },
  {
   "cell_type": "code",
   "execution_count": 4,
   "id": "0a55aa47-707c-4aac-b082-9b5453189e5e",
   "metadata": {
    "tags": []
   },
   "outputs": [],
   "source": [
    "import gpytorch\n",
    "import torch\n",
    "import linear_operator\n",
    "from linear_operator.operators import (\n",
    "    AddedDiagLinearOperator,\n",
    "    DiagLinearOperator,\n",
    "    LinearOperator,\n",
    "    DenseLinearOperator,\n",
    ")"
   ]
  },
  {
   "cell_type": "code",
   "execution_count": 5,
   "id": "c96c5e06-74ff-4cdf-9be5-190aa608bd3e",
   "metadata": {
    "tags": []
   },
   "outputs": [],
   "source": [
    "def generate_K(N, seed=0, noise=1e-06):\n",
    "    \"\"\"\n",
    "    generate positive definite symmetric matrix\n",
    "    \"\"\"\n",
    "    K = jax.random.normal(jax.random.PRNGKey(seed), (N, N))\n",
    "    # K = K @ K.T + 30* jnp.eye(N) + noise*jnp.eye(N)\n",
    "    # K = jnp.dot(K, K.T) + noise*jnp.eye(N)\n",
    "    # K = jnp.dot(K, K.T) / N\n",
    "    K = jnp.dot(K, K.T)/N\n",
    "    # K += (noise+30)*jnp.eye(N) ## ??\n",
    "    K += (2)*jnp.eye(N)\n",
    "    K += (noise)*jnp.eye(N)\n",
    "    if not is_positive_definite(K):\n",
    "        raise Exception(\"K is not positive definite !\")\n",
    "    return K"
   ]
  },
  {
   "cell_type": "code",
   "execution_count": 6,
   "id": "78b7f51e-a1cc-47f5-befc-4c23256e0ffe",
   "metadata": {
    "tags": []
   },
   "outputs": [],
   "source": [
    "def is_positive_definite(matrix):\n",
    "    # 行列の固有値を計算\n",
    "    eigenvalues = np.linalg.eigvals(matrix)\n",
    "\n",
    "    # 全ての固有値が正であるかをチェック\n",
    "    if np.all(eigenvalues > 0):\n",
    "        return True\n",
    "    else:\n",
    "        return False"
   ]
  },
  {
   "cell_type": "code",
   "execution_count": 7,
   "id": "db2b4f4c-754a-43ef-a75b-4a898a67905d",
   "metadata": {
    "tags": []
   },
   "outputs": [],
   "source": [
    "def rel_error(true, pred):\n",
    "    nonzero_index = jnp.where(true != 0.)\n",
    "    true = true[nonzero_index]\n",
    "    pred = pred[nonzero_index]\n",
    "    return jnp.mean(jnp.abs((true-pred)/true))"
   ]
  },
  {
   "cell_type": "code",
   "execution_count": 8,
   "id": "61836e56-16e4-42d9-b984-35f9be82a5a3",
   "metadata": {
    "tags": []
   },
   "outputs": [],
   "source": [
    "def calc_logdet_linalg(K):\n",
    "    L = jnp.linalg.cholesky(K)\n",
    "    return jnp.sum(jnp.log(jnp.diag(L))) * 2"
   ]
  },
  {
   "cell_type": "code",
   "execution_count": 9,
   "id": "3d19e23c-7a42-498f-ba15-6a67fec2bba2",
   "metadata": {
    "tags": []
   },
   "outputs": [],
   "source": [
    "from stopro.data_generator.sinusoidal import Sinusoidal\n",
    "from stopro.data_generator.sin_1D_naive import Sin1DNaive\n",
    "from stopro.data_preparer.data_preparer import DataPreparer\n",
    "from stopro.sub_modules.load_modules import load_params, load_data\n",
    "from stopro.sub_modules.loss_modules import hessian, logposterior\n",
    "from stopro.sub_modules.init_modules import get_init, reshape_init\n",
    "import stopro.GP.gp_sinusoidal_independent as gp_sinusoidal_independent\n",
    "import stopro.GP.gp_1D_naive as gp_1D_naive\n",
    "from stopro.data_handler.data_handle_module import HdfOperator\n",
    "from stopro.GP.kernels import define_kernel"
   ]
  },
  {
   "cell_type": "code",
   "execution_count": 10,
   "id": "1a3bf2aa-087d-4011-a4fc-12032409c153",
   "metadata": {
    "tags": []
   },
   "outputs": [],
   "source": [
    "project_name = 'data'\n",
    "simulation_name = 'test_loss_sin1d_naive'"
   ]
  },
  {
   "cell_type": "code",
   "execution_count": 429,
   "id": "0f3bad16-1f19-4d75-ba88-b25bd3a8fb85",
   "metadata": {
    "tags": []
   },
   "outputs": [],
   "source": [
    "# data_preparer = DataPreparer(\n",
    "#     project_name, simulation_name, class_data_generator=Sin1DNaive)\n",
    "# data_preparer.load_params(\n",
    "#     system_name=\"sin_1D_naive\", use_existing_params=False\n",
    "# )\n",
    "# # data_preparer.params_generate_training[''] = 1000\n",
    "\n",
    "# data_preparer.create_directory()\n",
    "\n",
    "# data_preparer.make_data()\n",
    "# data_preparer.save_params_prepare()\n",
    "# data_preparer.save_params_main()\n",
    "# data_preparer.save_lbls()"
   ]
  },
  {
   "cell_type": "code",
   "execution_count": 12,
   "id": "fd97b74d-5d8e-4184-90a9-fd6c5f27d9b6",
   "metadata": {
    "tags": []
   },
   "outputs": [],
   "source": [
    "params_main, params_prepare, lbls = load_params(f\"{project_name}/{simulation_name}/data_input\")\n",
    "params_model = params_main[\"model\"]\n",
    "params_optimization = params_main[\"optimization\"]\n",
    "params_plot = params_prepare[\"plot\"]\n",
    "vnames = params_prepare[\"vnames\"]\n",
    "params_setting = params_prepare[\"setting\"]\n",
    "params_generate_training = params_prepare[\"generate_training\"]\n",
    "params_generate_test = params_prepare[\"generate_test\"]\n",
    "params_kernel_arg = params_prepare[\"kernel_arg\"]\n",
    "\n",
    "# prepare initial hyper-parameter\n",
    "init = get_init(\n",
    "    params_model[\"init_kernel_hyperparameter\"],\n",
    "    params_model[\"kernel_type\"],\n",
    "    system_type=params_model[\"system_type\"],\n",
    ")"
   ]
  },
  {
   "cell_type": "code",
   "execution_count": 120,
   "id": "da6ff7d0-4fa8-4aaa-893c-8c4ad6f4ade7",
   "metadata": {
    "tags": []
   },
   "outputs": [],
   "source": [
    "# prepare data\n",
    "hdf_operator = HdfOperator(f\"{project_name}/{simulation_name}\")\n",
    "r_test, μ_test, r_train, μ_train, f_train = load_data(lbls, vnames, hdf_operator)\n",
    "delta_y_train = jnp.empty(0)\n",
    "for i in range(len(r_train)):\n",
    "    delta_y_train = jnp.append(delta_y_train, f_train[i] - μ_train[i])\n",
    "\n",
    "args_predict = r_test, μ_test, r_train, delta_y_train, params_model[\"epsilon\"]\n",
    "noise = params_model[\"epsilon\"]"
   ]
  },
  {
   "cell_type": "markdown",
   "id": "a505f6f1-09af-46d3-8125-9752fa8383c6",
   "metadata": {},
   "source": [
    "### setup model"
   ]
  },
  {
   "cell_type": "code",
   "execution_count": 116,
   "id": "3c193899-9e70-4988-a97c-90102fd06d39",
   "metadata": {
    "tags": []
   },
   "outputs": [],
   "source": [
    "# setup model\n",
    "Kernel = define_kernel(params_model)\n",
    "gp_model = gp_1D_naive.GPmodel1DNaive(\n",
    "    Kernel=Kernel,\n",
    ")\n",
    "gp_model.set_constants(*args_predict)\n",
    "loglikelihood, predictor = (\n",
    "    gp_model.trainingFunction_all,\n",
    "    gp_model.predictingFunction_all,\n",
    ")\n",
    "func = jit(logposterior(loglikelihood, params_optimization))\n",
    "dfunc = jit(grad(func, 0))\n",
    "hess = hessian(func)"
   ]
  },
  {
   "cell_type": "code",
   "execution_count": 16,
   "id": "a081fabc-29f1-4ff4-9225-695a92cc154b",
   "metadata": {
    "tags": []
   },
   "outputs": [
    {
     "data": {
      "text/plain": [
       "DeviceArray([0., 0.], dtype=float64)"
      ]
     },
     "execution_count": 16,
     "metadata": {},
     "output_type": "execute_result"
    }
   ],
   "source": [
    "init"
   ]
  },
  {
   "cell_type": "markdown",
   "id": "15a278bb-4bff-4af6-bd96-5ef0821763f1",
   "metadata": {},
   "source": [
    "## check $K^{-1}y$"
   ]
  },
  {
   "cell_type": "code",
   "execution_count": 313,
   "id": "7c558e22-745e-47d2-838e-b27c8e891bf9",
   "metadata": {
    "tags": []
   },
   "outputs": [],
   "source": [
    "K = gp_model.trainingK_all(init, r_train)\n",
    "K_torch = torch.from_numpy(np.array(K))\n",
    "K_tilde = gp_model.add_eps_to_sigma(K, noise, noise_parameter=None)"
   ]
  },
  {
   "cell_type": "code",
   "execution_count": 314,
   "id": "170d86ee-7a57-4334-946d-a9476ba02a2e",
   "metadata": {
    "tags": []
   },
   "outputs": [
    {
     "data": {
      "text/plain": [
       "(True, DeviceArray(2197.77391808, dtype=float64))"
      ]
     },
     "execution_count": 314,
     "metadata": {},
     "output_type": "execute_result"
    }
   ],
   "source": [
    "is_positive_definite(K), jnp.linalg.cond(K)"
   ]
  },
  {
   "cell_type": "code",
   "execution_count": 315,
   "id": "6e8cbd65-99dc-4648-a738-a8f9abe6f2f7",
   "metadata": {
    "tags": []
   },
   "outputs": [
    {
     "data": {
      "text/plain": [
       "DeviceArray(1., dtype=float64)"
      ]
     },
     "execution_count": 315,
     "metadata": {},
     "output_type": "execute_result"
    }
   ],
   "source": [
    "np.max(K)"
   ]
  },
  {
   "cell_type": "code",
   "execution_count": 316,
   "id": "62fcf4b9-0b23-4555-a0e4-77468664eddf",
   "metadata": {
    "tags": []
   },
   "outputs": [
    {
     "data": {
      "text/plain": [
       "<matplotlib.colorbar.Colorbar at 0x7f00e4e964c0>"
      ]
     },
     "execution_count": 316,
     "metadata": {},
     "output_type": "execute_result"
    },
    {
     "data": {
      "image/png": "[encoded data removed]",
      "text/plain": [
       "<Figure size 640x480 with 2 Axes>"
      ]
     },
     "metadata": {},
     "output_type": "display_data"
    }
   ],
   "source": [
    "fig, ax = plt.subplots()\n",
    "mappable = ax.pcolormesh(np.flipud(K), vmin=-np.max(K), vmax=np.max(K), cmap=cmo.cm.balance)\n",
    "fig.colorbar(mappable)"
   ]
  },
  {
   "cell_type": "code",
   "execution_count": 395,
   "id": "da21a58a-e3d7-44bf-95db-066b958c5176",
   "metadata": {},
   "outputs": [],
   "source": [
    "rank=15\n",
    "n_tridiag = 10\n",
    "K_torch = torch.from_numpy(np.array(K))"
   ]
  },
  {
   "cell_type": "code",
   "execution_count": 396,
   "id": "8fbac42a-3901-4eae-9daa-d1f997b4d140",
   "metadata": {
    "tags": []
   },
   "outputs": [],
   "source": [
    "precondition, precond_lt, precond_logdet_cache = precond.setup_preconditioner(K_tilde, rank=rank, noise=noise)\n",
    "if precondition:\n",
    "    zs = precond_lt_new.zero_mean_mvn_samples(n_tridiag, seed=0)\n",
    "else:\n",
    "    zs = jax.random.normal(jax.random.PRNGKey(0), (len(delta_y_train), n_tridiag))\n",
    "zs_norms = jnp.linalg.norm(zs, axis=0, keepdims=True)\n",
    "zs = zs/zs_norms\n",
    "rhs = jnp.concatenate([zs, delta_y_train.reshape(-1, 1)], axis=1)\n",
    "rhs_torch = torch.from_numpy(np.array(rhs))"
   ]
  },
  {
   "cell_type": "code",
   "execution_count": 397,
   "id": "54d94d05-207c-47f4-83f7-4f39ec1e1a28",
   "metadata": {
    "tags": []
   },
   "outputs": [],
   "source": [
    "Kinvy_linalg = jnp.linalg.solve(K_tilde, rhs)"
   ]
  },
  {
   "cell_type": "code",
   "execution_count": 398,
   "id": "a84bf035-de3c-4ca9-8813-3c0a2abf083a",
   "metadata": {
    "tags": []
   },
   "outputs": [
    {
     "name": "stdout",
     "output_type": "stream",
     "text": [
      "j=0 r1norm: 1.0389475355140048\n",
      "j=1 r1norm: 1.3332554532691703\n",
      "j=2 r1norm: 1.4907779174341962\n",
      "j=3 r1norm: 1.3898973798515903\n",
      "j=4 r1norm: 1.6930401770169745\n",
      "j=5 r1norm: 1.3916386467102402\n",
      "j=6 r1norm: 1.155598497885101\n",
      "j=7 r1norm: 0.616627390768565\n",
      "j=8 r1norm: 0.1778318416580003\n",
      "j=9 r1norm: 7.938460475356269e-07\n",
      "j=10 r1norm: 7.938460475356269e-07\n",
      "converged\n",
      "1.3902734082083188e-09\n"
     ]
    }
   ],
   "source": [
    "Kinvy, j,t_mat = cg.mpcg_bbmm(\n",
    "    K_tilde,\n",
    "    rhs,\n",
    "    precondition=precondition, \n",
    "    print_process=True, \n",
    "    tolerance=0.01, \n",
    "    n_tridiag=n_tridiag, \n",
    "    max_tridiag_iter=40\n",
    ")\n",
    "print(rel_error(Kinvy_linalg, Kinvy))"
   ]
  },
  {
   "cell_type": "markdown",
   "id": "d00fc222-918c-48f5-834d-c0c7f19e2152",
   "metadata": {
    "tags": []
   },
   "source": [
    "### check logdet"
   ]
  },
  {
   "cell_type": "code",
   "execution_count": 400,
   "id": "cc8b71ac-0757-4f86-95c3-8c9dcf940732",
   "metadata": {
    "tags": []
   },
   "outputs": [
    {
     "data": {
      "text/plain": [
       "(DeviceArray(-15.92293263, dtype=float64),\n",
       " DeviceArray(-15.95991311, dtype=float64))"
      ]
     },
     "execution_count": 400,
     "metadata": {},
     "output_type": "execute_result"
    }
   ],
   "source": [
    "logdet = calc_logdet.calc_logdet(K_tilde.shape, t_mat, precond_logdet_cache)\n",
    "logdet_linalg = calc_logdet_linalg(K_tilde)\n",
    "logdet, logdet_linalg"
   ]
  },
  {
   "cell_type": "code",
   "execution_count": 401,
   "id": "2c450a8b-ff0a-4c7f-a54d-ef8baa84f53c",
   "metadata": {
    "tags": []
   },
   "outputs": [],
   "source": [
    "K_linear_op = linear_operator.to_linear_operator(K_torch)\n",
    "diag_tensor = torch.ones(len(delta_y_train), dtype=torch.float64)*noise\n",
    "diag_linear_op = DiagLinearOperator(diag_tensor)\n",
    "added_diag = AddedDiagLinearOperator(K_linear_op, diag_linear_op)"
   ]
  },
  {
   "cell_type": "code",
   "execution_count": 402,
   "id": "d4c43ab6-d010-40f2-b5d1-3916332bcc59",
   "metadata": {
    "tags": []
   },
   "outputs": [],
   "source": [
    "linear_operator.settings.num_trace_samples.value()\n",
    "linear_operator.settings.min_preconditioning_size._set_value(2000)"
   ]
  },
  {
   "cell_type": "code",
   "execution_count": 403,
   "id": "35128565-a42b-4711-a1fd-f2a5819652e4",
   "metadata": {
    "tags": []
   },
   "outputs": [],
   "source": [
    "linear_operator.settings.num_trace_samples._set_value(10)\n",
    "linear_operator.settings.max_preconditioner_size._set_value(15)"
   ]
  },
  {
   "cell_type": "code",
   "execution_count": 425,
   "id": "bd7c26fb-6292-4b27-89ae-5310e9fccab6",
   "metadata": {
    "tags": []
   },
   "outputs": [
    {
     "data": {
      "text/plain": [
       "(tensor(2.7265, dtype=torch.float64), tensor(-15.9599, dtype=torch.float64))"
      ]
     },
     "execution_count": 425,
     "metadata": {},
     "output_type": "execute_result"
    }
   ],
   "source": [
    "added_diag.inv_quad_logdet(inv_quad_rhs=rhs_torch[:, -1:], logdet=True)"
   ]
  },
  {
   "cell_type": "code",
   "execution_count": 405,
   "id": "c6ca3a36-0661-422e-b691-22f823e315f5",
   "metadata": {
    "tags": []
   },
   "outputs": [],
   "source": [
    "from linear_operator.operators.identity_linear_operator import IdentityLinearOperator"
   ]
  },
  {
   "cell_type": "code",
   "execution_count": 406,
   "id": "f1d4c6eb-3af0-4e50-acb2-f99ac94f9c9e",
   "metadata": {
    "tags": []
   },
   "outputs": [],
   "source": [
    "precond_lt_torch_new = IdentityLinearOperator(\n",
    "                diag_shape=added_diag.size(-1),\n",
    "                batch_shape=added_diag.batch_shape,\n",
    "                dtype=added_diag.dtype,\n",
    "                device=added_diag.device,\n",
    "            )"
   ]
  },
  {
   "cell_type": "code",
   "execution_count": 407,
   "id": "63cb49a6-eed9-4d7f-94ac-08ee2b9afef2",
   "metadata": {
    "tags": []
   },
   "outputs": [],
   "source": [
    "probe_vectors = precond_lt_torch_new.zero_mean_mvn_samples(n_tridiag)\n",
    "probe_vectors = probe_vectors.unsqueeze(-2).transpose(0, -2).squeeze(0).mT.contiguous()\n",
    "probe_vector_norms = torch.norm(probe_vectors, p=2, dim=-2, keepdim=True)\n",
    "probe_vectors = probe_vectors.div(probe_vector_norms)"
   ]
  },
  {
   "cell_type": "code",
   "execution_count": 408,
   "id": "1c48bdff-750e-4bb6-94a0-36b07ca23bea",
   "metadata": {
    "tags": []
   },
   "outputs": [
    {
     "data": {
      "text/plain": [
       "tensor([[2.5265, 3.5100, 3.1789, 1.9372, 2.9361, 3.6594, 3.8677, 2.9670, 4.0258,\n",
       "         2.8209]], dtype=torch.float64)"
      ]
     },
     "execution_count": 408,
     "metadata": {},
     "output_type": "execute_result"
    }
   ],
   "source": [
    "probe_vector_norms"
   ]
  },
  {
   "cell_type": "code",
   "execution_count": 409,
   "id": "3798aa14-f13a-4089-952f-e52f9e4aae83",
   "metadata": {
    "tags": []
   },
   "outputs": [
    {
     "data": {
      "text/plain": [
       "DeviceArray([1., 1., 1., 1., 1., 1., 1., 1., 1., 1.], dtype=float64)"
      ]
     },
     "execution_count": 409,
     "metadata": {},
     "output_type": "execute_result"
    }
   ],
   "source": [
    "jnp.linalg.norm(zs, axis=0)"
   ]
  },
  {
   "cell_type": "code",
   "execution_count": 411,
   "id": "9c86c1c8-f23b-4daf-9228-bec6d2ef435b",
   "metadata": {
    "tags": []
   },
   "outputs": [
    {
     "data": {
      "text/plain": [
       "tensor([1.0000, 1.0000, 1.0000, 1.0000, 1.0000, 1.0000, 1.0000, 1.0000, 1.0000,\n",
       "        1.0000], dtype=torch.float64)"
      ]
     },
     "execution_count": 411,
     "metadata": {},
     "output_type": "execute_result"
    }
   ],
   "source": [
    "torch.norm(probe_vectors, p=2, dim=-2)"
   ]
  },
  {
   "cell_type": "code",
   "execution_count": 385,
   "id": "cbcf5fe1-3653-4bfd-9012-5f717f2b301d",
   "metadata": {
    "tags": []
   },
   "outputs": [
    {
     "data": {
      "text/plain": [
       "torch.Size([10, 11])"
      ]
     },
     "execution_count": 385,
     "metadata": {},
     "output_type": "execute_result"
    }
   ],
   "source": [
    "rhs_torch.shape"
   ]
  },
  {
   "cell_type": "code",
   "execution_count": 417,
   "id": "897395a2-5bb5-406f-8511-d460731d8d06",
   "metadata": {
    "tags": []
   },
   "outputs": [
    {
     "data": {
      "text/plain": [
       "torch.Size([10, 1])"
      ]
     },
     "execution_count": 417,
     "metadata": {},
     "output_type": "execute_result"
    }
   ],
   "source": [
    "torch.from_numpy(np.array(delta_y_train.reshape(-1, 1))).shape"
   ]
  },
  {
   "cell_type": "code",
   "execution_count": 419,
   "id": "43361fc8-730e-45a9-bd83-25ae183401e2",
   "metadata": {
    "tags": []
   },
   "outputs": [],
   "source": [
    "rhs_torch_new = torch.cat((probe_vectors, torch.from_numpy(np.array(delta_y_train.reshape(-1, 1)))), dim=-1)"
   ]
  },
  {
   "cell_type": "code",
   "execution_count": 422,
   "id": "6ed33e9b-56c1-47f8-86c1-d8e290307665",
   "metadata": {
    "tags": []
   },
   "outputs": [],
   "source": [
    "preconditioner_torch, precond_lt_torch, precond_logdet_torch = added_diag._preconditioner()\n",
    "# Kinvy_torch, t_mat_torch = added_diag._solve(rhs_torch, preconditioner=preconditioner_torch, num_tridiag=10)\n",
    "Kinvy_torch, t_mat_torch = added_diag._solve(rhs_torch_new, preconditioner=preconditioner_torch, num_tridiag=10)\n",
    "# print(rel_error(Kinvy_linalg, Kinvy_torch.numpy()))\n",
    "linear_operator.settings.cg_tolerance._set_value(0.01)"
   ]
  },
  {
   "cell_type": "code",
   "execution_count": 423,
   "id": "e89339ae-4726-49e4-9afd-5fd2024acdcc",
   "metadata": {
    "tags": []
   },
   "outputs": [
    {
     "data": {
      "text/plain": [
       "tensor(-18.1140, dtype=torch.float64)"
      ]
     },
     "execution_count": 423,
     "metadata": {},
     "output_type": "execute_result"
    }
   ],
   "source": [
    "eval_torch, evec_torch = linear_operator.utils.lanczos.lanczos_tridiag_to_diag(t_mat_torch)\n",
    "slq = linear_operator.utils.stochastic_lq.StochasticLQ()\n",
    "(logdet_term,) = slq.to_dense(added_diag.matrix_shape, eval_torch, evec_torch,  [lambda x: x.log()])\n",
    "if precond_logdet_torch:\n",
    "    logdet_torch = logdet_term + precond_logdet_torch\n",
    "else:\n",
    "    logdet_torch = logdet_term\n",
    "logdet_torch"
   ]
  },
  {
   "cell_type": "markdown",
   "id": "08f5bcd6-825d-48bb-b7f1-e0c10798edee",
   "metadata": {
    "tags": []
   },
   "source": [
    "## 5. calc_loss"
   ]
  },
  {
   "cell_type": "code",
   "execution_count": 194,
   "id": "f88e3f5a-1f6d-4e39-9108-7b53347cd4c4",
   "metadata": {
    "tags": []
   },
   "outputs": [],
   "source": [
    "def loss_linalg(K, y):\n",
    "    Kinvy_linalg = jnp.linalg.solve(K, y)\n",
    "    logdet_linalg = calc_logdet_linalg(K)\n",
    "    yKy_linalg = jnp.dot(y, Kinvy_linalg)\n",
    "    loss = (yKy_linalg + logdet_linalg)/2 + len(y)/2*jnp.log(jnp.pi*2)\n",
    "    print(yKy_linalg)\n",
    "    print(logdet_linalg)\n",
    "    return loss"
   ]
  },
  {
   "cell_type": "code",
   "execution_count": 195,
   "id": "e1d412f8-b3ca-45a8-914f-886ab005dc1d",
   "metadata": {
    "tags": []
   },
   "outputs": [
    {
     "name": "stdout",
     "output_type": "stream",
     "text": [
      "2.7265948373123687\n",
      "-15.960740558220376\n"
     ]
    },
    {
     "data": {
      "text/plain": [
       "DeviceArray(2.57231247, dtype=float64)"
      ]
     },
     "execution_count": 195,
     "metadata": {},
     "output_type": "execute_result"
    }
   ],
   "source": [
    "loss_linalg(K, delta_y_train)"
   ]
  },
  {
   "cell_type": "code",
   "execution_count": 131,
   "id": "f6fbbfef-b72a-419c-ba4a-4a097b5f09e2",
   "metadata": {
    "tags": []
   },
   "outputs": [
    {
     "data": {
      "text/plain": [
       "DeviceArray(2.57268269, dtype=float64)"
      ]
     },
     "execution_count": 131,
     "metadata": {},
     "output_type": "execute_result"
    }
   ],
   "source": [
    "gp_model.trainingFunction_all(init, *args_predict[2:])"
   ]
  },
  {
   "cell_type": "code",
   "execution_count": 196,
   "id": "f4bb58af-3abc-4f2e-b98b-3039ae4edc7b",
   "metadata": {
    "tags": []
   },
   "outputs": [
    {
     "data": {
      "text/plain": [
       "DeviceArray([  3.63637595, -17.89689526], dtype=float64)"
      ]
     },
     "execution_count": 196,
     "metadata": {},
     "output_type": "execute_result"
    }
   ],
   "source": [
    "likelihood = gp_model.trainingFunction_all\n",
    "grad(likelihood, 0)(init, *args_predict[2:])"
   ]
  },
  {
   "cell_type": "code",
   "execution_count": 232,
   "id": "ffc41887-acf2-4a7b-88a6-a6bfaffa693c",
   "metadata": {
    "tags": []
   },
   "outputs": [],
   "source": [
    "def setup_loss_mpcg(rank=15, n_tridiag=10, seed=0, tolerance=0.01):\n",
    "    def loss_mpcg(init, *args):\n",
    "\n",
    "        r, delta_y, noise = args\n",
    "\n",
    "        K = gp_model.trainingK_all(init, r)\n",
    "        K = gp_model.add_eps_to_sigma(K, noise, noise_parameter=None)\n",
    "\n",
    "        perecondition, precond_lt, precond_logdet_cache = precond.setup_preconditioner(K, rank=rank, noise=noise)\n",
    "        if precondition:\n",
    "            zs = precond_lt.zero_mean_mvn_samples(n_tridiag, seed=0)\n",
    "            zs_norms = jnp.linalg.norm(zs, axis=0, keepdims=True)\n",
    "            zs = zs/zs_norms\n",
    "        else:\n",
    "            zs = jax.random.normal(jax.random.PRNGKey(0), (len(delta_y), n_tridiag))\n",
    "        rhs = jnp.concatenate([zs, delta_y.reshape(-1, 1)], axis=1)\n",
    "\n",
    "        Kinvy, j,t_mat = cg.mpcg_bbmm(\n",
    "            K,\n",
    "            rhs,\n",
    "            precondition=precondition, \n",
    "            print_process=False, \n",
    "            tolerance=tolerance, \n",
    "            n_tridiag=n_tridiag, \n",
    "            max_tridiag_iter=20\n",
    "        )\n",
    "\n",
    "        logdet = calc_logdet.calc_logdet(K.shape, t_mat, precond_logdet_cache)\n",
    "\n",
    "        yKy = jnp.dot(delta_y, Kinvy[:, -1])\n",
    "        loss = (yKy + logdet)/2 + len(delta_y)/2*jnp.log(jnp.pi*2)    \n",
    "        # print(yKy)\n",
    "        # print(logdet)\n",
    "        return loss\n",
    "    return loss_mpcg"
   ]
  },
  {
   "cell_type": "code",
   "execution_count": 223,
   "id": "4baaa10e-06c6-474b-b7ed-55ec4955b7ca",
   "metadata": {
    "tags": []
   },
   "outputs": [],
   "source": [
    "likelihood_mpcg = setup_loss_mpcg()"
   ]
  },
  {
   "cell_type": "code",
   "execution_count": 224,
   "id": "fd66c5d3-4536-41ba-8f32-2ec00a5d767d",
   "metadata": {
    "tags": []
   },
   "outputs": [
    {
     "data": {
      "text/plain": [
       "DeviceArray(2.59117293, dtype=float64)"
      ]
     },
     "execution_count": 224,
     "metadata": {},
     "output_type": "execute_result"
    }
   ],
   "source": [
    "likelihood_mpcg(init, *args_predict[2:])"
   ]
  },
  {
   "cell_type": "code",
   "execution_count": 225,
   "id": "5b422d55-1154-498d-9fa4-14401473360c",
   "metadata": {
    "tags": []
   },
   "outputs": [
    {
     "data": {
      "text/plain": [
       "DeviceArray([  3.63620687, -17.44486165], dtype=float64)"
      ]
     },
     "execution_count": 225,
     "metadata": {},
     "output_type": "execute_result"
    }
   ],
   "source": [
    "grad(likelihood_mpcg, 0)(init, *args_predict[2:])"
   ]
  },
  {
   "cell_type": "code",
   "execution_count": 234,
   "id": "4dc0c923-374a-445e-95d2-29f9761e061b",
   "metadata": {
    "tags": []
   },
   "outputs": [],
   "source": [
    "def check_ll(n_tridiag=10, rank=15, tolerance=0.01, min_preconditioning_size=2000):\n",
    "    likelihood = gp_model.trainingFunction_all\n",
    "    ll_ref = likelihood(init, *args_predict[2:])\n",
    "    dll_ref = grad(likelihood, 0)(init, *args_predict[2:])\n",
    "    ll_list = []\n",
    "    dll_list = []\n",
    "    for i in range(10):\n",
    "        likelihood_mpcg = setup_loss_mpcg(seed=9, n_tridiag=n_tridiag, rank=rank, tolerance=tolerance)\n",
    "        ll_mpcg = likelihood_mpcg(init, *args_predict[2:])\n",
    "        dll_mpcg = grad(likelihood_mpcg, 0)(init, *args_predict[2:])\n",
    "        ll_list.append(ll_mpcg)\n",
    "        dll_list.append(dll_mpcg)\n",
    "    ll_mean = np.mean(ll_list)\n",
    "    ll_relative_error = np.mean(np.abs((ll_ref-np.array(ll_list))/ll_ref))\n",
    "    dll_relative_error = np.mean(np.abs((dll_ref-np.array(dll_list))/dll_ref))\n",
    "    return ll_mean, ll_relative_error, dll_relative_error"
   ]
  },
  {
   "cell_type": "code",
   "execution_count": 310,
   "id": "58000f51-030e-4176-9d75-e1dfff6fdbda",
   "metadata": {
    "tags": []
   },
   "outputs": [],
   "source": [
    "n_tridiag_list = [2, 5, 10]\n",
    "ll_list = []\n",
    "ll_rel_error_list = []\n",
    "dll_rel_error_list = []\n",
    "for n_tridiag in n_tridiag_list:\n",
    "    ll, ll_rel_err, dll_rel_err = check_ll(n_tridiag=n_tridiag)\n",
    "    ll_list.append(ll)\n",
    "    ll_rel_error_list.append(ll_rel_err)\n",
    "    dll_rel_error_list.append(dll_rel_err)"
   ]
  },
  {
   "cell_type": "code",
   "execution_count": 311,
   "id": "1b3b6844-a88d-4caf-8e27-b58a49214144",
   "metadata": {
    "tags": []
   },
   "outputs": [],
   "source": [
    "likelihood = gp_model.trainingFunction_all\n",
    "ll_ref = likelihood(init, *args_predict[2:])\n",
    "dll_ref = grad(likelihood, 0)(init, *args_predict[2:])"
   ]
  },
  {
   "cell_type": "code",
   "execution_count": 312,
   "id": "3491ca82-042a-4ae7-86db-1670ba77d939",
   "metadata": {
    "tags": []
   },
   "outputs": [
    {
     "data": {
      "image/png": "[encoded data removed]",
      "text/plain": [
       "<Figure size 1000x400 with 4 Axes>"
      ]
     },
     "metadata": {},
     "output_type": "display_data"
    }
   ],
   "source": [
    "fig, axs = plt.subplots(ncols=2, figsize=(10, 4))\n",
    "ax = axs[0]\n",
    "ax.plot(n_tridiag_list, ll_list, marker='o', label='likelihood')\n",
    "ax.hlines(ll_ref, n_tridiag_list[0], n_tridiag_list[-1], linestyle='--', label='ans')\n",
    "ax.set_xlabel('n_tridiag')\n",
    "ax2 = ax.twinx()\n",
    "ax2.semilogy(n_tridiag_list, ll_rel_error_list, color='b', marker='x', label='rel_error')\n",
    "\n",
    "lines, labels = ax.get_legend_handles_labels()\n",
    "lines2, labels2 = ax2.get_legend_handles_labels()\n",
    "# Create a legend for the first line in each axes\n",
    "ax.legend(lines + lines2, labels + labels2, loc='best')\n",
    "ax.set_title('likelihood')\n",
    "\n",
    "ax = axs[1]\n",
    "# ax.plot(n_tridiag_list, dll_list, marker='o', label='dlikelihood')\n",
    "# ax.hlines(ll_ref, n_tridiag_list[0], n_tridiag_list[-1], linestyle='--', label='ans')\n",
    "ax.set_xlabel('n_tridiag')\n",
    "ax2 = ax.twinx()\n",
    "ax2.semilogy(n_tridiag_list, dll_rel_error_list, color='b', marker='x', label='rel_error')\n",
    "\n",
    "lines, labels = ax.get_legend_handles_labels()\n",
    "lines2, labels2 = ax2.get_legend_handles_labels()\n",
    "# Create a legend for the first line in each axes\n",
    "ax.legend(lines + lines2, labels + labels2, loc='best')\n",
    "\n",
    "ax.set_title('d likelihood')\n",
    "\n",
    "plt.tight_layout()"
   ]
  },
  {
   "cell_type": "code",
   "execution_count": null,
   "id": "c7f54c78-8cd8-46d1-9ccb-3e8c294a0eaf",
   "metadata": {},
   "outputs": [],
   "source": []
  }
 ],
 "metadata": {
  "kernelspec": {
   "display_name": "mytorch",
   "language": "python",
   "name": "mytorch"
  },
  "language_info": {
   "codemirror_mode": {
    "name": "ipython",
    "version": 3
   },
   "file_extension": ".py",
   "mimetype": "text/x-python",
   "name": "python",
   "nbconvert_exporter": "python",
   "pygments_lexer": "ipython3",
   "version": "3.9.6"
  }
 },
 "nbformat": 4,
 "nbformat_minor": 5
}
