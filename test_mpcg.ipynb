{
 "cells": [
  {
   "cell_type": "code",
   "execution_count": 1,
   "id": "ffa4272b-7bb2-4365-90c3-3814868c999f",
   "metadata": {
    "tags": []
   },
   "outputs": [],
   "source": [
    "import numpy as np\n",
    "import jax\n",
    "import jax.numpy as jnp\n",
    "from jax import vmap\n",
    "from jax import jit, lax\n",
    "import matplotlib.pyplot as plt\n",
    "import cmocean as cmo\n",
    "import importlib"
   ]
  },
  {
   "cell_type": "code",
   "execution_count": 2,
   "id": "7afa6046-7748-40e6-b6a1-0d29fcbd2750",
   "metadata": {
    "tags": []
   },
   "outputs": [],
   "source": [
    "from jax.config import config\n",
    "config.update(\"jax_enable_x64\", True)"
   ]
  },
  {
   "cell_type": "code",
   "execution_count": 33,
   "id": "8134eb6f-7337-4068-937f-2ad47acbcd96",
   "metadata": {
    "tags": []
   },
   "outputs": [],
   "source": [
    "## import modules\n",
    "import preconditioner as precond\n",
    "import conjugate_gradient as cg\n",
    "import pivoted_cholesky as pc\n",
    "import pivoted_cholesky_ref as pc_ref # to use this script we need \"torch\", please comment out if not needed.\n",
    "def reload():\n",
    "    importlib.reload(precond)\n",
    "    importlib.reload(cg)\n",
    "    importlib.reload(pc)\n",
    "    importlib.reload(pc_ref)\n",
    "reload()"
   ]
  },
  {
   "cell_type": "code",
   "execution_count": 4,
   "id": "153a5d3c-b5ef-431f-9227-8ca5fbd1f6b7",
   "metadata": {
    "tags": []
   },
   "outputs": [],
   "source": [
    "import gpytorch\n",
    "import torch\n",
    "import linear_operator\n",
    "from linear_operator.operators import (\n",
    "    AddedDiagLinearOperator,\n",
    "    DiagLinearOperator,\n",
    "    LinearOperator,\n",
    "    DenseLinearOperator,\n",
    ")"
   ]
  },
  {
   "cell_type": "code",
   "execution_count": 5,
   "id": "33bd337e-13bc-4065-8580-d28a968fc545",
   "metadata": {
    "tags": []
   },
   "outputs": [],
   "source": [
    "def generate_K(N, seed=0, noise=1e-06):\n",
    "    \"\"\"\n",
    "    generate positive definite symmetric matrix\n",
    "    \"\"\"\n",
    "    K = jax.random.normal(jax.random.PRNGKey(seed), (N, N))\n",
    "    # K = K @ K.T + 30* jnp.eye(N) + noise*jnp.eye(N)\n",
    "    # K = jnp.dot(K, K.T) + noise*jnp.eye(N)\n",
    "    # K = jnp.dot(K, K.T) / N\n",
    "    K = jnp.dot(K, K.T)/N\n",
    "    # K += (noise+30)*jnp.eye(N) ## ??\n",
    "    K += (5)*jnp.eye(N)\n",
    "    K += (noise)*jnp.eye(N)\n",
    "    if not is_positive_definite(K):\n",
    "        raise Exception(\"K is not positive definite !\")\n",
    "    return K"
   ]
  },
  {
   "cell_type": "code",
   "execution_count": 6,
   "id": "912c5ad1-4ba3-49ec-a898-efe42343c5c8",
   "metadata": {
    "tags": []
   },
   "outputs": [],
   "source": [
    "def is_positive_definite(matrix):\n",
    "    # 行列の固有値を計算\n",
    "    eigenvalues = np.linalg.eigvals(matrix)\n",
    "\n",
    "    # 全ての固有値が正であるかをチェック\n",
    "    if np.all(eigenvalues > 0):\n",
    "        return True\n",
    "    else:\n",
    "        return False"
   ]
  },
  {
   "cell_type": "code",
   "execution_count": 7,
   "id": "7f6fdb67-af26-4a0f-80dc-0635db1799cb",
   "metadata": {
    "tags": []
   },
   "outputs": [],
   "source": [
    "def rel_error(true, pred):\n",
    "    nonzero_index = jnp.where(true != 0.)\n",
    "    true = true[nonzero_index]\n",
    "    pred = pred[nonzero_index]\n",
    "    return jnp.mean(jnp.abs((true-pred)/true))"
   ]
  },
  {
   "cell_type": "markdown",
   "id": "5bb2cfc0-a2e6-4ae0-9777-28bd4b9f3471",
   "metadata": {},
   "source": [
    "## 4. preconditioned batched conjugate gradient"
   ]
  },
  {
   "cell_type": "code",
   "execution_count": 27,
   "id": "1dfc807f-f48d-4ddd-9eb7-4b4d1c9646a0",
   "metadata": {
    "tags": []
   },
   "outputs": [],
   "source": [
    "N = 3000\n",
    "rank=15\n",
    "noise = 1e-06\n",
    "n_tridiag = 10\n",
    "K = generate_K(N)\n",
    "y = jax.random.normal(key=jax.random.PRNGKey(0), shape=(N,1))\n",
    "zs = jax.random.normal(jax.random.PRNGKey(0), (N, n_tridiag))\n",
    "preconditioner = precond.Preconditioner(K, rank=rank, noise=noise)\n",
    "K_torch = torch.from_numpy(np.array(K))"
   ]
  },
  {
   "cell_type": "code",
   "execution_count": 41,
   "id": "7ef16c01-37a4-4abd-b6eb-556dcefb929e",
   "metadata": {
    "tags": []
   },
   "outputs": [],
   "source": [
    "rhs = jnp.concatenate([zs, y], axis=1)\n",
    "rhs_torch = torch.from_numpy(np.array(rhs))"
   ]
  },
  {
   "cell_type": "code",
   "execution_count": 29,
   "id": "35df1acb-4575-4095-99dd-74b7bf85b1d9",
   "metadata": {
    "tags": []
   },
   "outputs": [],
   "source": [
    "K_linear_op = linear_operator.to_linear_operator(K_torch)\n",
    "diag_tensor = torch.ones(N, dtype=torch.float64)*noise\n",
    "diag_linear_op = DiagLinearOperator(diag_tensor)\n",
    "added_diag = AddedDiagLinearOperator(K_linear_op, diag_linear_op)"
   ]
  },
  {
   "cell_type": "code",
   "execution_count": 34,
   "id": "de7d0822-8850-4d51-988a-331c6edf33b6",
   "metadata": {
    "tags": []
   },
   "outputs": [],
   "source": [
    "Kinvy_linalg = jnp.linalg.solve(K, rhs)"
   ]
  },
  {
   "cell_type": "code",
   "execution_count": 34,
   "id": "8028d46a-cb64-44cc-8d83-0804a29123fb",
   "metadata": {
    "tags": []
   },
   "outputs": [
    {
     "name": "stdout",
     "output_type": "stream",
     "text": [
      "0.14856566444817215\n"
     ]
    }
   ],
   "source": [
    "preconditioner = precond.Preconditioner(K, rank, noise)\n",
    "Kinvy = cg.mpcg_bbmm(K, rhs, preconditioner=preconditioner, print_process=False, tolerance=1)\n",
    "print(rel_error(Kinvy_linalg, Kinvy))"
   ]
  },
  {
   "cell_type": "code",
   "execution_count": 43,
   "id": "a2ca69e5-e8a9-4ed9-a9a1-42733c32fa75",
   "metadata": {},
   "outputs": [
    {
     "name": "stdout",
     "output_type": "stream",
     "text": [
      "0.1485654807791762\n"
     ]
    }
   ],
   "source": [
    "linear_operator.settings.cg_tolerance._set_value(1)\n",
    "Kinvy_torch = added_diag.solve(rhs_torch)\n",
    "print(rel_error(Kinvy_linalg, Kinvy_torch.numpy()))\n",
    "linear_operator.settings.cg_tolerance._set_value(1)"
   ]
  },
  {
   "cell_type": "markdown",
   "id": "763e74fc-2538-4347-bd5b-879366a8f24f",
   "metadata": {},
   "source": [
    "### tol=1e-04"
   ]
  },
  {
   "cell_type": "code",
   "execution_count": 44,
   "id": "0ab4e8b9-d4fb-4524-96b7-8a831f643e37",
   "metadata": {
    "tags": []
   },
   "outputs": [
    {
     "name": "stdout",
     "output_type": "stream",
     "text": [
      "0.0004721970976828854\n"
     ]
    }
   ],
   "source": [
    "preconditioner = precond.Preconditioner(K, rank, noise)\n",
    "Kinvy = cg.mpcg_bbmm(K, rhs, preconditioner=preconditioner, print_process=False, tolerance=1e-04)\n",
    "print(rel_error(Kinvy_linalg, Kinvy))"
   ]
  },
  {
   "cell_type": "code",
   "execution_count": 46,
   "id": "d50e40d7-ebc0-4cf8-b2d1-0a853898751d",
   "metadata": {},
   "outputs": [
    {
     "name": "stdout",
     "output_type": "stream",
     "text": [
      "0.00047221962753508294\n"
     ]
    }
   ],
   "source": [
    "linear_operator.settings.cg_tolerance._set_value(1e-04)\n",
    "Kinvy_torch = added_diag.solve(rhs_torch)\n",
    "print(rel_error(Kinvy_linalg, Kinvy_torch.numpy()))\n",
    "# linear_operator.settings.cg_tolerance._set_value(1)"
   ]
  },
  {
   "cell_type": "code",
   "execution_count": 50,
   "id": "9cd7626f-2a3d-4513-9aa7-86812f21bf95",
   "metadata": {
    "tags": []
   },
   "outputs": [],
   "source": [
    "N = 7000\n",
    "rank=15\n",
    "noise = 1e-06\n",
    "n_tridiag = 10\n",
    "K = generate_K(N)\n",
    "y = jax.random.normal(key=jax.random.PRNGKey(0), shape=(N,1))\n",
    "zs = jax.random.normal(jax.random.PRNGKey(0), (N, n_tridiag))\n",
    "preconditioner = precond.Preconditioner(K, rank=rank, noise=noise)\n",
    "K_torch = torch.from_numpy(np.array(K))"
   ]
  },
  {
   "cell_type": "code",
   "execution_count": 51,
   "id": "a7f1ae61-fdc5-448c-ba89-410b9a2c245b",
   "metadata": {
    "tags": []
   },
   "outputs": [],
   "source": [
    "rhs = jnp.concatenate([zs, y], axis=1)\n",
    "rhs_torch = torch.from_numpy(np.array(rhs))"
   ]
  },
  {
   "cell_type": "code",
   "execution_count": 52,
   "id": "0d12f65b-6903-40e4-85b8-694bd49236d2",
   "metadata": {
    "tags": []
   },
   "outputs": [],
   "source": [
    "K_linear_op = linear_operator.to_linear_operator(K_torch)\n",
    "diag_tensor = torch.ones(N, dtype=torch.float64)*noise\n",
    "diag_linear_op = DiagLinearOperator(diag_tensor)\n",
    "added_diag = AddedDiagLinearOperator(K_linear_op, diag_linear_op)"
   ]
  },
  {
   "cell_type": "code",
   "execution_count": 53,
   "id": "a4b0011a-e36f-4d73-894f-10863c68afc1",
   "metadata": {
    "tags": []
   },
   "outputs": [
    {
     "name": "stdout",
     "output_type": "stream",
     "text": [
      "258 ms ± 1.95 ms per loop (mean ± std. dev. of 7 runs, 1 loop each)\n"
     ]
    }
   ],
   "source": [
    "%%timeit\n",
    "preconditioner = precond.Preconditioner(K, rank, noise)\n",
    "Kinvy = cg.mpcg_bbmm(K, rhs, preconditioner=preconditioner, print_process=False, tolerance=1e-04)"
   ]
  },
  {
   "cell_type": "code",
   "execution_count": 54,
   "id": "78945189-e88b-4be9-b0f6-a2586a0b2585",
   "metadata": {
    "tags": []
   },
   "outputs": [
    {
     "name": "stdout",
     "output_type": "stream",
     "text": [
      "1.52 s ± 4.65 ms per loop (mean ± std. dev. of 7 runs, 1 loop each)\n"
     ]
    }
   ],
   "source": [
    "%%timeit\n",
    "Kinvy_torch = added_diag.solve(rhs_torch)"
   ]
  },
  {
   "cell_type": "code",
   "execution_count": 55,
   "id": "74d0eaf2-2ff5-40be-8418-f539ea173390",
   "metadata": {
    "tags": []
   },
   "outputs": [
    {
     "name": "stdout",
     "output_type": "stream",
     "text": [
      "751 ms ± 157 µs per loop (mean ± std. dev. of 7 runs, 1 loop each)\n"
     ]
    }
   ],
   "source": [
    "%%timeit\n",
    "Kinvy_linalg = jnp.linalg.solve(K, rhs)"
   ]
  },
  {
   "cell_type": "code",
   "execution_count": 56,
   "id": "3dbc40b3-6932-4542-b3a2-60f29c211690",
   "metadata": {
    "tags": []
   },
   "outputs": [
    {
     "name": "stdout",
     "output_type": "stream",
     "text": [
      "0.0004721970976828854\n",
      "0.00047221962753508294\n"
     ]
    }
   ],
   "source": [
    "print(rel_error(Kinvy_linalg, Kinvy))\n",
    "print(rel_error(Kinvy_linalg, Kinvy_torch.numpy()))"
   ]
  },
  {
   "cell_type": "code",
   "execution_count": 57,
   "id": "1af18fd1-8633-4e59-b9b6-b6291c8d62e9",
   "metadata": {
    "tags": []
   },
   "outputs": [
    {
     "name": "stdout",
     "output_type": "stream",
     "text": [
      "156 ms ± 2.36 ms per loop (mean ± std. dev. of 7 runs, 1 loop each)\n"
     ]
    }
   ],
   "source": [
    "%%timeit\n",
    "Kinvy = cg.mpcg_bbmm(K, rhs, preconditioner=None, print_process=False, tolerance=1e-04)"
   ]
  },
  {
   "cell_type": "markdown",
   "id": "a12bd2ac-fe68-4375-8a85-5b681f49aafb",
   "metadata": {},
   "source": [
    "### やはりpreconditionしない方がはやいのが現状"
   ]
  },
  {
   "cell_type": "markdown",
   "id": "606128cf-3bf6-41dd-8665-4227b02dfc6b",
   "metadata": {},
   "source": [
    "## chceking trace term"
   ]
  },
  {
   "cell_type": "markdown",
   "id": "6401b027-a0e4-483b-a054-dc5e20d84669",
   "metadata": {},
   "source": [
    "### with preconditioner"
   ]
  },
  {
   "cell_type": "code",
   "execution_count": 76,
   "id": "e67edfbb-11e0-4109-9ca4-22a72e795469",
   "metadata": {
    "tags": []
   },
   "outputs": [],
   "source": [
    "N = 3000\n",
    "rank=15\n",
    "noise = 1e-06\n",
    "n_tridiag = 10\n",
    "K = generate_K(N)\n",
    "y = jax.random.normal(key=jax.random.PRNGKey(0), shape=(N,1))\n",
    "zs = jax.random.normal(jax.random.PRNGKey(0), (N, n_tridiag))\n",
    "preconditioner = precond.Preconditioner(K, rank=rank, noise=noise)\n",
    "K_torch = torch.from_numpy(np.array(K))"
   ]
  },
  {
   "cell_type": "code",
   "execution_count": 77,
   "id": "9970ab48-50f5-40da-895a-6a11cf836f5a",
   "metadata": {
    "tags": []
   },
   "outputs": [],
   "source": [
    "rhs = jnp.concatenate([zs, y], axis=1)\n",
    "rhs_torch = torch.from_numpy(np.array(rhs))"
   ]
  },
  {
   "cell_type": "code",
   "execution_count": 78,
   "id": "57c1f243-b3c4-4840-a9d1-719685a81971",
   "metadata": {
    "tags": []
   },
   "outputs": [],
   "source": [
    "K_linear_op = linear_operator.to_linear_operator(K_torch)\n",
    "diag_tensor = torch.ones(N, dtype=torch.float64)*noise\n",
    "diag_linear_op = DiagLinearOperator(diag_tensor)\n",
    "added_diag = AddedDiagLinearOperator(K_linear_op, diag_linear_op)"
   ]
  },
  {
   "cell_type": "code",
   "execution_count": 79,
   "id": "735a4584-c1d8-4712-8630-d0cda843bfdc",
   "metadata": {
    "tags": []
   },
   "outputs": [
    {
     "name": "stdout",
     "output_type": "stream",
     "text": [
      "0.14856566444817215\n",
      "0.1485654807791762\n"
     ]
    }
   ],
   "source": [
    "Kinvy_linalg = jnp.linalg.solve(K, rhs)\n",
    "preconditioner = precond.Preconditioner(K, rank, noise)\n",
    "Kinvy = cg.mpcg_bbmm(K, rhs, preconditioner=preconditioner, print_process=False, tolerance=1)\n",
    "print(rel_error(Kinvy_linalg, Kinvy))\n",
    "linear_operator.settings.cg_tolerance._set_value(1)\n",
    "Kinvy_torch = added_diag.solve(rhs_torch)\n",
    "print(rel_error(Kinvy_linalg, Kinvy_torch.numpy()))\n",
    "linear_operator.settings.cg_tolerance._set_value(1)"
   ]
  },
  {
   "cell_type": "code",
   "execution_count": 57,
   "id": "4865ce4f-8a30-40c2-a188-143fcafb53ee",
   "metadata": {
    "tags": []
   },
   "outputs": [
    {
     "name": "stdout",
     "output_type": "stream",
     "text": [
      "156 ms ± 2.36 ms per loop (mean ± std. dev. of 7 runs, 1 loop each)\n"
     ]
    }
   ],
   "source": [
    "%%timeit\n",
    "Kinvy = cg.mpcg_bbmm(K, rhs, preconditioner=None, print_process=False, tolerance=1e-04)"
   ]
  },
  {
   "cell_type": "code",
   "execution_count": 80,
   "id": "199e7466-a4c5-4628-b4c6-199fc0cd458f",
   "metadata": {
    "tags": []
   },
   "outputs": [],
   "source": [
    "dKdtheta = jax.random.normal(jax.random.PRNGKey(1), (N, N))+5*jnp.eye(N)"
   ]
  },
  {
   "cell_type": "code",
   "execution_count": 86,
   "id": "f66a7945-63c6-428c-92a8-fb6fb3821b81",
   "metadata": {
    "tags": []
   },
   "outputs": [],
   "source": [
    "trace = jnp.einsum(\"ij, ij ->\", Kinvy[:, :n_tridiag], jnp.einsum(\"ij, jk->ik\", dKdtheta, zs))/n_tridiag"
   ]
  },
  {
   "cell_type": "code",
   "execution_count": 87,
   "id": "0a405352-5f20-4163-9678-65a54d12163d",
   "metadata": {
    "tags": []
   },
   "outputs": [],
   "source": [
    "Kinvy_linalg = jnp.linalg.inv(K)\n",
    "trace_linalg = jnp.sum(jnp.diag(jnp.matmul(Kinvy_linalg, dKdtheta)))"
   ]
  },
  {
   "cell_type": "code",
   "execution_count": 90,
   "id": "4c29cace-c7f8-4517-a9ed-378b75ed5ab6",
   "metadata": {
    "tags": []
   },
   "outputs": [
    {
     "data": {
      "text/plain": [
       "(DeviceArray(2674.62575194, dtype=float64),\n",
       " DeviceArray(2587.2629889, dtype=float64))"
      ]
     },
     "execution_count": 90,
     "metadata": {},
     "output_type": "execute_result"
    }
   ],
   "source": [
    "trace, trace_linalg"
   ]
  },
  {
   "cell_type": "code",
   "execution_count": 89,
   "id": "1ccfe2b8-1668-4294-b8f1-44e95a27a31b",
   "metadata": {
    "tags": []
   },
   "outputs": [
    {
     "data": {
      "text/plain": [
       "DeviceArray(-0.03376648, dtype=float64)"
      ]
     },
     "execution_count": 89,
     "metadata": {},
     "output_type": "execute_result"
    }
   ],
   "source": [
    "(trace_linalg-trace)/trace_linalg"
   ]
  },
  {
   "cell_type": "markdown",
   "id": "e399740a-e2c9-4aa9-b6e8-74ba4aaf123e",
   "metadata": {},
   "source": [
    "### without preconditioner"
   ]
  },
  {
   "cell_type": "code",
   "execution_count": 100,
   "id": "57f0a458-8fc6-43ab-aa85-b8c71774418b",
   "metadata": {
    "tags": []
   },
   "outputs": [
    {
     "name": "stdout",
     "output_type": "stream",
     "text": [
      "3448.798220099444\n"
     ]
    }
   ],
   "source": [
    "Kinvy = cg.mpcg_bbmm(K, rhs, preconditioner=None, print_process=False, tolerance=1)\n",
    "print(rel_error(Kinvy_linalg, Kinvy))"
   ]
  },
  {
   "cell_type": "code",
   "execution_count": 101,
   "id": "65a94fb5-a4a0-438d-ac8e-bdf13d0969ca",
   "metadata": {
    "tags": []
   },
   "outputs": [],
   "source": [
    "dKdtheta = jax.random.normal(jax.random.PRNGKey(1), (N, N))+5*jnp.eye(N)"
   ]
  },
  {
   "cell_type": "code",
   "execution_count": 106,
   "id": "fbd927ae-fc87-463c-af10-55928e596ddf",
   "metadata": {
    "tags": []
   },
   "outputs": [],
   "source": [
    "trace = jnp.einsum(\"ij, ij ->\", Kinvy[:, :n_tridiag], jnp.einsum(\"ij, jk->ik\", dKdtheta, zs))/n_tridiag"
   ]
  },
  {
   "cell_type": "code",
   "execution_count": 107,
   "id": "c9c7ccfa-2cc4-4db8-bf96-074180fcb8a6",
   "metadata": {
    "tags": []
   },
   "outputs": [],
   "source": [
    "Kinvy_linalg = jnp.linalg.inv(K)\n",
    "trace_linalg = jnp.sum(jnp.diag(jnp.matmul(Kinvy_linalg, dKdtheta)))"
   ]
  },
  {
   "cell_type": "code",
   "execution_count": 108,
   "id": "3af4701b-e9ad-4243-aba4-df7afb73f9ba",
   "metadata": {
    "tags": []
   },
   "outputs": [
    {
     "data": {
      "text/plain": [
       "(DeviceArray(2671.43610977, dtype=float64),\n",
       " DeviceArray(2587.2629889, dtype=float64))"
      ]
     },
     "execution_count": 108,
     "metadata": {},
     "output_type": "execute_result"
    }
   ],
   "source": [
    "trace, trace_linalg"
   ]
  },
  {
   "cell_type": "code",
   "execution_count": 109,
   "id": "eacf9687-d0ee-4a71-915b-9e6bc5fb5a73",
   "metadata": {
    "tags": []
   },
   "outputs": [
    {
     "data": {
      "text/plain": [
       "DeviceArray(-0.03253365, dtype=float64)"
      ]
     },
     "execution_count": 109,
     "metadata": {},
     "output_type": "execute_result"
    }
   ],
   "source": [
    "(trace_linalg-trace)/trace_linalg"
   ]
  },
  {
   "cell_type": "code",
   "execution_count": null,
   "id": "c29617ce-9767-44ac-b054-9dd0639999fe",
   "metadata": {},
   "outputs": [],
   "source": []
  }
 ],
 "metadata": {
  "kernelspec": {
   "display_name": "mytorch",
   "language": "python",
   "name": "mytorch"
  },
  "language_info": {
   "codemirror_mode": {
    "name": "ipython",
    "version": 3
   },
   "file_extension": ".py",
   "mimetype": "text/x-python",
   "name": "python",
   "nbconvert_exporter": "python",
   "pygments_lexer": "ipython3",
   "version": "3.9.6"
  }
 },
 "nbformat": 4,
 "nbformat_minor": 5
}
