{
 "cells": [
  {
   "cell_type": "code",
   "execution_count": 7,
   "id": "5ad6bf4b-5015-4ade-b30d-d0e1f068393e",
   "metadata": {
    "tags": []
   },
   "outputs": [],
   "source": [
    "import numpy as np\n",
    "import jax\n",
    "import jax.numpy as jnp\n",
    "from jax import vmap\n",
    "from jax import jit, lax, grad\n",
    "import matplotlib.pyplot as plt\n",
    "import cmocean as cmo\n",
    "import importlib"
   ]
  },
  {
   "cell_type": "code",
   "execution_count": 8,
   "id": "f861d520-cf10-4616-ab7c-57fa9496d1b1",
   "metadata": {
    "tags": []
   },
   "outputs": [],
   "source": [
    "from jax.config import config\n",
    "config.update(\"jax_enable_x64\", True)"
   ]
  },
  {
   "cell_type": "code",
   "execution_count": 9,
   "id": "7f2db03a-1951-40f7-875f-2a6601daafe7",
   "metadata": {
    "tags": []
   },
   "outputs": [],
   "source": [
    "## import modules\n",
    "import bbmm.utils.preconditioner as precond\n",
    "import bbmm.utils.conjugate_gradient as cg\n",
    "import bbmm.functions.pivoted_cholesky as pc\n",
    "import bbmm.functions.pivoted_cholesky_ref as pc_ref # to use this script we need \"torch\", please comment out if not needed.\n",
    "import bbmm.utils.calc_logdet as calc_logdet\n",
    "import bbmm.utils.calc_trace as calc_trace\n",
    "import bbmm.operators.dense_linear_operator as dense_linear_operator\n",
    "import bbmm.operators.root_linear_operator as root_linear_operator\n",
    "import bbmm.operators.diag_linear_operator as diag_linear_operator\n",
    "import bbmm.operators._linear_operator as _linear_operator\n",
    "import bbmm.operators.psd_sum_linear_operator as psd_sum_linear_operator\n",
    "import bbmm.operators.root_linear_operator as root_linear_operator\n",
    "from bbmm.functions.pivoted_cholesky_numpy import pivoted_cholesky_numpy\n",
    "def reload():\n",
    "    importlib.reload(precond)\n",
    "    importlib.reload(cg)\n",
    "    importlib.reload(pc)\n",
    "    importlib.reload(pc_ref)\n",
    "    importlib.reload(calc_logdet)\n",
    "    importlib.reload(calc_trace)\n",
    "    importlib.reload(dense_linear_operator)\n",
    "    importlib.reload(root_linear_operator)\n",
    "    importlib.reload(diag_linear_operator)\n",
    "    importlib.reload(_linear_operator)\n",
    "    importlib.reload(psd_sum_linear_operator)\n",
    "    importlib.reload(root_linear_operator)\n",
    "reload()"
   ]
  },
  {
   "cell_type": "code",
   "execution_count": 10,
   "id": "0a55aa47-707c-4aac-b082-9b5453189e5e",
   "metadata": {
    "tags": []
   },
   "outputs": [],
   "source": [
    "import gpytorch\n",
    "import torch\n",
    "import linear_operator\n",
    "from linear_operator.operators import (\n",
    "    AddedDiagLinearOperator,\n",
    "    DiagLinearOperator,\n",
    "    LinearOperator,\n",
    "    DenseLinearOperator,\n",
    ")"
   ]
  },
  {
   "cell_type": "code",
   "execution_count": 11,
   "id": "c96c5e06-74ff-4cdf-9be5-190aa608bd3e",
   "metadata": {
    "tags": []
   },
   "outputs": [],
   "source": [
    "def generate_K(N, seed=0, noise=1e-06):\n",
    "    \"\"\"\n",
    "    generate positive definite symmetric matrix\n",
    "    \"\"\"\n",
    "    K = jax.random.normal(jax.random.PRNGKey(seed), (N, N))\n",
    "    # K = K @ K.T + 30* jnp.eye(N) + noise*jnp.eye(N)\n",
    "    # K = jnp.dot(K, K.T) + noise*jnp.eye(N)\n",
    "    # K = jnp.dot(K, K.T) / N\n",
    "    K = jnp.dot(K, K.T)/N\n",
    "    # K += (noise+30)*jnp.eye(N) ## ??\n",
    "    K += (2)*jnp.eye(N)\n",
    "    K += (noise)*jnp.eye(N)\n",
    "    if not is_positive_definite(K):\n",
    "        raise Exception(\"K is not positive definite !\")\n",
    "    return K"
   ]
  },
  {
   "cell_type": "code",
   "execution_count": 12,
   "id": "78b7f51e-a1cc-47f5-befc-4c23256e0ffe",
   "metadata": {
    "tags": []
   },
   "outputs": [],
   "source": [
    "def is_positive_definite(matrix):\n",
    "    # 行列の固有値を計算\n",
    "    eigenvalues = np.linalg.eigvals(matrix)\n",
    "\n",
    "    # 全ての固有値が正であるかをチェック\n",
    "    if np.all(eigenvalues > 0):\n",
    "        return True\n",
    "    else:\n",
    "        return False"
   ]
  },
  {
   "cell_type": "code",
   "execution_count": 13,
   "id": "db2b4f4c-754a-43ef-a75b-4a898a67905d",
   "metadata": {
    "tags": []
   },
   "outputs": [],
   "source": [
    "def rel_error(true, pred):\n",
    "    nonzero_index = jnp.where(true != 0.)\n",
    "    true = true[nonzero_index]\n",
    "    pred = pred[nonzero_index]\n",
    "    return jnp.mean(jnp.abs((true-pred)/true))"
   ]
  },
  {
   "cell_type": "code",
   "execution_count": 14,
   "id": "61836e56-16e4-42d9-b984-35f9be82a5a3",
   "metadata": {
    "tags": []
   },
   "outputs": [],
   "source": [
    "def calc_logdet_linalg(K):\n",
    "    L = jnp.linalg.cholesky(K)\n",
    "    return jnp.sum(jnp.log(jnp.diag(L))) * 2"
   ]
  },
  {
   "cell_type": "code",
   "execution_count": 15,
   "id": "3d19e23c-7a42-498f-ba15-6a67fec2bba2",
   "metadata": {
    "tags": []
   },
   "outputs": [],
   "source": [
    "from stopro.data_generator.sinusoidal import Sinusoidal\n",
    "from stopro.data_generator.sin_1D_naive import Sin1DNaive\n",
    "from stopro.data_preparer.data_preparer import DataPreparer\n",
    "from stopro.sub_modules.load_modules import load_params, load_data\n",
    "from stopro.sub_modules.loss_modules import hessian, logposterior\n",
    "from stopro.sub_modules.init_modules import get_init, reshape_init\n",
    "import stopro.GP.gp_sinusoidal_independent as gp_sinusoidal_independent\n",
    "import stopro.GP.gp_1D_naive as gp_1D_naive\n",
    "from stopro.data_handler.data_handle_module import HdfOperator\n",
    "from stopro.GP.kernels import define_kernel\n",
    "# from stopro.solver.optimizers import optimize_by_adam"
   ]
  },
  {
   "cell_type": "code",
   "execution_count": 16,
   "id": "1a3bf2aa-087d-4011-a4fc-12032409c153",
   "metadata": {
    "tags": []
   },
   "outputs": [],
   "source": [
    "project_name = 'data'\n",
    "simulation_name = 'test_loss_sin1d_naive_y_1000'"
   ]
  },
  {
   "cell_type": "code",
   "execution_count": 17,
   "id": "0f3bad16-1f19-4d75-ba88-b25bd3a8fb85",
   "metadata": {
    "tags": []
   },
   "outputs": [],
   "source": [
    "data_preparer = DataPreparer(\n",
    "    project_name, simulation_name, class_data_generator=Sin1DNaive)\n",
    "data_preparer.load_params(\n",
    "    system_name=\"sin_1D_naive\", use_existing_params=False\n",
    ")\n",
    "data_preparer.params_generate_training['y_num'] = 1000\n",
    "\n",
    "data_preparer.create_directory()\n",
    "\n",
    "data_preparer.make_data()\n",
    "data_preparer.save_params_prepare()\n",
    "data_preparer.save_params_main()\n",
    "data_preparer.save_lbls()"
   ]
  },
  {
   "cell_type": "code",
   "execution_count": 18,
   "id": "fd97b74d-5d8e-4184-90a9-fd6c5f27d9b6",
   "metadata": {
    "tags": []
   },
   "outputs": [],
   "source": [
    "params_main, params_prepare, lbls = load_params(f\"{project_name}/{simulation_name}/data_input\")\n",
    "params_model = params_main[\"model\"]\n",
    "params_optimization = params_main[\"optimization\"]\n",
    "params_plot = params_prepare[\"plot\"]\n",
    "vnames = params_prepare[\"vnames\"]\n",
    "params_setting = params_prepare[\"setting\"]\n",
    "params_generate_training = params_prepare[\"generate_training\"]\n",
    "params_generate_test = params_prepare[\"generate_test\"]\n",
    "params_kernel_arg = params_prepare[\"kernel_arg\"]\n",
    "\n",
    "# prepare initial hyper-parameter\n",
    "init = get_init(\n",
    "    params_model[\"init_kernel_hyperparameter\"],\n",
    "    params_model[\"kernel_type\"],\n",
    "    system_type=params_model[\"system_type\"],\n",
    ")"
   ]
  },
  {
   "cell_type": "code",
   "execution_count": 185,
   "id": "da6ff7d0-4fa8-4aaa-893c-8c4ad6f4ade7",
   "metadata": {
    "tags": []
   },
   "outputs": [],
   "source": [
    "# prepare data\n",
    "hdf_operator = HdfOperator(f\"{project_name}/{simulation_name}\")\n",
    "r_test, μ_test, r_train, μ_train, f_train = load_data(lbls, vnames, hdf_operator)\n",
    "delta_y_train = jnp.empty(0)\n",
    "for i in range(len(r_train)):\n",
    "    delta_y_train = jnp.append(delta_y_train, f_train[i] - μ_train[i])\n",
    "\n",
    "params_model[\"epsilon\"] = 1e-03\n",
    "args_predict = r_test, μ_test, r_train, delta_y_train, params_model[\"epsilon\"]\n",
    "noise = params_model[\"epsilon\"]"
   ]
  },
  {
   "cell_type": "markdown",
   "id": "a505f6f1-09af-46d3-8125-9752fa8383c6",
   "metadata": {},
   "source": [
    "### setup model"
   ]
  },
  {
   "cell_type": "code",
   "execution_count": 186,
   "id": "3c193899-9e70-4988-a97c-90102fd06d39",
   "metadata": {
    "tags": []
   },
   "outputs": [],
   "source": [
    "# setup model\n",
    "Kernel = define_kernel(params_model)\n",
    "gp_model = gp_1D_naive.GPmodel1DNaive(\n",
    "    Kernel=Kernel,\n",
    ")\n",
    "gp_model.set_constants(*args_predict)\n",
    "loglikelihood, predictor = (\n",
    "    gp_model.trainingFunction_all,\n",
    "    gp_model.predictingFunction_all,\n",
    ")\n",
    "func = jit(logposterior(loglikelihood, params_optimization))\n",
    "dfunc = jit(grad(func, 0))\n",
    "hess = hessian(func)"
   ]
  },
  {
   "cell_type": "code",
   "execution_count": 187,
   "id": "a081fabc-29f1-4ff4-9225-695a92cc154b",
   "metadata": {
    "tags": []
   },
   "outputs": [],
   "source": [
    "init = init.at[1].set(-3.)"
   ]
  },
  {
   "cell_type": "markdown",
   "id": "15a278bb-4bff-4af6-bd96-5ef0821763f1",
   "metadata": {},
   "source": [
    "## check $K^{-1}y$"
   ]
  },
  {
   "cell_type": "code",
   "execution_count": 188,
   "id": "7c558e22-745e-47d2-838e-b27c8e891bf9",
   "metadata": {
    "tags": []
   },
   "outputs": [],
   "source": [
    "K = gp_model.trainingK_all(init, r_train)\n",
    "K_torch = torch.from_numpy(np.array(K))\n",
    "K = gp_model.add_eps_to_sigma(K, noise, noise_parameter=None)"
   ]
  },
  {
   "cell_type": "code",
   "execution_count": 189,
   "id": "170d86ee-7a57-4334-946d-a9476ba02a2e",
   "metadata": {
    "tags": []
   },
   "outputs": [
    {
     "data": {
      "text/plain": [
       "(True, DeviceArray(19837.28151113, dtype=float64))"
      ]
     },
     "execution_count": 189,
     "metadata": {},
     "output_type": "execute_result"
    }
   ],
   "source": [
    "is_positive_definite(K), jnp.linalg.cond(K)"
   ]
  },
  {
   "cell_type": "code",
   "execution_count": 190,
   "id": "6e8cbd65-99dc-4648-a738-a8f9abe6f2f7",
   "metadata": {
    "tags": []
   },
   "outputs": [
    {
     "data": {
      "text/plain": [
       "DeviceArray(1.001, dtype=float64)"
      ]
     },
     "execution_count": 190,
     "metadata": {},
     "output_type": "execute_result"
    }
   ],
   "source": [
    "np.max(K)"
   ]
  },
  {
   "cell_type": "code",
   "execution_count": 191,
   "id": "62fcf4b9-0b23-4555-a0e4-77468664eddf",
   "metadata": {
    "tags": []
   },
   "outputs": [
    {
     "data": {
      "text/plain": [
       "<matplotlib.colorbar.Colorbar at 0x7f390c283850>"
      ]
     },
     "execution_count": 191,
     "metadata": {},
     "output_type": "execute_result"
    },
    {
     "data": {
      "image/png": "[encoded data removed]",
      "text/plain": [
       "<Figure size 640x480 with 2 Axes>"
      ]
     },
     "metadata": {},
     "output_type": "display_data"
    }
   ],
   "source": [
    "fig, ax = plt.subplots()\n",
    "mappable = ax.pcolormesh(np.flipud(K), vmin=-np.max(K), vmax=np.max(K), cmap=cmo.cm.balance)\n",
    "fig.colorbar(mappable)"
   ]
  },
  {
   "cell_type": "code",
   "execution_count": 192,
   "id": "da21a58a-e3d7-44bf-95db-066b958c5176",
   "metadata": {},
   "outputs": [],
   "source": [
    "rank= 5\n",
    "n_tridiag = 30\n",
    "max_tridiag_iter=100"
   ]
  },
  {
   "cell_type": "code",
   "execution_count": 193,
   "id": "8fbac42a-3901-4eae-9daa-d1f997b4d140",
   "metadata": {
    "tags": []
   },
   "outputs": [],
   "source": [
    "precondition, precond_lt, precond_logdet_cache = precond.setup_preconditioner(K, rank=rank, noise=noise)\n",
    "if precondition:\n",
    "    zs = precond_lt.zero_mean_mvn_samples(n_tridiag, seed=0)\n",
    "else:\n",
    "    zs = jax.random.normal(jax.random.PRNGKey(0), (len(delta_y_train), n_tridiag))\n",
    "# zs_norms = jnp.linalg.norm(zs, axis=0, keepdims=True)\n",
    "# zs = zs/zs_norms\n",
    "rhs = jnp.concatenate([zs, delta_y_train.reshape(-1, 1)], axis=1)\n",
    "rhs_torch = torch.from_numpy(np.array(rhs))"
   ]
  },
  {
   "cell_type": "code",
   "execution_count": 194,
   "id": "54d94d05-207c-47f4-83f7-4f39ec1e1a28",
   "metadata": {
    "tags": []
   },
   "outputs": [],
   "source": [
    "Kinvy_linalg = jnp.linalg.solve(K, rhs)"
   ]
  },
  {
   "cell_type": "code",
   "execution_count": 195,
   "id": "a84bf035-de3c-4ca9-8813-3c0a2abf083a",
   "metadata": {
    "tags": []
   },
   "outputs": [
    {
     "name": "stdout",
     "output_type": "stream",
     "text": [
      "0.010649926239710521 266\n"
     ]
    }
   ],
   "source": [
    "Kinvy, j,t_mat = cg.mpcg_bbmm(\n",
    "    K,\n",
    "    rhs,\n",
    "    precondition=precondition, \n",
    "    print_process=False, \n",
    "    tolerance=0.01, \n",
    "    n_tridiag=n_tridiag, \n",
    "    max_tridiag_iter=max_tridiag_iter\n",
    ")\n",
    "print(rel_error(Kinvy_linalg, Kinvy) ,j)"
   ]
  },
  {
   "cell_type": "markdown",
   "id": "d00fc222-918c-48f5-834d-c0c7f19e2152",
   "metadata": {
    "tags": []
   },
   "source": [
    "### check logdet"
   ]
  },
  {
   "cell_type": "code",
   "execution_count": 33,
   "id": "cc8b71ac-0757-4f86-95c3-8c9dcf940732",
   "metadata": {
    "tags": []
   },
   "outputs": [
    {
     "data": {
      "text/plain": [
       "(DeviceArray(-5724.34904648, dtype=float64),\n",
       " DeviceArray(-5703.09860927, dtype=float64))"
      ]
     },
     "execution_count": 33,
     "metadata": {},
     "output_type": "execute_result"
    }
   ],
   "source": [
    "logdet = calc_logdet.calc_logdet(K.shape, t_mat, precond_logdet_cache)\n",
    "logdet_linalg = calc_logdet_linalg(K)\n",
    "logdet, logdet_linalg"
   ]
  },
  {
   "cell_type": "code",
   "execution_count": 34,
   "id": "2c450a8b-ff0a-4c7f-a54d-ef8baa84f53c",
   "metadata": {
    "tags": []
   },
   "outputs": [],
   "source": [
    "K_linear_op = linear_operator.to_linear_operator(K_torch)\n",
    "diag_tensor = torch.ones(len(delta_y_train), dtype=torch.float64)*noise\n",
    "diag_linear_op = DiagLinearOperator(diag_tensor)\n",
    "added_diag = AddedDiagLinearOperator(K_linear_op, diag_linear_op)"
   ]
  },
  {
   "cell_type": "code",
   "execution_count": 35,
   "id": "d4c43ab6-d010-40f2-b5d1-3916332bcc59",
   "metadata": {
    "tags": []
   },
   "outputs": [],
   "source": [
    "linear_operator.settings.min_preconditioning_size._set_value(2000)\n",
    "linear_operator.settings.num_trace_samples._set_value(n_tridiag)\n",
    "linear_operator.settings.max_preconditioner_size._set_value(rank)\n",
    "linear_operator.settings.max_lanczos_quadrature_iterations._set_value(max_tridiag_iter)"
   ]
  },
  {
   "cell_type": "code",
   "execution_count": 36,
   "id": "bd7c26fb-6292-4b27-89ae-5310e9fccab6",
   "metadata": {
    "tags": []
   },
   "outputs": [
    {
     "data": {
      "text/plain": [
       "(tensor(25.2055, dtype=torch.float64), tensor(-5656.1522, dtype=torch.float64))"
      ]
     },
     "execution_count": 36,
     "metadata": {},
     "output_type": "execute_result"
    }
   ],
   "source": [
    "added_diag.inv_quad_logdet(inv_quad_rhs=rhs_torch[:, -1:], logdet=True)"
   ]
  },
  {
   "cell_type": "code",
   "execution_count": 37,
   "id": "6ed33e9b-56c1-47f8-86c1-d8e290307665",
   "metadata": {
    "tags": []
   },
   "outputs": [
    {
     "name": "stdout",
     "output_type": "stream",
     "text": [
      "0.010659425695719748\n"
     ]
    }
   ],
   "source": [
    "preconditioner_torch, precond_lt_torch, precond_logdet_torch = added_diag._preconditioner()\n",
    "Kinvy_torch, t_mat_torch = added_diag._solve(rhs_torch, preconditioner=preconditioner_torch, num_tridiag=n_tridiag)\n",
    "print(rel_error(Kinvy_linalg, Kinvy_torch.numpy()))\n",
    "linear_operator.settings.cg_tolerance._set_value(0.01)"
   ]
  },
  {
   "cell_type": "code",
   "execution_count": 38,
   "id": "e89339ae-4726-49e4-9afd-5fd2024acdcc",
   "metadata": {
    "tags": []
   },
   "outputs": [
    {
     "data": {
      "text/plain": [
       "tensor(-5724.3490, dtype=torch.float64)"
      ]
     },
     "execution_count": 38,
     "metadata": {},
     "output_type": "execute_result"
    }
   ],
   "source": [
    "eval_torch, evec_torch = linear_operator.utils.lanczos.lanczos_tridiag_to_diag(t_mat_torch)\n",
    "slq = linear_operator.utils.stochastic_lq.StochasticLQ()\n",
    "(logdet_term,) = slq.to_dense(added_diag.matrix_shape, eval_torch, evec_torch,  [lambda x: x.log()])\n",
    "if precond_logdet_torch:\n",
    "    logdet_torch = logdet_term + precond_logdet_torch\n",
    "else:\n",
    "    logdet_torch = logdet_term\n",
    "logdet_torch"
   ]
  },
  {
   "cell_type": "markdown",
   "id": "7cbd50a4-3da4-4ee7-874d-7280b0d78e6a",
   "metadata": {},
   "source": [
    "### check trace term"
   ]
  },
  {
   "cell_type": "code",
   "execution_count": 196,
   "id": "28cce05e-d33d-4b96-83ba-d41a534b048e",
   "metadata": {
    "tags": []
   },
   "outputs": [],
   "source": [
    "def calc_trainingK(theta):\n",
    "    θ, _ = gp_model.split_hyp_and_noise(theta)\n",
    "    Σ = gp_model.trainingK_all(θ, r_train)\n",
    "    Σ = gp_model.add_eps_to_sigma(Σ, noise, noise_parameter=None)\n",
    "    return Σ"
   ]
  },
  {
   "cell_type": "code",
   "execution_count": 197,
   "id": "e3fe7775-53a4-4f8c-bd5c-b1c45bc3ed5d",
   "metadata": {},
   "outputs": [],
   "source": [
    "# dKdtheta = jnp.transpose(jax.jacfwd(calc_trainingK)(init), (2, 0, 1))\n",
    "\n",
    "# calc_trace.calc_trace(Kinvy, dKdtheta[6], zs, n_tridiag=n_tridiag)"
   ]
  },
  {
   "cell_type": "code",
   "execution_count": 198,
   "id": "3b9ddccb-068f-4ba8-b156-9542504c729b",
   "metadata": {},
   "outputs": [
    {
     "data": {
      "text/plain": [
       "DeviceArray(-1014.86634673, dtype=float64)"
      ]
     },
     "execution_count": 198,
     "metadata": {},
     "output_type": "execute_result"
    }
   ],
   "source": [
    "Kinv_linalg = jnp.linalg.inv(K)\n",
    "trace_linalg = jnp.sum(jnp.diag(jnp.matmul(Kinv_linalg, dKdtheta[6])))\n",
    "trace_linalg"
   ]
  },
  {
   "cell_type": "code",
   "execution_count": 199,
   "id": "27f4e0c2-afee-47e1-9d98-324d3769c2bc",
   "metadata": {
    "tags": []
   },
   "outputs": [],
   "source": [
    "L = jnp.linalg.cholesky(K)\n",
    "I = jnp.eye(len(delta_y_train))\n",
    "Kinv = jnp.linalg.solve(L.T, jnp.linalg.solve(L, I))"
   ]
  },
  {
   "cell_type": "code",
   "execution_count": 200,
   "id": "cb0354db-1b6a-4127-96fd-13069041fd9c",
   "metadata": {
    "tags": []
   },
   "outputs": [],
   "source": [
    "trace_rel_error_list = []\n",
    "for dK in dKdtheta:\n",
    "    if precondition:\n",
    "        trace = calc_trace.calc_trace(\n",
    "            Kinvy, dK, precondition(zs), n_tridiag=n_tridiag\n",
    "        )\n",
    "    else:\n",
    "        trace = calc_trace.calc_trace(Kinvy, dK, zs, n_tridiag=n_tridiag)\n",
    "\n",
    "    trace_linalg = jnp.sum(jnp.diag(jnp.matmul(Kinv, dK)))\n",
    "\n",
    "    trace_rel_error_list.append(abs((trace - trace_linalg) / trace_linalg))"
   ]
  },
  {
   "cell_type": "code",
   "execution_count": 201,
   "id": "e4e30f5e-3478-463f-99f6-0112be2613f4",
   "metadata": {
    "tags": []
   },
   "outputs": [
    {
     "data": {
      "text/plain": [
       "0.009919499075496455"
      ]
     },
     "execution_count": 201,
     "metadata": {},
     "output_type": "execute_result"
    }
   ],
   "source": [
    "np.mean(trace_rel_error_list)"
   ]
  },
  {
   "cell_type": "markdown",
   "id": "08f5bcd6-825d-48bb-b7f1-e0c10798edee",
   "metadata": {
    "tags": []
   },
   "source": [
    "## 5. calc_loss"
   ]
  },
  {
   "cell_type": "code",
   "execution_count": 824,
   "id": "f88e3f5a-1f6d-4e39-9108-7b53347cd4c4",
   "metadata": {
    "tags": []
   },
   "outputs": [],
   "source": [
    "def loss_linalg(K, y):\n",
    "    Kinvy_linalg = jnp.linalg.solve(K, y)\n",
    "    logdet_linalg = calc_logdet_linalg(K)\n",
    "    yKy_linalg = jnp.dot(y, Kinvy_linalg)\n",
    "    loss = (yKy_linalg + logdet_linalg)/2 + len(y)/2*jnp.log(jnp.pi*2)\n",
    "    print(yKy_linalg)\n",
    "    print(logdet_linalg)\n",
    "    return loss"
   ]
  },
  {
   "cell_type": "code",
   "execution_count": 825,
   "id": "e1d412f8-b3ca-45a8-914f-886ab005dc1d",
   "metadata": {
    "tags": []
   },
   "outputs": [
    {
     "name": "stdout",
     "output_type": "stream",
     "text": [
      "25.20543574493154\n",
      "-5703.0986092739795\n"
     ]
    },
    {
     "data": {
      "text/plain": [
       "DeviceArray(-1920.00805356, dtype=float64)"
      ]
     },
     "execution_count": 825,
     "metadata": {},
     "output_type": "execute_result"
    }
   ],
   "source": [
    "loss_linalg(K, delta_y_train)"
   ]
  },
  {
   "cell_type": "code",
   "execution_count": 826,
   "id": "f6fbbfef-b72a-419c-ba4a-4a097b5f09e2",
   "metadata": {
    "tags": []
   },
   "outputs": [
    {
     "data": {
      "text/plain": [
       "DeviceArray(-1920.00805356, dtype=float64)"
      ]
     },
     "execution_count": 826,
     "metadata": {},
     "output_type": "execute_result"
    }
   ],
   "source": [
    "gp_model.trainingFunction_all(init, *args_predict[2:])"
   ]
  },
  {
   "cell_type": "code",
   "execution_count": 747,
   "id": "f4bb58af-3abc-4f2e-b98b-3039ae4edc7b",
   "metadata": {
    "tags": []
   },
   "outputs": [
    {
     "data": {
      "text/plain": [
       "DeviceArray([  77.42186831, -520.0009439 ], dtype=float64)"
      ]
     },
     "execution_count": 747,
     "metadata": {},
     "output_type": "execute_result"
    }
   ],
   "source": [
    "likelihood = gp_model.trainingFunction_all\n",
    "grad(likelihood, 0)(init, *args_predict[2:])"
   ]
  },
  {
   "cell_type": "code",
   "execution_count": 827,
   "id": "ffc41887-acf2-4a7b-88a6-a6bfaffa693c",
   "metadata": {
    "tags": []
   },
   "outputs": [],
   "source": [
    "def setup_loss_mpcg(rank=15, n_tridiag=10, seed=0, tolerance=0.01, max_tridiag_iter=20):\n",
    "    def loss_mpcg(init, *args):\n",
    "\n",
    "        r, delta_y, noise = args\n",
    "\n",
    "        K = gp_model.trainingK_all(init, r)\n",
    "        K = gp_model.add_eps_to_sigma(K, noise, noise_parameter=None)\n",
    "\n",
    "        perecondition, precond_lt, precond_logdet_cache = precond.setup_preconditioner(K, rank=rank, noise=noise)\n",
    "        if precondition:\n",
    "            zs = precond_lt.zero_mean_mvn_samples(n_tridiag, seed=0)\n",
    "        else:\n",
    "            zs = jax.random.normal(jax.random.PRNGKey(0), (len(delta_y), n_tridiag))\n",
    "        zs_norms = jnp.linalg.norm(zs, axis=0, keepdims=True)\n",
    "        zs = zs/zs_norms\n",
    "        rhs = jnp.concatenate([zs, delta_y.reshape(-1, 1)], axis=1)\n",
    "\n",
    "        Kinvy, j,t_mat = cg.mpcg_bbmm(\n",
    "            K,\n",
    "            rhs,\n",
    "            precondition=precondition, \n",
    "            print_process=False, \n",
    "            tolerance=tolerance, \n",
    "            n_tridiag=n_tridiag, \n",
    "            max_tridiag_iter=max_tridiag_iter\n",
    "        )\n",
    "\n",
    "        logdet = calc_logdet.calc_logdet(K.shape, t_mat, precond_logdet_cache)\n",
    "\n",
    "        yKy = jnp.dot(delta_y, Kinvy[:, -1])\n",
    "        loss = (yKy + logdet)/2 + len(delta_y)/2*jnp.log(jnp.pi*2)    \n",
    "        # print(yKy)\n",
    "        # print(logdet)\n",
    "        return loss\n",
    "    return loss_mpcg"
   ]
  },
  {
   "cell_type": "code",
   "execution_count": 828,
   "id": "4baaa10e-06c6-474b-b7ed-55ec4955b7ca",
   "metadata": {
    "tags": []
   },
   "outputs": [],
   "source": [
    "likelihood_mpcg = setup_loss_mpcg(rank=5, n_tridiag=30, max_tridiag_iter=100)"
   ]
  },
  {
   "cell_type": "code",
   "execution_count": 829,
   "id": "fd66c5d3-4536-41ba-8f32-2ec00a5d767d",
   "metadata": {
    "tags": []
   },
   "outputs": [
    {
     "data": {
      "text/plain": [
       "DeviceArray(-1930.63327314, dtype=float64)"
      ]
     },
     "execution_count": 829,
     "metadata": {},
     "output_type": "execute_result"
    }
   ],
   "source": [
    "likelihood_mpcg(init, *args_predict[2:])"
   ]
  },
  {
   "cell_type": "code",
   "execution_count": 830,
   "id": "5b422d55-1154-498d-9fa4-14401473360c",
   "metadata": {
    "tags": []
   },
   "outputs": [
    {
     "data": {
      "text/plain": [
       "DeviceArray([  78.64121771, -518.49510839], dtype=float64)"
      ]
     },
     "execution_count": 830,
     "metadata": {},
     "output_type": "execute_result"
    }
   ],
   "source": [
    "grad(likelihood_mpcg, 0)(init, *args_predict[2:])"
   ]
  },
  {
   "cell_type": "code",
   "execution_count": 798,
   "id": "4dc0c923-374a-445e-95d2-29f9761e061b",
   "metadata": {
    "tags": []
   },
   "outputs": [],
   "source": [
    "def check_ll(n_tridiag=10, rank=15, tolerance=0.01, min_preconditioning_size=2000, max_tridiag_iter=20):\n",
    "    likelihood = gp_model.trainingFunction_all\n",
    "    ll_ref = likelihood(init, *args_predict[2:])\n",
    "    dll_ref = grad(likelihood, 0)(init, *args_predict[2:])\n",
    "    ll_list = []\n",
    "    dll_list = []\n",
    "    for i in range(10):\n",
    "        likelihood_mpcg = setup_loss_mpcg(\n",
    "            seed=0,\n",
    "            n_tridiag=n_tridiag,\n",
    "            rank=rank,\n",
    "            tolerance=tolerance,\n",
    "            max_tridiag_iter=max_tridiag_iter\n",
    "        )\n",
    "        ll_mpcg = likelihood_mpcg(init, *args_predict[2:])\n",
    "        dll_mpcg = grad(likelihood_mpcg, 0)(init, *args_predict[2:])\n",
    "        ll_list.append(ll_mpcg)\n",
    "        dll_list.append(dll_mpcg)\n",
    "    ll_mean = np.mean(ll_list)\n",
    "    ll_relative_error = np.mean(np.abs((ll_ref-np.array(ll_list))/ll_ref))\n",
    "    dll_relative_error = np.mean(np.abs((dll_ref-np.array(dll_list))/dll_ref))\n",
    "    return ll_mean, ll_relative_error, dll_relative_error"
   ]
  },
  {
   "cell_type": "code",
   "execution_count": 799,
   "id": "58000f51-030e-4176-9d75-e1dfff6fdbda",
   "metadata": {
    "tags": []
   },
   "outputs": [],
   "source": [
    "n_tridiag_list = [2, 5, 10]\n",
    "ll_list = []\n",
    "ll_rel_error_list = []\n",
    "dll_rel_error_list = []\n",
    "for n_tridiag in n_tridiag_list:\n",
    "    ll, ll_rel_err, dll_rel_err = check_ll(n_tridiag=n_tridiag, max_tridiag_iter=100)\n",
    "    ll_list.append(ll)\n",
    "    ll_rel_error_list.append(ll_rel_err)\n",
    "    dll_rel_error_list.append(dll_rel_err)"
   ]
  },
  {
   "cell_type": "code",
   "execution_count": 800,
   "id": "1b3b6844-a88d-4caf-8e27-b58a49214144",
   "metadata": {
    "tags": []
   },
   "outputs": [],
   "source": [
    "likelihood = gp_model.trainingFunction_all\n",
    "ll_ref = likelihood(init, *args_predict[2:])\n",
    "dll_ref = grad(likelihood, 0)(init, *args_predict[2:])"
   ]
  },
  {
   "cell_type": "code",
   "execution_count": 801,
   "id": "3491ca82-042a-4ae7-86db-1670ba77d939",
   "metadata": {
    "tags": []
   },
   "outputs": [
    {
     "data": {
      "image/png": "[encoded data removed]",
      "text/plain": [
       "<Figure size 1000x400 with 4 Axes>"
      ]
     },
     "metadata": {},
     "output_type": "display_data"
    }
   ],
   "source": [
    "fig, axs = plt.subplots(ncols=2, figsize=(10, 4))\n",
    "ax = axs[0]\n",
    "ax.plot(n_tridiag_list, ll_list, marker='o', label='likelihood')\n",
    "ax.hlines(ll_ref, n_tridiag_list[0], n_tridiag_list[-1], linestyle='--', label='ans')\n",
    "ax.set_xlabel('n_tridiag')\n",
    "ax2 = ax.twinx()\n",
    "ax2.semilogy(n_tridiag_list, ll_rel_error_list, color='b', marker='x', label='rel_error')\n",
    "\n",
    "lines, labels = ax.get_legend_handles_labels()\n",
    "lines2, labels2 = ax2.get_legend_handles_labels()\n",
    "# Create a legend for the first line in each axes\n",
    "ax.legend(lines + lines2, labels + labels2, loc='best')\n",
    "ax.set_title('likelihood')\n",
    "\n",
    "ax = axs[1]\n",
    "# ax.plot(n_tridiag_list, dll_list, marker='o', label='dlikelihood')\n",
    "# ax.hlines(ll_ref, n_tridiag_list[0], n_tridiag_list[-1], linestyle='--', label='ans')\n",
    "ax.set_xlabel('n_tridiag')\n",
    "ax2 = ax.twinx()\n",
    "ax2.semilogy(n_tridiag_list, dll_rel_error_list, color='b', marker='x', label='rel_error')\n",
    "\n",
    "lines, labels = ax.get_legend_handles_labels()\n",
    "lines2, labels2 = ax2.get_legend_handles_labels()\n",
    "# Create a legend for the first line in each axes\n",
    "ax.legend(lines + lines2, labels + labels2, loc='best')\n",
    "\n",
    "ax.set_title('d likelihood')\n",
    "\n",
    "plt.tight_layout()"
   ]
  },
  {
   "cell_type": "markdown",
   "id": "4cab4839-f5d9-4527-b7b7-49348554ba6e",
   "metadata": {},
   "source": [
    "# large noise"
   ]
  },
  {
   "cell_type": "code",
   "execution_count": 120,
   "id": "9214ab84-8328-42a8-a6ef-7adbd8117ee6",
   "metadata": {
    "tags": []
   },
   "outputs": [],
   "source": [
    "scale = 5"
   ]
  },
  {
   "cell_type": "code",
   "execution_count": 203,
   "id": "4d0a307a-4b87-4a91-8950-3a0ee792153b",
   "metadata": {
    "tags": []
   },
   "outputs": [],
   "source": [
    "# prepare data\n",
    "hdf_operator = HdfOperator(f\"{project_name}/{simulation_name}\")\n",
    "r_test, μ_test, r_train, μ_train, f_train = load_data(lbls, vnames, hdf_operator)\n",
    "delta_y_train = jnp.empty(0)\n",
    "for i in range(len(r_train)):\n",
    "    delta_y_train = jnp.append(delta_y_train, f_train[i] - μ_train[i])\n",
    "\n",
    "r_train_scaled = [_r * scale for _r in r_train]\n",
    "r_test_scaled = [_r * scale for _r in r_test]    \n",
    "    \n",
    "params_model[\"epsilon\"] = 1e-06\n",
    "args_predict = r_test_scaled, μ_test, r_train_scaled, delta_y_train, params_model[\"epsilon\"]\n",
    "noise = params_model[\"epsilon\"]"
   ]
  },
  {
   "cell_type": "markdown",
   "id": "6a16e00d-370a-4a9d-8060-11b958945859",
   "metadata": {},
   "source": [
    "### setup model"
   ]
  },
  {
   "cell_type": "code",
   "execution_count": 204,
   "id": "8694b81f-5ed1-4ce2-ad9c-a6915d037470",
   "metadata": {
    "tags": []
   },
   "outputs": [],
   "source": [
    "# setup model\n",
    "Kernel = define_kernel(params_model)\n",
    "gp_model = gp_1D_naive.GPmodel1DNaive(\n",
    "    Kernel=Kernel,\n",
    ")\n",
    "gp_model.set_constants(*args_predict)\n",
    "loglikelihood, predictor = (\n",
    "    gp_model.trainingFunction_all,\n",
    "    gp_model.predictingFunction_all,\n",
    ")\n",
    "func = jit(logposterior(loglikelihood, params_optimization))\n",
    "dfunc = jit(grad(func, 0))\n",
    "hess = hessian(func)"
   ]
  },
  {
   "cell_type": "code",
   "execution_count": 205,
   "id": "d7a94d7b-8f0f-4e03-9e9e-4c45e11fb56a",
   "metadata": {
    "tags": []
   },
   "outputs": [],
   "source": [
    "init = init.at[1].set(-3.)"
   ]
  },
  {
   "cell_type": "markdown",
   "id": "9bfffb33-044f-4715-a043-f5d5b6895bdb",
   "metadata": {},
   "source": [
    "## check $K^{-1}y$"
   ]
  },
  {
   "cell_type": "code",
   "execution_count": 206,
   "id": "77222ebe-784f-4c2f-8e74-5a5595a5e741",
   "metadata": {
    "tags": []
   },
   "outputs": [],
   "source": [
    "K = gp_model.trainingK_all(init, r_train_scaled)\n",
    "K_torch = torch.from_numpy(np.array(K))\n",
    "K = gp_model.add_eps_to_sigma(K, noise, noise_parameter=None)"
   ]
  },
  {
   "cell_type": "code",
   "execution_count": 207,
   "id": "aa89ee26-4654-42c1-94cb-18b930c2a895",
   "metadata": {
    "tags": []
   },
   "outputs": [
    {
     "data": {
      "text/plain": [
       "(True, DeviceArray(114269.28529327, dtype=float64))"
      ]
     },
     "execution_count": 207,
     "metadata": {},
     "output_type": "execute_result"
    }
   ],
   "source": [
    "is_positive_definite(K), jnp.linalg.cond(K)"
   ]
  },
  {
   "cell_type": "code",
   "execution_count": 208,
   "id": "cd4c1c0d-1703-4f3e-8943-174a6b47c76a",
   "metadata": {
    "tags": []
   },
   "outputs": [
    {
     "data": {
      "text/plain": [
       "DeviceArray(1.000001, dtype=float64)"
      ]
     },
     "execution_count": 208,
     "metadata": {},
     "output_type": "execute_result"
    }
   ],
   "source": [
    "np.max(K)"
   ]
  },
  {
   "cell_type": "code",
   "execution_count": 209,
   "id": "6f90a0a9-4f44-4e21-b695-2bc1290ac04d",
   "metadata": {
    "tags": []
   },
   "outputs": [
    {
     "data": {
      "text/plain": [
       "<matplotlib.colorbar.Colorbar at 0x7f390c235d00>"
      ]
     },
     "execution_count": 209,
     "metadata": {},
     "output_type": "execute_result"
    },
    {
     "data": {
      "image/png": "[encoded data removed]",
      "text/plain": [
       "<Figure size 640x480 with 2 Axes>"
      ]
     },
     "metadata": {},
     "output_type": "display_data"
    }
   ],
   "source": [
    "fig, ax = plt.subplots()\n",
    "mappable = ax.pcolormesh(np.flipud(K), vmin=-np.max(K), vmax=np.max(K), cmap=cmo.cm.balance)\n",
    "fig.colorbar(mappable)"
   ]
  },
  {
   "cell_type": "code",
   "execution_count": 279,
   "id": "2ecf851d-7043-4627-a9e3-90e43b28c490",
   "metadata": {},
   "outputs": [],
   "source": [
    "rank= 40\n",
    "n_tridiag = 210\n",
    "max_tridiag_iter=200\n",
    "min_preconditioning_size=2000\n",
    "max_tridiga_iter = 4000\n",
    "max_iter_cg = 5000"
   ]
  },
  {
   "cell_type": "code",
   "execution_count": 280,
   "id": "54f22204-9fd4-4a3f-8009-4fe86dfd49bd",
   "metadata": {
    "tags": []
   },
   "outputs": [],
   "source": [
    "precondition, precond_lt, precond_logdet_cache = precond.setup_preconditioner(K, rank=rank, noise=noise, min_preconditioning_size=min_preconditioning_size)\n",
    "if precondition:\n",
    "    zs = precond_lt.zero_mean_mvn_samples(n_tridiag, seed=0)\n",
    "else:\n",
    "    zs = jax.random.normal(jax.random.PRNGKey(0), (len(delta_y_train), n_tridiag))\n",
    "# zs_norms = jnp.linalg.norm(zs, axis=0, keepdims=True)\n",
    "# zs = zs/zs_norms\n",
    "rhs = jnp.concatenate([zs, delta_y_train.reshape(-1, 1)], axis=1)\n",
    "rhs_torch = torch.from_numpy(np.array(rhs))"
   ]
  },
  {
   "cell_type": "code",
   "execution_count": 281,
   "id": "79d61905-8cf1-492c-a615-b89964830569",
   "metadata": {
    "tags": []
   },
   "outputs": [],
   "source": [
    "# jnp.linalg.cond(precondition(K))"
   ]
  },
  {
   "cell_type": "code",
   "execution_count": 282,
   "id": "5276f006-9af3-44b0-ae24-ebbac7fdcdb2",
   "metadata": {
    "tags": []
   },
   "outputs": [],
   "source": [
    "Kinvy_linalg = jnp.linalg.solve(K, rhs)"
   ]
  },
  {
   "cell_type": "code",
   "execution_count": 283,
   "id": "b7ea34ec-053e-41ab-85e4-b2da35c864f3",
   "metadata": {
    "tags": []
   },
   "outputs": [
    {
     "name": "stdout",
     "output_type": "stream",
     "text": [
      "0.00023353035373599332 1974\n"
     ]
    }
   ],
   "source": [
    "Kinvy, j,t_mat = cg.mpcg_bbmm(\n",
    "    K,\n",
    "    rhs,\n",
    "    precondition=precondition, \n",
    "    print_process=False, \n",
    "    tolerance=0.00001, \n",
    "    n_tridiag=n_tridiag, \n",
    "    max_tridiag_iter=max_tridiag_iter,\n",
    "    max_iter_cg=max_iter_cg\n",
    ")\n",
    "print(rel_error(Kinvy_linalg, Kinvy) ,j)"
   ]
  },
  {
   "cell_type": "markdown",
   "id": "290ec216-3f40-4445-bed8-88a1567ea74b",
   "metadata": {
    "tags": []
   },
   "source": [
    "### check logdet"
   ]
  },
  {
   "cell_type": "code",
   "execution_count": 284,
   "id": "8e098fcd-5fde-4887-9893-3909733ea409",
   "metadata": {
    "tags": []
   },
   "outputs": [
    {
     "data": {
      "text/plain": [
       "(DeviceArray(-2699.66496583, dtype=float64),\n",
       " DeviceArray(-2718.73034463, dtype=float64))"
      ]
     },
     "execution_count": 284,
     "metadata": {},
     "output_type": "execute_result"
    }
   ],
   "source": [
    "logdet = calc_logdet.calc_logdet(K.shape, t_mat, precond_logdet_cache)\n",
    "logdet_linalg = calc_logdet_linalg(K)\n",
    "logdet, logdet_linalg"
   ]
  },
  {
   "cell_type": "code",
   "execution_count": 248,
   "id": "f3606a8c-5ade-4848-86c7-6550a9e679b1",
   "metadata": {
    "tags": []
   },
   "outputs": [
    {
     "data": {
      "text/plain": [
       "(tensor(125.8737, dtype=torch.float64),\n",
       " tensor(-2726.3194, dtype=torch.float64))"
      ]
     },
     "execution_count": 248,
     "metadata": {},
     "output_type": "execute_result"
    }
   ],
   "source": [
    "K_linear_op = linear_operator.to_linear_operator(K_torch)\n",
    "diag_tensor = torch.ones(len(delta_y_train), dtype=torch.float64)*noise\n",
    "diag_linear_op = DiagLinearOperator(diag_tensor)\n",
    "added_diag = AddedDiagLinearOperator(K_linear_op, diag_linear_op)\n",
    "\n",
    "linear_operator.settings.min_preconditioning_size._set_value(2000)\n",
    "linear_operator.settings.num_trace_samples._set_value(n_tridiag)\n",
    "linear_operator.settings.max_preconditioner_size._set_value(rank)\n",
    "linear_operator.settings.max_lanczos_quadrature_iterations._set_value(max_tridiag_iter)\n",
    "linear_operator.settings.max_cg_iterations._set_value(10000)\n",
    "linear_operator.settings.cg_tolerance(0.0001)\n",
    "\n",
    "added_diag.inv_quad_logdet(inv_quad_rhs=rhs_torch[:, -1:], logdet=True)"
   ]
  },
  {
   "cell_type": "code",
   "execution_count": 249,
   "id": "e6094079-6cf3-4ce6-8f91-1c690d0230ca",
   "metadata": {
    "tags": []
   },
   "outputs": [
    {
     "name": "stdout",
     "output_type": "stream",
     "text": [
      "0.024737653598489766\n"
     ]
    }
   ],
   "source": [
    "preconditioner_torch, precond_lt_torch, precond_logdet_torch = added_diag._preconditioner()\n",
    "Kinvy_torch, t_mat_torch = added_diag._solve(rhs_torch, preconditioner=preconditioner_torch, num_tridiag=n_tridiag)\n",
    "print(rel_error(Kinvy_linalg, Kinvy_torch.numpy()))\n",
    "# linear_operator.settings.cg_tolerance._set_value(0.001)"
   ]
  },
  {
   "cell_type": "code",
   "execution_count": 250,
   "id": "a93b7bc1-089c-4c2e-88f5-34e2f9dd5f30",
   "metadata": {
    "tags": []
   },
   "outputs": [
    {
     "data": {
      "text/plain": [
       "tensor(-2707.1865, dtype=torch.float64)"
      ]
     },
     "execution_count": 250,
     "metadata": {},
     "output_type": "execute_result"
    }
   ],
   "source": [
    "eval_torch, evec_torch = linear_operator.utils.lanczos.lanczos_tridiag_to_diag(t_mat_torch)\n",
    "slq = linear_operator.utils.stochastic_lq.StochasticLQ()\n",
    "(logdet_term,) = slq.to_dense(added_diag.matrix_shape, eval_torch, evec_torch,  [lambda x: x.log()])\n",
    "if precond_logdet_torch:\n",
    "    logdet_torch = logdet_term + precond_logdet_torch\n",
    "else:\n",
    "    logdet_torch = logdet_term\n",
    "logdet_torch"
   ]
  },
  {
   "cell_type": "markdown",
   "id": "47c9e7cd-0482-429b-be9d-7be9c4d01c27",
   "metadata": {},
   "source": [
    "### check trace term"
   ]
  },
  {
   "cell_type": "code",
   "execution_count": 285,
   "id": "880d7ffa-a6ef-4882-ac73-64ed2f00b99b",
   "metadata": {
    "tags": []
   },
   "outputs": [],
   "source": [
    "def calc_trainingK(theta):\n",
    "    θ, _ = gp_model.split_hyp_and_noise(theta)\n",
    "    Σ = gp_model.trainingK_all(θ, r_train)\n",
    "    Σ = gp_model.add_eps_to_sigma(Σ, noise, noise_parameter=None)\n",
    "    return Σ"
   ]
  },
  {
   "cell_type": "code",
   "execution_count": 286,
   "id": "1484dd8d-f91d-435b-b0d6-b07239b86ba5",
   "metadata": {
    "tags": []
   },
   "outputs": [],
   "source": [
    "dKdtheta = jnp.transpose(jax.jacfwd(calc_trainingK)(init), (2, 0, 1))"
   ]
  },
  {
   "cell_type": "code",
   "execution_count": 287,
   "id": "0078c72a-0c6d-45ca-9fbd-1773595df8c2",
   "metadata": {
    "tags": []
   },
   "outputs": [],
   "source": [
    "L = jnp.linalg.cholesky(K)\n",
    "I = jnp.eye(len(delta_y_train))\n",
    "Kinv = jnp.linalg.solve(L.T, jnp.linalg.solve(L, I))"
   ]
  },
  {
   "cell_type": "code",
   "execution_count": 288,
   "id": "da8b46b3-13b6-451a-a063-ea061ec79935",
   "metadata": {
    "tags": []
   },
   "outputs": [],
   "source": [
    "trace_rel_error_list = []\n",
    "for dK in dKdtheta:\n",
    "    if precondition:\n",
    "        trace = calc_trace.calc_trace(\n",
    "            Kinvy, dK, precondition(zs), n_tridiag=n_tridiag\n",
    "        )\n",
    "    else:\n",
    "        trace = calc_trace.calc_trace(Kinvy, dK, zs, n_tridiag=n_tridiag)\n",
    "\n",
    "    trace_linalg = jnp.sum(jnp.diag(jnp.matmul(Kinv, dK)))\n",
    "\n",
    "    trace_rel_error_list.append(abs((trace - trace_linalg) / trace_linalg))"
   ]
  },
  {
   "cell_type": "code",
   "execution_count": 289,
   "id": "024a695b-521f-4ad8-a733-10b105375a54",
   "metadata": {
    "tags": []
   },
   "outputs": [
    {
     "data": {
      "text/plain": [
       "[DeviceArray(0.01017289, dtype=float64),\n",
       " DeviceArray(0.28725716, dtype=float64)]"
      ]
     },
     "execution_count": 289,
     "metadata": {},
     "output_type": "execute_result"
    }
   ],
   "source": [
    "trace_rel_error_list"
   ]
  },
  {
   "cell_type": "code",
   "execution_count": 290,
   "id": "44e9aa32-473d-429c-930d-04e1f9d7d652",
   "metadata": {
    "tags": []
   },
   "outputs": [
    {
     "data": {
      "text/plain": [
       "0.14871502421080374"
      ]
     },
     "execution_count": 290,
     "metadata": {},
     "output_type": "execute_result"
    }
   ],
   "source": [
    "np.mean(trace_rel_error_list)"
   ]
  },
  {
   "cell_type": "markdown",
   "id": "59ed031e-a6f2-4846-ab72-13f2066c5855",
   "metadata": {
    "tags": []
   },
   "source": [
    "## 5. calc_loss"
   ]
  },
  {
   "cell_type": "code",
   "execution_count": 824,
   "id": "1a7d568d-5430-43a6-9dd6-90bff716c377",
   "metadata": {
    "tags": []
   },
   "outputs": [],
   "source": [
    "def loss_linalg(K, y):\n",
    "    Kinvy_linalg = jnp.linalg.solve(K, y)\n",
    "    logdet_linalg = calc_logdet_linalg(K)\n",
    "    yKy_linalg = jnp.dot(y, Kinvy_linalg)\n",
    "    loss = (yKy_linalg + logdet_linalg)/2 + len(y)/2*jnp.log(jnp.pi*2)\n",
    "    print(yKy_linalg)\n",
    "    print(logdet_linalg)\n",
    "    return loss"
   ]
  },
  {
   "cell_type": "code",
   "execution_count": 825,
   "id": "ea480b5c-8b16-4a1c-8ea1-bab94a78642c",
   "metadata": {
    "tags": []
   },
   "outputs": [
    {
     "name": "stdout",
     "output_type": "stream",
     "text": [
      "25.20543574493154\n",
      "-5703.0986092739795\n"
     ]
    },
    {
     "data": {
      "text/plain": [
       "DeviceArray(-1920.00805356, dtype=float64)"
      ]
     },
     "execution_count": 825,
     "metadata": {},
     "output_type": "execute_result"
    }
   ],
   "source": [
    "loss_linalg(K, delta_y_train)"
   ]
  },
  {
   "cell_type": "code",
   "execution_count": 826,
   "id": "aec1c12b-b5cb-4ebd-8dd1-7df58214d352",
   "metadata": {
    "tags": []
   },
   "outputs": [
    {
     "data": {
      "text/plain": [
       "DeviceArray(-1920.00805356, dtype=float64)"
      ]
     },
     "execution_count": 826,
     "metadata": {},
     "output_type": "execute_result"
    }
   ],
   "source": [
    "gp_model.trainingFunction_all(init, *args_predict[2:])"
   ]
  },
  {
   "cell_type": "code",
   "execution_count": 747,
   "id": "f67fcd0e-42fb-4153-8a85-70c8cc5e4ee8",
   "metadata": {
    "tags": []
   },
   "outputs": [
    {
     "data": {
      "text/plain": [
       "DeviceArray([  77.42186831, -520.0009439 ], dtype=float64)"
      ]
     },
     "execution_count": 747,
     "metadata": {},
     "output_type": "execute_result"
    }
   ],
   "source": [
    "likelihood = gp_model.trainingFunction_all\n",
    "grad(likelihood, 0)(init, *args_predict[2:])"
   ]
  },
  {
   "cell_type": "code",
   "execution_count": 827,
   "id": "ce05418b-b395-4e01-96b6-8ac3d7c7ad03",
   "metadata": {
    "tags": []
   },
   "outputs": [],
   "source": [
    "def setup_loss_mpcg(rank=15, n_tridiag=10, seed=0, tolerance=0.01, max_tridiag_iter=20):\n",
    "    def loss_mpcg(init, *args):\n",
    "\n",
    "        r, delta_y, noise = args\n",
    "\n",
    "        K = gp_model.trainingK_all(init, r)\n",
    "        K = gp_model.add_eps_to_sigma(K, noise, noise_parameter=None)\n",
    "\n",
    "        perecondition, precond_lt, precond_logdet_cache = precond.setup_preconditioner(K, rank=rank, noise=noise)\n",
    "        if precondition:\n",
    "            zs = precond_lt.zero_mean_mvn_samples(n_tridiag, seed=0)\n",
    "        else:\n",
    "            zs = jax.random.normal(jax.random.PRNGKey(0), (len(delta_y), n_tridiag))\n",
    "        zs_norms = jnp.linalg.norm(zs, axis=0, keepdims=True)\n",
    "        zs = zs/zs_norms\n",
    "        rhs = jnp.concatenate([zs, delta_y.reshape(-1, 1)], axis=1)\n",
    "\n",
    "        Kinvy, j,t_mat = cg.mpcg_bbmm(\n",
    "            K,\n",
    "            rhs,\n",
    "            precondition=precondition, \n",
    "            print_process=False, \n",
    "            tolerance=tolerance, \n",
    "            n_tridiag=n_tridiag, \n",
    "            max_tridiag_iter=max_tridiag_iter\n",
    "        )\n",
    "\n",
    "        logdet = calc_logdet.calc_logdet(K.shape, t_mat, precond_logdet_cache)\n",
    "\n",
    "        yKy = jnp.dot(delta_y, Kinvy[:, -1])\n",
    "        loss = (yKy + logdet)/2 + len(delta_y)/2*jnp.log(jnp.pi*2)    \n",
    "        # print(yKy)\n",
    "        # print(logdet)\n",
    "        return loss\n",
    "    return loss_mpcg"
   ]
  },
  {
   "cell_type": "code",
   "execution_count": 828,
   "id": "56c57f91-c68e-445b-8704-c15f3be30b28",
   "metadata": {
    "tags": []
   },
   "outputs": [],
   "source": [
    "likelihood_mpcg = setup_loss_mpcg(rank=5, n_tridiag=30, max_tridiag_iter=100)"
   ]
  },
  {
   "cell_type": "code",
   "execution_count": 829,
   "id": "84b79617-9598-4105-8001-7572c8c0e992",
   "metadata": {
    "tags": []
   },
   "outputs": [
    {
     "data": {
      "text/plain": [
       "DeviceArray(-1930.63327314, dtype=float64)"
      ]
     },
     "execution_count": 829,
     "metadata": {},
     "output_type": "execute_result"
    }
   ],
   "source": [
    "likelihood_mpcg(init, *args_predict[2:])"
   ]
  },
  {
   "cell_type": "code",
   "execution_count": 830,
   "id": "a8d9100f-cb57-417b-8759-30032380526c",
   "metadata": {
    "tags": []
   },
   "outputs": [
    {
     "data": {
      "text/plain": [
       "DeviceArray([  78.64121771, -518.49510839], dtype=float64)"
      ]
     },
     "execution_count": 830,
     "metadata": {},
     "output_type": "execute_result"
    }
   ],
   "source": [
    "grad(likelihood_mpcg, 0)(init, *args_predict[2:])"
   ]
  },
  {
   "cell_type": "markdown",
   "id": "e1377bc5-b9f1-4f7f-b67c-60aad27fe1ca",
   "metadata": {},
   "source": [
    "## actual training"
   ]
  },
  {
   "cell_type": "code",
   "execution_count": 802,
   "id": "4647107d-dab3-4d94-8a8a-4ebf8ba43fba",
   "metadata": {
    "tags": []
   },
   "outputs": [],
   "source": [
    "likelihood_mpcg = setup_loss_mpcg(rank=5, n_tridiag=30, max_tridiag_iter=100)"
   ]
  },
  {
   "cell_type": "code",
   "execution_count": 803,
   "id": "7de05f75-f0f2-49cd-a375-9c7d2a036ee8",
   "metadata": {
    "tags": []
   },
   "outputs": [],
   "source": [
    "func = jit(logposterior(loglikelihood, params_optimization))\n",
    "dfunc = jit(grad(func, 0))\n",
    "hess = hessian(func)"
   ]
  },
  {
   "cell_type": "code",
   "execution_count": 805,
   "id": "91db60ac-a6e6-49c2-a54e-b9969ae7f86e",
   "metadata": {
    "tags": []
   },
   "outputs": [],
   "source": [
    "params_optimization[\"maxiter_GD\"] = 5"
   ]
  },
  {
   "cell_type": "code",
   "execution_count": 806,
   "id": "5917cbf0-5be3-4741-a33b-5691c7407c24",
   "metadata": {
    "tags": []
   },
   "outputs": [
    {
     "ename": "NameError",
     "evalue": "name 'optimize_by_adam' is not defined",
     "output_type": "error",
     "traceback": [
      "\u001b[0;31m---------------------------------------------------------------------------\u001b[0m",
      "\u001b[0;31mNameError\u001b[0m                                 Traceback (most recent call last)",
      "Cell \u001b[0;32mIn [806], line 2\u001b[0m\n\u001b[1;32m      1\u001b[0m opts \u001b[38;5;241m=\u001b[39m [{\u001b[38;5;124m\"\u001b[39m\u001b[38;5;124mx\u001b[39m\u001b[38;5;124m\"\u001b[39m: init}]\n\u001b[0;32m----> 2\u001b[0m opt, loss, theta, norm_of_grads_list \u001b[38;5;241m=\u001b[39m \u001b[43moptimize_by_adam\u001b[49m(\n\u001b[1;32m      3\u001b[0m     func, dfunc, hess, init, params_optimization, \u001b[38;5;241m*\u001b[39margs_predict[\u001b[38;5;241m2\u001b[39m:]\n\u001b[1;32m      4\u001b[0m )\n",
      "\u001b[0;31mNameError\u001b[0m: name 'optimize_by_adam' is not defined"
     ]
    }
   ],
   "source": [
    "opts = [{\"x\": init}]\n",
    "opt, loss, theta, norm_of_grads_list = optimize_by_adam(\n",
    "    func, dfunc, hess, init, params_optimization, *args_predict[2:]\n",
    ")"
   ]
  },
  {
   "cell_type": "code",
   "execution_count": null,
   "id": "d533611e-462e-4761-b735-5756a4b24a02",
   "metadata": {},
   "outputs": [],
   "source": [
    "\n",
    "\n",
    "    train_start_time = time.time()\n",
    "    # optimize hyperparameters\n",
    "    if optimize:\n",
    "        \n",
    "    train_end_time = time.time()\n",
    "    print(f\"{train_end_time - train_start_time:.1f}s: training\")\n",
    "    # predict\n",
    "    pred_start_time = time.time()\n",
    "    fs, Σs = predictor(opt, *args_predict)\n",
    "    pred_end_time = time.time()\n",
    "    print(f\"{pred_end_time - pred_start_time:.1f}s: prediction\")\n",
    "\n",
    "    # unpack values\n",
    "    f_infer = [f for f in fs]\n",
    "    std = [jnp.sqrt(jnp.diag(Σ)) for Σ in Σs]\n"
   ]
  }
 ],
 "metadata": {
  "kernelspec": {
   "display_name": "mytorch",
   "language": "python",
   "name": "mytorch"
  },
  "language_info": {
   "codemirror_mode": {
    "name": "ipython",
    "version": 3
   },
   "file_extension": ".py",
   "mimetype": "text/x-python",
   "name": "python",
   "nbconvert_exporter": "python",
   "pygments_lexer": "ipython3",
   "version": "3.9.6"
  }
 },
 "nbformat": 4,
 "nbformat_minor": 5
}
