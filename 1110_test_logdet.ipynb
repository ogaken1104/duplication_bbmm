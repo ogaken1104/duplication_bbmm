{
 "cells": [
  {
   "cell_type": "code",
   "execution_count": 2,
   "id": "5ad6bf4b-5015-4ade-b30d-d0e1f068393e",
   "metadata": {
    "tags": []
   },
   "outputs": [],
   "source": [
    "import numpy as np\n",
    "import jax\n",
    "import jax.numpy as jnp\n",
    "from jax import vmap\n",
    "from jax import jit, lax\n",
    "import matplotlib.pyplot as plt\n",
    "import cmocean as cmo\n",
    "import importlib"
   ]
  },
  {
   "cell_type": "code",
   "execution_count": 3,
   "id": "f861d520-cf10-4616-ab7c-57fa9496d1b1",
   "metadata": {
    "tags": []
   },
   "outputs": [],
   "source": [
    "from jax.config import config\n",
    "config.update(\"jax_enable_x64\", True)"
   ]
  },
  {
   "cell_type": "code",
   "execution_count": 4,
   "id": "7f2db03a-1951-40f7-875f-2a6601daafe7",
   "metadata": {
    "tags": []
   },
   "outputs": [],
   "source": [
    "## import modules\n",
    "import bbmm.utils.preconditioner as precond\n",
    "import bbmm.utils.conjugate_gradient as cg\n",
    "import bbmm.functions.pivoted_cholesky as pc\n",
    "import bbmm.functions.pivoted_cholesky_ref as pc_ref # to use this script we need \"torch\", please comment out if not needed.\n",
    "import bbmm.utils.calc_logdet as calc_logdet\n",
    "import bbmm.utils.calc_trace as calc_trace\n",
    "def reload():\n",
    "    importlib.reload(precond)\n",
    "    importlib.reload(cg)\n",
    "    importlib.reload(pc)\n",
    "    importlib.reload(pc_ref)\n",
    "    importlib.reload(calc_logdet)\n",
    "    importlib.reload(calc_trace)\n",
    "reload()"
   ]
  },
  {
   "cell_type": "code",
   "execution_count": 5,
   "id": "0a55aa47-707c-4aac-b082-9b5453189e5e",
   "metadata": {
    "tags": []
   },
   "outputs": [],
   "source": [
    "import gpytorch\n",
    "import torch\n",
    "import linear_operator\n",
    "from linear_operator.operators import (\n",
    "    AddedDiagLinearOperator,\n",
    "    DiagLinearOperator,\n",
    "    LinearOperator,\n",
    "    DenseLinearOperator,\n",
    ")"
   ]
  },
  {
   "cell_type": "code",
   "execution_count": 6,
   "id": "c96c5e06-74ff-4cdf-9be5-190aa608bd3e",
   "metadata": {
    "tags": []
   },
   "outputs": [],
   "source": [
    "def generate_K(N, seed=0, noise=1e-06):\n",
    "    \"\"\"\n",
    "    generate positive definite symmetric matrix\n",
    "    \"\"\"\n",
    "    K = jax.random.normal(jax.random.PRNGKey(seed), (N, N))\n",
    "    # K = K @ K.T + 30* jnp.eye(N) + noise*jnp.eye(N)\n",
    "    # K = jnp.dot(K, K.T) + noise*jnp.eye(N)\n",
    "    # K = jnp.dot(K, K.T) / N\n",
    "    K = jnp.dot(K, K.T)/N\n",
    "    # K += (noise+30)*jnp.eye(N) ## ??\n",
    "    K += (2)*jnp.eye(N)\n",
    "    K += (noise)*jnp.eye(N)\n",
    "    if not is_positive_definite(K):\n",
    "        raise Exception(\"K is not positive definite !\")\n",
    "    return K"
   ]
  },
  {
   "cell_type": "code",
   "execution_count": 7,
   "id": "78b7f51e-a1cc-47f5-befc-4c23256e0ffe",
   "metadata": {
    "tags": []
   },
   "outputs": [],
   "source": [
    "def is_positive_definite(matrix):\n",
    "    # 行列の固有値を計算\n",
    "    eigenvalues = np.linalg.eigvals(matrix)\n",
    "\n",
    "    # 全ての固有値が正であるかをチェック\n",
    "    if np.all(eigenvalues > 0):\n",
    "        return True\n",
    "    else:\n",
    "        return False"
   ]
  },
  {
   "cell_type": "code",
   "execution_count": 8,
   "id": "db2b4f4c-754a-43ef-a75b-4a898a67905d",
   "metadata": {
    "tags": []
   },
   "outputs": [],
   "source": [
    "def rel_error(true, pred):\n",
    "    nonzero_index = jnp.where(true != 0.)\n",
    "    true = true[nonzero_index]\n",
    "    pred = pred[nonzero_index]\n",
    "    return jnp.mean(jnp.abs((true-pred)/true))"
   ]
  },
  {
   "cell_type": "markdown",
   "id": "08f5bcd6-825d-48bb-b7f1-e0c10798edee",
   "metadata": {
    "tags": []
   },
   "source": [
    "## 5. modified preconditioned conjugate gradient"
   ]
  },
  {
   "cell_type": "markdown",
   "id": "bc8f3d7c-03c9-4efd-8047-b8e8875a2c23",
   "metadata": {},
   "source": [
    "### N=200"
   ]
  },
  {
   "cell_type": "code",
   "execution_count": 257,
   "id": "0c91e63d-bc6c-4ca9-a56d-82913115966d",
   "metadata": {
    "tags": []
   },
   "outputs": [],
   "source": [
    "N = 200\n",
    "rank=15\n",
    "noise = 1e-06\n",
    "n_tridiag = 10\n",
    "K = generate_K(N)\n",
    "y = jax.random.normal(key=jax.random.PRNGKey(0), shape=(N,1))\n",
    "zs = jax.random.normal(jax.random.PRNGKey(1), (N, n_tridiag))\n",
    "K_torch = torch.from_numpy(np.array(K))\n",
    "rhs = jnp.concatenate([zs, y], axis=1)\n",
    "rhs_torch = torch.from_numpy(np.array(rhs))"
   ]
  },
  {
   "cell_type": "code",
   "execution_count": 258,
   "id": "1dddf277-c7ae-4cb2-b700-bfd716a37954",
   "metadata": {
    "tags": []
   },
   "outputs": [],
   "source": [
    "Kinvy_linalg = jnp.linalg.solve(K, rhs)"
   ]
  },
  {
   "cell_type": "code",
   "execution_count": 259,
   "id": "83a63f4b-d698-4464-b1b0-4787e3b30575",
   "metadata": {
    "tags": []
   },
   "outputs": [],
   "source": [
    "precondition, precond_lt, precond_logdet_cache = precond.setup_preconditioner(K, rank=rank, noise=noise)"
   ]
  },
  {
   "cell_type": "code",
   "execution_count": 260,
   "id": "7ce7fb98-158f-4c32-afdd-ad5d1ff9f4b5",
   "metadata": {
    "tags": []
   },
   "outputs": [
    {
     "name": "stdout",
     "output_type": "stream",
     "text": [
      "j=0 r1norm: 0.3284193625623561\n",
      "j=1 r1norm: 0.0924476128233194\n",
      "j=2 r1norm: 0.0246060473082805\n",
      "j=3 r1norm: 0.006555798544265459\n",
      "j=4 r1norm: 0.0017374285902254018\n",
      "j=5 r1norm: 0.0004555282069522226\n",
      "j=6 r1norm: 0.00011784840630136103\n",
      "j=7 r1norm: 3.0876183130328414e-05\n",
      "j=8 r1norm: 8.037598219340866e-06\n",
      "j=9 r1norm: 2.161714209467397e-06\n",
      "j=10 r1norm: 2.161714209467397e-06\n",
      "j=11 r1norm: 2.161714209467397e-06\n",
      "j=12 r1norm: 2.161714209467397e-06\n",
      "j=13 r1norm: 2.161714209467397e-06\n",
      "j=14 r1norm: 2.161714209467397e-06\n",
      "j=15 r1norm: 2.161714209467397e-06\n",
      "j=16 r1norm: 2.161714209467397e-06\n",
      "j=17 r1norm: 2.161714209467397e-06\n",
      "j=18 r1norm: 2.161714209467397e-06\n",
      "j=19 r1norm: 2.161714209467397e-06\n",
      "j=20 r1norm: 2.161714209467397e-06\n",
      "converged\n",
      "1.1905963895496283e-05\n"
     ]
    }
   ],
   "source": [
    "Kinvy, j,t_mat = cg.mpcg_bbmm(K, rhs, precondition=precondition, print_process=True, tolerance=0.01, n_tridiag=n_tridiag)\n",
    "print(rel_error(Kinvy_linalg, Kinvy))"
   ]
  },
  {
   "cell_type": "code",
   "execution_count": 261,
   "id": "8065e528-00cb-4ee6-a3e4-131379bbd64e",
   "metadata": {
    "tags": []
   },
   "outputs": [
    {
     "data": {
      "text/plain": [
       "20"
      ]
     },
     "execution_count": 261,
     "metadata": {},
     "output_type": "execute_result"
    }
   ],
   "source": [
    "j"
   ]
  },
  {
   "cell_type": "code",
   "execution_count": 262,
   "id": "33d4ea3e-75a8-48dd-94e8-8ad9796fba2c",
   "metadata": {
    "tags": []
   },
   "outputs": [],
   "source": [
    "def calc_logdet_linalg(K):\n",
    "    L = jnp.linalg.cholesky(K)\n",
    "    return jnp.sum(jnp.log(jnp.diag(L))) * 2"
   ]
  },
  {
   "cell_type": "code",
   "execution_count": 292,
   "id": "1775656e-3266-48fa-bff4-873c9c989395",
   "metadata": {
    "tags": []
   },
   "outputs": [],
   "source": [
    "def check_logdet(n_tridiag=10, rank=15, tol=0.01):\n",
    "    logdet_list = []\n",
    "    for i in range(10):\n",
    "        y = jax.random.normal(key=jax.random.PRNGKey(i), shape=(N,1))\n",
    "        precondition, precond_lt, precond_logdet_cache = precond.setup_preconditioner(K, rank=rank, noise=noise)\n",
    "        if precondition:\n",
    "            zs = jax.random.multivariate_normal(\n",
    "            jax.random.PRNGKey(0),\n",
    "            jnp.zeros(len(y)),\n",
    "            precond_lt,\n",
    "            shape=(n_tridiag,),\n",
    "            ).T\n",
    "        else:\n",
    "            zs = jax.random.normal(jax.random.PRNGKey(i+1), (N, n_tridiag))\n",
    "        rhs = jnp.concatenate([zs, y], axis=1)\n",
    "        \n",
    "        Kinvy, j,t_mat = cg.mpcg_bbmm(K, rhs, precondition=precondition, print_process=False, tolerance=tol, n_tridiag=n_tridiag)\n",
    "        logdet_list.append(calc_logdet.calc_logdet(K.shape, t_mat, precond_logdet_cache))\n",
    "        logdet_linalg = calc_logdet_linalg(K)\n",
    "    logdet = np.mean(logdet_list)\n",
    "    relative_error = np.mean(np.abs((logdet_linalg-np.array(logdet_list))/logdet_linalg))\n",
    "    return logdet, float(logdet_linalg), relative_error"
   ]
  },
  {
   "cell_type": "code",
   "execution_count": 264,
   "id": "e8dc29d2-9ff2-46d6-bca0-04daef271a73",
   "metadata": {
    "tags": []
   },
   "outputs": [
    {
     "data": {
      "text/plain": [
       "(208.58854365722354, 209.65905623055232, 0.01522419436025788)"
      ]
     },
     "execution_count": 264,
     "metadata": {},
     "output_type": "execute_result"
    }
   ],
   "source": [
    "check_logdet(2)"
   ]
  },
  {
   "cell_type": "code",
   "execution_count": 265,
   "id": "45fc3f8d-61c4-4684-a8f1-6f0d9f2d653a",
   "metadata": {
    "tags": []
   },
   "outputs": [
    {
     "data": {
      "text/plain": [
       "(208.18343449977365, 209.65905623055232, 0.010771360541280594)"
      ]
     },
     "execution_count": 265,
     "metadata": {},
     "output_type": "execute_result"
    }
   ],
   "source": [
    "check_logdet(5)"
   ]
  },
  {
   "cell_type": "code",
   "execution_count": 266,
   "id": "37228d40-bbde-4622-822e-3b14252a864b",
   "metadata": {
    "tags": []
   },
   "outputs": [
    {
     "data": {
      "text/plain": [
       "(209.2419802557477, 209.65905623055232, 0.005045458284575958)"
      ]
     },
     "execution_count": 266,
     "metadata": {},
     "output_type": "execute_result"
    }
   ],
   "source": [
    "check_logdet()"
   ]
  },
  {
   "cell_type": "code",
   "execution_count": 267,
   "id": "60feac09-a400-4853-ae70-d74138db01f3",
   "metadata": {
    "tags": []
   },
   "outputs": [
    {
     "data": {
      "text/plain": [
       "(209.890818163449, 209.65905623055232, 0.007117597530732431)"
      ]
     },
     "execution_count": 267,
     "metadata": {},
     "output_type": "execute_result"
    }
   ],
   "source": [
    "check_logdet(15)"
   ]
  },
  {
   "cell_type": "code",
   "execution_count": 268,
   "id": "f5b6b6df-59ae-4114-b87b-095a6153a3f7",
   "metadata": {
    "tags": []
   },
   "outputs": [
    {
     "data": {
      "text/plain": [
       "(209.99468300154587, 209.65905623055232, 0.004790205889365764)"
      ]
     },
     "execution_count": 268,
     "metadata": {},
     "output_type": "execute_result"
    }
   ],
   "source": [
    "check_logdet(20)"
   ]
  },
  {
   "cell_type": "code",
   "execution_count": 269,
   "id": "01f02287-8644-4e55-9923-2c91649b8eef",
   "metadata": {
    "tags": []
   },
   "outputs": [
    {
     "data": {
      "text/plain": [
       "DeviceArray(211.37720482, dtype=float64)"
      ]
     },
     "execution_count": 269,
     "metadata": {},
     "output_type": "execute_result"
    }
   ],
   "source": [
    "calc_logdet.calc_logdet(K.shape, t_mat, precondition)"
   ]
  },
  {
   "cell_type": "code",
   "execution_count": 270,
   "id": "7eefeecc-e882-48d6-8db8-263321558baa",
   "metadata": {
    "tags": []
   },
   "outputs": [
    {
     "data": {
      "text/plain": [
       "DeviceArray(209.65905623, dtype=float64)"
      ]
     },
     "execution_count": 270,
     "metadata": {},
     "output_type": "execute_result"
    }
   ],
   "source": [
    "logdet_linalg = calc_logdet_linalg(K)\n",
    "logdet_linalg"
   ]
  },
  {
   "cell_type": "code",
   "execution_count": 271,
   "id": "4fbecdb6-cfdf-4a7c-85bd-60bb33d18a97",
   "metadata": {
    "tags": []
   },
   "outputs": [],
   "source": [
    "K_linear_op = linear_operator.to_linear_operator(K_torch)\n",
    "diag_tensor = torch.ones(N, dtype=torch.float64)*noise\n",
    "diag_linear_op = DiagLinearOperator(diag_tensor)\n",
    "added_diag = AddedDiagLinearOperator(K_linear_op, diag_linear_op)"
   ]
  },
  {
   "cell_type": "code",
   "execution_count": 272,
   "id": "f304c3b7-fcf3-4e14-b8ac-d44244e3a648",
   "metadata": {},
   "outputs": [
    {
     "name": "stdout",
     "output_type": "stream",
     "text": [
      "1.2000054205869013e-05\n"
     ]
    }
   ],
   "source": [
    "preconditioner_torch, _, precond_logdet_torch = added_diag._preconditioner()\n",
    "Kinvy_torch, t_mat_torch = added_diag._solve(rhs_torch, preconditioner=preconditioner_torch, num_tridiag=n_tridiag)\n",
    "print(rel_error(Kinvy_linalg, Kinvy_torch.numpy()))"
   ]
  },
  {
   "cell_type": "code",
   "execution_count": 273,
   "id": "d8c4789b-5756-49da-808e-2fad2ae853c6",
   "metadata": {
    "tags": []
   },
   "outputs": [
    {
     "data": {
      "text/plain": [
       "(None, None, None)"
      ]
     },
     "execution_count": 273,
     "metadata": {},
     "output_type": "execute_result"
    }
   ],
   "source": [
    "added_diag._preconditioner()"
   ]
  },
  {
   "cell_type": "code",
   "execution_count": 274,
   "id": "c3216121-918d-4d24-8dd3-cf1dcce3a9ee",
   "metadata": {
    "tags": []
   },
   "outputs": [
    {
     "data": {
      "text/plain": [
       "(tensor(75.7214, dtype=torch.float64), tensor(209.6591, dtype=torch.float64))"
      ]
     },
     "execution_count": 274,
     "metadata": {},
     "output_type": "execute_result"
    }
   ],
   "source": [
    "added_diag.inv_quad_log_det(inv_quad_rhs=rhs_torch[:, -1:], logdet=True)"
   ]
  },
  {
   "cell_type": "code",
   "execution_count": 275,
   "id": "69dfc9fe-c171-4cd2-9b54-285d0f846f56",
   "metadata": {
    "tags": []
   },
   "outputs": [
    {
     "data": {
      "text/plain": [
       "15"
      ]
     },
     "execution_count": 275,
     "metadata": {},
     "output_type": "execute_result"
    }
   ],
   "source": [
    "linear_operator.settings.min_preconditioning_size.value()\n",
    "# linear_operator.settings.deterministic_probes.on()\n",
    "# linear_operator.settings.max_lanczos_quadrature_iterations.value()\n",
    "# linear_operator.settings.fast_computations.log_prob.off()\n",
    "# linear_operator.settings.skip_logdet_forward.off()\n",
    "linear_operator.settings.max_preconditioner_size.value()"
   ]
  },
  {
   "cell_type": "code",
   "execution_count": 276,
   "id": "a4d2e459-c5c0-4273-9598-331e59144737",
   "metadata": {
    "tags": []
   },
   "outputs": [
    {
     "data": {
      "text/plain": [
       "3"
      ]
     },
     "execution_count": 276,
     "metadata": {},
     "output_type": "execute_result"
    }
   ],
   "source": [
    "linear_operator.settings.cholesky_max_tries.value()"
   ]
  },
  {
   "cell_type": "code",
   "execution_count": 277,
   "id": "521bd0a8-74d3-42a5-bcb8-384ec099ad4d",
   "metadata": {
    "tags": []
   },
   "outputs": [],
   "source": [
    "eval_torch, evec_torch = linear_operator.utils.lanczos.lanczos_tridiag_to_diag(t_mat_torch)\n",
    "slq = linear_operator.utils.stochastic_lq.StochasticLQ()\n",
    "(logdet_term,) = slq.to_dense(added_diag.matrix_shape, eval_torch, evec_torch,  [lambda x: x.log()])"
   ]
  },
  {
   "cell_type": "code",
   "execution_count": 278,
   "id": "2d6cfa3e-fb94-4395-8515-d058ed940516",
   "metadata": {
    "tags": []
   },
   "outputs": [
    {
     "data": {
      "text/plain": [
       "tensor(211.3773, dtype=torch.float64)"
      ]
     },
     "execution_count": 278,
     "metadata": {},
     "output_type": "execute_result"
    }
   ],
   "source": [
    "logdet_term"
   ]
  },
  {
   "cell_type": "code",
   "execution_count": 279,
   "id": "ce75952d-cff6-4310-bccf-8222c488212e",
   "metadata": {
    "tags": []
   },
   "outputs": [],
   "source": [
    "dKdtheta = jax.random.normal(jax.random.PRNGKey(1), (N, N))+5*jnp.eye(N)"
   ]
  },
  {
   "cell_type": "markdown",
   "id": "b14386d2-39da-4b39-8f02-f26b87433c24",
   "metadata": {},
   "source": [
    "### N=3000"
   ]
  },
  {
   "cell_type": "code",
   "execution_count": 280,
   "id": "a44fa1da-2e01-4598-873a-d34ae98ec039",
   "metadata": {
    "tags": []
   },
   "outputs": [],
   "source": [
    "N = 3000\n",
    "rank=15\n",
    "noise = 1e-06\n",
    "n_tridiag = 10\n",
    "K = generate_K(N)\n",
    "precondition, precond_lt, precond_logdet_cache = precond.setup_preconditioner(K, rank=rank, noise=noise)\n",
    "y = jax.random.normal(key=jax.random.PRNGKey(0), shape=(N,1))\n",
    "if precondition:\n",
    "    zs = jax.random.multivariate_normal(\n",
    "            jax.random.PRNGKey(0),\n",
    "            jnp.zeros(len(y)),\n",
    "            precond_lt,\n",
    "            shape=(n_tridiag,),\n",
    "    ).T\n",
    "else:\n",
    "    zs = jax.random.normal(jax.random.PRNGKey(0), (N, n_tridiag))\n",
    "K_torch = torch.from_numpy(np.array(K))\n",
    "rhs = jnp.concatenate([zs, y], axis=1)\n",
    "rhs_torch = torch.from_numpy(np.array(rhs))"
   ]
  },
  {
   "cell_type": "code",
   "execution_count": 281,
   "id": "0218b8ad-2b9e-4945-91a7-452c0ac590d7",
   "metadata": {
    "tags": []
   },
   "outputs": [],
   "source": [
    "Kinvy_linalg = jnp.linalg.solve(K, rhs)"
   ]
  },
  {
   "cell_type": "code",
   "execution_count": 282,
   "id": "96660630-ea9a-4dd7-8c4f-7e937ba0f26f",
   "metadata": {
    "tags": []
   },
   "outputs": [
    {
     "name": "stdout",
     "output_type": "stream",
     "text": [
      "j=0 r1norm: 0.9403330791856419\n",
      "j=1 r1norm: 0.919494556244436\n",
      "j=2 r1norm: 0.9157604492750547\n",
      "j=3 r1norm: 0.9154192961151623\n",
      "j=4 r1norm: 0.9153735362651542\n",
      "j=5 r1norm: 0.9151100471291478\n",
      "j=6 r1norm: 0.911708800870609\n",
      "j=7 r1norm: 0.8668497902548907\n",
      "j=8 r1norm: 0.565180398825676\n",
      "j=9 r1norm: 0.19353626522118292\n",
      "j=10 r1norm: 0.05681112765774381\n",
      "j=11 r1norm: 0.01976136473738658\n",
      "j=12 r1norm: 0.009889035115684308\n",
      "j=13 r1norm: 0.006687355561375818\n",
      "j=14 r1norm: 0.0033222329632622864\n",
      "j=15 r1norm: 0.0010107468681291069\n",
      "j=16 r1norm: 0.00026641847547480475\n",
      "j=17 r1norm: 7.086498595331619e-05\n",
      "j=18 r1norm: 1.8878217010346526e-05\n",
      "j=19 r1norm: 4.9932375068925705e-06\n",
      "j=20 r1norm: 1.3385216743686214e-06\n",
      "j=21 r1norm: 3.654617130103114e-07\n",
      "converged\n",
      "3.850894070091502e-05\n"
     ]
    }
   ],
   "source": [
    "Kinvy, j, t_mat = cg.mpcg_bbmm(K, rhs, precondition=precondition, print_process=True, tolerance=1e-06, n_tridiag=n_tridiag)\n",
    "print(rel_error(Kinvy_linalg, Kinvy))"
   ]
  },
  {
   "cell_type": "code",
   "execution_count": 283,
   "id": "5e90d7dd-28ed-4269-93ab-ed994508cd9e",
   "metadata": {
    "tags": []
   },
   "outputs": [
    {
     "data": {
      "text/plain": [
       "(3136.037302952893, 3147.3212181150857, 0.003585244206166785)"
      ]
     },
     "execution_count": 283,
     "metadata": {},
     "output_type": "execute_result"
    }
   ],
   "source": [
    "check_logdet(2, tol=1e-02)"
   ]
  },
  {
   "cell_type": "code",
   "execution_count": 284,
   "id": "93964284-7474-4178-baa4-288d1eb195c8",
   "metadata": {
    "tags": []
   },
   "outputs": [
    {
     "data": {
      "text/plain": [
       "(3104.471791627737, 3147.3212181150857, 0.013614570460974798)"
      ]
     },
     "execution_count": 284,
     "metadata": {},
     "output_type": "execute_result"
    }
   ],
   "source": [
    "check_logdet(10, rank=5, tol=1e-02)"
   ]
  },
  {
   "cell_type": "code",
   "execution_count": 285,
   "id": "84446fd1-d942-476a-bc29-01b8c9585861",
   "metadata": {
    "tags": []
   },
   "outputs": [
    {
     "data": {
      "text/plain": [
       "(3109.990586800028, 3147.3212181150857, 0.011861080813802344)"
      ]
     },
     "execution_count": 285,
     "metadata": {},
     "output_type": "execute_result"
    }
   ],
   "source": [
    "check_logdet(n_tridiag=10, rank=10, tol=1e-02)"
   ]
  },
  {
   "cell_type": "code",
   "execution_count": 286,
   "id": "8c5f33ed-d4fe-44a6-9a48-19dbd1b18c4a",
   "metadata": {
    "tags": []
   },
   "outputs": [
    {
     "data": {
      "text/plain": [
       "(3118.8671552069427, 3147.3212181150857, 0.009040724138473536)"
      ]
     },
     "execution_count": 286,
     "metadata": {},
     "output_type": "execute_result"
    }
   ],
   "source": [
    "check_logdet(n_tridiag=10, rank=20, tol=1e-02)"
   ]
  },
  {
   "cell_type": "code",
   "execution_count": 287,
   "id": "ee119a38-49a8-417b-847b-084e4d8495a4",
   "metadata": {
    "tags": []
   },
   "outputs": [
    {
     "data": {
      "text/plain": [
       "(3094.734755644815, 3147.3212181150857, 0.016708323944692426)"
      ]
     },
     "execution_count": 287,
     "metadata": {},
     "output_type": "execute_result"
    }
   ],
   "source": [
    "check_logdet(n_tridiag=10, rank=40, tol=1e-02)"
   ]
  },
  {
   "cell_type": "code",
   "execution_count": 233,
   "id": "0acf366a-1992-4bd0-a4a5-b1b3526aeb86",
   "metadata": {
    "tags": []
   },
   "outputs": [
    {
     "data": {
      "text/plain": [
       "(3133.2928887234157, 3147.3212181150857, 0.0044572283600818816)"
      ]
     },
     "execution_count": 233,
     "metadata": {},
     "output_type": "execute_result"
    }
   ],
   "source": [
    "check_logdet(n_tridiag=10, rank=15, tol=1e-02)"
   ]
  },
  {
   "cell_type": "code",
   "execution_count": 296,
   "id": "66fb1069-ce64-4143-8c14-f57e390c74d6",
   "metadata": {
    "tags": []
   },
   "outputs": [],
   "source": [
    "n_tridiag_list = [2, 5, 10, 20, 40]\n",
    "logdet_list = []\n",
    "rel_error_list = []\n",
    "for n_tridiag in n_tridiag_list:\n",
    "    logdet, logdet_linalg, rel_err = check_logdet(n_tridiag=n_tridiag)\n",
    "    logdet_list.append(logdet)\n",
    "    rel_error_list.append(rel_err)"
   ]
  },
  {
   "cell_type": "code",
   "execution_count": 297,
   "id": "8e0c25db-b254-43b7-be17-6a11cebf5dff",
   "metadata": {
    "tags": []
   },
   "outputs": [
    {
     "data": {
      "text/plain": [
       "<matplotlib.legend.Legend at 0x7f80ab128a00>"
      ]
     },
     "execution_count": 297,
     "metadata": {},
     "output_type": "execute_result"
    },
    {
     "data": {
      "image/png": "[encoded data removed]",
      "text/plain": [
       "<Figure size 640x480 with 2 Axes>"
      ]
     },
     "metadata": {},
     "output_type": "display_data"
    }
   ],
   "source": [
    "fig, ax = plt.subplots()\n",
    "ax.plot(n_tridiag_list, logdet_list, marker='o', label='logdet')\n",
    "ax.hlines(logdet_linalg, n_tridiag_list[0], n_tridiag_list[-1], linestyle='--', label='ans')\n",
    "ax.set_xlabel('n_tridiag')\n",
    "ax2 = ax.twinx()\n",
    "ax2.semilogy(n_tridiag_list, rel_error_list, color='b', marker='x', label='rel_error')\n",
    "\n",
    "lines, labels = ax.get_legend_handles_labels()\n",
    "lines2, labels2 = ax2.get_legend_handles_labels()\n",
    "# Create a legend for the first line in each axes\n",
    "ax.legend(lines + lines2, labels + labels2, loc='best')"
   ]
  },
  {
   "cell_type": "code",
   "execution_count": 298,
   "id": "bfad9676-6e45-4ea4-b6f3-76b274a1091a",
   "metadata": {
    "tags": []
   },
   "outputs": [],
   "source": [
    "rank_list = [0, 2, 5, 10, 20, 40, 80]\n",
    "logdet_list = []\n",
    "rel_error_list = []\n",
    "for rank in rank_list:\n",
    "    logdet, logdet_linalg, rel_err = check_logdet(n_tridiag=10, rank=rank)\n",
    "    logdet_list.append(logdet)\n",
    "    rel_error_list.append(rel_err)"
   ]
  },
  {
   "cell_type": "code",
   "execution_count": 299,
   "id": "62a0911b-d0b6-40d7-afa7-f497afd04448",
   "metadata": {
    "tags": []
   },
   "outputs": [
    {
     "data": {
      "text/plain": [
       "<matplotlib.legend.Legend at 0x7f80aaf4b0a0>"
      ]
     },
     "execution_count": 299,
     "metadata": {},
     "output_type": "execute_result"
    },
    {
     "data": {
      "image/png": "[encoded data removed]",
      "text/plain": [
       "<Figure size 640x480 with 2 Axes>"
      ]
     },
     "metadata": {},
     "output_type": "display_data"
    }
   ],
   "source": [
    "fig, ax = plt.subplots()\n",
    "ax.plot(rank_list, logdet_list, marker='o', label='logdet')\n",
    "ax.hlines(logdet_linalg, rank_list[0], rank_list[-1], linestyle='--', label='ans')\n",
    "ax.set_xlabel('rank')\n",
    "ax2 = ax.twinx()\n",
    "ax2.semilogy(rank_list, rel_error_list, color='b', marker='x', label='rel_error')\n",
    "\n",
    "lines, labels = ax.get_legend_handles_labels()\n",
    "lines2, labels2 = ax2.get_legend_handles_labels()\n",
    "# Create a legend for the first line in each axes\n",
    "ax.legend(lines + lines2, labels + labels2, loc='best')"
   ]
  },
  {
   "cell_type": "code",
   "execution_count": 209,
   "id": "1b7ece28-08d8-419c-8bb3-71df36fc955e",
   "metadata": {
    "tags": []
   },
   "outputs": [],
   "source": [
    "K_linear_op = linear_operator.to_linear_operator(K_torch)\n",
    "diag_tensor = torch.ones(N, dtype=torch.float64)*noise\n",
    "diag_linear_op = DiagLinearOperator(diag_tensor)\n",
    "added_diag = AddedDiagLinearOperator(K_linear_op, diag_linear_op)"
   ]
  },
  {
   "cell_type": "code",
   "execution_count": 210,
   "id": "386ab62c-77db-44cd-847e-44d95e7d5ae1",
   "metadata": {},
   "outputs": [
    {
     "name": "stdout",
     "output_type": "stream",
     "text": [
      "9.56730751780832e-05\n"
     ]
    }
   ],
   "source": [
    "preconditioner_torch, precond_lt_torch, precond_logdet_torch = added_diag._preconditioner()\n",
    "Kinvy_torch, t_mat_torch = added_diag._solve(rhs_torch, preconditioner=preconditioner_torch, num_tridiag=n_tridiag)\n",
    "print(rel_error(Kinvy_linalg, Kinvy_torch.numpy()))\n",
    "linear_operator.settings.cg_tolerance._set_value(1)"
   ]
  },
  {
   "cell_type": "code",
   "execution_count": 211,
   "id": "93297595-08e5-4f9f-a39a-dad4859dd2e4",
   "metadata": {
    "tags": []
   },
   "outputs": [],
   "source": [
    "precond_args = precond_lt_torch.representation()"
   ]
  },
  {
   "cell_type": "code",
   "execution_count": 212,
   "id": "b567d617-4b22-4227-8984-4fcdfe1ed855",
   "metadata": {
    "tags": []
   },
   "outputs": [],
   "source": [
    "covar_root = precond_lt_torch.root_decomposition().root"
   ]
  },
  {
   "cell_type": "code",
   "execution_count": 213,
   "id": "0b293dfb-fefd-4d89-8fa8-6f8d93e88263",
   "metadata": {
    "tags": []
   },
   "outputs": [],
   "source": [
    "base_samples = torch.randn(\n",
    "                        *precond_lt_torch.batch_shape,\n",
    "                        covar_root.size(-1),\n",
    "                        n_tridiag,\n",
    "                        dtype=precond_lt_torch.dtype,\n",
    "                        device=precond_lt_torch.device,\n",
    ")"
   ]
  },
  {
   "cell_type": "code",
   "execution_count": 214,
   "id": "b57c3c52-3be3-4f8d-a1b7-3a366601c047",
   "metadata": {
    "tags": []
   },
   "outputs": [],
   "source": [
    "probe_vectors = covar_root.matmul(base_samples).permute(-1, *range(precond_lt_torch.dim() - 1))"
   ]
  },
  {
   "cell_type": "code",
   "execution_count": 215,
   "id": "b2dd7683-d15e-4910-9b7c-bba147e419d3",
   "metadata": {
    "tags": []
   },
   "outputs": [
    {
     "data": {
      "text/plain": [
       "range(0, 1)"
      ]
     },
     "execution_count": 215,
     "metadata": {},
     "output_type": "execute_result"
    }
   ],
   "source": [
    "range(precond_lt_torch.dim() - 1)"
   ]
  },
  {
   "cell_type": "code",
   "execution_count": 216,
   "id": "7cc69722-b8b1-4153-afe3-356300b3cfb6",
   "metadata": {
    "tags": []
   },
   "outputs": [
    {
     "data": {
      "text/plain": [
       "(tensor(-41220.8623, dtype=torch.float64),\n",
       " DeviceArray(-41220.86229076, dtype=float64))"
      ]
     },
     "execution_count": 216,
     "metadata": {},
     "output_type": "execute_result"
    }
   ],
   "source": [
    "precond_logdet_torch, precond_logdet_cache"
   ]
  },
  {
   "cell_type": "code",
   "execution_count": 217,
   "id": "8deab32f-e799-4f35-be2c-b449f50b1ce2",
   "metadata": {
    "tags": []
   },
   "outputs": [],
   "source": [
    "probe_vectors = precond_lt_torch.zero_mean_mvn_samples(15)\n",
    "# probe_vectors"
   ]
  },
  {
   "cell_type": "code",
   "execution_count": 218,
   "id": "5004d3ed-ed84-447d-8b34-efa5db9bf103",
   "metadata": {
    "tags": []
   },
   "outputs": [
    {
     "data": {
      "text/plain": [
       "(DeviceArray(3155.87454666, dtype=float64),\n",
       " DeviceArray(-41220.86229076, dtype=float64))"
      ]
     },
     "execution_count": 218,
     "metadata": {},
     "output_type": "execute_result"
    }
   ],
   "source": [
    "logdet = calc_logdet.calc_logdet(K.shape, t_mat, precond_logdet_cache)\n",
    "logdet, precond_logdet_cache"
   ]
  },
  {
   "cell_type": "code",
   "execution_count": 219,
   "id": "e730226c-bee0-4b52-9720-a864da300526",
   "metadata": {
    "tags": []
   },
   "outputs": [
    {
     "data": {
      "text/plain": [
       "(tensor(1133.0245, dtype=torch.float64),\n",
       " tensor(3211.7748, dtype=torch.float64))"
      ]
     },
     "execution_count": 219,
     "metadata": {},
     "output_type": "execute_result"
    }
   ],
   "source": [
    "added_diag.inv_quad_log_det(inv_quad_rhs=rhs_torch[:, -1:], logdet=True)"
   ]
  },
  {
   "cell_type": "code",
   "execution_count": 220,
   "id": "f367605c-1741-41f0-91fc-314a91d60e15",
   "metadata": {
    "tags": []
   },
   "outputs": [],
   "source": [
    "eval_torch, evec_torch = linear_operator.utils.lanczos.lanczos_tridiag_to_diag(t_mat_torch)\n",
    "slq = linear_operator.utils.stochastic_lq.StochasticLQ()\n",
    "(logdet_term,) = slq.to_dense(added_diag.matrix_shape, eval_torch, evec_torch,  [lambda x: x.log()])"
   ]
  },
  {
   "cell_type": "code",
   "execution_count": 221,
   "id": "1b4308d2-5604-4352-9df0-fcfcaaf731f8",
   "metadata": {
    "tags": []
   },
   "outputs": [
    {
     "data": {
      "text/plain": [
       "tensor(3155.8756, dtype=torch.float64)"
      ]
     },
     "execution_count": 221,
     "metadata": {},
     "output_type": "execute_result"
    }
   ],
   "source": [
    "logdet_term + precond_logdet_torch"
   ]
  },
  {
   "cell_type": "code",
   "execution_count": 222,
   "id": "e0f5128f-95df-428b-9ad4-73ae8826de41",
   "metadata": {
    "tags": []
   },
   "outputs": [
    {
     "data": {
      "text/plain": [
       "tensor(-41220.8623, dtype=torch.float64)"
      ]
     },
     "execution_count": 222,
     "metadata": {},
     "output_type": "execute_result"
    }
   ],
   "source": [
    "precond_logdet_torch"
   ]
  },
  {
   "cell_type": "code",
   "execution_count": 223,
   "id": "264d9045-79f5-4a1a-aee5-432ae20c4b94",
   "metadata": {
    "tags": []
   },
   "outputs": [
    {
     "data": {
      "text/plain": [
       "DeviceArray(-41220.86229076, dtype=float64)"
      ]
     },
     "execution_count": 223,
     "metadata": {},
     "output_type": "execute_result"
    }
   ],
   "source": [
    "precond_logdet_cache"
   ]
  },
  {
   "cell_type": "code",
   "execution_count": 224,
   "id": "d3bacff1-5ebb-4241-a214-34cf1408c90b",
   "metadata": {
    "tags": []
   },
   "outputs": [
    {
     "data": {
      "text/plain": [
       "DeviceArray(3147.32121812, dtype=float64)"
      ]
     },
     "execution_count": 224,
     "metadata": {},
     "output_type": "execute_result"
    }
   ],
   "source": [
    "logdet_linalg = calc_logdet_linalg(K)\n",
    "logdet_linalg"
   ]
  },
  {
   "cell_type": "markdown",
   "id": "e92f06a1-6803-4684-83c2-e90d9591668d",
   "metadata": {},
   "source": [
    "### N=7000"
   ]
  },
  {
   "cell_type": "code",
   "execution_count": 159,
   "id": "9ee28c49-0789-4281-a464-62ab54c9145b",
   "metadata": {
    "tags": []
   },
   "outputs": [],
   "source": [
    "N = 7000\n",
    "rank=15\n",
    "noise = 1e-06\n",
    "n_tridiag = 10\n",
    "K = generate_K(N)\n",
    "precondition, precond_lt, precond_logdet_cache = precond.setup_preconditioner(K, rank=rank, noise=noise)\n",
    "y = jax.random.normal(key=jax.random.PRNGKey(0), shape=(N,1))\n",
    "if precondition:\n",
    "    zs = jax.random.multivariate_normal(\n",
    "            jax.random.PRNGKey(0),\n",
    "            jnp.zeros(len(y)),\n",
    "            precond_lt,\n",
    "            shape=(n_tridiag,),\n",
    "    ).T\n",
    "else:\n",
    "    zs = jax.random.normal(jax.random.PRNGKey(0), (N, n_tridiag))\n",
    "K_torch = torch.from_numpy(np.array(K))\n",
    "rhs = jnp.concatenate([zs, y], axis=1)\n",
    "rhs_torch = torch.from_numpy(np.array(rhs))"
   ]
  },
  {
   "cell_type": "code",
   "execution_count": 160,
   "id": "d763ac09-1880-4cc7-9b91-a01db076e318",
   "metadata": {
    "tags": []
   },
   "outputs": [],
   "source": [
    "Kinvy_linalg = jnp.linalg.solve(K, rhs)"
   ]
  },
  {
   "cell_type": "code",
   "execution_count": 162,
   "id": "b4d3a608-2bcf-4b2c-a977-ca04c7257d57",
   "metadata": {
    "tags": []
   },
   "outputs": [
    {
     "name": "stdout",
     "output_type": "stream",
     "text": [
      "j=0 r1norm: 0.9391067610671915\n",
      "j=1 r1norm: 0.917918143723665\n",
      "j=2 r1norm: 0.9130531920376856\n",
      "j=3 r1norm: 0.9124254315125387\n",
      "j=4 r1norm: 0.9123661416989475\n",
      "j=5 r1norm: 0.9122615106381415\n",
      "j=6 r1norm: 0.9107938321567703\n",
      "j=7 r1norm: 0.8903422641099534\n",
      "j=8 r1norm: 0.7020234332253318\n",
      "j=9 r1norm: 0.28727865663878643\n",
      "j=10 r1norm: 0.08312585152070112\n",
      "j=11 r1norm: 0.02475743763235144\n",
      "j=12 r1norm: 0.009046651164862097\n",
      "j=13 r1norm: 0.004788316773479587\n",
      "j=14 r1norm: 0.0028720092347572653\n",
      "j=15 r1norm: 0.001036345510922713\n",
      "j=16 r1norm: 0.00028167873500318537\n",
      "j=17 r1norm: 7.580046858754703e-05\n",
      "j=18 r1norm: 1.9946898483479506e-05\n",
      "j=19 r1norm: 5.344976378002605e-06\n",
      "j=20 r1norm: 1.4376086554975945e-06\n",
      "converged\n",
      "0.0001174276183541353\n"
     ]
    }
   ],
   "source": [
    "precondition, precond_lt, precond_logdet_cache = precond.setup_preconditioner(K, rank=rank, noise=noise)\n",
    "Kinvy, j, t_mat= cg.mpcg_bbmm(K, rhs, precondition=precondition, print_process=True, tolerance=0.01, n_tridiag=n_tridiag)\n",
    "print(rel_error(Kinvy_linalg, Kinvy))"
   ]
  },
  {
   "cell_type": "code",
   "execution_count": 163,
   "id": "f1bab50f-ac50-499a-b820-1d25c598f6e2",
   "metadata": {
    "tags": []
   },
   "outputs": [],
   "source": [
    "K_linear_op = linear_operator.to_linear_operator(K_torch)\n",
    "diag_tensor = torch.ones(N, dtype=torch.float64)*noise\n",
    "diag_linear_op = DiagLinearOperator(diag_tensor)\n",
    "added_diag = AddedDiagLinearOperator(K_linear_op, diag_linear_op)"
   ]
  },
  {
   "cell_type": "code",
   "execution_count": 164,
   "id": "c6185b93-ff2d-48a3-8f14-f0f2acf4a55e",
   "metadata": {},
   "outputs": [
    {
     "name": "stdout",
     "output_type": "stream",
     "text": [
      "0.00013994710861929468\n"
     ]
    }
   ],
   "source": [
    "preconditioner_torch, _, precond_logdet_torch = added_diag._preconditioner()\n",
    "Kinvy_torch, t_mat_torch = added_diag._solve(rhs_torch, preconditioner=preconditioner_torch, num_tridiag=n_tridiag)\n",
    "print(rel_error(Kinvy_linalg, Kinvy_torch.numpy()))\n",
    "linear_operator.settings.cg_tolerance._set_value(1)"
   ]
  },
  {
   "cell_type": "code",
   "execution_count": 166,
   "id": "8529c210-b1e8-47e8-be32-558844e5a0dd",
   "metadata": {
    "tags": []
   },
   "outputs": [
    {
     "data": {
      "text/plain": [
       "(DeviceArray(7322.34028093, dtype=float64),\n",
       " DeviceArray(-96482.98874765, dtype=float64))"
      ]
     },
     "execution_count": 166,
     "metadata": {},
     "output_type": "execute_result"
    }
   ],
   "source": [
    "logdet = calc_logdet.calc_logdet(K.shape, t_mat, precond_logdet_cache)\n",
    "logdet, precond_logdet_cache"
   ]
  },
  {
   "cell_type": "code",
   "execution_count": 167,
   "id": "1e59d6c6-2606-4f2e-bccc-951172d66897",
   "metadata": {
    "tags": []
   },
   "outputs": [
    {
     "data": {
      "text/plain": [
       "(tensor(2554.9792, dtype=torch.float64),\n",
       " tensor(7334.4098, dtype=torch.float64))"
      ]
     },
     "execution_count": 167,
     "metadata": {},
     "output_type": "execute_result"
    }
   ],
   "source": [
    "added_diag.inv_quad_log_det(inv_quad_rhs=rhs_torch[:, -1:], logdet=True)"
   ]
  },
  {
   "cell_type": "code",
   "execution_count": 168,
   "id": "a6b75e68-a8cd-4107-8a07-1fdeba93c67d",
   "metadata": {
    "tags": []
   },
   "outputs": [],
   "source": [
    "eval_torch, evec_torch = linear_operator.utils.lanczos.lanczos_tridiag_to_diag(t_mat_torch)\n",
    "slq = linear_operator.utils.stochastic_lq.StochasticLQ()\n",
    "(logdet_term,) = slq.to_dense(added_diag.matrix_shape, eval_torch, evec_torch,  [lambda x: x.log()])"
   ]
  },
  {
   "cell_type": "code",
   "execution_count": 169,
   "id": "f083505e-c468-4303-82f8-8b7395ac7308",
   "metadata": {
    "tags": []
   },
   "outputs": [
    {
     "data": {
      "text/plain": [
       "tensor(7322.3428, dtype=torch.float64)"
      ]
     },
     "execution_count": 169,
     "metadata": {},
     "output_type": "execute_result"
    }
   ],
   "source": [
    "logdet_term + precond_logdet_torch"
   ]
  },
  {
   "cell_type": "code",
   "execution_count": 170,
   "id": "f442d9c3-0b8f-4b9a-a23f-c7443cb64eaa",
   "metadata": {
    "tags": []
   },
   "outputs": [
    {
     "data": {
      "text/plain": [
       "DeviceArray(7343.7469261, dtype=float64)"
      ]
     },
     "execution_count": 170,
     "metadata": {},
     "output_type": "execute_result"
    }
   ],
   "source": [
    "logdet_linalg = calc_logdet_linalg(K)\n",
    "logdet_linalg"
   ]
  }
 ],
 "metadata": {
  "kernelspec": {
   "display_name": "mytorch",
   "language": "python",
   "name": "mytorch"
  },
  "language_info": {
   "codemirror_mode": {
    "name": "ipython",
    "version": 3
   },
   "file_extension": ".py",
   "mimetype": "text/x-python",
   "name": "python",
   "nbconvert_exporter": "python",
   "pygments_lexer": "ipython3",
   "version": "3.9.6"
  }
 },
 "nbformat": 4,
 "nbformat_minor": 5
}
