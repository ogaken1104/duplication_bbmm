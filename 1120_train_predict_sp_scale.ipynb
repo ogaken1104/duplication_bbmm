{
 "cells": [
  {
   "cell_type": "code",
   "execution_count": 1,
   "id": "18c02f61-0250-43fe-b139-355719172359",
   "metadata": {
    "tags": []
   },
   "outputs": [],
   "source": [
    "import numpy as np\n",
    "import jax\n",
    "import jax.numpy as jnp\n",
    "from jax import vmap\n",
    "from jax import jit, lax, grad\n",
    "import matplotlib.pyplot as plt\n",
    "import cmocean as cmo\n",
    "import importlib\n",
    "from mpl_toolkits.axes_grid1.axes_divider import make_axes_locatable\n",
    "\n",
    "from jax.config import config\n",
    "config.update(\"jax_enable_x64\", True)"
   ]
  },
  {
   "cell_type": "code",
   "execution_count": 2,
   "id": "928d4f5e-ea1f-41a4-ad17-11e12ce7c5b7",
   "metadata": {
    "tags": []
   },
   "outputs": [],
   "source": [
    "import stopro.data_generator.sinusoidal as sinusoidal\n",
    "from stopro.data_generator.sin_1D_naive import Sin1DNaive\n",
    "from stopro.data_generator.sin_1D import Sin1D\n",
    "from stopro.data_preparer.data_preparer import DataPreparer\n",
    "from stopro.sub_modules.load_modules import load_params, load_data\n",
    "from stopro.sub_modules.loss_modules import hessian, logposterior\n",
    "from stopro.sub_modules.init_modules import get_init, reshape_init\n",
    "import stopro.GP.gp_sinusoidal_independent as gp_sinusoidal_independent\n",
    "import stopro.GP.gp_naive as gp_1D_naive\n",
    "from stopro.data_handler.data_handle_module import HdfOperator\n",
    "from stopro.GP.kernels import define_kernel\n",
    "from stopro.solver.optimizers import optimize_by_adam\n",
    "import stopro.GP.gp_1D_laplacian as gp_1D_laplasian"
   ]
  },
  {
   "cell_type": "code",
   "execution_count": 3,
   "id": "a59dc09a-7a80-4c6f-8294-06a1e6ca946f",
   "metadata": {
    "tags": []
   },
   "outputs": [],
   "source": [
    "## import modules\n",
    "import bbmm.utils.preconditioner as precond\n",
    "import bbmm.utils.conjugate_gradient as cg\n",
    "import bbmm.functions.pivoted_cholesky as pc\n",
    "import bbmm.functions.pivoted_cholesky_numpy as pcn\n",
    "import bbmm.utils.calc_logdet as calc_logdet\n",
    "import bbmm.utils.calc_trace as calc_trace\n",
    "\n",
    "# import bbmm.operators.dense_linear_operator as dense_linear_operator\n",
    "# import bbmm.operators.root_linear_operator as root_linear_operator\n",
    "# import bbmm.operators.diag_linear_operator as diag_linear_operator\n",
    "# import bbmm.operators._linear_operator as _linear_operator\n",
    "# import bbmm.operators.psd_sum_linear_operator as psd_sum_linear_operator\n",
    "# import bbmm.operators.root_linear_operator as root_linear_operator\n",
    "# from bbmm.functions.pivoted_cholesky_numpy import pivoted_cholesky_numpy\n",
    "def reload():\n",
    "    importlib.reload(precond)\n",
    "    importlib.reload(cg)\n",
    "    importlib.reload(pc)\n",
    "    importlib.reload(calc_logdet)\n",
    "    importlib.reload(calc_trace)\n",
    "    importlib.reload(pcn)\n",
    "    # importlib.reload(dense_linear_operator)\n",
    "    # importlib.reload(root_linear_operator)\n",
    "    # importlib.reload(diag_linear_operator)\n",
    "    # importlib.reload(_linear_operator)\n",
    "    # importlib.reload(psd_sum_linear_operator)\n",
    "    # importlib.reload(root_linear_operator)\n",
    "    importlib.reload(sinusoidal)\n",
    "reload()"
   ]
  },
  {
   "cell_type": "code",
   "execution_count": 4,
   "id": "51e4aff0-cc09-4510-b9dd-2770c65c36a6",
   "metadata": {
    "tags": []
   },
   "outputs": [],
   "source": [
    "def is_positive_definite(matrix):\n",
    "    # 行列の固有値を計算\n",
    "    eigenvalues = np.linalg.eigvals(matrix)\n",
    "\n",
    "    # 全ての固有値が正であるかをチェック\n",
    "    if np.all(eigenvalues > 0):\n",
    "        return True\n",
    "    else:\n",
    "        return False"
   ]
  },
  {
   "cell_type": "code",
   "execution_count": 5,
   "id": "6c277af5-7aea-4b5b-9074-82812c9eb28b",
   "metadata": {
    "tags": []
   },
   "outputs": [],
   "source": [
    "def rel_error(true, pred):\n",
    "    true_max = np.max(true)\n",
    "    zero_threshold = (\n",
    "        true_max * 1e-7\n",
    "    )  # ignore the data that test value is smaller than 1e-7\n",
    "    index = np.where(abs(true) > zero_threshold)\n",
    "    if np.all(abs(true) <= zero_threshold):\n",
    "        rel_error = 0.0\n",
    "        return rel_error\n",
    "    true2 = true[index]\n",
    "    pred2 = pred[index]\n",
    "    rel_error = np.abs((true2 - pred2) / true2)\n",
    "    # print(rel_error)\n",
    "    return rel_error"
   ]
  },
  {
   "cell_type": "code",
   "execution_count": 6,
   "id": "2f59456a-9231-4dd0-a86c-6b7e11681dda",
   "metadata": {
    "tags": []
   },
   "outputs": [],
   "source": [
    "project_name = 'data'\n",
    "simulation_name = 'test_sinusoidal'"
   ]
  },
  {
   "cell_type": "code",
   "execution_count": 8,
   "id": "f08dbd1c-410c-4c81-bae1-c9974e232435",
   "metadata": {
    "tags": []
   },
   "outputs": [],
   "source": [
    "data_preparer = DataPreparer(\n",
    "    project_name, simulation_name, class_data_generator=sinusoidal.Sinusoidal)\n",
    "data_preparer.load_params(\n",
    "    system_name=\"sinusoidal\", use_existing_params=False\n",
    ")\n",
    "# data_preparer.params_generate_training[''] = 1000\n",
    "\n",
    "data_preparer.create_directory()\n",
    "\n",
    "data_preparer.make_data()\n",
    "data_preparer.save_params_prepare()\n",
    "data_preparer.save_params_main()\n",
    "data_preparer.save_lbls()"
   ]
  },
  {
   "cell_type": "code",
   "execution_count": 9,
   "id": "007d96d5-5bd5-417d-b6a5-c0fdd2ff9355",
   "metadata": {
    "tags": []
   },
   "outputs": [],
   "source": [
    "params_main, params_prepare, lbls = load_params(f\"{project_name}/{simulation_name}/data_input\")\n",
    "params_model = params_main[\"model\"]\n",
    "params_optimization = params_main[\"optimization\"]\n",
    "params_plot = params_prepare[\"plot\"]\n",
    "vnames = params_prepare[\"vnames\"]\n",
    "params_setting = params_prepare[\"setting\"]\n",
    "params_generate_training = params_prepare[\"generate_training\"]\n",
    "params_generate_test = params_prepare[\"generate_test\"]\n",
    "params_kernel_arg = params_prepare[\"kernel_arg\"]\n",
    "\n",
    "# prepare initial hyper-parameter\n",
    "init = get_init(\n",
    "    params_model[\"init_kernel_hyperparameter\"],\n",
    "    params_model[\"kernel_type\"],\n",
    "    system_type=params_model[\"system_type\"],\n",
    ")"
   ]
  },
  {
   "cell_type": "code",
   "execution_count": 10,
   "id": "f313ad49-684d-4f18-ae52-f927aad9c3cc",
   "metadata": {
    "tags": []
   },
   "outputs": [],
   "source": [
    "# prepare data\n",
    "hdf_operator = HdfOperator(f\"{project_name}/{simulation_name}\")\n",
    "r_test, μ_test, r_train, μ_train, f_train = load_data(lbls, vnames, hdf_operator)\n",
    "scale = 100\n",
    "r_train_scaled = [_r * scale for _r in r_train]\n",
    "r_test_scaled = [_r * scale for _r in r_test]\n",
    "# delta_y_train_scaled = delta_y_train.copy()\n",
    "# delta_y_train_scaled[4] = delta_y_train_scaled[4] / scale**2\n",
    "delta_y_train_scaled = jnp.empty(0)\n",
    "for i in range(len(r_train)):\n",
    "    delta_y_train_scaled = jnp.append(\n",
    "        delta_y_train_scaled, f_train[i] / scale - μ_train[i]\n",
    "    )\n",
    "\n",
    "args_predict = r_test_scaled, μ_test, r_train_scaled, delta_y_train_scaled, params_model[\"epsilon\"]"
   ]
  },
  {
   "cell_type": "code",
   "execution_count": 11,
   "id": "b55423c9-340a-41f1-a76b-6f14df834196",
   "metadata": {
    "tags": []
   },
   "outputs": [],
   "source": [
    "# setup model\n",
    "Kernel = define_kernel(params_model)\n",
    "gp_model = gp_sinusoidal_independent.GPSinusoidalWithoutPIndependent(\n",
    "    use_difp=params_setting[\"use_difp\"],\n",
    "    use_difu=params_setting[\"use_difu\"],\n",
    "    lbox=jnp.array([2.5, 0.0]),\n",
    "    infer_governing_eqs=params_prepare[\"generate_test\"][\"infer_governing_eqs\"],\n",
    "    Kernel=Kernel,\n",
    "    index_optimize_noise=params_model[\"index_optimize_noise\"],\n",
    ")\n",
    "gp_model.set_constants(*args_predict)\n",
    "gp_model.set_constants(*args_predict)\n",
    "loglikelihood, predictor = (\n",
    "    gp_model.trainingFunction_all,\n",
    "    gp_model.predictingFunction_all,\n",
    ")\n",
    "func = jit(logposterior(loglikelihood, params_optimization))\n",
    "dfunc = jit(grad(func, 0))\n",
    "hess = hessian(func)"
   ]
  },
  {
   "cell_type": "markdown",
   "id": "2a391f10-0a65-4ef2-95ea-21e476682e6d",
   "metadata": {},
   "source": [
    "## check K^{-1}y with precondition"
   ]
  },
  {
   "cell_type": "code",
   "execution_count": 12,
   "id": "f90645f8-8bd4-4a14-b804-d9c65844e044",
   "metadata": {
    "tags": []
   },
   "outputs": [],
   "source": [
    "scale = 0.\n",
    "length = 3.\n",
    "noise = 1e-06\n",
    "init = jnp.array([scale, length, length, scale, length, length, scale, length, length])"
   ]
  },
  {
   "cell_type": "code",
   "execution_count": 13,
   "id": "2fd27506-5bd4-4e50-8a09-2431ce6a716e",
   "metadata": {
    "tags": []
   },
   "outputs": [],
   "source": [
    "_K = gp_model.trainingK_all(init, r_train_scaled)\n",
    "K = gp_model.add_eps_to_sigma(_K, noise, noise_parameter=None)"
   ]
  },
  {
   "cell_type": "code",
   "execution_count": 14,
   "id": "0fe0d703-3dd0-40be-85ef-3060030cb7d1",
   "metadata": {
    "tags": []
   },
   "outputs": [
    {
     "data": {
      "text/plain": [
       "(True, Array(5639698.40724896, dtype=float64))"
      ]
     },
     "execution_count": 14,
     "metadata": {},
     "output_type": "execute_result"
    }
   ],
   "source": [
    "is_positive_definite(K), jnp.linalg.cond(K)"
   ]
  },
  {
   "cell_type": "code",
   "execution_count": 28,
   "id": "fc90036f-9961-4d41-9e9c-5393e32a2e0d",
   "metadata": {
    "tags": []
   },
   "outputs": [
    {
     "data": {
      "text/plain": [
       "<matplotlib.colorbar.Colorbar at 0x7fde1c5a5e10>"
      ]
     },
     "execution_count": 28,
     "metadata": {},
     "output_type": "execute_result"
    },
    {
     "data": {
      "image/png": "[encoded data removed]",
      "text/plain": [
       "<Figure size 500x400 with 2 Axes>"
      ]
     },
     "metadata": {},
     "output_type": "display_data"
    }
   ],
   "source": [
    "fig, ax = plt.subplots(figsize=(5, 4))\n",
    "mappable = ax.pcolormesh(np.flipud(K), vmin=-np.max(K), vmax=np.max(K), cmap=cmo.cm.balance)\n",
    "fig.colorbar(mappable)"
   ]
  },
  {
   "cell_type": "code",
   "execution_count": 16,
   "id": "995d6ec7",
   "metadata": {},
   "outputs": [
    {
     "name": "stdout",
     "output_type": "stream",
     "text": [
      "Available devices: [StreamExecutorGpuDevice(id=0, process_index=0, slice_index=0)]\n",
      "No GPU devices found.\n"
     ]
    }
   ],
   "source": [
    "devices = jax.devices()\n",
    "print(\"Available devices:\", devices)\n",
    "\n",
    "# GPUがあればその情報を表示\n",
    "gpu_devices = [device for device in devices if device.device_kind == 'gpu']\n",
    "if gpu_devices:\n",
    "    for i, gpu_device in enumerate(gpu_devices):\n",
    "        print(f\"GPU {i + 1}: {gpu_device}\")\n",
    "else:\n",
    "    print(\"No GPU devices found.\")"
   ]
  },
  {
   "cell_type": "code",
   "execution_count": 19,
   "id": "8a1de6ed-320e-4e25-953e-b8935bf48afa",
   "metadata": {
    "tags": []
   },
   "outputs": [],
   "source": [
    "rank=80\n",
    "noise=1e-06\n",
    "precondition, precond_lt, precond_logdet_cache = precond.setup_preconditioner(_K, rank=rank, noise=noise, min_preconditioning_size=1)"
   ]
  },
  {
   "cell_type": "code",
   "execution_count": 20,
   "id": "3e3150e5-1a4c-4ada-9937-314df06337f8",
   "metadata": {
    "tags": []
   },
   "outputs": [
    {
     "data": {
      "text/plain": [
       "(True, Array(146999.21495814, dtype=float64))"
      ]
     },
     "execution_count": 20,
     "metadata": {},
     "output_type": "execute_result"
    }
   ],
   "source": [
    "is_positive_definite(precondition(K)), jnp.linalg.cond(precondition(K))"
   ]
  },
  {
   "cell_type": "code",
   "execution_count": 21,
   "id": "fcc82b47-9374-4d80-b7da-998b267ecece",
   "metadata": {
    "tags": []
   },
   "outputs": [
    {
     "data": {
      "text/plain": [
       "Array([[ 1.00000000e+00, -1.11022302e-10,  9.60898128e+01, ...,\n",
       "        -1.10928939e+00, -1.13033972e+00,  8.00488895e-16],\n",
       "       [-1.11022302e-10,  9.99999999e-01, -5.28812370e+02, ...,\n",
       "         2.50015825e+00,  2.65735560e+00,  6.56524277e-13],\n",
       "       [ 1.11022302e-10, -4.44089210e-10,  6.94367397e+02, ...,\n",
       "         1.79992261e+00,  1.97334268e+00,  3.48985073e-13],\n",
       "       ...,\n",
       "       [ 1.09154731e-11,  4.83969304e-12,  6.64019656e+00, ...,\n",
       "         1.98225086e+02,  1.94826100e+02,  0.00000000e+00],\n",
       "       [ 8.24228580e-12,  7.48408620e-12,  1.18458934e+01, ...,\n",
       "         1.43166456e+02,  1.60040033e+02,  1.73472348e-12],\n",
       "       [ 4.14328007e-12,  9.02509034e-12,  1.59052574e+01, ...,\n",
       "        -1.61250024e+02, -1.60964184e+02,  1.00000000e+00]],      dtype=float64)"
      ]
     },
     "execution_count": 21,
     "metadata": {},
     "output_type": "execute_result"
    }
   ],
   "source": [
    "precondition(K)"
   ]
  },
  {
   "cell_type": "code",
   "execution_count": 22,
   "id": "1a94532a-48a1-40ca-8215-d63485fa5b40",
   "metadata": {
    "tags": []
   },
   "outputs": [],
   "source": [
    "def setup_loss_mpcg(rank=15, n_tridiag=10, seed=0, tolerance=0.01, max_tridiag_iter=20, min_preconditioning_size=2000):\n",
    "    def loss_mpcg(init, *args):\n",
    "\n",
    "        r, delta_y, noise = args\n",
    "\n",
    "        K = gp_model.trainingK_all(init, r)\n",
    "        K = gp_model.add_eps_to_sigma(K, noise, noise_parameter=None)\n",
    "\n",
    "        precondition, precond_lt, precond_logdet_cache = precond.setup_preconditioner(K, rank=rank, noise=noise, min_preconditioning_size=min_preconditioning_size)\n",
    "        if precondition:\n",
    "            zs = precond_lt.zero_mean_mvn_samples(n_tridiag, seed=0)\n",
    "        else:\n",
    "            zs = jax.random.normal(jax.random.PRNGKey(0), (len(delta_y), n_tridiag))\n",
    "        # zs_norms = jnp.linalg.norm(zs, axis=0, keepdims=True)\n",
    "        # zs = zs/zs_norms\n",
    "        rhs = jnp.concatenate([zs, delta_y.reshape(-1, 1)], axis=1)\n",
    "\n",
    "        Kinvy, j,t_mat = cg.mpcg_bbmm(\n",
    "            K,\n",
    "            rhs,\n",
    "            precondition=precondition, \n",
    "            print_process=False, \n",
    "            tolerance=tolerance, \n",
    "            n_tridiag=n_tridiag, \n",
    "            max_tridiag_iter=max_tridiag_iter\n",
    "        )\n",
    "\n",
    "        logdet = calc_logdet.calc_logdet(K.shape, t_mat, precond_logdet_cache)\n",
    "\n",
    "        yKy = jnp.dot(delta_y, Kinvy[:, -1])\n",
    "        loss = (yKy + logdet)/2 + len(delta_y)/2*jnp.log(jnp.pi*2)    \n",
    "        # print(yKy)\n",
    "        # print(logdet)\n",
    "        return loss\n",
    "    return loss_mpcg"
   ]
  },
  {
   "cell_type": "code",
   "execution_count": 23,
   "id": "0b6659a6-7439-4d4a-b390-cc004c115786",
   "metadata": {
    "tags": []
   },
   "outputs": [],
   "source": [
    "loglikelihood_mpcg = setup_loss_mpcg(rank=80, n_tridiag=20, max_tridiag_iter=40, tolerance=1, min_preconditioning_size=1)"
   ]
  },
  {
   "cell_type": "code",
   "execution_count": 24,
   "id": "2db911dd-2914-46cf-ada6-6fe78a0d79a1",
   "metadata": {
    "tags": []
   },
   "outputs": [],
   "source": [
    "func_mpcg = logposterior(loglikelihood_mpcg, params_optimization)\n",
    "dfunc_mpcg = jit(grad(func_mpcg, 0))\n",
    "hess_mpcg= hessian(func_mpcg)"
   ]
  },
  {
   "cell_type": "code",
   "execution_count": 25,
   "id": "0f9c1103-c87f-4831-9da9-a9a7a42a8ebd",
   "metadata": {
    "tags": []
   },
   "outputs": [],
   "source": [
    "params_optimization[\"lr\"] = 1e-02\n",
    "params_optimization[\"print_process\"] = True"
   ]
  },
  {
   "cell_type": "code",
   "execution_count": 26,
   "id": "ef0a3d27-e15e-43e4-8362-af156b94a50f",
   "metadata": {
    "tags": []
   },
   "outputs": [],
   "source": [
    "params_optimization[\"maxiter_scipy\"] = [0]\n",
    "params_optimization[\"maxiter_GD\"] = 5"
   ]
  },
  {
   "cell_type": "code",
   "execution_count": 27,
   "id": "365551bd-3a10-4921-af9b-6b9fdf592bcf",
   "metadata": {
    "tags": []
   },
   "outputs": [
    {
     "name": "stdout",
     "output_type": "stream",
     "text": [
      "loss before optimize: 9.821335481312728\n",
      "step   0 loss: 9.8213 max_grad: 39.44479, arg=7\n",
      "norm_of_grads: 39.97266\n",
      "[ 0.01  2.99  3.01 -0.01  3.01  3.01  0.01  2.99  3.01]\n",
      "step   1 loss: 9.3069 max_grad: 39.64071, arg=7\n",
      "norm_of_grads: 40.15689\n",
      "[ 0.02  2.98  3.02 -0.02  3.02  3.02  0.02  2.98  3.02]\n",
      "step   2 loss: 8.7922 max_grad: 39.78319, arg=7\n",
      "norm_of_grads: 40.28758\n",
      "[ 0.0299  2.9701  3.03   -0.03    3.03    3.03    0.03    2.97    3.03  ]\n",
      "step   3 loss: 8.2781 max_grad: 39.86662, arg=7\n",
      "norm_of_grads: 40.35908\n",
      "[ 0.0396  2.9601  3.0401 -0.04    3.04    3.04    0.04    2.96    3.04  ]\n",
      "step   4 loss: 7.7653 max_grad: 39.88782, arg=7\n",
      "norm_of_grads: 40.36823\n",
      "[ 0.0493  2.9503  3.0502 -0.0499  3.05    3.0499  0.05    2.95    3.05  ]\n"
     ]
    }
   ],
   "source": [
    "opts = [{\"x\": init}]\n",
    "opt, loss, theta, norm_of_grads_list = optimize_by_adam(\n",
    "    func, dfunc, hess, init, params_optimization, *args_predict[2:]\n",
    ")"
   ]
  },
  {
   "cell_type": "code",
   "execution_count": 28,
   "id": "d618cca5-58e9-458b-870c-766ced35da89",
   "metadata": {
    "tags": []
   },
   "outputs": [
    {
     "name": "stdout",
     "output_type": "stream",
     "text": [
      "loss before optimize: 0.5865197366681477\n"
     ]
    },
    {
     "ename": "TracerArrayConversionError",
     "evalue": "The numpy.ndarray conversion method __array__() was called on the JAX Tracer object Traced<ConcreteArray([[1.000001   0.89807857 0.65292993 ... 0.         0.         0.        ]\n [0.89807857 1.000001   0.89972558 ... 0.         0.         0.        ]\n [0.65292993 0.89972558 1.000001   ... 0.         0.         0.        ]\n ...\n [0.         0.         0.         ... 0.01543335 0.01459375 0.01234158]\n [0.         0.         0.         ... 0.01459375 0.01543335 0.01459375]\n [0.         0.         0.         ... 0.01234158 0.01459375 0.01543335]], dtype=float64)>with<JVPTrace(level=2/0)> with\n  primal = Array([[1.000001  , 0.89807857, 0.65292993, ..., 0.        , 0.        ,\n        0.        ],\n       [0.89807857, 1.000001  , 0.89972558, ..., 0.        , 0.        ,\n        0.        ],\n       [0.65292993, 0.89972558, 1.000001  , ..., 0.        , 0.        ,\n        0.        ],\n       ...,\n       [0.        , 0.        , 0.        , ..., 0.01543335, 0.01459375,\n        0.01234158],\n       [0.        , 0.        , 0.        , ..., 0.01459375, 0.01543335,\n        0.01459375],\n       [0.        , 0.        , 0.        , ..., 0.01234158, 0.01459375,\n        0.01543335]], dtype=float64)\n  tangent = Traced<ShapedArray(float64[1180,1180])>with<JaxprTrace(level=1/0)> with\n    pval = (ShapedArray(float64[1180,1180]), None)\n    recipe = JaxprEqnRecipe(eqn_id=<object object at 0x7f96184a1580>, in_tracers=(Traced<ShapedArray(float64[1180,1180]):JaxprTrace(level=1/0)>,), out_tracer_refs=[<weakref at 0x7f96101ed7b0; to 'JaxprTracer' at 0x7f96101ef510>], out_avals=[ShapedArray(float64[1180,1180])], primitive=xla_call, params={'device': None, 'backend': None, 'name': 'fn', 'donated_invars': (False,), 'inline': True, 'keep_unused': False, 'call_jaxpr': { lambda ; a:f64[1180,1180]. let  in (a,) }}, effects=set(), source_info=SourceInfo(traceback=<jaxlib.xla_extension.Traceback object at 0x7f95a4217c70>, name_stack=NameStack(stack=(Transform(name='jvp'),))))\nSee https://jax.readthedocs.io/en/latest/errors.html#jax.errors.TracerArrayConversionError",
     "output_type": "error",
     "traceback": [
      "\u001b[0;31m---------------------------------------------------------------------------\u001b[0m",
      "\u001b[0;31mTracerArrayConversionError\u001b[0m                Traceback (most recent call last)",
      "\u001b[1;32m/home/ogawa_kenta/research/M2/bbmm_implementation/duplication_of_bbmm/1120_train_predict_sp_scale.ipynb セル 26\u001b[0m line \u001b[0;36m2\n\u001b[1;32m      <a href='vscode-notebook-cell://ssh-remote%2Bthorne/home/ogawa_kenta/research/M2/bbmm_implementation/duplication_of_bbmm/1120_train_predict_sp_scale.ipynb#X33sdnNjb2RlLXJlbW90ZQ%3D%3D?line=0'>1</a>\u001b[0m opts \u001b[39m=\u001b[39m [{\u001b[39m\"\u001b[39m\u001b[39mx\u001b[39m\u001b[39m\"\u001b[39m: init}]\n\u001b[0;32m----> <a href='vscode-notebook-cell://ssh-remote%2Bthorne/home/ogawa_kenta/research/M2/bbmm_implementation/duplication_of_bbmm/1120_train_predict_sp_scale.ipynb#X33sdnNjb2RlLXJlbW90ZQ%3D%3D?line=1'>2</a>\u001b[0m opt, loss, theta, norm_of_grads_list \u001b[39m=\u001b[39m optimize_by_adam(\n\u001b[1;32m      <a href='vscode-notebook-cell://ssh-remote%2Bthorne/home/ogawa_kenta/research/M2/bbmm_implementation/duplication_of_bbmm/1120_train_predict_sp_scale.ipynb#X33sdnNjb2RlLXJlbW90ZQ%3D%3D?line=2'>3</a>\u001b[0m     func_mpcg, dfunc_mpcg, hess_mpcg, init, params_optimization, \u001b[39m*\u001b[39;49margs_predict[\u001b[39m2\u001b[39;49m:]\n\u001b[1;32m      <a href='vscode-notebook-cell://ssh-remote%2Bthorne/home/ogawa_kenta/research/M2/bbmm_implementation/duplication_of_bbmm/1120_train_predict_sp_scale.ipynb#X33sdnNjb2RlLXJlbW90ZQ%3D%3D?line=3'>4</a>\u001b[0m )\n",
      "File \u001b[0;32m~/opt/stopro/solver/optimizers.py:234\u001b[0m, in \u001b[0;36moptimize_by_adam\u001b[0;34m(f, df, hf, init, params_optimization, *args)\u001b[0m\n\u001b[1;32m    231\u001b[0m     opt_init, opt_update, get_params \u001b[39m=\u001b[39m optimizers\u001b[39m.\u001b[39msgd(lr)\n\u001b[1;32m    233\u001b[0m \u001b[39mif\u001b[39;00m maxiter_GD:\n\u001b[0;32m--> 234\u001b[0m     theta, loss \u001b[39m=\u001b[39m doopt(\n\u001b[1;32m    235\u001b[0m         res[\u001b[39m-\u001b[39;49m\u001b[39m1\u001b[39;49m][\u001b[39m\"\u001b[39;49m\u001b[39mx\u001b[39;49m\u001b[39m\"\u001b[39;49m], optimizer, maxiter_GD, loss, theta, norm_of_grads_list\n\u001b[1;32m    236\u001b[0m     )\n\u001b[1;32m    238\u001b[0m \u001b[39mreturn\u001b[39;00m theta[\u001b[39m-\u001b[39m\u001b[39m1\u001b[39m], loss, theta, norm_of_grads_list\n",
      "File \u001b[0;32m~/opt/stopro/solver/optimizers.py:189\u001b[0m, in \u001b[0;36moptimize_by_adam.<locals>.doopt\u001b[0;34m(init, optimizer, maxiter_GD, loss, theta, norm_of_grads_list)\u001b[0m\n\u001b[1;32m    187\u001b[0m loss_converge \u001b[39m=\u001b[39m \u001b[39mFalse\u001b[39;00m  \u001b[39m# 2回連続で基準値を下回ったときのみ計算を終了する\u001b[39;00m\n\u001b[1;32m    188\u001b[0m \u001b[39mfor\u001b[39;00m t \u001b[39min\u001b[39;00m \u001b[39mrange\u001b[39m(maxiter_GD):\n\u001b[0;32m--> 189\u001b[0m     value, opt_state, current_theta, norm_of_grads \u001b[39m=\u001b[39m step(\n\u001b[1;32m    190\u001b[0m         t, opt_state, optimizer, theta[\u001b[39m-\u001b[39;49m\u001b[39m1\u001b[39;49m]\n\u001b[1;32m    191\u001b[0m     )\n\u001b[1;32m    192\u001b[0m     \u001b[39m# keep norm of gradient, theta and loss in lists\u001b[39;00m\n\u001b[1;32m    193\u001b[0m     norm_of_grads_list\u001b[39m.\u001b[39mappend(norm_of_grads)\n",
      "File \u001b[0;32m~/opt/stopro/solver/optimizers.py:158\u001b[0m, in \u001b[0;36moptimize_by_adam.<locals>.step\u001b[0;34m(t, opt_state, optimizer, theta)\u001b[0m\n\u001b[1;32m    157\u001b[0m \u001b[39mdef\u001b[39;00m \u001b[39mstep\u001b[39m(t, opt_state, optimizer, theta):\n\u001b[0;32m--> 158\u001b[0m     value, grads \u001b[39m=\u001b[39m value_and_grad(func)(theta, \u001b[39m*\u001b[39;49margs)\n\u001b[1;32m    159\u001b[0m     updates, opt_state \u001b[39m=\u001b[39m optimizer\u001b[39m.\u001b[39mupdate(grads, opt_state, theta)\n\u001b[1;32m    160\u001b[0m     theta \u001b[39m=\u001b[39m optax\u001b[39m.\u001b[39mapply_updates(theta, updates)\n",
      "    \u001b[0;31m[... skipping hidden 8 frame]\u001b[0m\n",
      "File \u001b[0;32m~/opt/stopro/solver/optimizers.py:136\u001b[0m, in \u001b[0;36moptimize_by_adam.<locals>.<lambda>\u001b[0;34m(p, *args)\u001b[0m\n\u001b[1;32m    134\u001b[0m     ntraining \u001b[39m+\u001b[39m\u001b[39m=\u001b[39m r\u001b[39m.\u001b[39mshape[\u001b[39m0\u001b[39m]\n\u001b[1;32m    135\u001b[0m \u001b[39m# the number of training points\u001b[39;00m\n\u001b[0;32m--> 136\u001b[0m func \u001b[39m=\u001b[39m \u001b[39mlambda\u001b[39;00m p, \u001b[39m*\u001b[39margs: f(p, \u001b[39m*\u001b[39;49margs) \u001b[39m/\u001b[39m ntraining\n\u001b[1;32m    137\u001b[0m dfunc \u001b[39m=\u001b[39m \u001b[39mlambda\u001b[39;00m p, \u001b[39m*\u001b[39margs: df(p, \u001b[39m*\u001b[39margs) \u001b[39m/\u001b[39m ntraining\n\u001b[1;32m    138\u001b[0m hess \u001b[39m=\u001b[39m \u001b[39mlambda\u001b[39;00m p, \u001b[39m*\u001b[39margs: hf(p, \u001b[39m*\u001b[39margs) \u001b[39m/\u001b[39m ntraining\n",
      "File \u001b[0;32m~/opt/stopro/sub_modules/loss_modules.py:13\u001b[0m, in \u001b[0;36mlogposterior.<locals>.<lambda>\u001b[0;34m(θ, *args)\u001b[0m\n\u001b[1;32m      7\u001b[0m     \u001b[39mreturn\u001b[39;00m (\n\u001b[1;32m      8\u001b[0m         \u001b[39mlambda\u001b[39;00m θ, \u001b[39m*\u001b[39margs: loglikelihood(θ, \u001b[39m*\u001b[39margs)\n\u001b[1;32m      9\u001b[0m         \u001b[39m+\u001b[39m jnp\u001b[39m.\u001b[39msum(θ)\n\u001b[1;32m     10\u001b[0m         \u001b[39m+\u001b[39m params_optimization[\u001b[39m\"\u001b[39m\u001b[39mridge_alpha\u001b[39m\u001b[39m\"\u001b[39m] \u001b[39m*\u001b[39m jnp\u001b[39m.\u001b[39msum(jnp\u001b[39m.\u001b[39msquare(jnp\u001b[39m.\u001b[39mexp(θ)))\n\u001b[1;32m     11\u001b[0m     )\n\u001b[1;32m     12\u001b[0m \u001b[39melse\u001b[39;00m:\n\u001b[0;32m---> 13\u001b[0m     \u001b[39mreturn\u001b[39;00m \u001b[39mlambda\u001b[39;00m θ, \u001b[39m*\u001b[39margs: loglikelihood(θ, \u001b[39m*\u001b[39;49margs) \u001b[39m+\u001b[39m jnp\u001b[39m.\u001b[39msum(θ)\n",
      "\u001b[1;32m/home/ogawa_kenta/research/M2/bbmm_implementation/duplication_of_bbmm/1120_train_predict_sp_scale.ipynb セル 26\u001b[0m line \u001b[0;36m9\n\u001b[1;32m      <a href='vscode-notebook-cell://ssh-remote%2Bthorne/home/ogawa_kenta/research/M2/bbmm_implementation/duplication_of_bbmm/1120_train_predict_sp_scale.ipynb#X33sdnNjb2RlLXJlbW90ZQ%3D%3D?line=5'>6</a>\u001b[0m K \u001b[39m=\u001b[39m gp_model\u001b[39m.\u001b[39mtrainingK_all(init, r)\n\u001b[1;32m      <a href='vscode-notebook-cell://ssh-remote%2Bthorne/home/ogawa_kenta/research/M2/bbmm_implementation/duplication_of_bbmm/1120_train_predict_sp_scale.ipynb#X33sdnNjb2RlLXJlbW90ZQ%3D%3D?line=6'>7</a>\u001b[0m K \u001b[39m=\u001b[39m gp_model\u001b[39m.\u001b[39madd_eps_to_sigma(K, noise, noise_parameter\u001b[39m=\u001b[39m\u001b[39mNone\u001b[39;00m)\n\u001b[0;32m----> <a href='vscode-notebook-cell://ssh-remote%2Bthorne/home/ogawa_kenta/research/M2/bbmm_implementation/duplication_of_bbmm/1120_train_predict_sp_scale.ipynb#X33sdnNjb2RlLXJlbW90ZQ%3D%3D?line=8'>9</a>\u001b[0m precondition, precond_lt, precond_logdet_cache \u001b[39m=\u001b[39m precond\u001b[39m.\u001b[39;49msetup_preconditioner(K, rank\u001b[39m=\u001b[39;49mrank, noise\u001b[39m=\u001b[39;49mnoise, min_preconditioning_size\u001b[39m=\u001b[39;49mmin_preconditioning_size)\n\u001b[1;32m     <a href='vscode-notebook-cell://ssh-remote%2Bthorne/home/ogawa_kenta/research/M2/bbmm_implementation/duplication_of_bbmm/1120_train_predict_sp_scale.ipynb#X33sdnNjb2RlLXJlbW90ZQ%3D%3D?line=9'>10</a>\u001b[0m \u001b[39mif\u001b[39;00m precondition:\n\u001b[1;32m     <a href='vscode-notebook-cell://ssh-remote%2Bthorne/home/ogawa_kenta/research/M2/bbmm_implementation/duplication_of_bbmm/1120_train_predict_sp_scale.ipynb#X33sdnNjb2RlLXJlbW90ZQ%3D%3D?line=10'>11</a>\u001b[0m     zs \u001b[39m=\u001b[39m precond_lt\u001b[39m.\u001b[39mzero_mean_mvn_samples(n_tridiag, seed\u001b[39m=\u001b[39m\u001b[39m0\u001b[39m)\n",
      "File \u001b[0;32m~/research/M2/bbmm_implementation/duplication_of_bbmm/bbmm/utils/preconditioner.py:33\u001b[0m, in \u001b[0;36msetup_preconditioner\u001b[0;34m(matrix, rank, noise, min_preconditioning_size)\u001b[0m\n\u001b[1;32m     31\u001b[0m     piv_chol_self \u001b[39m=\u001b[39m pivoted_cholesky_numpy(matrix)\n\u001b[1;32m     32\u001b[0m \u001b[39melse\u001b[39;00m:\n\u001b[0;32m---> 33\u001b[0m     piv_chol_self \u001b[39m=\u001b[39m pivoted_cholesky_numpy(matrix, max_iter\u001b[39m=\u001b[39;49mrank)\n\u001b[1;32m     34\u001b[0m n, k \u001b[39m=\u001b[39m piv_chol_self\u001b[39m.\u001b[39mshape\n\u001b[1;32m     35\u001b[0m \u001b[39m# print(f'n: {n} k: {k}')\u001b[39;00m\n",
      "File \u001b[0;32m~/research/M2/bbmm_implementation/duplication_of_bbmm/bbmm/functions/pivoted_cholesky_numpy.py:22\u001b[0m, in \u001b[0;36mpivoted_cholesky_numpy\u001b[0;34m(mat, error_tol, return_pivots, max_iter)\u001b[0m\n\u001b[1;32m     19\u001b[0m n \u001b[39m=\u001b[39m mat\u001b[39m.\u001b[39mshape[\u001b[39m-\u001b[39m\u001b[39m1\u001b[39m]\n\u001b[1;32m     20\u001b[0m max_iter \u001b[39m=\u001b[39m \u001b[39mmin\u001b[39m(max_iter, n)\n\u001b[0;32m---> 22\u001b[0m d \u001b[39m=\u001b[39m np\u001b[39m.\u001b[39;49mdiag(mat)\u001b[39m.\u001b[39mcopy()\n\u001b[1;32m     23\u001b[0m orig_error \u001b[39m=\u001b[39m np\u001b[39m.\u001b[39mmax(d)\n\u001b[1;32m     24\u001b[0m error \u001b[39m=\u001b[39m np\u001b[39m.\u001b[39mlinalg\u001b[39m.\u001b[39mnorm(d, \u001b[39m1\u001b[39m) \u001b[39m/\u001b[39m orig_error\n",
      "File \u001b[0;32m<__array_function__ internals>:200\u001b[0m, in \u001b[0;36mdiag\u001b[0;34m(*args, **kwargs)\u001b[0m\n",
      "File \u001b[0;32m~/.conda/envs/gpr_latest_python/lib/python3.11/site-packages/numpy/lib/twodim_base.py:295\u001b[0m, in \u001b[0;36mdiag\u001b[0;34m(v, k)\u001b[0m\n\u001b[1;32m    240\u001b[0m \u001b[39m@array_function_dispatch\u001b[39m(_diag_dispatcher)\n\u001b[1;32m    241\u001b[0m \u001b[39mdef\u001b[39;00m \u001b[39mdiag\u001b[39m(v, k\u001b[39m=\u001b[39m\u001b[39m0\u001b[39m):\n\u001b[1;32m    242\u001b[0m \u001b[39m    \u001b[39m\u001b[39m\"\"\"\u001b[39;00m\n\u001b[1;32m    243\u001b[0m \u001b[39m    Extract a diagonal or construct a diagonal array.\u001b[39;00m\n\u001b[1;32m    244\u001b[0m \n\u001b[0;32m   (...)\u001b[0m\n\u001b[1;32m    293\u001b[0m \n\u001b[1;32m    294\u001b[0m \u001b[39m    \"\"\"\u001b[39;00m\n\u001b[0;32m--> 295\u001b[0m     v \u001b[39m=\u001b[39m asanyarray(v)\n\u001b[1;32m    296\u001b[0m     s \u001b[39m=\u001b[39m v\u001b[39m.\u001b[39mshape\n\u001b[1;32m    297\u001b[0m     \u001b[39mif\u001b[39;00m \u001b[39mlen\u001b[39m(s) \u001b[39m==\u001b[39m \u001b[39m1\u001b[39m:\n",
      "File \u001b[0;32m~/.conda/envs/gpr_latest_python/lib/python3.11/site-packages/jax/core.py:541\u001b[0m, in \u001b[0;36mTracer.__array__\u001b[0;34m(self, *args, **kw)\u001b[0m\n\u001b[1;32m    540\u001b[0m \u001b[39mdef\u001b[39;00m \u001b[39m__array__\u001b[39m(\u001b[39mself\u001b[39m, \u001b[39m*\u001b[39margs, \u001b[39m*\u001b[39m\u001b[39m*\u001b[39mkw):\n\u001b[0;32m--> 541\u001b[0m   \u001b[39mraise\u001b[39;00m TracerArrayConversionError(\u001b[39mself\u001b[39m)\n",
      "\u001b[0;31mTracerArrayConversionError\u001b[0m: The numpy.ndarray conversion method __array__() was called on the JAX Tracer object Traced<ConcreteArray([[1.000001   0.89807857 0.65292993 ... 0.         0.         0.        ]\n [0.89807857 1.000001   0.89972558 ... 0.         0.         0.        ]\n [0.65292993 0.89972558 1.000001   ... 0.         0.         0.        ]\n ...\n [0.         0.         0.         ... 0.01543335 0.01459375 0.01234158]\n [0.         0.         0.         ... 0.01459375 0.01543335 0.01459375]\n [0.         0.         0.         ... 0.01234158 0.01459375 0.01543335]], dtype=float64)>with<JVPTrace(level=2/0)> with\n  primal = Array([[1.000001  , 0.89807857, 0.65292993, ..., 0.        , 0.        ,\n        0.        ],\n       [0.89807857, 1.000001  , 0.89972558, ..., 0.        , 0.        ,\n        0.        ],\n       [0.65292993, 0.89972558, 1.000001  , ..., 0.        , 0.        ,\n        0.        ],\n       ...,\n       [0.        , 0.        , 0.        , ..., 0.01543335, 0.01459375,\n        0.01234158],\n       [0.        , 0.        , 0.        , ..., 0.01459375, 0.01543335,\n        0.01459375],\n       [0.        , 0.        , 0.        , ..., 0.01234158, 0.01459375,\n        0.01543335]], dtype=float64)\n  tangent = Traced<ShapedArray(float64[1180,1180])>with<JaxprTrace(level=1/0)> with\n    pval = (ShapedArray(float64[1180,1180]), None)\n    recipe = JaxprEqnRecipe(eqn_id=<object object at 0x7f96184a1580>, in_tracers=(Traced<ShapedArray(float64[1180,1180]):JaxprTrace(level=1/0)>,), out_tracer_refs=[<weakref at 0x7f96101ed7b0; to 'JaxprTracer' at 0x7f96101ef510>], out_avals=[ShapedArray(float64[1180,1180])], primitive=xla_call, params={'device': None, 'backend': None, 'name': 'fn', 'donated_invars': (False,), 'inline': True, 'keep_unused': False, 'call_jaxpr': { lambda ; a:f64[1180,1180]. let  in (a,) }}, effects=set(), source_info=SourceInfo(traceback=<jaxlib.xla_extension.Traceback object at 0x7f95a4217c70>, name_stack=NameStack(stack=(Transform(name='jvp'),))))\nSee https://jax.readthedocs.io/en/latest/errors.html#jax.errors.TracerArrayConversionError"
     ]
    }
   ],
   "source": [
    "opts = [{\"x\": init}]\n",
    "# np.arrayのinstanceを生成している文章があると，jax.gradを使うことができない\n",
    "opt, loss, theta, norm_of_grads_list = optimize_by_adam(\n",
    "    func_mpcg, dfunc_mpcg, hess_mpcg, init, params_optimization, *args_predict[2:]\n",
    ")"
   ]
  },
  {
   "cell_type": "markdown",
   "id": "d64a50d8-7075-4866-a2c2-6955cf3f3aa6",
   "metadata": {},
   "source": [
    "## check if we can reach convergenparams_optimization"
   ]
  },
  {
   "cell_type": "code",
   "execution_count": 54,
   "id": "3e71e4f0-3dc9-4451-9fc7-be904cb42cf5",
   "metadata": {
    "tags": []
   },
   "outputs": [
    {
     "data": {
      "text/plain": [
       "{'eps': 0.001,\n",
       " 'index_fixed': None,\n",
       " 'interval_check': None,\n",
       " 'loss_ridge_regression': False,\n",
       " 'lr': 0.01,\n",
       " 'maxiter_GD': 5,\n",
       " 'maxiter_scipy': [0],\n",
       " 'method_GD': 'adam',\n",
       " 'method_scipy': ['Nelder-Mead'],\n",
       " 'print_process': False}"
      ]
     },
     "execution_count": 54,
     "metadata": {},
     "output_type": "execute_result"
    }
   ],
   "source": [
    "params_optimization[\"eps\"] = 0.001\n",
    "params_optimization"
   ]
  },
  {
   "cell_type": "code",
   "execution_count": 48,
   "id": "98b696f8-a8a7-4123-b5dd-7fb0c736f235",
   "metadata": {
    "tags": []
   },
   "outputs": [],
   "source": [
    "params_optimization[\"maxiter_GD\"] = 900\n",
    "params_optimization[\"print_process\"] = False"
   ]
  },
  {
   "cell_type": "code",
   "execution_count": 49,
   "id": "519b85e3-2480-46d2-9999-17f4407c314c",
   "metadata": {
    "tags": []
   },
   "outputs": [
    {
     "name": "stdout",
     "output_type": "stream",
     "text": [
      "loss before optimize: 9.821335481312728\n"
     ]
    }
   ],
   "source": [
    "opts = [{\"x\": init}]\n",
    "opt, loss, theta, norm_of_grads_list = optimize_by_adam(\n",
    "    func, dfunc, hess, init, params_optimization, *args_predict[2:]\n",
    ")"
   ]
  },
  {
   "cell_type": "code",
   "execution_count": 50,
   "id": "f758d2fe-bfae-48d6-8ef7-0601a0003201",
   "metadata": {
    "tags": []
   },
   "outputs": [
    {
     "data": {
      "text/plain": [
       "900"
      ]
     },
     "execution_count": 50,
     "metadata": {},
     "output_type": "execute_result"
    }
   ],
   "source": [
    "len(norm_of_grads_list)"
   ]
  },
  {
   "cell_type": "code",
   "execution_count": 51,
   "id": "9a4f6036-b230-43f0-a80b-fabea1b19864",
   "metadata": {
    "tags": []
   },
   "outputs": [
    {
     "data": {
      "text/plain": [
       "901"
      ]
     },
     "execution_count": 51,
     "metadata": {},
     "output_type": "execute_result"
    }
   ],
   "source": [
    "len(loss)"
   ]
  },
  {
   "cell_type": "code",
   "execution_count": 57,
   "id": "17a86275-7ae6-4434-b48e-05c576d11d20",
   "metadata": {
    "tags": []
   },
   "outputs": [
    {
     "name": "stdout",
     "output_type": "stream",
     "text": [
      "loss before optimize: 0.5863597474254184\n"
     ]
    },
    {
     "ename": "Exception",
     "evalue": "gradient of loss became nan",
     "output_type": "error",
     "traceback": [
      "\u001b[0;31m---------------------------------------------------------------------------\u001b[0m",
      "\u001b[0;31mException\u001b[0m                                 Traceback (most recent call last)",
      "Cell \u001b[0;32mIn[57], line 4\u001b[0m\n\u001b[1;32m      2\u001b[0m params_optimization[\u001b[38;5;124m\"\u001b[39m\u001b[38;5;124mprint_process\u001b[39m\u001b[38;5;124m\"\u001b[39m] \u001b[38;5;241m=\u001b[39m \u001b[38;5;28;01mFalse\u001b[39;00m\n\u001b[1;32m      3\u001b[0m opts \u001b[38;5;241m=\u001b[39m [{\u001b[38;5;124m\"\u001b[39m\u001b[38;5;124mx\u001b[39m\u001b[38;5;124m\"\u001b[39m: init}]\n\u001b[0;32m----> 4\u001b[0m opt_mpcg, loss_mpcg, theta_mpcg, norm_of_grads_list_mpcg \u001b[38;5;241m=\u001b[39m \u001b[43moptimize_by_adam\u001b[49m\u001b[43m(\u001b[49m\n\u001b[1;32m      5\u001b[0m \u001b[43m    \u001b[49m\u001b[43mfunc_mpcg\u001b[49m\u001b[43m,\u001b[49m\u001b[43m \u001b[49m\u001b[43mdfunc_mpcg\u001b[49m\u001b[43m,\u001b[49m\u001b[43m \u001b[49m\u001b[43mhess_mpcg\u001b[49m\u001b[43m,\u001b[49m\u001b[43m \u001b[49m\u001b[43minit\u001b[49m\u001b[43m,\u001b[49m\u001b[43m \u001b[49m\u001b[43mparams_optimization\u001b[49m\u001b[43m,\u001b[49m\u001b[43m \u001b[49m\u001b[38;5;241;43m*\u001b[39;49m\u001b[43margs_predict\u001b[49m\u001b[43m[\u001b[49m\u001b[38;5;241;43m2\u001b[39;49m\u001b[43m:\u001b[49m\u001b[43m]\u001b[49m\n\u001b[1;32m      6\u001b[0m \u001b[43m)\u001b[49m\n",
      "File \u001b[0;32m~/opt/stopro/solver/optimizers.py:234\u001b[0m, in \u001b[0;36moptimize_by_adam\u001b[0;34m(f, df, hf, init, params_optimization, *args)\u001b[0m\n\u001b[1;32m    231\u001b[0m     opt_init, opt_update, get_params \u001b[38;5;241m=\u001b[39m optimizers\u001b[38;5;241m.\u001b[39msgd(lr)\n\u001b[1;32m    233\u001b[0m \u001b[38;5;28;01mif\u001b[39;00m maxiter_GD:\n\u001b[0;32m--> 234\u001b[0m     theta, loss \u001b[38;5;241m=\u001b[39m \u001b[43mdoopt\u001b[49m\u001b[43m(\u001b[49m\n\u001b[1;32m    235\u001b[0m \u001b[43m        \u001b[49m\u001b[43mres\u001b[49m\u001b[43m[\u001b[49m\u001b[38;5;241;43m-\u001b[39;49m\u001b[38;5;241;43m1\u001b[39;49m\u001b[43m]\u001b[49m\u001b[43m[\u001b[49m\u001b[38;5;124;43m\"\u001b[39;49m\u001b[38;5;124;43mx\u001b[39;49m\u001b[38;5;124;43m\"\u001b[39;49m\u001b[43m]\u001b[49m\u001b[43m,\u001b[49m\u001b[43m \u001b[49m\u001b[43moptimizer\u001b[49m\u001b[43m,\u001b[49m\u001b[43m \u001b[49m\u001b[43mmaxiter_GD\u001b[49m\u001b[43m,\u001b[49m\u001b[43m \u001b[49m\u001b[43mloss\u001b[49m\u001b[43m,\u001b[49m\u001b[43m \u001b[49m\u001b[43mtheta\u001b[49m\u001b[43m,\u001b[49m\u001b[43m \u001b[49m\u001b[43mnorm_of_grads_list\u001b[49m\n\u001b[1;32m    236\u001b[0m \u001b[43m    \u001b[49m\u001b[43m)\u001b[49m\n\u001b[1;32m    238\u001b[0m \u001b[38;5;28;01mreturn\u001b[39;00m theta[\u001b[38;5;241m-\u001b[39m\u001b[38;5;241m1\u001b[39m], loss, theta, norm_of_grads_list\n",
      "File \u001b[0;32m~/opt/stopro/solver/optimizers.py:189\u001b[0m, in \u001b[0;36moptimize_by_adam.<locals>.doopt\u001b[0;34m(init, optimizer, maxiter_GD, loss, theta, norm_of_grads_list)\u001b[0m\n\u001b[1;32m    187\u001b[0m loss_converge \u001b[38;5;241m=\u001b[39m \u001b[38;5;28;01mFalse\u001b[39;00m  \u001b[38;5;66;03m# 2回連続で基準値を下回ったときのみ計算を終了する\u001b[39;00m\n\u001b[1;32m    188\u001b[0m \u001b[38;5;28;01mfor\u001b[39;00m t \u001b[38;5;129;01min\u001b[39;00m \u001b[38;5;28mrange\u001b[39m(maxiter_GD):\n\u001b[0;32m--> 189\u001b[0m     value, opt_state, current_theta, norm_of_grads \u001b[38;5;241m=\u001b[39m \u001b[43mstep\u001b[49m\u001b[43m(\u001b[49m\n\u001b[1;32m    190\u001b[0m \u001b[43m        \u001b[49m\u001b[43mt\u001b[49m\u001b[43m,\u001b[49m\u001b[43m \u001b[49m\u001b[43mopt_state\u001b[49m\u001b[43m,\u001b[49m\u001b[43m \u001b[49m\u001b[43moptimizer\u001b[49m\u001b[43m,\u001b[49m\u001b[43m \u001b[49m\u001b[43mtheta\u001b[49m\u001b[43m[\u001b[49m\u001b[38;5;241;43m-\u001b[39;49m\u001b[38;5;241;43m1\u001b[39;49m\u001b[43m]\u001b[49m\n\u001b[1;32m    191\u001b[0m \u001b[43m    \u001b[49m\u001b[43m)\u001b[49m\n\u001b[1;32m    192\u001b[0m     \u001b[38;5;66;03m# keep norm of gradient, theta and loss in lists\u001b[39;00m\n\u001b[1;32m    193\u001b[0m     norm_of_grads_list\u001b[38;5;241m.\u001b[39mappend(norm_of_grads)\n",
      "File \u001b[0;32m~/opt/stopro/solver/optimizers.py:167\u001b[0m, in \u001b[0;36moptimize_by_adam.<locals>.step\u001b[0;34m(t, opt_state, optimizer, theta)\u001b[0m\n\u001b[1;32m    165\u001b[0m     norm_of_grads \u001b[38;5;241m=\u001b[39m \u001b[38;5;28msum\u001b[39m(jnp\u001b[38;5;241m.\u001b[39msum(value) \u001b[38;5;28;01mfor\u001b[39;00m value \u001b[38;5;129;01min\u001b[39;00m grads\u001b[38;5;241m.\u001b[39mvalues())\n\u001b[1;32m    166\u001b[0m \u001b[38;5;28;01mif\u001b[39;00m jnp\u001b[38;5;241m.\u001b[39many(jnp\u001b[38;5;241m.\u001b[39misnan(grads)):\n\u001b[0;32m--> 167\u001b[0m     \u001b[38;5;28;01mraise\u001b[39;00m \u001b[38;5;167;01mException\u001b[39;00m(\u001b[38;5;124m\"\u001b[39m\u001b[38;5;124mgradient of loss became nan\u001b[39m\u001b[38;5;124m\"\u001b[39m)\n\u001b[1;32m    168\u001b[0m \u001b[38;5;28;01mif\u001b[39;00m print_process:\n\u001b[1;32m    169\u001b[0m     \u001b[38;5;28mprint\u001b[39m(\n\u001b[1;32m    170\u001b[0m         \u001b[38;5;124mf\u001b[39m\u001b[38;5;124m\"\u001b[39m\u001b[38;5;124mstep\u001b[39m\u001b[38;5;132;01m{\u001b[39;00mt\u001b[38;5;132;01m:\u001b[39;00m\u001b[38;5;124m4\u001b[39m\u001b[38;5;132;01m}\u001b[39;00m\u001b[38;5;124m loss: \u001b[39m\u001b[38;5;132;01m{\u001b[39;00mvalue\u001b[38;5;132;01m:\u001b[39;00m\u001b[38;5;124m.4f\u001b[39m\u001b[38;5;132;01m}\u001b[39;00m\u001b[38;5;124m max_grad: \u001b[39m\u001b[38;5;132;01m{\u001b[39;00mjnp\u001b[38;5;241m.\u001b[39mmax(\u001b[38;5;28mabs\u001b[39m(grads))\u001b[38;5;132;01m:\u001b[39;00m\u001b[38;5;124m.5f\u001b[39m\u001b[38;5;132;01m}\u001b[39;00m\u001b[38;5;124m, arg=\u001b[39m\u001b[38;5;132;01m{\u001b[39;00mjnp\u001b[38;5;241m.\u001b[39margmax(\u001b[38;5;28mabs\u001b[39m(grads))\u001b[38;5;132;01m}\u001b[39;00m\u001b[38;5;124m\"\u001b[39m\n\u001b[1;32m    171\u001b[0m         \u001b[38;5;66;03m# f\"step{t:4} loss: {value:.4f}\"\u001b[39;00m\n\u001b[1;32m    172\u001b[0m     )\n",
      "\u001b[0;31mException\u001b[0m: gradient of loss became nan"
     ]
    }
   ],
   "source": [
    "params_optimization[\"maxiter_GD\"] = 900\n",
    "params_optimization[\"print_process\"] = False\n",
    "opts = [{\"x\": init}]\n",
    "opt_mpcg, loss_mpcg, theta_mpcg, norm_of_grads_list_mpcg = optimize_by_adam(\n",
    "    func_mpcg, dfunc_mpcg, hess_mpcg, init, params_optimization, *args_predict[2:]\n",
    ")"
   ]
  },
  {
   "cell_type": "code",
   "execution_count": null,
   "id": "2d9d1d0e-4adc-4911-966e-281422328f26",
   "metadata": {
    "tags": []
   },
   "outputs": [],
   "source": [
    "len(loss_mpcg)"
   ]
  },
  {
   "cell_type": "code",
   "execution_count": null,
   "id": "0af0f319-4d29-4701-a256-9f9dbc94b453",
   "metadata": {
    "tags": []
   },
   "outputs": [],
   "source": [
    "# params_optimization[\"maxiter_GD\"] = 73\n",
    "# params_optimization[\"print_process\"] = False\n",
    "# opts = [{\"x\": init}]\n",
    "# opt_mpcg, loss_mpcg, theta_mpcg, norm_of_grads_list_mpcg = optimize_by_adam(\n",
    "#     func_mpcg, dfunc_mpcg, hess_mpcg, init, params_optimization, *args_predict[2:]\n",
    "# )\n",
    "## diverged"
   ]
  },
  {
   "cell_type": "code",
   "execution_count": null,
   "id": "eca1a5e0-a69e-4c89-856c-105e82046e33",
   "metadata": {
    "tags": []
   },
   "outputs": [],
   "source": [
    "fig, axs = plt.subplots(ncols=2, nrows=2, figsize=(8, 6), sharex=True)\n",
    "kwargs = {\"linestyle\": \"--\"}\n",
    "kwargs_mpcg = {\"alpha\": 0.7}\n",
    "\n",
    "axs[0][0].plot(loss, **kwargs, label='default')\n",
    "axs[0][0].plot(loss_mpcg, label='mPCG', **kwargs_mpcg)\n",
    "axs[0][0].set_title('loss')\n",
    "\n",
    "axs[0][1].plot(norm_of_grads_list, **kwargs, label='default')\n",
    "axs[0][1].plot(norm_of_grads_list_mpcg, label='mPCG', **kwargs_mpcg)\n",
    "axs[0][1].set_title('norm of gradient')\n",
    "\n",
    "                    \n",
    "axs[1][0].plot(np.array(theta)[:, 0], **kwargs)\n",
    "axs[1][0].plot(np.array(theta_mpcg)[:, 0], **kwargs_mpcg)\n",
    "axs[1][0].set_title('$\\eta$')\n",
    "axs[1][0].set_xlabel('iteration')\n",
    "\n",
    "axs[1][1].plot(np.array(theta)[:, 1], **kwargs)\n",
    "axs[1][1].plot(np.array(theta_mpcg)[:, 1], **kwargs_mpcg)\n",
    "axs[1][1].set_title('$l$')\n",
    "axs[1][1].set_xlabel('iteration')\n",
    "\n",
    "axs[0][0].legend()\n",
    "plt.tight_layout()"
   ]
  },
  {
   "cell_type": "code",
   "execution_count": null,
   "id": "39c88a1e-d0ca-452a-af32-c007cebff77b",
   "metadata": {},
   "outputs": [],
   "source": [
    "def setup_predictor_mpcg(rank=15, n_tridiag=10, seed=0, tolerance=0.001, max_tridiag_iter=20, max_iter_cg=1000, min_preconditioning_size=2000):\n",
    "    def predictor_mpcg(opt, *args):\n",
    "\n",
    "        r_test, μ_test, r, delta_y, noise = args\n",
    "\n",
    "        K = gp_model.trainingK_all(opt, r)\n",
    "        K = gp_model.add_eps_to_sigma(K, noise, noise_parameter=None)\n",
    "        \n",
    "        Kab = gp_model.mixedK_all(opt, r_test, r_train)\n",
    "        Kaa = gp_model.testK_all(opt, r_test)\n",
    "\n",
    "        precondition, precond_lt, precond_logdet_cache = precond.setup_preconditioner(K, rank=rank, noise=noise, min_preconditioning_size=min_preconditioning_size)\n",
    "        rhs = jnp.concatenate([delta_y.reshape(-1, 1)], axis=1)\n",
    "\n",
    "        Kinvy, j = cg.mpcg_bbmm(\n",
    "            K,\n",
    "            rhs,\n",
    "            precondition=precondition, \n",
    "            print_process=False, \n",
    "            tolerance=tolerance, \n",
    "            n_tridiag=0, \n",
    "            max_tridiag_iter=max_tridiag_iter,\n",
    "            max_iter_cg=max_iter_cg\n",
    "        )\n",
    "        \n",
    "        rhs = Kab.T\n",
    "\n",
    "        Kinvk, j = cg.mpcg_bbmm(\n",
    "            K,\n",
    "            rhs,\n",
    "            precondition=precondition, \n",
    "            print_process=False, \n",
    "            tolerance=tolerance, \n",
    "            n_tridiag=0, \n",
    "            max_tridiag_iter=max_tridiag_iter,\n",
    "            max_iter_cg=max_iter_cg\n",
    "        )\n",
    "\n",
    "\n",
    "        kKy = jnp.squeeze(jnp.matmul(Kab, Kinvy), axis=1)\n",
    "        kKk = jnp.matmul(Kab, Kinvk)\n",
    "        print(kKy.shape)\n",
    "        sec0 = 0\n",
    "        sec1 = 0\n",
    "        fs_mpcg = []\n",
    "        Sigmas_mpcg = []\n",
    "        for i in range(len(r_test)):\n",
    "            sec1 += len(r_test[i])\n",
    "            fs_mpcg.append(μ_test[0] + kKy[sec0:sec1])\n",
    "            Sigmas_mpcg.append(Kaa[sec0:sec1, sec0:sec1] - kKk[sec0:sec1, sec0:sec1])\n",
    "            sec0 += len(r_test[i])\n",
    "        # f_infer_mpcg = [μ_test[0] + jnp.squeeze(kKy, axis=1)]\n",
    "        # Sigma_mpcg = Kaa - kKk\n",
    "        # print(yKy)\n",
    "        # print(logdet)\n",
    "        return fs_mpcg, Sigmas_mpcg\n",
    "    return predictor_mpcg"
   ]
  },
  {
   "cell_type": "code",
   "execution_count": null,
   "id": "8d60b8c5-bfdb-4157-9853-e983fe7794b3",
   "metadata": {
    "tags": []
   },
   "outputs": [],
   "source": [
    "predictor_mpcg = setup_predictor_mpcg(rank=80, min_preconditioning_size=1)\n",
    "f_infer_mpcg, Sigma_mpcg = predictor_mpcg(opt_mpcg, *args_predict)\n",
    "# std_mpcg = jnp.sqrt(jnp.diag(Sigma_mpcg))"
   ]
  },
  {
   "cell_type": "code",
   "execution_count": null,
   "id": "1c9c83ff-7a04-4655-85ea-d19351314993",
   "metadata": {
    "tags": []
   },
   "outputs": [],
   "source": [
    "fs, Σs = predictor(opt, *args_predict)"
   ]
  },
  {
   "cell_type": "code",
   "execution_count": null,
   "id": "6dd7abb0-fcf1-4ebd-8bc8-c27455993b24",
   "metadata": {
    "tags": []
   },
   "outputs": [],
   "source": [
    "maximum_height = 1 / 2 + 0.2"
   ]
  },
  {
   "cell_type": "code",
   "execution_count": null,
   "id": "6a624aeb-747f-415f-83b8-2ff2eea3750b",
   "metadata": {
    "tags": []
   },
   "outputs": [],
   "source": [
    "y_num = params_generate_test[\"test_num\"]\n",
    "x_num = len(r_test[0][::y_num])\n",
    "y_grid = np.linspace(-maximum_height, maximum_height, y_num)\n",
    "x_grid = np.linspace(0, 2.5, x_num)"
   ]
  },
  {
   "cell_type": "code",
   "execution_count": null,
   "id": "c3d711ff-827c-4a59-92f3-465d2f5caea9",
   "metadata": {
    "tags": []
   },
   "outputs": [],
   "source": [
    "sinusoidal = Sinusoidal(0.2, 2.5, 1.)"
   ]
  },
  {
   "cell_type": "code",
   "execution_count": null,
   "id": "c831ddd3-4a4a-4280-a79f-679ae379cfbd",
   "metadata": {
    "tags": []
   },
   "outputs": [],
   "source": [
    "vlimit = params_plot['val_limits']"
   ]
  },
  {
   "cell_type": "code",
   "execution_count": null,
   "id": "8ae85bdc-bbb7-4c37-bd9e-a2625bd3fdc2",
   "metadata": {
    "tags": []
   },
   "outputs": [],
   "source": [
    "params_plot"
   ]
  },
  {
   "cell_type": "code",
   "execution_count": null,
   "id": "920fdce0-6fa6-48c2-9f7a-9b1b01f057a2",
   "metadata": {
    "tags": []
   },
   "outputs": [],
   "source": [
    "cmaps = [cmo.cm.dense, cmo.cm.balance, cmo.cm.dense]\n",
    "# 値のプロット\n",
    "vname = 'ux'\n",
    "fig, axs = plt.subplots(nrows=2)\n",
    "\n",
    "dot_size = 25\n",
    "index = vnames[\"test\"].index(vname)\n",
    "ax_index = 0\n",
    "axs[ax_index].set_title(vname)\n",
    "f_for_plot = sinusoidal.change_outside_values_to_zero(\n",
    "    r_test[index], np.array(f_infer_mpcg[index]),\n",
    ")\n",
    "f_mesh = f_for_plot.reshape(y_num, x_num)\n",
    "mappable = axs[ax_index].pcolormesh(\n",
    "    x_grid,\n",
    "    y_grid,\n",
    "    f_mesh,\n",
    "    cmap=cmaps[index],\n",
    "    vmin=vlimit[0][0],\n",
    "    vmax=vlimit[0][1],\n",
    "    shading=\"nearest\",\n",
    ")\n",
    "# mappable = axs[ax_index].scatter(r_test[index][:, 0], r_test[index][:, 1], c=f[index], marker='o',\n",
    "#                                  s=dot_size, cmap=cmaps[index], vmin=vlimit[0], vmax=vlimit[1])\n",
    "divider = make_axes_locatable(axs[ax_index])\n",
    "cax = divider.append_axes(\"right\", size=\"5%\", pad=0.1)\n",
    "fig.colorbar(mappable, cax=cax)\n",
    "axs[ax_index].set_aspect(\"equal\", adjustable=\"box\")\n",
    "\n",
    "\n",
    "vname='uy'\n",
    "\n",
    "index = vnames[\"test\"].index(vname)\n",
    "ax_index = 1\n",
    "axs[ax_index].set_title(vname)\n",
    "f_for_plot = sinusoidal.change_outside_values_to_zero(\n",
    "    r_test[index], np.array(f_infer_mpcg[index]),\n",
    ")\n",
    "f_mesh = f_for_plot.reshape(y_num, x_num)\n",
    "mappable = axs[ax_index].pcolormesh(\n",
    "    x_grid,\n",
    "    y_grid,\n",
    "    f_mesh,\n",
    "    cmap=cmaps[index],\n",
    "    vmin=vlimit[1][0],\n",
    "    vmax=vlimit[1][1],\n",
    "    shading=\"nearest\",\n",
    ")\n",
    "# mappable = axs[ax_index].scatter(r_test[index][:, 0], r_test[index][:, 1], c=f[index], marker='o',\n",
    "#                                  s=dot_size, cmap=cmaps[index], vmin=vlimit[0], vmax=vlimit[1])\n",
    "divider = make_axes_locatable(axs[ax_index])\n",
    "cax = divider.append_axes(\"right\", size=\"5%\", pad=0.1)\n",
    "fig.colorbar(mappable, cax=cax)\n",
    "axs[ax_index].set_aspect(\"equal\", adjustable=\"box\")"
   ]
  },
  {
   "cell_type": "code",
   "execution_count": 77,
   "id": "59c7312d-4ce2-4fe7-883f-ad8d15fd4d73",
   "metadata": {
    "tags": []
   },
   "outputs": [],
   "source": [
    "sample = sinusoidal.Sinusoidal(0.2, 2.5, 1.0)"
   ]
  },
  {
   "cell_type": "code",
   "execution_count": 82,
   "id": "647c5cc5-5567-430d-9ddf-43ea0b6b24da",
   "metadata": {
    "tags": []
   },
   "outputs": [
    {
     "ename": "AttributeError",
     "evalue": "'Sinusoidal' object has no attribute 'get_index_in_channel'",
     "output_type": "error",
     "traceback": [
      "\u001b[0;31m---------------------------------------------------------------------------\u001b[0m",
      "\u001b[0;31mAttributeError\u001b[0m                            Traceback (most recent call last)",
      "Cell \u001b[0;32mIn[82], line 2\u001b[0m\n\u001b[1;32m      1\u001b[0m i \u001b[38;5;241m=\u001b[39m \u001b[38;5;241m0\u001b[39m\n\u001b[0;32m----> 2\u001b[0m index_check \u001b[38;5;241m=\u001b[39m \u001b[43msample\u001b[49m\u001b[38;5;241;43m.\u001b[39;49m\u001b[43mget_index_in_channel\u001b[49m(r_test[\u001b[38;5;241m0\u001b[39m])\n\u001b[1;32m      3\u001b[0m \u001b[38;5;66;03m# f_check = fs[i][]\u001b[39;00m\n",
      "\u001b[0;31mAttributeError\u001b[0m: 'Sinusoidal' object has no attribute 'get_index_in_channel'"
     ]
    }
   ],
   "source": [
    "i = 0\n",
    "index_check = sample.get_index_in_channel(r_test[0])\n",
    "# f_check = fs[i][]"
   ]
  },
  {
   "cell_type": "code",
   "execution_count": 75,
   "id": "37309240-4e63-427f-9d61-fa85a3b016eb",
   "metadata": {
    "tags": []
   },
   "outputs": [
    {
     "ename": "IndexError",
     "evalue": "boolean index did not match shape of indexed array in index 0: got (576, 2), expected (576,)",
     "output_type": "error",
     "traceback": [
      "\u001b[0;31m---------------------------------------------------------------------------\u001b[0m",
      "\u001b[0;31mIndexError\u001b[0m                                Traceback (most recent call last)",
      "Cell \u001b[0;32mIn[75], line 1\u001b[0m\n\u001b[0;32m----> 1\u001b[0m np\u001b[38;5;241m.\u001b[39mmean(np\u001b[38;5;241m.\u001b[39mabs(\u001b[43mfs\u001b[49m\u001b[43m[\u001b[49m\u001b[38;5;241;43m0\u001b[39;49m\u001b[43m]\u001b[49m\u001b[43m[\u001b[49m\u001b[43mindex_check\u001b[49m\u001b[43m]\u001b[49m\u001b[38;5;241m-\u001b[39mf_test[\u001b[38;5;241m0\u001b[39m][index_check])), np\u001b[38;5;241m.\u001b[39mmean(np\u001b[38;5;241m.\u001b[39mabs(f_infer_mpcg[\u001b[38;5;241m0\u001b[39m][index_check]\u001b[38;5;241m-\u001b[39mf_test[\u001b[38;5;241m0\u001b[39m][index_check]))\n",
      "File \u001b[0;32m~/.conda/envs/gpr_latest_python/lib/python3.11/site-packages/jax/_src/array.py:261\u001b[0m, in \u001b[0;36mArrayImpl.__getitem__\u001b[0;34m(self, idx)\u001b[0m\n\u001b[1;32m    258\u001b[0m \u001b[38;5;28mself\u001b[39m\u001b[38;5;241m.\u001b[39m_check_if_deleted()\n\u001b[1;32m    260\u001b[0m \u001b[38;5;28;01mif\u001b[39;00m dispatch\u001b[38;5;241m.\u001b[39mis_single_device_sharding(\u001b[38;5;28mself\u001b[39m\u001b[38;5;241m.\u001b[39msharding) \u001b[38;5;129;01mor\u001b[39;00m \u001b[38;5;28mself\u001b[39m\u001b[38;5;241m.\u001b[39mis_fully_replicated:\n\u001b[0;32m--> 261\u001b[0m   \u001b[38;5;28;01mreturn\u001b[39;00m \u001b[43mlax_numpy\u001b[49m\u001b[38;5;241;43m.\u001b[39;49m\u001b[43m_rewriting_take\u001b[49m\u001b[43m(\u001b[49m\u001b[38;5;28;43mself\u001b[39;49m\u001b[43m,\u001b[49m\u001b[43m \u001b[49m\u001b[43midx\u001b[49m\u001b[43m)\u001b[49m\n\u001b[1;32m    262\u001b[0m \u001b[38;5;66;03m# TODO(yashkatariya): Make it work for other Shardings too wherever its\u001b[39;00m\n\u001b[1;32m    263\u001b[0m \u001b[38;5;66;03m# possible to not do data movement.\u001b[39;00m\n\u001b[1;32m    264\u001b[0m \u001b[38;5;28;01melif\u001b[39;00m \u001b[38;5;28misinstance\u001b[39m(\u001b[38;5;28mself\u001b[39m\u001b[38;5;241m.\u001b[39msharding, PmapSharding):\n",
      "File \u001b[0;32m~/.conda/envs/gpr_latest_python/lib/python3.11/site-packages/jax/_src/numpy/lax_numpy.py:3827\u001b[0m, in \u001b[0;36m_rewriting_take\u001b[0;34m(arr, idx, indices_are_sorted, unique_indices, mode, fill_value)\u001b[0m\n\u001b[1;32m   3821\u001b[0m     \u001b[38;5;28;01mif\u001b[39;00m (\u001b[38;5;28misinstance\u001b[39m(aval, core\u001b[38;5;241m.\u001b[39mDShapedArray) \u001b[38;5;129;01mand\u001b[39;00m aval\u001b[38;5;241m.\u001b[39mshape \u001b[38;5;241m==\u001b[39m () \u001b[38;5;129;01mand\u001b[39;00m\n\u001b[1;32m   3822\u001b[0m         dtypes\u001b[38;5;241m.\u001b[39missubdtype(aval\u001b[38;5;241m.\u001b[39mdtype, np\u001b[38;5;241m.\u001b[39minteger) \u001b[38;5;129;01mand\u001b[39;00m\n\u001b[1;32m   3823\u001b[0m         \u001b[38;5;129;01mnot\u001b[39;00m dtypes\u001b[38;5;241m.\u001b[39missubdtype(aval\u001b[38;5;241m.\u001b[39mdtype, dtypes\u001b[38;5;241m.\u001b[39mbool_) \u001b[38;5;129;01mand\u001b[39;00m\n\u001b[1;32m   3824\u001b[0m         \u001b[38;5;28misinstance\u001b[39m(arr\u001b[38;5;241m.\u001b[39mshape[\u001b[38;5;241m0\u001b[39m], \u001b[38;5;28mint\u001b[39m)):\n\u001b[1;32m   3825\u001b[0m       \u001b[38;5;28;01mreturn\u001b[39;00m lax\u001b[38;5;241m.\u001b[39mdynamic_index_in_dim(arr, idx, keepdims\u001b[38;5;241m=\u001b[39m\u001b[38;5;28;01mFalse\u001b[39;00m)\n\u001b[0;32m-> 3827\u001b[0m treedef, static_idx, dynamic_idx \u001b[38;5;241m=\u001b[39m \u001b[43m_split_index_for_jit\u001b[49m\u001b[43m(\u001b[49m\u001b[43midx\u001b[49m\u001b[43m,\u001b[49m\u001b[43m \u001b[49m\u001b[43marr\u001b[49m\u001b[38;5;241;43m.\u001b[39;49m\u001b[43mshape\u001b[49m\u001b[43m)\u001b[49m\n\u001b[1;32m   3828\u001b[0m \u001b[38;5;28;01mreturn\u001b[39;00m _gather(arr, treedef, static_idx, dynamic_idx, indices_are_sorted,\n\u001b[1;32m   3829\u001b[0m                unique_indices, mode, fill_value)\n",
      "File \u001b[0;32m~/.conda/envs/gpr_latest_python/lib/python3.11/site-packages/jax/_src/numpy/lax_numpy.py:3906\u001b[0m, in \u001b[0;36m_split_index_for_jit\u001b[0;34m(idx, shape)\u001b[0m\n\u001b[1;32m   3902\u001b[0m idx \u001b[38;5;241m=\u001b[39m _eliminate_deprecated_list_indexing(idx)\n\u001b[1;32m   3904\u001b[0m \u001b[38;5;66;03m# Expand any (concrete) boolean indices. We can then use advanced integer\u001b[39;00m\n\u001b[1;32m   3905\u001b[0m \u001b[38;5;66;03m# indexing logic to handle them.\u001b[39;00m\n\u001b[0;32m-> 3906\u001b[0m idx \u001b[38;5;241m=\u001b[39m \u001b[43m_expand_bool_indices\u001b[49m\u001b[43m(\u001b[49m\u001b[43midx\u001b[49m\u001b[43m,\u001b[49m\u001b[43m \u001b[49m\u001b[43mshape\u001b[49m\u001b[43m)\u001b[49m\n\u001b[1;32m   3908\u001b[0m leaves, treedef \u001b[38;5;241m=\u001b[39m tree_flatten(idx)\n\u001b[1;32m   3909\u001b[0m dynamic \u001b[38;5;241m=\u001b[39m [\u001b[38;5;28;01mNone\u001b[39;00m] \u001b[38;5;241m*\u001b[39m \u001b[38;5;28mlen\u001b[39m(leaves)\n",
      "File \u001b[0;32m~/.conda/envs/gpr_latest_python/lib/python3.11/site-packages/jax/_src/numpy/lax_numpy.py:4227\u001b[0m, in \u001b[0;36m_expand_bool_indices\u001b[0;34m(idx, shape)\u001b[0m\n\u001b[1;32m   4225\u001b[0m     expected_shape \u001b[38;5;241m=\u001b[39m shape[start: start \u001b[38;5;241m+\u001b[39m _ndim(i)]\n\u001b[1;32m   4226\u001b[0m     \u001b[38;5;28;01mif\u001b[39;00m i_shape \u001b[38;5;241m!=\u001b[39m expected_shape:\n\u001b[0;32m-> 4227\u001b[0m       \u001b[38;5;28;01mraise\u001b[39;00m \u001b[38;5;167;01mIndexError\u001b[39;00m(\u001b[38;5;124m\"\u001b[39m\u001b[38;5;124mboolean index did not match shape of indexed array in index \u001b[39m\u001b[38;5;124m\"\u001b[39m\n\u001b[1;32m   4228\u001b[0m                        \u001b[38;5;124mf\u001b[39m\u001b[38;5;124m\"\u001b[39m\u001b[38;5;132;01m{\u001b[39;00mdim_number\u001b[38;5;132;01m}\u001b[39;00m\u001b[38;5;124m: got \u001b[39m\u001b[38;5;132;01m{\u001b[39;00mi_shape\u001b[38;5;132;01m}\u001b[39;00m\u001b[38;5;124m, expected \u001b[39m\u001b[38;5;132;01m{\u001b[39;00mexpected_shape\u001b[38;5;132;01m}\u001b[39;00m\u001b[38;5;124m\"\u001b[39m)\n\u001b[1;32m   4229\u001b[0m     out\u001b[38;5;241m.\u001b[39mextend(np\u001b[38;5;241m.\u001b[39mwhere(i))\n\u001b[1;32m   4230\u001b[0m \u001b[38;5;28;01melse\u001b[39;00m:\n",
      "\u001b[0;31mIndexError\u001b[0m: boolean index did not match shape of indexed array in index 0: got (576, 2), expected (576,)"
     ]
    }
   ],
   "source": [
    "np.mean(np.abs(fs[0][index_check]-f_test[0][index_check])), np.mean(np.abs(f_infer_mpcg[0][index_check]-f_test[0][index_check]))"
   ]
  },
  {
   "cell_type": "code",
   "execution_count": 64,
   "id": "3cd35798-2578-40d4-80d0-4d7e4b81ebd1",
   "metadata": {
    "tags": []
   },
   "outputs": [
    {
     "data": {
      "text/plain": [
       "(array([2.07145351, 2.44960342]), array([1.14683018, 2.19386859]))"
      ]
     },
     "execution_count": 64,
     "metadata": {},
     "output_type": "execute_result"
    }
   ],
   "source": [
    "np.exp(opt), np.exp(opt_mpcg)"
   ]
  },
  {
   "cell_type": "code",
   "execution_count": null,
   "id": "c621c025-344e-4efb-b155-870ef6f33afe",
   "metadata": {},
   "outputs": [],
   "source": []
  }
 ],
 "metadata": {
  "kernelspec": {
   "display_name": "gpr_latest_python",
   "language": "python",
   "name": "gpr_latest_python"
  },
  "language_info": {
   "codemirror_mode": {
    "name": "ipython",
    "version": 3
   },
   "file_extension": ".py",
   "mimetype": "text/x-python",
   "name": "python",
   "nbconvert_exporter": "python",
   "pygments_lexer": "ipython3",
   "version": "3.11.0"
  }
 },
 "nbformat": 4,
 "nbformat_minor": 5
}
