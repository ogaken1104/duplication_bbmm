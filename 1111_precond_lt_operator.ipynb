{
 "cells": [
  {
   "cell_type": "code",
   "execution_count": 1,
   "id": "5ad6bf4b-5015-4ade-b30d-d0e1f068393e",
   "metadata": {
    "tags": []
   },
   "outputs": [],
   "source": [
    "import numpy as np\n",
    "import jax\n",
    "import jax.numpy as jnp\n",
    "from jax import vmap\n",
    "from jax import jit, lax\n",
    "import matplotlib.pyplot as plt\n",
    "import cmocean as cmo\n",
    "import importlib"
   ]
  },
  {
   "cell_type": "code",
   "execution_count": 2,
   "id": "f861d520-cf10-4616-ab7c-57fa9496d1b1",
   "metadata": {
    "tags": []
   },
   "outputs": [],
   "source": [
    "from jax.config import config\n",
    "config.update(\"jax_enable_x64\", True)"
   ]
  },
  {
   "cell_type": "code",
   "execution_count": 3,
   "id": "7f2db03a-1951-40f7-875f-2a6601daafe7",
   "metadata": {
    "tags": []
   },
   "outputs": [
    {
     "name": "stderr",
     "output_type": "stream",
     "text": [
      "/home/ogawa_kenta/.conda/envs/mytorch/lib/python3.9/site-packages/tqdm/auto.py:22: TqdmWarning: IProgress not found. Please update jupyter and ipywidgets. See https://ipywidgets.readthedocs.io/en/stable/user_install.html\n",
      "  from .autonotebook import tqdm as notebook_tqdm\n"
     ]
    }
   ],
   "source": [
    "## import modules\n",
    "import bbmm.utils.preconditioner as precond\n",
    "import bbmm.utils.conjugate_gradient as cg\n",
    "import bbmm.functions.pivoted_cholesky as pc\n",
    "import bbmm.functions.pivoted_cholesky_ref as pc_ref # to use this script we need \"torch\", please comment out if not needed.\n",
    "import bbmm.utils.calc_logdet as calc_logdet\n",
    "import bbmm.utils.calc_trace as calc_trace\n",
    "import bbmm.operators.dense_linear_operator as dense_linear_operator\n",
    "import bbmm.operators.root_linear_operator as root_linear_operator\n",
    "import bbmm.operators.diag_linear_operator as diag_linear_operator\n",
    "import bbmm.operators._linear_operator as _linear_operator\n",
    "import bbmm.operators.psd_sum_linear_operator as psd_sum_linear_operator\n",
    "import bbmm.operators.root_linear_operator as root_linear_operator\n",
    "from bbmm.functions.pivoted_cholesky_numpy import pivoted_cholesky_numpy\n",
    "def reload():\n",
    "    importlib.reload(precond)\n",
    "    importlib.reload(cg)\n",
    "    importlib.reload(pc)\n",
    "    importlib.reload(pc_ref)\n",
    "    importlib.reload(calc_logdet)\n",
    "    importlib.reload(calc_trace)\n",
    "    importlib.reload(dense_linear_operator)\n",
    "    importlib.reload(root_linear_operator)\n",
    "    importlib.reload(diag_linear_operator)\n",
    "    importlib.reload(_linear_operator)\n",
    "    importlib.reload(psd_sum_linear_operator)\n",
    "    importlib.reload(root_linear_operator)\n",
    "reload()"
   ]
  },
  {
   "cell_type": "code",
   "execution_count": 4,
   "id": "0a55aa47-707c-4aac-b082-9b5453189e5e",
   "metadata": {
    "tags": []
   },
   "outputs": [],
   "source": [
    "import gpytorch\n",
    "import torch\n",
    "import linear_operator\n",
    "from linear_operator.operators import (\n",
    "    AddedDiagLinearOperator,\n",
    "    DiagLinearOperator,\n",
    "    LinearOperator,\n",
    "    DenseLinearOperator,\n",
    ")"
   ]
  },
  {
   "cell_type": "code",
   "execution_count": 5,
   "id": "c96c5e06-74ff-4cdf-9be5-190aa608bd3e",
   "metadata": {
    "tags": []
   },
   "outputs": [],
   "source": [
    "def generate_K(N, seed=0, noise=1e-06):\n",
    "    \"\"\"\n",
    "    generate positive definite symmetric matrix\n",
    "    \"\"\"\n",
    "    K = jax.random.normal(jax.random.PRNGKey(seed), (N, N))\n",
    "    # K = K @ K.T + 30* jnp.eye(N) + noise*jnp.eye(N)\n",
    "    # K = jnp.dot(K, K.T) + noise*jnp.eye(N)\n",
    "    # K = jnp.dot(K, K.T) / N\n",
    "    K = jnp.dot(K, K.T)/N\n",
    "    # K += (noise+30)*jnp.eye(N) ## ??\n",
    "    K += (2)*jnp.eye(N)\n",
    "    K += (noise)*jnp.eye(N)\n",
    "    if not is_positive_definite(K):\n",
    "        raise Exception(\"K is not positive definite !\")\n",
    "    return K"
   ]
  },
  {
   "cell_type": "code",
   "execution_count": 6,
   "id": "78b7f51e-a1cc-47f5-befc-4c23256e0ffe",
   "metadata": {
    "tags": []
   },
   "outputs": [],
   "source": [
    "def is_positive_definite(matrix):\n",
    "    # 行列の固有値を計算\n",
    "    eigenvalues = np.linalg.eigvals(matrix)\n",
    "\n",
    "    # 全ての固有値が正であるかをチェック\n",
    "    if np.all(eigenvalues > 0):\n",
    "        return True\n",
    "    else:\n",
    "        return False"
   ]
  },
  {
   "cell_type": "code",
   "execution_count": 7,
   "id": "db2b4f4c-754a-43ef-a75b-4a898a67905d",
   "metadata": {
    "tags": []
   },
   "outputs": [],
   "source": [
    "def rel_error(true, pred):\n",
    "    nonzero_index = jnp.where(true != 0.)\n",
    "    true = true[nonzero_index]\n",
    "    pred = pred[nonzero_index]\n",
    "    return jnp.mean(jnp.abs((true-pred)/true))"
   ]
  },
  {
   "cell_type": "markdown",
   "id": "a505f6f1-09af-46d3-8125-9752fa8383c6",
   "metadata": {},
   "source": [
    "### check rootlinearop"
   ]
  },
  {
   "cell_type": "code",
   "execution_count": 8,
   "id": "e4ff0496-4d23-4cdb-bc82-258b3b3d1b80",
   "metadata": {
    "tags": []
   },
   "outputs": [],
   "source": [
    "sample_array = generate_K(3)"
   ]
  },
  {
   "cell_type": "code",
   "execution_count": 176,
   "id": "140bf166-40d8-43bf-b160-63d174f61464",
   "metadata": {
    "tags": []
   },
   "outputs": [],
   "source": [
    "dense = dense_linear_operator.DenseLinearOp(sample_array)"
   ]
  },
  {
   "cell_type": "code",
   "execution_count": 177,
   "id": "34372f67-82be-456b-b2fd-5b010af10d07",
   "metadata": {
    "tags": []
   },
   "outputs": [
    {
     "data": {
      "text/plain": [
       "(3, 3)"
      ]
     },
     "execution_count": 177,
     "metadata": {},
     "output_type": "execute_result"
    }
   ],
   "source": [
    "dense.shape"
   ]
  },
  {
   "cell_type": "code",
   "execution_count": 178,
   "id": "09f3b4b2-0bf0-48a1-818b-05758da8bbf0",
   "metadata": {
    "tags": []
   },
   "outputs": [
    {
     "data": {
      "text/plain": [
       "DeviceArray([[3.29861794, 0.37361211, 0.80453457],\n",
       "             [0.37361211, 2.74167   , 0.4826135 ],\n",
       "             [0.80453457, 0.4826135 , 3.4315507 ]], dtype=float64)"
      ]
     },
     "execution_count": 178,
     "metadata": {},
     "output_type": "execute_result"
    }
   ],
   "source": [
    "sample_array"
   ]
  },
  {
   "cell_type": "code",
   "execution_count": 179,
   "id": "86f6e566-a0c9-4388-a151-6becacc86f00",
   "metadata": {
    "tags": []
   },
   "outputs": [],
   "source": [
    "root = root_linear_operator.RootLinearOp(sample_array)"
   ]
  },
  {
   "cell_type": "code",
   "execution_count": 180,
   "id": "6c991034-9a88-43f7-94d4-479f0e7405bc",
   "metadata": {
    "tags": []
   },
   "outputs": [
    {
     "data": {
      "text/plain": [
       "DeviceArray([[43.97697109, 14.31114291, 29.86301791],\n",
       "             [14.31114291, 24.20084905, 17.19047655],\n",
       "             [29.86301791, 17.19047655, 49.51303359]], dtype=float64)"
      ]
     },
     "execution_count": 180,
     "metadata": {},
     "output_type": "execute_result"
    }
   ],
   "source": [
    "root.matmul(sample_array)"
   ]
  },
  {
   "cell_type": "code",
   "execution_count": 181,
   "id": "0e8a7bf0-95ee-49c7-ba71-93099bd7e154",
   "metadata": {
    "tags": []
   },
   "outputs": [
    {
     "data": {
      "text/plain": [
       "DeviceArray([[43.97697109, 14.31114291, 29.86301791],\n",
       "             [14.31114291, 24.20084905, 17.19047655],\n",
       "             [29.86301791, 17.19047655, 49.51303359]], dtype=float64)"
      ]
     },
     "execution_count": 181,
     "metadata": {},
     "output_type": "execute_result"
    }
   ],
   "source": [
    "dense.matmul(dense.matmul(sample_array))"
   ]
  },
  {
   "cell_type": "code",
   "execution_count": 182,
   "id": "6ab49feb-66d9-4971-9489-ab37a42c24cf",
   "metadata": {
    "tags": []
   },
   "outputs": [],
   "source": [
    "diag = diag_linear_operator.DiagLinearOp(jnp.full(3, 1e-06))"
   ]
  },
  {
   "cell_type": "code",
   "execution_count": 183,
   "id": "d49dacf7-c93c-4fbd-b80a-0ef568db7a8b",
   "metadata": {
    "tags": []
   },
   "outputs": [
    {
     "data": {
      "text/plain": [
       "DeviceArray([[3.29861794e-06, 3.73612114e-07, 8.04534573e-07],\n",
       "             [3.73612114e-07, 2.74167000e-06, 4.82613497e-07],\n",
       "             [8.04534573e-07, 4.82613497e-07, 3.43155070e-06]],            dtype=float64)"
      ]
     },
     "execution_count": 183,
     "metadata": {},
     "output_type": "execute_result"
    }
   ],
   "source": [
    "diag.root_decomposition().matmul(sample_array)"
   ]
  },
  {
   "cell_type": "code",
   "execution_count": 184,
   "id": "3495fcf9-9371-40be-a748-734e796fb925",
   "metadata": {
    "tags": []
   },
   "outputs": [],
   "source": [
    "N = 4\n",
    "L = jax.random.normal(key=jax.random.PRNGKey(0), shape = (N, 3))\n",
    "noise = jnp.full(N, 1e-06)"
   ]
  },
  {
   "cell_type": "code",
   "execution_count": 187,
   "id": "4f451239-1b87-492a-bdf6-9b2c0d088cdd",
   "metadata": {
    "tags": []
   },
   "outputs": [],
   "source": [
    "precond_lt_new = psd_sum_linear_operator.PsdSumLinearOp(\n",
    "    root_linear_operator.RootLinearOp(L),\n",
    "    diag_linear_operator.DiagLinearOp(noise)\n",
    ")"
   ]
  },
  {
   "cell_type": "code",
   "execution_count": 196,
   "id": "32c2e9f3-55c6-4697-a82b-a92bc148311f",
   "metadata": {
    "tags": []
   },
   "outputs": [
    {
     "data": {
      "text/plain": [
       "DeviceArray([0.69259817, 0.84746309, 0.57059682, 0.4227692 , 0.84754852,\n",
       "             0.91480462, 1.0085064 , 1.19646975, 2.0086326 , 0.67162618,\n",
       "             0.99974826, 0.63706252, 0.82829175, 1.72501585, 0.74728799,\n",
       "             1.44481853, 0.35150478, 1.50867536, 0.86776375, 0.68935824,\n",
       "             0.39364083, 0.74093674, 0.87175085, 0.96593639, 0.67365309,\n",
       "             1.49036013, 1.3769856 , 1.19452751, 0.91376743, 0.44264981],            dtype=float64)"
      ]
     },
     "execution_count": 196,
     "metadata": {},
     "output_type": "execute_result"
    }
   ],
   "source": [
    "jnp.std(precond_lt_new.zero_mean_mvn_samples(30), axis=0)"
   ]
  },
  {
   "cell_type": "code",
   "execution_count": 197,
   "id": "d393eb39-4aea-402b-ad15-0c757eb9078a",
   "metadata": {
    "tags": []
   },
   "outputs": [
    {
     "data": {
      "text/plain": [
       "DeviceArray([1.70659786, 0.28576204, 1.38839897, 0.33440476, 1.30633693,\n",
       "             1.16957061, 1.57803072, 0.65327961, 0.98631588, 0.54449982,\n",
       "             1.74427669, 0.7544217 , 0.43267165, 0.76666073, 1.05847336,\n",
       "             0.16916271, 0.32680483, 1.12172756, 0.94419746, 0.78947284,\n",
       "             1.33208958, 0.58295598, 1.15524194, 0.32035689, 0.60667962,\n",
       "             2.37129871, 1.13065544, 1.24455237, 1.01626742, 0.75942205],            dtype=float64)"
      ]
     },
     "execution_count": 197,
     "metadata": {},
     "output_type": "execute_result"
    }
   ],
   "source": [
    "precondition, precond_lt, precond_logdet_cache = precond.setup_preconditioner(L@L.T, rank=3, noise=1e-06, min_preconditioning_size=1)\n",
    "zs = jax.random.multivariate_normal(\n",
    "            jax.random.PRNGKey(0),\n",
    "            jnp.zeros(len(L)),\n",
    "            precond_lt,\n",
    "            shape=(30,),\n",
    ").T\n",
    "jnp.std(zs, axis=0)"
   ]
  },
  {
   "cell_type": "markdown",
   "id": "08f5bcd6-825d-48bb-b7f1-e0c10798edee",
   "metadata": {
    "tags": []
   },
   "source": [
    "## 5. modified preconditioned conjugate gradient"
   ]
  },
  {
   "cell_type": "code",
   "execution_count": 8,
   "id": "33d4ea3e-75a8-48dd-94e8-8ad9796fba2c",
   "metadata": {
    "tags": []
   },
   "outputs": [],
   "source": [
    "def calc_logdet_linalg(K):\n",
    "    L = jnp.linalg.cholesky(K)\n",
    "    return jnp.sum(jnp.log(jnp.diag(L))) * 2"
   ]
  },
  {
   "cell_type": "code",
   "execution_count": 9,
   "id": "1775656e-3266-48fa-bff4-873c9c989395",
   "metadata": {
    "tags": []
   },
   "outputs": [],
   "source": [
    "def check_logdet(n_tridiag=10, rank=15, tol=0.01, max_tridiag_iter=20):\n",
    "    logdet_list = []\n",
    "    for i in range(10):\n",
    "        y = jax.random.normal(key=jax.random.PRNGKey(i), shape=(N,1))\n",
    "        precondition, precond_lt, precond_logdet_cache = setup_preconditioner_new(K, rank=rank, noise=noise)\n",
    "        if precondition:\n",
    "            zs = precond_lt.zero_mean_mvn_samples(n_tridiag, seed=i+1)\n",
    "            \n",
    "        else:\n",
    "            zs = jax.random.normal(jax.random.PRNGKey(i+1), (N, n_tridiag))\n",
    "        zs_norms = jnp.linalg.norm(zs, axis=0, keepdims=True)\n",
    "        zs = zs/zs_norms\n",
    "        rhs = jnp.concatenate([zs, y], axis=1)\n",
    "        \n",
    "        Kinvy, j,t_mat = cg.mpcg_bbmm(K, rhs, precondition=precondition, print_process=False, tolerance=tol, n_tridiag=n_tridiag, max_tridiag_iter=max_tridiag_iter)\n",
    "        logdet_list.append(calc_logdet.calc_logdet(K.shape, t_mat, precond_logdet_cache))\n",
    "        logdet_linalg = calc_logdet_linalg(K)\n",
    "    logdet = np.mean(logdet_list)\n",
    "    relative_error = np.mean(np.abs((logdet_linalg-np.array(logdet_list))/logdet_linalg))\n",
    "    return logdet, float(logdet_linalg), relative_error"
   ]
  },
  {
   "cell_type": "code",
   "execution_count": 10,
   "id": "16dd5166-f651-4c91-ac44-d28f9848013f",
   "metadata": {
    "tags": []
   },
   "outputs": [],
   "source": [
    "def setup_preconditioner_new(\n",
    "    matrix: jnp.array,\n",
    "    rank: int = 15,\n",
    "    noise: float = 1e-06,\n",
    "    min_preconditioning_size: int = 2000,\n",
    "):\n",
    "    \"\"\"\n",
    "    function to setup preconditioner\n",
    "    most is dupricated from\n",
    "    - added_diag_linear_operator.py\n",
    "    https://github.com/cornellius-gp/linear_operator/blob/54962429ab89e2a9e519de6da8853513236b283b/linear_operator/operators/added_diag_linear_operator.py#L4\n",
    "    \"\"\"\n",
    "    if len(matrix) < min_preconditioning_size:\n",
    "        return None, None, None\n",
    "    if rank is None:\n",
    "        piv_chol_self = pivoted_cholesky_numpy(matrix)\n",
    "    else:\n",
    "        piv_chol_self = pivoted_cholesky_numpy(matrix, max_iter=rank)\n",
    "    n, k = piv_chol_self.shape\n",
    "    # print(f'n: {n} k: {k}')\n",
    "    eye = jnp.eye(k)\n",
    "    noise_matrix = eye * jnp.sqrt(noise)\n",
    "    # [D^{-1/2}; L]\n",
    "    D_L = jnp.concatenate([piv_chol_self, noise_matrix], axis=-2)\n",
    "    q_cache, r_cache = jnp.linalg.qr(D_L)\n",
    "    q_cache = q_cache[:n, :]\n",
    "    noise = noise\n",
    "\n",
    "    ## for logdet\n",
    "    logdet = jnp.sum(jnp.log(jnp.abs(jnp.diagonal(r_cache, axis1=0, axis2=1)))) * 2\n",
    "    logdet = logdet + (n - k) * jnp.log(noise)\n",
    "    _precond_logdet_cache = logdet\n",
    "    _precond_lt = psd_sum_linear_operator.PsdSumLinearOp(\n",
    "        root_linear_operator.RootLinearOp(piv_chol_self),\n",
    "        diag_linear_operator.DiagLinearOp(jnp.full(n, noise))\n",
    "    )\n",
    "\n",
    "    def precondition(residual: jnp.array):\n",
    "        qqt = jnp.matmul(q_cache, jnp.matmul(q_cache.T, residual))\n",
    "        preconditioned_residual = 1.0 / noise * (residual - qqt)\n",
    "        return preconditioned_residual\n",
    "\n",
    "    return precondition, _precond_lt, _precond_logdet_cache"
   ]
  },
  {
   "cell_type": "markdown",
   "id": "b14386d2-39da-4b39-8f02-f26b87433c24",
   "metadata": {},
   "source": [
    "### N=3000"
   ]
  },
  {
   "cell_type": "code",
   "execution_count": 11,
   "id": "a44fa1da-2e01-4598-873a-d34ae98ec039",
   "metadata": {
    "tags": []
   },
   "outputs": [],
   "source": [
    "N = 3000\n",
    "rank=15\n",
    "noise = 1e-06\n",
    "n_tridiag = 10\n",
    "K = generate_K(N)\n",
    "precondition, precond_lt, precond_logdet_cache = precond.setup_preconditioner(K, rank=rank, noise=noise)\n",
    "y = jax.random.normal(key=jax.random.PRNGKey(0), shape=(N,1))\n",
    "if precondition:\n",
    "    zs = precond_lt.zero_mean_mvn_samples(n_tridiag, seed=0)\n",
    "else:\n",
    "    zs = jax.random.normal(jax.random.PRNGKey(0), (N, n_tridiag))\n",
    "zs_norms = jnp.linalg.norm(zs, axis=0, keepdims=True)\n",
    "zs = zs/zs_norms\n",
    "K_torch = torch.from_numpy(np.array(K))\n",
    "rhs = jnp.concatenate([zs, y], axis=1)\n",
    "rhs_torch = torch.from_numpy(np.array(rhs))"
   ]
  },
  {
   "cell_type": "code",
   "execution_count": 12,
   "id": "4eecb3e9-8127-4718-8fdb-3de5ad76ebc0",
   "metadata": {
    "tags": []
   },
   "outputs": [
    {
     "data": {
      "text/plain": [
       "DeviceArray(2.98729651, dtype=float64)"
      ]
     },
     "execution_count": 12,
     "metadata": {},
     "output_type": "execute_result"
    }
   ],
   "source": [
    "jnp.linalg.cond(K)"
   ]
  },
  {
   "cell_type": "code",
   "execution_count": 14,
   "id": "1e5c8b4a-73e7-4cac-9db6-573167d7ce8a",
   "metadata": {
    "tags": []
   },
   "outputs": [
    {
     "data": {
      "text/plain": [
       "DeviceArray(3147.32121812, dtype=float64)"
      ]
     },
     "execution_count": 14,
     "metadata": {},
     "output_type": "execute_result"
    }
   ],
   "source": [
    "Kinvy_linalg = jnp.linalg.solve(K, rhs)\n",
    "logdet_linalg = calc_logdet_linalg(K)\n",
    "logdet_linalg"
   ]
  },
  {
   "cell_type": "code",
   "execution_count": 15,
   "id": "3e29d4aa-5e89-48d7-b00b-72424ca8a1d5",
   "metadata": {
    "tags": []
   },
   "outputs": [],
   "source": [
    "Kinvy, j, t_mat = cg.mpcg_bbmm(K, rhs, precondition=precondition, print_process=False, tolerance=1e-06, n_tridiag=n_tridiag)"
   ]
  },
  {
   "cell_type": "code",
   "execution_count": 16,
   "id": "e89381bf-6025-4cdb-9d72-fcd2c32990bc",
   "metadata": {
    "tags": []
   },
   "outputs": [
    {
     "data": {
      "text/plain": [
       "(DeviceArray(3116.64369804, dtype=float64),\n",
       " DeviceArray(-41220.86229076, dtype=float64))"
      ]
     },
     "execution_count": 16,
     "metadata": {},
     "output_type": "execute_result"
    }
   ],
   "source": [
    "logdet = calc_logdet.calc_logdet(K.shape, t_mat, precond_logdet_cache)\n",
    "logdet, precond_logdet_cache"
   ]
  },
  {
   "cell_type": "code",
   "execution_count": 17,
   "id": "61c1d595-a95b-4b8d-9141-b57437871611",
   "metadata": {
    "tags": []
   },
   "outputs": [],
   "source": [
    "_, precond_lt_new, _ = setup_preconditioner_new(K, rank=rank, noise=noise)"
   ]
  },
  {
   "cell_type": "code",
   "execution_count": 18,
   "id": "3a017b21-c4b0-4d19-8760-7c3f43fc3adf",
   "metadata": {
    "tags": []
   },
   "outputs": [],
   "source": [
    "precondition, precond_lt_new, precond_logdet_cache = setup_preconditioner_new(K, rank=rank, noise=noise)\n",
    "y = jax.random.normal(key=jax.random.PRNGKey(0), shape=(N,1))\n",
    "if precondition:\n",
    "    zs = precond_lt_new.zero_mean_mvn_samples(n_tridiag)\n",
    "else:\n",
    "    zs = jax.random.normal(jax.random.PRNGKey(0), (N, n_tridiag))\n",
    "K_torch = torch.from_numpy(np.array(K))\n",
    "rhs = jnp.concatenate([zs, y], axis=1)\n",
    "rhs_torch = torch.from_numpy(np.array(rhs))"
   ]
  },
  {
   "cell_type": "code",
   "execution_count": 19,
   "id": "6088ae78-e41a-470c-ac5e-04f8953e11fe",
   "metadata": {
    "tags": []
   },
   "outputs": [],
   "source": [
    "Kinvy, j, t_mat = cg.mpcg_bbmm(K, rhs, precondition=precondition, print_process=False, tolerance=1e-06, n_tridiag=n_tridiag)"
   ]
  },
  {
   "cell_type": "code",
   "execution_count": 20,
   "id": "2d781793-c950-4f1a-9696-c8c19df33a15",
   "metadata": {
    "tags": []
   },
   "outputs": [
    {
     "data": {
      "text/plain": [
       "(DeviceArray(3116.64369804, dtype=float64),\n",
       " DeviceArray(-41220.86229076, dtype=float64))"
      ]
     },
     "execution_count": 20,
     "metadata": {},
     "output_type": "execute_result"
    }
   ],
   "source": [
    "logdet = calc_logdet.calc_logdet(K.shape, t_mat, precond_logdet_cache)\n",
    "logdet, precond_logdet_cache"
   ]
  },
  {
   "cell_type": "code",
   "execution_count": 21,
   "id": "ab4300b1-7071-4978-ab49-4fc5419be8b2",
   "metadata": {},
   "outputs": [
    {
     "data": {
      "text/plain": [
       "DeviceArray([[ 0.08028157, -0.02778092,  0.03149862, ..., -0.07831128,\n",
       "               0.03294108,  0.01386414],\n",
       "             [-0.03634271, -0.09018074, -0.03518841, ...,  0.02577682,\n",
       "               0.00737047,  0.03560349],\n",
       "             [-0.13050934, -0.06104368, -0.02393487, ...,  0.05438719,\n",
       "              -0.00136515, -0.01029901],\n",
       "             ...,\n",
       "             [ 0.02526982, -0.08353589,  0.01099373, ..., -0.0027965 ,\n",
       "               0.01362002,  0.03311954],\n",
       "             [-0.0838295 , -0.01375526, -0.01727892, ...,  0.04319066,\n",
       "               0.03718592, -0.03425983],\n",
       "             [-0.01279149,  0.01939389,  0.01316439, ...,  0.04774969,\n",
       "               0.00862435, -0.00392721]], dtype=float64)"
      ]
     },
     "execution_count": 21,
     "metadata": {},
     "output_type": "execute_result"
    }
   ],
   "source": [
    "precond_lt_new.zero_mean_mvn_samples(n_tridiag)"
   ]
  },
  {
   "cell_type": "code",
   "execution_count": 22,
   "id": "2b1b65fa-aec2-4124-9f7f-8125e2d712ae",
   "metadata": {
    "tags": []
   },
   "outputs": [],
   "source": [
    "K_linear_op = linear_operator.to_linear_operator(K_torch)\n",
    "diag_tensor = torch.ones(N, dtype=torch.float64)*noise\n",
    "diag_linear_op = DiagLinearOperator(diag_tensor)\n",
    "added_diag = AddedDiagLinearOperator(K_linear_op, diag_linear_op)"
   ]
  },
  {
   "cell_type": "code",
   "execution_count": 135,
   "id": "386ab62c-77db-44cd-847e-44d95e7d5ae1",
   "metadata": {},
   "outputs": [
    {
     "name": "stdout",
     "output_type": "stream",
     "text": [
      "0.0001567032863745191\n"
     ]
    }
   ],
   "source": [
    "preconditioner_torch, precond_lt_torch, precond_logdet_torch = added_diag._preconditioner()\n",
    "Kinvy_torch, t_mat_torch = added_diag._solve(rhs_torch, preconditioner=preconditioner_torch, num_tridiag=n_tridiag)\n",
    "print(rel_error(Kinvy_linalg, Kinvy_torch.numpy()))\n",
    "linear_operator.settings.cg_tolerance._set_value(1)"
   ]
  },
  {
   "cell_type": "code",
   "execution_count": 136,
   "id": "8deab32f-e799-4f35-be2c-b449f50b1ce2",
   "metadata": {
    "tags": []
   },
   "outputs": [],
   "source": [
    "probe_vectors = precond_lt_torch.zero_mean_mvn_samples(15)\n",
    "# probe_vectors"
   ]
  },
  {
   "cell_type": "code",
   "execution_count": 137,
   "id": "e730226c-bee0-4b52-9720-a864da300526",
   "metadata": {
    "tags": []
   },
   "outputs": [
    {
     "data": {
      "text/plain": [
       "(tensor(1133.0245, dtype=torch.float64),\n",
       " tensor(3163.3786, dtype=torch.float64))"
      ]
     },
     "execution_count": 137,
     "metadata": {},
     "output_type": "execute_result"
    }
   ],
   "source": [
    "added_diag.inv_quad_log_det(inv_quad_rhs=rhs_torch[:, -1:], logdet=True)"
   ]
  },
  {
   "cell_type": "code",
   "execution_count": 138,
   "id": "f367605c-1741-41f0-91fc-314a91d60e15",
   "metadata": {
    "tags": []
   },
   "outputs": [],
   "source": [
    "eval_torch, evec_torch = linear_operator.utils.lanczos.lanczos_tridiag_to_diag(t_mat_torch)\n",
    "slq = linear_operator.utils.stochastic_lq.StochasticLQ()\n",
    "(logdet_term,) = slq.to_dense(added_diag.matrix_shape, eval_torch, evec_torch,  [lambda x: x.log()])"
   ]
  },
  {
   "cell_type": "code",
   "execution_count": 139,
   "id": "1b4308d2-5604-4352-9df0-fcfcaaf731f8",
   "metadata": {
    "tags": []
   },
   "outputs": [
    {
     "data": {
      "text/plain": [
       "tensor(3116.6448, dtype=torch.float64)"
      ]
     },
     "execution_count": 139,
     "metadata": {},
     "output_type": "execute_result"
    }
   ],
   "source": [
    "logdet_term + precond_logdet_torch"
   ]
  },
  {
   "cell_type": "code",
   "execution_count": 222,
   "id": "e0f5128f-95df-428b-9ad4-73ae8826de41",
   "metadata": {
    "tags": []
   },
   "outputs": [
    {
     "data": {
      "text/plain": [
       "tensor(-41220.8623, dtype=torch.float64)"
      ]
     },
     "execution_count": 222,
     "metadata": {},
     "output_type": "execute_result"
    }
   ],
   "source": [
    "precond_logdet_torch"
   ]
  },
  {
   "cell_type": "code",
   "execution_count": 223,
   "id": "264d9045-79f5-4a1a-aee5-432ae20c4b94",
   "metadata": {
    "tags": []
   },
   "outputs": [
    {
     "data": {
      "text/plain": [
       "DeviceArray(-41220.86229076, dtype=float64)"
      ]
     },
     "execution_count": 223,
     "metadata": {},
     "output_type": "execute_result"
    }
   ],
   "source": [
    "precond_logdet_cache"
   ]
  },
  {
   "cell_type": "code",
   "execution_count": 156,
   "id": "d3bacff1-5ebb-4241-a214-34cf1408c90b",
   "metadata": {
    "tags": []
   },
   "outputs": [
    {
     "data": {
      "text/plain": [
       "DeviceArray(3147.32121812, dtype=float64)"
      ]
     },
     "execution_count": 156,
     "metadata": {},
     "output_type": "execute_result"
    }
   ],
   "source": [
    "logdet_linalg = calc_logdet_linalg(K)\n",
    "logdet_linalg"
   ]
  },
  {
   "cell_type": "code",
   "execution_count": 28,
   "id": "a353a2c8-e759-41b8-a507-7fc089da5f99",
   "metadata": {
    "tags": []
   },
   "outputs": [],
   "source": [
    "rank=15\n",
    "n_tridiag_list = [2, 5, 10, 20, 40, 100, 200]\n",
    "logdet_list = []\n",
    "rel_error_list = []\n",
    "for n_tridiag in n_tridiag_list:\n",
    "    logdet, logdet_linalg, rel_err = check_logdet(n_tridiag=n_tridiag, max_tridiag_iter=40)\n",
    "    logdet_list.append(logdet)\n",
    "    rel_error_list.append(rel_err)"
   ]
  },
  {
   "cell_type": "code",
   "execution_count": 29,
   "id": "19c6c0f1-0506-4072-bf73-3fc0f7d8ec1a",
   "metadata": {
    "tags": []
   },
   "outputs": [
    {
     "data": {
      "text/plain": [
       "<matplotlib.legend.Legend at 0x7f379c47f4c0>"
      ]
     },
     "execution_count": 29,
     "metadata": {},
     "output_type": "execute_result"
    },
    {
     "data": {
      "image/png": "[encoded data removed]",
      "text/plain": [
       "<Figure size 640x480 with 2 Axes>"
      ]
     },
     "metadata": {},
     "output_type": "display_data"
    }
   ],
   "source": [
    "fig, ax = plt.subplots()\n",
    "ax.plot(n_tridiag_list, logdet_list, marker='o', label='logdet')\n",
    "ax.hlines(logdet_linalg, n_tridiag_list[0], n_tridiag_list[-1], linestyle='--', label='ans')\n",
    "ax.set_xlabel('n_tridiag')\n",
    "ax2 = ax.twinx()\n",
    "ax2.semilogy(n_tridiag_list, rel_error_list, color='b', marker='x', label='rel_error')\n",
    "\n",
    "lines, labels = ax.get_legend_handles_labels()\n",
    "lines2, labels2 = ax2.get_legend_handles_labels()\n",
    "# Create a legend for the first line in each axes\n",
    "ax.legend(lines + lines2, labels + labels2, loc='best')"
   ]
  },
  {
   "cell_type": "code",
   "execution_count": null,
   "id": "9aed6fc0-76e9-4027-888d-eab54d792bd1",
   "metadata": {
    "tags": []
   },
   "outputs": [],
   "source": [
    "rank_list = [0, 2, 5, 10, 20,40,80, 3000]\n",
    "rank_list = [0, 5, 10, 50, 100, 500]\n",
    "logdet_list = []\n",
    "rel_error_list = []\n",
    "for rank in rank_list:\n",
    "    logdet, logdet_linalg, rel_err = check_logdet(n_tridiag=10, rank=rank, max_tridiag_iter=50)\n",
    "    logdet_list.append(logdet)\n",
    "    rel_error_list.append(rel_err)"
   ]
  },
  {
   "cell_type": "code",
   "execution_count": null,
   "id": "50501a4b-cd84-49e4-9d9a-c21bd5343e6a",
   "metadata": {
    "tags": []
   },
   "outputs": [],
   "source": [
    "fig, ax = plt.subplots()\n",
    "ax.plot(rank_list, logdet_list, marker='o', label='logdet')\n",
    "ax.hlines(logdet_linalg, rank_list[0], rank_list[-1], linestyle='--', label='ans')\n",
    "ax.set_xlabel('rank')\n",
    "ax2 = ax.twinx()\n",
    "ax2.semilogy(rank_list, rel_error_list, color='b', marker='x', label='rel_error')\n",
    "\n",
    "lines, labels = ax.get_legend_handles_labels()\n",
    "lines2, labels2 = ax2.get_legend_handles_labels()\n",
    "# Create a legend for the first line in each axes\n",
    "ax.legend(lines + lines2, labels + labels2, loc='best')"
   ]
  },
  {
   "cell_type": "code",
   "execution_count": 236,
   "id": "31eb801b-f861-4c86-bc06-935b80f4e97e",
   "metadata": {
    "tags": []
   },
   "outputs": [
    {
     "data": {
      "text/plain": [
       "DeviceArray(2.98729651, dtype=float64)"
      ]
     },
     "execution_count": 236,
     "metadata": {},
     "output_type": "execute_result"
    }
   ],
   "source": [
    "jnp.linalg.cond(K)"
   ]
  },
  {
   "cell_type": "markdown",
   "id": "e92f06a1-6803-4684-83c2-e90d9591668d",
   "metadata": {},
   "source": [
    "### N=7000"
   ]
  },
  {
   "cell_type": "code",
   "execution_count": 159,
   "id": "9ee28c49-0789-4281-a464-62ab54c9145b",
   "metadata": {
    "tags": []
   },
   "outputs": [],
   "source": [
    "N = 7000\n",
    "rank=15\n",
    "noise = 1e-06\n",
    "n_tridiag = 10\n",
    "K = generate_K(N)\n",
    "precondition, precond_lt, precond_logdet_cache = precond.setup_preconditioner(K, rank=rank, noise=noise)\n",
    "y = jax.random.normal(key=jax.random.PRNGKey(0), shape=(N,1))\n",
    "if precondition:\n",
    "    zs = jax.random.multivariate_normal(\n",
    "            jax.random.PRNGKey(0),\n",
    "            jnp.zeros(len(y)),\n",
    "            precond_lt,\n",
    "            shape=(n_tridiag,),\n",
    "    ).T\n",
    "else:\n",
    "    zs = jax.random.normal(jax.random.PRNGKey(0), (N, n_tridiag))\n",
    "K_torch = torch.from_numpy(np.array(K))\n",
    "rhs = jnp.concatenate([zs, y], axis=1)\n",
    "rhs_torch = torch.from_numpy(np.array(rhs))"
   ]
  },
  {
   "cell_type": "code",
   "execution_count": 160,
   "id": "d763ac09-1880-4cc7-9b91-a01db076e318",
   "metadata": {
    "tags": []
   },
   "outputs": [],
   "source": [
    "Kinvy_linalg = jnp.linalg.solve(K, rhs)"
   ]
  },
  {
   "cell_type": "code",
   "execution_count": 162,
   "id": "b4d3a608-2bcf-4b2c-a977-ca04c7257d57",
   "metadata": {
    "tags": []
   },
   "outputs": [
    {
     "name": "stdout",
     "output_type": "stream",
     "text": [
      "j=0 r1norm: 0.9391067610671915\n",
      "j=1 r1norm: 0.917918143723665\n",
      "j=2 r1norm: 0.9130531920376856\n",
      "j=3 r1norm: 0.9124254315125387\n",
      "j=4 r1norm: 0.9123661416989475\n",
      "j=5 r1norm: 0.9122615106381415\n",
      "j=6 r1norm: 0.9107938321567703\n",
      "j=7 r1norm: 0.8903422641099534\n",
      "j=8 r1norm: 0.7020234332253318\n",
      "j=9 r1norm: 0.28727865663878643\n",
      "j=10 r1norm: 0.08312585152070112\n",
      "j=11 r1norm: 0.02475743763235144\n",
      "j=12 r1norm: 0.009046651164862097\n",
      "j=13 r1norm: 0.004788316773479587\n",
      "j=14 r1norm: 0.0028720092347572653\n",
      "j=15 r1norm: 0.001036345510922713\n",
      "j=16 r1norm: 0.00028167873500318537\n",
      "j=17 r1norm: 7.580046858754703e-05\n",
      "j=18 r1norm: 1.9946898483479506e-05\n",
      "j=19 r1norm: 5.344976378002605e-06\n",
      "j=20 r1norm: 1.4376086554975945e-06\n",
      "converged\n",
      "0.0001174276183541353\n"
     ]
    }
   ],
   "source": [
    "precondition, precond_lt, precond_logdet_cache = precond.setup_preconditioner(K, rank=rank, noise=noise)\n",
    "Kinvy, j, t_mat= cg.mpcg_bbmm(K, rhs, precondition=precondition, print_process=True, tolerance=0.01, n_tridiag=n_tridiag)\n",
    "print(rel_error(Kinvy_linalg, Kinvy))"
   ]
  },
  {
   "cell_type": "code",
   "execution_count": 163,
   "id": "f1bab50f-ac50-499a-b820-1d25c598f6e2",
   "metadata": {
    "tags": []
   },
   "outputs": [],
   "source": [
    "K_linear_op = linear_operator.to_linear_operator(K_torch)\n",
    "diag_tensor = torch.ones(N, dtype=torch.float64)*noise\n",
    "diag_linear_op = DiagLinearOperator(diag_tensor)\n",
    "added_diag = AddedDiagLinearOperator(K_linear_op, diag_linear_op)"
   ]
  },
  {
   "cell_type": "code",
   "execution_count": 164,
   "id": "c6185b93-ff2d-48a3-8f14-f0f2acf4a55e",
   "metadata": {},
   "outputs": [
    {
     "name": "stdout",
     "output_type": "stream",
     "text": [
      "0.00013994710861929468\n"
     ]
    }
   ],
   "source": [
    "preconditioner_torch, _, precond_logdet_torch = added_diag._preconditioner()\n",
    "Kinvy_torch, t_mat_torch = added_diag._solve(rhs_torch, preconditioner=preconditioner_torch, num_tridiag=n_tridiag)\n",
    "print(rel_error(Kinvy_linalg, Kinvy_torch.numpy()))\n",
    "linear_operator.settings.cg_tolerance._set_value(1)"
   ]
  },
  {
   "cell_type": "code",
   "execution_count": 166,
   "id": "8529c210-b1e8-47e8-be32-558844e5a0dd",
   "metadata": {
    "tags": []
   },
   "outputs": [
    {
     "data": {
      "text/plain": [
       "(DeviceArray(7322.34028093, dtype=float64),\n",
       " DeviceArray(-96482.98874765, dtype=float64))"
      ]
     },
     "execution_count": 166,
     "metadata": {},
     "output_type": "execute_result"
    }
   ],
   "source": [
    "logdet = calc_logdet.calc_logdet(K.shape, t_mat, precond_logdet_cache)\n",
    "logdet, precond_logdet_cache"
   ]
  },
  {
   "cell_type": "code",
   "execution_count": 167,
   "id": "1e59d6c6-2606-4f2e-bccc-951172d66897",
   "metadata": {
    "tags": []
   },
   "outputs": [
    {
     "data": {
      "text/plain": [
       "(tensor(2554.9792, dtype=torch.float64),\n",
       " tensor(7334.4098, dtype=torch.float64))"
      ]
     },
     "execution_count": 167,
     "metadata": {},
     "output_type": "execute_result"
    }
   ],
   "source": [
    "added_diag.inv_quad_log_det(inv_quad_rhs=rhs_torch[:, -1:], logdet=True)"
   ]
  },
  {
   "cell_type": "code",
   "execution_count": 168,
   "id": "a6b75e68-a8cd-4107-8a07-1fdeba93c67d",
   "metadata": {
    "tags": []
   },
   "outputs": [],
   "source": [
    "eval_torch, evec_torch = linear_operator.utils.lanczos.lanczos_tridiag_to_diag(t_mat_torch)\n",
    "slq = linear_operator.utils.stochastic_lq.StochasticLQ()\n",
    "(logdet_term,) = slq.to_dense(added_diag.matrix_shape, eval_torch, evec_torch,  [lambda x: x.log()])"
   ]
  },
  {
   "cell_type": "code",
   "execution_count": 169,
   "id": "f083505e-c468-4303-82f8-8b7395ac7308",
   "metadata": {
    "tags": []
   },
   "outputs": [
    {
     "data": {
      "text/plain": [
       "tensor(7322.3428, dtype=torch.float64)"
      ]
     },
     "execution_count": 169,
     "metadata": {},
     "output_type": "execute_result"
    }
   ],
   "source": [
    "logdet_term + precond_logdet_torch"
   ]
  },
  {
   "cell_type": "code",
   "execution_count": 170,
   "id": "f442d9c3-0b8f-4b9a-a23f-c7443cb64eaa",
   "metadata": {
    "tags": []
   },
   "outputs": [
    {
     "data": {
      "text/plain": [
       "DeviceArray(7343.7469261, dtype=float64)"
      ]
     },
     "execution_count": 170,
     "metadata": {},
     "output_type": "execute_result"
    }
   ],
   "source": [
    "logdet_linalg = calc_logdet_linalg(K)\n",
    "logdet_linalg"
   ]
  }
 ],
 "metadata": {
  "kernelspec": {
   "display_name": "mytorch",
   "language": "python",
   "name": "mytorch"
  },
  "language_info": {
   "codemirror_mode": {
    "name": "ipython",
    "version": 3
   },
   "file_extension": ".py",
   "mimetype": "text/x-python",
   "name": "python",
   "nbconvert_exporter": "python",
   "pygments_lexer": "ipython3",
   "version": "3.9.6"
  }
 },
 "nbformat": 4,
 "nbformat_minor": 5
}
